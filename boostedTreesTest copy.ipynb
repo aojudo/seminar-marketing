{
 "cells": [
  {
   "cell_type": "code",
   "execution_count": 1,
   "id": "44a51c94",
   "metadata": {
    "id": "44a51c94"
   },
   "outputs": [],
   "source": [
    "import numpy as np\n",
    "import pandas as pd\n",
    "from sklearn.metrics import zero_one_loss\n",
    "from sklearn.ensemble import GradientBoostingClassifier\n",
    "from sklearn.model_selection import train_test_split\n",
    "from sklearn.preprocessing import LabelEncoder\n",
    "from sklearn.metrics import log_loss, roc_curve, roc_auc_score\n",
    "from sklearn.metrics import classification_report, confusion_matrix\n",
    "import matplotlib.pyplot as plt\n",
    "from sklearn.model_selection import KFold\n",
    "from sklearn.model_selection import cross_val_score\n",
    "from matplotlib import pyplot\n",
    "from sklearn.metrics import accuracy_score\n",
    "from imblearn.under_sampling import NearMiss\n",
    "from sklearn.model_selection import GridSearchCV\n",
    "from imblearn.pipeline import Pipeline, make_pipeline\n",
    "from sklearn.model_selection import StratifiedKFold\n",
    "from imblearn.over_sampling import SMOTE"
   ]
  },
  {
   "cell_type": "code",
   "execution_count": 12,
   "id": "42f05d96",
   "metadata": {
    "id": "42f05d96"
   },
   "outputs": [],
   "source": [
    "#Reading the file and splitting our target column\n",
    "df = pd.read_csv (r'bank-additional-full.csv', sep = ';', engine= 'python')   \n",
    "\n",
    "tussen = df[[\"y\"]]\n",
    "target = tussen.copy()\n",
    "df.drop(df.columns[len(df.columns)-1], axis=1, inplace=True)\n",
    "\n",
    "df=df[['age','default', 'contact', 'month', 'previous', 'poutcome', 'emp.var.rate', 'euribor3m', 'nr.employed']]\n",
    "\n",
    "#Encoding all the catergorical variables and deleting them from the old dataframe\n",
    "categories = ['contact','month','poutcome']\n",
    "df_encoded = pd.get_dummies(df['default'], prefix='default', drop_first=True)\n",
    "df_encoded.insert(0, 'ID', range(0, len(df_encoded)))\n",
    "del df['default']\n",
    "\n",
    "for x in categories:\n",
    "    df_encoded_tussen = pd.get_dummies(df[x], prefix=x, drop_first=True)\n",
    "    df_encoded_tussen.insert(0, 'ID', range(0, len(df_encoded_tussen)))\n",
    "    df_encoded = pd.merge(df_encoded, df_encoded_tussen, on = 'ID', how = 'outer')\n",
    "    del df[x]\n",
    "\n",
    "df.insert(0, 'ID', range(0, len(df)))\n",
    "features = pd.merge(df_encoded, df, on = 'ID', how = 'outer')\n",
    "y = pd.get_dummies(target, drop_first=True)\n",
    "del features['ID']"
   ]
  },
  {
   "cell_type": "code",
   "execution_count": 13,
   "id": "dae87413",
   "metadata": {
    "colab": {
     "base_uri": "https://localhost:8080/"
    },
    "executionInfo": {
     "elapsed": 709088,
     "status": "ok",
     "timestamp": 1649459015875,
     "user": {
      "displayName": "Skrt skrt",
      "userId": "02708380880722235013"
     },
     "user_tz": -120
    },
    "id": "dae87413",
    "outputId": "dfba6c06-e99a-4230-ff01-e57112e01daf"
   },
   "outputs": [
    {
     "name": "stdout",
     "output_type": "stream",
     "text": [
      "Fitting 10 folds for each of 11 candidates, totalling 110 fits\n",
      "[CV] END gradientboostingclassifier__learning_rate=0.001, gradientboostingclassifier__max_depth=1, gradientboostingclassifier__n_estimators=1000; total time=   3.4s\n",
      "[CV] END gradientboostingclassifier__learning_rate=0.001, gradientboostingclassifier__max_depth=1, gradientboostingclassifier__n_estimators=1000; total time=   3.6s\n",
      "[CV] END gradientboostingclassifier__learning_rate=0.001, gradientboostingclassifier__max_depth=1, gradientboostingclassifier__n_estimators=1000; total time=   3.4s\n",
      "[CV] END gradientboostingclassifier__learning_rate=0.001, gradientboostingclassifier__max_depth=1, gradientboostingclassifier__n_estimators=1000; total time=   3.5s\n",
      "[CV] END gradientboostingclassifier__learning_rate=0.001, gradientboostingclassifier__max_depth=1, gradientboostingclassifier__n_estimators=1000; total time=   3.6s\n",
      "[CV] END gradientboostingclassifier__learning_rate=0.001, gradientboostingclassifier__max_depth=1, gradientboostingclassifier__n_estimators=1000; total time=   3.5s\n",
      "[CV] END gradientboostingclassifier__learning_rate=0.001, gradientboostingclassifier__max_depth=1, gradientboostingclassifier__n_estimators=1000; total time=   3.6s\n",
      "[CV] END gradientboostingclassifier__learning_rate=0.001, gradientboostingclassifier__max_depth=1, gradientboostingclassifier__n_estimators=1000; total time=   3.6s\n",
      "[CV] END gradientboostingclassifier__learning_rate=0.001, gradientboostingclassifier__max_depth=1, gradientboostingclassifier__n_estimators=1000; total time=   3.7s\n",
      "[CV] END gradientboostingclassifier__learning_rate=0.001, gradientboostingclassifier__max_depth=1, gradientboostingclassifier__n_estimators=1000; total time=   3.6s\n",
      "[CV] END gradientboostingclassifier__learning_rate=0.001, gradientboostingclassifier__max_depth=1, gradientboostingclassifier__n_estimators=1001; total time=   3.6s\n",
      "[CV] END gradientboostingclassifier__learning_rate=0.001, gradientboostingclassifier__max_depth=1, gradientboostingclassifier__n_estimators=1001; total time=   3.7s\n",
      "[CV] END gradientboostingclassifier__learning_rate=0.001, gradientboostingclassifier__max_depth=1, gradientboostingclassifier__n_estimators=1001; total time=   3.7s\n",
      "[CV] END gradientboostingclassifier__learning_rate=0.001, gradientboostingclassifier__max_depth=1, gradientboostingclassifier__n_estimators=1001; total time=   3.9s\n",
      "[CV] END gradientboostingclassifier__learning_rate=0.001, gradientboostingclassifier__max_depth=1, gradientboostingclassifier__n_estimators=1001; total time=   3.7s\n",
      "[CV] END gradientboostingclassifier__learning_rate=0.001, gradientboostingclassifier__max_depth=1, gradientboostingclassifier__n_estimators=1001; total time=   3.7s\n",
      "[CV] END gradientboostingclassifier__learning_rate=0.001, gradientboostingclassifier__max_depth=1, gradientboostingclassifier__n_estimators=1001; total time=   3.9s\n",
      "[CV] END gradientboostingclassifier__learning_rate=0.001, gradientboostingclassifier__max_depth=1, gradientboostingclassifier__n_estimators=1001; total time=   4.5s\n",
      "[CV] END gradientboostingclassifier__learning_rate=0.001, gradientboostingclassifier__max_depth=1, gradientboostingclassifier__n_estimators=1001; total time=   3.8s\n",
      "[CV] END gradientboostingclassifier__learning_rate=0.001, gradientboostingclassifier__max_depth=1, gradientboostingclassifier__n_estimators=1001; total time=   3.6s\n",
      "[CV] END gradientboostingclassifier__learning_rate=0.001, gradientboostingclassifier__max_depth=1, gradientboostingclassifier__n_estimators=1002; total time=   3.6s\n",
      "[CV] END gradientboostingclassifier__learning_rate=0.001, gradientboostingclassifier__max_depth=1, gradientboostingclassifier__n_estimators=1002; total time=   3.8s\n",
      "[CV] END gradientboostingclassifier__learning_rate=0.001, gradientboostingclassifier__max_depth=1, gradientboostingclassifier__n_estimators=1002; total time=   3.7s\n",
      "[CV] END gradientboostingclassifier__learning_rate=0.001, gradientboostingclassifier__max_depth=1, gradientboostingclassifier__n_estimators=1002; total time=   3.7s\n",
      "[CV] END gradientboostingclassifier__learning_rate=0.001, gradientboostingclassifier__max_depth=1, gradientboostingclassifier__n_estimators=1002; total time=   3.9s\n",
      "[CV] END gradientboostingclassifier__learning_rate=0.001, gradientboostingclassifier__max_depth=1, gradientboostingclassifier__n_estimators=1002; total time=   3.7s\n",
      "[CV] END gradientboostingclassifier__learning_rate=0.001, gradientboostingclassifier__max_depth=1, gradientboostingclassifier__n_estimators=1002; total time=   3.8s\n",
      "[CV] END gradientboostingclassifier__learning_rate=0.001, gradientboostingclassifier__max_depth=1, gradientboostingclassifier__n_estimators=1002; total time=   4.6s\n",
      "[CV] END gradientboostingclassifier__learning_rate=0.001, gradientboostingclassifier__max_depth=1, gradientboostingclassifier__n_estimators=1002; total time=   4.0s\n",
      "[CV] END gradientboostingclassifier__learning_rate=0.001, gradientboostingclassifier__max_depth=1, gradientboostingclassifier__n_estimators=1002; total time=   4.4s\n",
      "[CV] END gradientboostingclassifier__learning_rate=0.001, gradientboostingclassifier__max_depth=1, gradientboostingclassifier__n_estimators=1003; total time=   4.4s\n",
      "[CV] END gradientboostingclassifier__learning_rate=0.001, gradientboostingclassifier__max_depth=1, gradientboostingclassifier__n_estimators=1003; total time=   4.7s\n",
      "[CV] END gradientboostingclassifier__learning_rate=0.001, gradientboostingclassifier__max_depth=1, gradientboostingclassifier__n_estimators=1003; total time=   5.5s\n",
      "[CV] END gradientboostingclassifier__learning_rate=0.001, gradientboostingclassifier__max_depth=1, gradientboostingclassifier__n_estimators=1003; total time=   4.1s\n",
      "[CV] END gradientboostingclassifier__learning_rate=0.001, gradientboostingclassifier__max_depth=1, gradientboostingclassifier__n_estimators=1003; total time=   3.8s\n",
      "[CV] END gradientboostingclassifier__learning_rate=0.001, gradientboostingclassifier__max_depth=1, gradientboostingclassifier__n_estimators=1003; total time=   3.8s\n",
      "[CV] END gradientboostingclassifier__learning_rate=0.001, gradientboostingclassifier__max_depth=1, gradientboostingclassifier__n_estimators=1003; total time=   3.9s\n",
      "[CV] END gradientboostingclassifier__learning_rate=0.001, gradientboostingclassifier__max_depth=1, gradientboostingclassifier__n_estimators=1003; total time=   4.1s\n",
      "[CV] END gradientboostingclassifier__learning_rate=0.001, gradientboostingclassifier__max_depth=1, gradientboostingclassifier__n_estimators=1003; total time=   4.0s\n",
      "[CV] END gradientboostingclassifier__learning_rate=0.001, gradientboostingclassifier__max_depth=1, gradientboostingclassifier__n_estimators=1003; total time=   3.8s\n",
      "[CV] END gradientboostingclassifier__learning_rate=0.001, gradientboostingclassifier__max_depth=1, gradientboostingclassifier__n_estimators=1004; total time=   6.3s\n",
      "[CV] END gradientboostingclassifier__learning_rate=0.001, gradientboostingclassifier__max_depth=1, gradientboostingclassifier__n_estimators=1004; total time=   6.7s\n",
      "[CV] END gradientboostingclassifier__learning_rate=0.001, gradientboostingclassifier__max_depth=1, gradientboostingclassifier__n_estimators=1004; total time=   4.0s\n",
      "[CV] END gradientboostingclassifier__learning_rate=0.001, gradientboostingclassifier__max_depth=1, gradientboostingclassifier__n_estimators=1004; total time=   4.1s\n",
      "[CV] END gradientboostingclassifier__learning_rate=0.001, gradientboostingclassifier__max_depth=1, gradientboostingclassifier__n_estimators=1004; total time=   4.1s\n",
      "[CV] END gradientboostingclassifier__learning_rate=0.001, gradientboostingclassifier__max_depth=1, gradientboostingclassifier__n_estimators=1004; total time=   4.2s\n",
      "[CV] END gradientboostingclassifier__learning_rate=0.001, gradientboostingclassifier__max_depth=1, gradientboostingclassifier__n_estimators=1004; total time=   4.3s\n",
      "[CV] END gradientboostingclassifier__learning_rate=0.001, gradientboostingclassifier__max_depth=1, gradientboostingclassifier__n_estimators=1004; total time=   5.6s\n",
      "[CV] END gradientboostingclassifier__learning_rate=0.001, gradientboostingclassifier__max_depth=1, gradientboostingclassifier__n_estimators=1004; total time=   4.6s\n",
      "[CV] END gradientboostingclassifier__learning_rate=0.001, gradientboostingclassifier__max_depth=1, gradientboostingclassifier__n_estimators=1004; total time=   4.4s\n"
     ]
    },
    {
     "name": "stdout",
     "output_type": "stream",
     "text": [
      "[CV] END gradientboostingclassifier__learning_rate=0.001, gradientboostingclassifier__max_depth=1, gradientboostingclassifier__n_estimators=1005; total time=   4.5s\n",
      "[CV] END gradientboostingclassifier__learning_rate=0.001, gradientboostingclassifier__max_depth=1, gradientboostingclassifier__n_estimators=1005; total time=   3.9s\n",
      "[CV] END gradientboostingclassifier__learning_rate=0.001, gradientboostingclassifier__max_depth=1, gradientboostingclassifier__n_estimators=1005; total time=   3.8s\n",
      "[CV] END gradientboostingclassifier__learning_rate=0.001, gradientboostingclassifier__max_depth=1, gradientboostingclassifier__n_estimators=1005; total time=   3.8s\n",
      "[CV] END gradientboostingclassifier__learning_rate=0.001, gradientboostingclassifier__max_depth=1, gradientboostingclassifier__n_estimators=1005; total time=   3.8s\n",
      "[CV] END gradientboostingclassifier__learning_rate=0.001, gradientboostingclassifier__max_depth=1, gradientboostingclassifier__n_estimators=1005; total time=   4.0s\n",
      "[CV] END gradientboostingclassifier__learning_rate=0.001, gradientboostingclassifier__max_depth=1, gradientboostingclassifier__n_estimators=1005; total time=   4.3s\n",
      "[CV] END gradientboostingclassifier__learning_rate=0.001, gradientboostingclassifier__max_depth=1, gradientboostingclassifier__n_estimators=1005; total time=   4.0s\n",
      "[CV] END gradientboostingclassifier__learning_rate=0.001, gradientboostingclassifier__max_depth=1, gradientboostingclassifier__n_estimators=1005; total time=   4.1s\n",
      "[CV] END gradientboostingclassifier__learning_rate=0.001, gradientboostingclassifier__max_depth=1, gradientboostingclassifier__n_estimators=1005; total time=   4.6s\n",
      "[CV] END gradientboostingclassifier__learning_rate=0.001, gradientboostingclassifier__max_depth=1, gradientboostingclassifier__n_estimators=1006; total time=   4.6s\n",
      "[CV] END gradientboostingclassifier__learning_rate=0.001, gradientboostingclassifier__max_depth=1, gradientboostingclassifier__n_estimators=1006; total time=   4.1s\n",
      "[CV] END gradientboostingclassifier__learning_rate=0.001, gradientboostingclassifier__max_depth=1, gradientboostingclassifier__n_estimators=1006; total time=   3.9s\n",
      "[CV] END gradientboostingclassifier__learning_rate=0.001, gradientboostingclassifier__max_depth=1, gradientboostingclassifier__n_estimators=1006; total time=   3.8s\n",
      "[CV] END gradientboostingclassifier__learning_rate=0.001, gradientboostingclassifier__max_depth=1, gradientboostingclassifier__n_estimators=1006; total time=   3.8s\n",
      "[CV] END gradientboostingclassifier__learning_rate=0.001, gradientboostingclassifier__max_depth=1, gradientboostingclassifier__n_estimators=1006; total time=   3.8s\n",
      "[CV] END gradientboostingclassifier__learning_rate=0.001, gradientboostingclassifier__max_depth=1, gradientboostingclassifier__n_estimators=1006; total time=   3.8s\n",
      "[CV] END gradientboostingclassifier__learning_rate=0.001, gradientboostingclassifier__max_depth=1, gradientboostingclassifier__n_estimators=1006; total time=   3.9s\n",
      "[CV] END gradientboostingclassifier__learning_rate=0.001, gradientboostingclassifier__max_depth=1, gradientboostingclassifier__n_estimators=1006; total time=   3.7s\n",
      "[CV] END gradientboostingclassifier__learning_rate=0.001, gradientboostingclassifier__max_depth=1, gradientboostingclassifier__n_estimators=1006; total time=   3.8s\n",
      "[CV] END gradientboostingclassifier__learning_rate=0.001, gradientboostingclassifier__max_depth=1, gradientboostingclassifier__n_estimators=1007; total time=   3.7s\n",
      "[CV] END gradientboostingclassifier__learning_rate=0.001, gradientboostingclassifier__max_depth=1, gradientboostingclassifier__n_estimators=1007; total time=   4.1s\n",
      "[CV] END gradientboostingclassifier__learning_rate=0.001, gradientboostingclassifier__max_depth=1, gradientboostingclassifier__n_estimators=1007; total time=   4.3s\n",
      "[CV] END gradientboostingclassifier__learning_rate=0.001, gradientboostingclassifier__max_depth=1, gradientboostingclassifier__n_estimators=1007; total time=   3.8s\n",
      "[CV] END gradientboostingclassifier__learning_rate=0.001, gradientboostingclassifier__max_depth=1, gradientboostingclassifier__n_estimators=1007; total time=   3.9s\n",
      "[CV] END gradientboostingclassifier__learning_rate=0.001, gradientboostingclassifier__max_depth=1, gradientboostingclassifier__n_estimators=1007; total time=   3.8s\n",
      "[CV] END gradientboostingclassifier__learning_rate=0.001, gradientboostingclassifier__max_depth=1, gradientboostingclassifier__n_estimators=1007; total time=   4.2s\n",
      "[CV] END gradientboostingclassifier__learning_rate=0.001, gradientboostingclassifier__max_depth=1, gradientboostingclassifier__n_estimators=1007; total time=   3.9s\n",
      "[CV] END gradientboostingclassifier__learning_rate=0.001, gradientboostingclassifier__max_depth=1, gradientboostingclassifier__n_estimators=1007; total time=   3.7s\n",
      "[CV] END gradientboostingclassifier__learning_rate=0.001, gradientboostingclassifier__max_depth=1, gradientboostingclassifier__n_estimators=1007; total time=   3.8s\n",
      "[CV] END gradientboostingclassifier__learning_rate=0.001, gradientboostingclassifier__max_depth=1, gradientboostingclassifier__n_estimators=1008; total time=   3.9s\n",
      "[CV] END gradientboostingclassifier__learning_rate=0.001, gradientboostingclassifier__max_depth=1, gradientboostingclassifier__n_estimators=1008; total time=   3.8s\n",
      "[CV] END gradientboostingclassifier__learning_rate=0.001, gradientboostingclassifier__max_depth=1, gradientboostingclassifier__n_estimators=1008; total time=   3.8s\n",
      "[CV] END gradientboostingclassifier__learning_rate=0.001, gradientboostingclassifier__max_depth=1, gradientboostingclassifier__n_estimators=1008; total time=   3.8s\n",
      "[CV] END gradientboostingclassifier__learning_rate=0.001, gradientboostingclassifier__max_depth=1, gradientboostingclassifier__n_estimators=1008; total time=   3.8s\n",
      "[CV] END gradientboostingclassifier__learning_rate=0.001, gradientboostingclassifier__max_depth=1, gradientboostingclassifier__n_estimators=1008; total time=   3.7s\n",
      "[CV] END gradientboostingclassifier__learning_rate=0.001, gradientboostingclassifier__max_depth=1, gradientboostingclassifier__n_estimators=1008; total time=   3.7s\n",
      "[CV] END gradientboostingclassifier__learning_rate=0.001, gradientboostingclassifier__max_depth=1, gradientboostingclassifier__n_estimators=1008; total time=   3.8s\n",
      "[CV] END gradientboostingclassifier__learning_rate=0.001, gradientboostingclassifier__max_depth=1, gradientboostingclassifier__n_estimators=1008; total time=   3.9s\n",
      "[CV] END gradientboostingclassifier__learning_rate=0.001, gradientboostingclassifier__max_depth=1, gradientboostingclassifier__n_estimators=1008; total time=   3.7s\n",
      "[CV] END gradientboostingclassifier__learning_rate=0.001, gradientboostingclassifier__max_depth=1, gradientboostingclassifier__n_estimators=1009; total time=   3.8s\n",
      "[CV] END gradientboostingclassifier__learning_rate=0.001, gradientboostingclassifier__max_depth=1, gradientboostingclassifier__n_estimators=1009; total time=   3.7s\n",
      "[CV] END gradientboostingclassifier__learning_rate=0.001, gradientboostingclassifier__max_depth=1, gradientboostingclassifier__n_estimators=1009; total time=   3.9s\n",
      "[CV] END gradientboostingclassifier__learning_rate=0.001, gradientboostingclassifier__max_depth=1, gradientboostingclassifier__n_estimators=1009; total time=   3.8s\n",
      "[CV] END gradientboostingclassifier__learning_rate=0.001, gradientboostingclassifier__max_depth=1, gradientboostingclassifier__n_estimators=1009; total time=   3.8s\n",
      "[CV] END gradientboostingclassifier__learning_rate=0.001, gradientboostingclassifier__max_depth=1, gradientboostingclassifier__n_estimators=1009; total time=   3.9s\n",
      "[CV] END gradientboostingclassifier__learning_rate=0.001, gradientboostingclassifier__max_depth=1, gradientboostingclassifier__n_estimators=1009; total time=   3.8s\n",
      "[CV] END gradientboostingclassifier__learning_rate=0.001, gradientboostingclassifier__max_depth=1, gradientboostingclassifier__n_estimators=1009; total time=   3.7s\n",
      "[CV] END gradientboostingclassifier__learning_rate=0.001, gradientboostingclassifier__max_depth=1, gradientboostingclassifier__n_estimators=1009; total time=   3.7s\n",
      "[CV] END gradientboostingclassifier__learning_rate=0.001, gradientboostingclassifier__max_depth=1, gradientboostingclassifier__n_estimators=1009; total time=   3.7s\n"
     ]
    },
    {
     "name": "stdout",
     "output_type": "stream",
     "text": [
      "[CV] END gradientboostingclassifier__learning_rate=0.001, gradientboostingclassifier__max_depth=1, gradientboostingclassifier__n_estimators=1010; total time=   3.9s\n",
      "[CV] END gradientboostingclassifier__learning_rate=0.001, gradientboostingclassifier__max_depth=1, gradientboostingclassifier__n_estimators=1010; total time=   3.7s\n",
      "[CV] END gradientboostingclassifier__learning_rate=0.001, gradientboostingclassifier__max_depth=1, gradientboostingclassifier__n_estimators=1010; total time=   3.7s\n",
      "[CV] END gradientboostingclassifier__learning_rate=0.001, gradientboostingclassifier__max_depth=1, gradientboostingclassifier__n_estimators=1010; total time=   3.9s\n",
      "[CV] END gradientboostingclassifier__learning_rate=0.001, gradientboostingclassifier__max_depth=1, gradientboostingclassifier__n_estimators=1010; total time=   3.7s\n",
      "[CV] END gradientboostingclassifier__learning_rate=0.001, gradientboostingclassifier__max_depth=1, gradientboostingclassifier__n_estimators=1010; total time=   3.7s\n",
      "[CV] END gradientboostingclassifier__learning_rate=0.001, gradientboostingclassifier__max_depth=1, gradientboostingclassifier__n_estimators=1010; total time=   3.7s\n",
      "[CV] END gradientboostingclassifier__learning_rate=0.001, gradientboostingclassifier__max_depth=1, gradientboostingclassifier__n_estimators=1010; total time=   3.9s\n",
      "[CV] END gradientboostingclassifier__learning_rate=0.001, gradientboostingclassifier__max_depth=1, gradientboostingclassifier__n_estimators=1010; total time=   4.3s\n",
      "[CV] END gradientboostingclassifier__learning_rate=0.001, gradientboostingclassifier__max_depth=1, gradientboostingclassifier__n_estimators=1010; total time=   3.7s\n",
      "[INFO] best score is 0.76 using {'gradientboostingclassifier__learning_rate': 0.001, 'gradientboostingclassifier__max_depth': 1, 'gradientboostingclassifier__n_estimators': 1000}\n"
     ]
    }
   ],
   "source": [
    "# create model and wrap into sklearn compatible classifier\n",
    "\n",
    "train_features, test_features, train_targets, test_targets = train_test_split(features, y.values.ravel(), test_size=0.2,\n",
    "                                                                                  random_state=23, stratify = y.values.ravel())\n",
    "\n",
    "# define hyperparameter search space\n",
    "learning_rate = [0.1,0.01, pow(10,-3), pow(10,-4), pow(10,-5), pow(10,-6)] \n",
    "max_depth = [1,2,3,4,5,6,7,8]\n",
    "n_estimators = range(1,5002, 1000)\n",
    "\n",
    "# create dictionary from search space\n",
    "grid = dict(\n",
    "    gradientboostingclassifier__max_depth=max_depth,\n",
    "    gradientboostingclassifier__learning_rate=learning_rate,\n",
    "    gradientboostingclassifier__n_estimators=n_estimators,\n",
    ")\n",
    "\n",
    "# create 10-fold cross validation generator\n",
    "cv = StratifiedKFold(n_splits=10, shuffle=True, random_state = 23)\n",
    "\n",
    "# create imbalanced learn pipeline\n",
    "imba_pipeline = make_pipeline(NearMiss(version=1), GradientBoostingClassifier(max_depth=3, \n",
    "                                                                                 learning_rate = 0.1,\n",
    "                                          n_estimators= 123 ,random_state=23))\n",
    "#cross_val_score(imba_pipeline, X_train, y_train, scoring='roc_auc', cv=cv)\n",
    "                              \n",
    "\n",
    "# create random searcher with 10-fold cv and start tuning process\n",
    "model_grid = GridSearchCV(estimator=imba_pipeline, param_grid=grid, cv=cv, verbose=2, scoring='roc_auc')\n",
    "grid_res = model_grid.fit(train_features, train_targets)\n",
    "\n",
    "# summarise grid search info\n",
    "bestScore = grid_res.best_score_\n",
    "bestParams = grid_res.best_params_\n",
    "print(\"[INFO] best score is {:.2f} using {}\".format(bestScore,\n",
    "    bestParams))"
   ]
  },
  {
   "cell_type": "code",
   "execution_count": 14,
   "id": "ec578156",
   "metadata": {
    "colab": {
     "base_uri": "https://localhost:8080/",
     "height": 545
    },
    "executionInfo": {
     "elapsed": 604,
     "status": "ok",
     "timestamp": 1649459016474,
     "user": {
      "displayName": "Skrt skrt",
      "userId": "02708380880722235013"
     },
     "user_tz": -120
    },
    "id": "ec578156",
    "outputId": "3989d6aa-6cdb-42b8-821b-864c3efc459e"
   },
   "outputs": [
    {
     "name": "stdout",
     "output_type": "stream",
     "text": [
      "Confusion Matrix:\n",
      "[[4598 2712]\n",
      " [ 229  699]]\n",
      "Classification Report\n",
      "              precision    recall  f1-score   support\n",
      "\n",
      "           0       0.95      0.63      0.76      7310\n",
      "           1       0.20      0.75      0.32       928\n",
      "\n",
      "    accuracy                           0.64      8238\n",
      "   macro avg       0.58      0.69      0.54      8238\n",
      "weighted avg       0.87      0.64      0.71      8238\n",
      "\n"
     ]
    },
    {
     "data": {
      "image/png": "[encoded data removed]",
      "text/plain": [
       "<Figure size 432x288 with 1 Axes>"
      ]
     },
     "metadata": {
      "needs_background": "light"
     },
     "output_type": "display_data"
    },
    {
     "name": "stdout",
     "output_type": "stream",
     "text": [
      "AUC Score: 0.755\n"
     ]
    }
   ],
   "source": [
    "predictions = model_grid.predict(test_features)\n",
    "    \n",
    "print(\"Confusion Matrix:\")\n",
    "print(confusion_matrix(test_targets, predictions))\n",
    "\n",
    "print(\"Classification Report\")\n",
    "print(classification_report(test_targets, predictions))\n",
    "    \n",
    "#Beginning the plotting of ROC-curve\n",
    "pred_prob = model_grid.predict_proba(test_features)\n",
    "fpr, tpr, thresh = roc_curve(test_targets, pred_prob[:,1], pos_label=1)\n",
    "    \n",
    "#Plot roc curves\n",
    "plt.plot(fpr, tpr, linestyle='--',color='orange', label='Boosted Trees')\n",
    "\n",
    "# title\n",
    "plt.title('ROC curve')\n",
    "# x label\n",
    "plt.xlabel('False Positive Rate')\n",
    "# y label\n",
    "plt.ylabel('True Positive rate')\n",
    "\n",
    "plt.legend(loc='best')\n",
    "plt.savefig('ROC',dpi=300)\n",
    "plt.show();\n",
    "    \n",
    "#AUC Score\n",
    "auc_score = roc_auc_score(test_targets, pred_prob[:,1])\n",
    "print(\"AUC Score: \" + str(np.round(auc_score , 3)))"
   ]
  },
  {
   "cell_type": "code",
   "execution_count": 15,
   "id": "35506aa6",
   "metadata": {
    "id": "35506aa6"
   },
   "outputs": [],
   "source": [
    "#Now we set our n_estimator and learning_rate to the optimal value found in the last grid search\n",
    "learningRate = 0.001\n",
    "nEstimator = 1000\n",
    "maximumDepth = 1"
   ]
  },
  {
   "cell_type": "code",
   "execution_count": 16,
   "id": "d3f30183",
   "metadata": {
    "colab": {
     "base_uri": "https://localhost:8080/",
     "height": 425
    },
    "executionInfo": {
     "elapsed": 161698,
     "status": "error",
     "timestamp": 1649452518515,
     "user": {
      "displayName": "Skrt skrt",
      "userId": "02708380880722235013"
     },
     "user_tz": -120
    },
    "id": "d3f30183",
    "outputId": "db516d3d-58f9-41af-b011-4fc65c0e2f02"
   },
   "outputs": [
    {
     "name": "stdout",
     "output_type": "stream",
     "text": [
      "Learning rate: 0.100000, train: 0.599, test: 0.590\n",
      "Learning rate: 0.010000, train: 0.592, test: 0.584\n",
      "Learning rate: 0.001000, train: 0.500, test: 0.500\n",
      "Learning rate: 0.000100, train: 0.500, test: 0.500\n",
      "Learning rate: 0.000010, train: 0.500, test: 0.500\n",
      "Learning rate: 0.000001, train: 0.500, test: 0.500\n"
     ]
    },
    {
     "data": {
      "image/png": "[encoded data removed]",
      "text/plain": [
       "<Figure size 432x288 with 1 Axes>"
      ]
     },
     "metadata": {
      "needs_background": "light"
     },
     "output_type": "display_data"
    }
   ],
   "source": [
    "#Check for overfitting with learning_rate\n",
    "\n",
    "# define lists to collect scores\n",
    "train_scores, test_scores = list(), list()\n",
    "\n",
    "# define the learning rate to evaluate\n",
    "values = [0.1, 0.01, pow(10,-3), pow(10,-4), pow(10,-5), pow(10,-6)]\n",
    "# evaluate a decision tree for learning rate\n",
    "for i in values:\n",
    "    # configure the model\n",
    "    model = GradientBoostingClassifier(max_depth=maximumDepth, learning_rate = i, n_estimators=nEstimator, random_state=23).fit(\n",
    "        train_features, train_targets)\n",
    "    # evaluate on the train dataset\n",
    "    schatting = model.predict(train_features)\n",
    "    train_acc = roc_auc_score(train_targets, schatting)\n",
    "    train_scores.append(train_acc)\n",
    "    # evaluate on the test dataset\n",
    "    test_schatting = model.predict(test_features)\n",
    "    test_acc = roc_auc_score(test_targets, test_schatting)\n",
    "    test_scores.append(test_acc)\n",
    "    # summarize progress\n",
    "    print('Learning rate: %.6f, train: %.3f, test: %.3f' % (i, train_acc, test_acc))\n",
    "# plot of train and test scores vs learning rate\n",
    "pyplot.plot(values, train_scores, '-o', label='Train')\n",
    "pyplot.plot(values, test_scores, '-o', label='Test')\n",
    "pyplot.legend()\n",
    "pyplot.show()\n"
   ]
  },
  {
   "cell_type": "code",
   "execution_count": 20,
   "id": "66313d10",
   "metadata": {
    "id": "66313d10",
    "outputId": "2e3f98ff-855d-4bbd-d3bb-7a44d67f2189",
    "scrolled": true
   },
   "outputs": [
    {
     "name": "stdout",
     "output_type": "stream",
     "text": [
      "n_estimator: 1, train: 0.500, test: 0.500\n",
      "n_estimator: 1001, train: 0.500, test: 0.500\n",
      "n_estimator: 2001, train: 0.583, test: 0.578\n",
      "n_estimator: 3001, train: 0.583, test: 0.578\n",
      "n_estimator: 4001, train: 0.591, test: 0.584\n",
      "n_estimator: 5001, train: 0.592, test: 0.585\n"
     ]
    },
    {
     "data": {
      "image/png": "[encoded data removed]",
      "text/plain": [
       "<Figure size 432x288 with 1 Axes>"
      ]
     },
     "metadata": {
      "needs_background": "light"
     },
     "output_type": "display_data"
    }
   ],
   "source": [
    "#Check for overfitting with n_estimators\n",
    "\n",
    "# define lists to collect scores\n",
    "train_scores, test_scores = list(), list()\n",
    "\n",
    "# define the estimators to evaluate\n",
    "values = [i for i in range(1, 6001, 1000)]\n",
    "# evaluate a decision tree for estimator\n",
    "for i in values:\n",
    "    # configure the model\n",
    "    model = GradientBoostingClassifier(max_depth=maximumDepth, learning_rate = learningRate, n_estimators=i, random_state=23).fit(\n",
    "        train_features, train_targets)\n",
    "    # evaluate on the train dataset\n",
    "    schatting = model.predict(train_features)\n",
    "    train_acc = roc_auc_score(train_targets, schatting)\n",
    "    train_scores.append(train_acc)\n",
    "    # evaluate on the test dataset\n",
    "    test_schatting = model.predict(test_features)\n",
    "    test_acc = roc_auc_score(test_targets, test_schatting)\n",
    "    test_scores.append(test_acc)\n",
    "    # summarize progress\n",
    "    print('n_estimator: %.0f, train: %.3f, test: %.3f' % (i, train_acc, test_acc))\n",
    "# plot of train and test scores vs n_estimator\n",
    "pyplot.plot(values, train_scores, '-o', label='Train')\n",
    "pyplot.plot(values, test_scores, '-o', label='Test')\n",
    "pyplot.legend()\n",
    "pyplot.show()"
   ]
  },
  {
   "cell_type": "code",
   "execution_count": 19,
   "id": "4bf6de10",
   "metadata": {
    "id": "4bf6de10",
    "outputId": "f2124676-8e40-4734-84ce-3046728fb586"
   },
   "outputs": [
    {
     "name": "stdout",
     "output_type": "stream",
     "text": [
      "tree depth: 1, train: 0.500, test: 0.500\n",
      "tree depth: 2, train: 0.500, test: 0.500\n",
      "tree depth: 3, train: 0.568, test: 0.565\n",
      "tree depth: 4, train: 0.563, test: 0.561\n",
      "tree depth: 5, train: 0.566, test: 0.557\n",
      "tree depth: 6, train: 0.566, test: 0.558\n",
      "tree depth: 7, train: 0.574, test: 0.558\n",
      "tree depth: 8, train: 0.582, test: 0.565\n"
     ]
    },
    {
     "data": {
      "image/png": "[encoded data removed]",
      "text/plain": [
       "<Figure size 432x288 with 1 Axes>"
      ]
     },
     "metadata": {
      "needs_background": "light"
     },
     "output_type": "display_data"
    }
   ],
   "source": [
    "#Check for overfitting with n_estimators\n",
    "\n",
    "# define lists to collect scores\n",
    "train_scores, test_scores = list(), list()\n",
    "\n",
    "# define the estimators to evaluate\n",
    "values = [1,2,3,4,5,6,7,8]\n",
    "# evaluate a decision tree for estimator\n",
    "for i in values:\n",
    "    # configure the model\n",
    "    model = GradientBoostingClassifier(max_depth=i, learning_rate = learningRate, n_estimators=nEstimator, random_state=23).fit(\n",
    "        train_features, train_targets)\n",
    "    # evaluate on the train dataset\n",
    "    schatting = model.predict(train_features)\n",
    "    train_acc = roc_auc_score(train_targets, schatting)\n",
    "    train_scores.append(train_acc)\n",
    "    # evaluate on the test dataset\n",
    "    test_schatting = model.predict(test_features)\n",
    "    test_acc = roc_auc_score(test_targets, test_schatting)\n",
    "    test_scores.append(test_acc)\n",
    "    # summarize progress\n",
    "    print('tree depth: %.0f, train: %.3f, test: %.3f' % (i, train_acc, test_acc))\n",
    "# plot of train and test scores vs n_estimator\n",
    "pyplot.plot(values, train_scores, '-o', label='Train')\n",
    "pyplot.plot(values, test_scores, '-o', label='Test')\n",
    "pyplot.legend()\n",
    "pyplot.show()"
   ]
  },
  {
   "cell_type": "code",
   "execution_count": null,
   "id": "d592273a",
   "metadata": {
    "id": "d592273a"
   },
   "outputs": [],
   "source": [
    "## OUDE CODE"
   ]
  },
  {
   "cell_type": "code",
   "execution_count": null,
   "id": "96b5a7ce",
   "metadata": {
    "id": "96b5a7ce",
    "outputId": "6711bfce-8a59-4348-81eb-96e5b29d546e",
    "scrolled": true
   },
   "outputs": [
    {
     "name": "stdout",
     "output_type": "stream",
     "text": [
      "Fitting 5 folds for each of 3 candidates, totalling 15 fits\n",
      "[CV] END .................................learning_rate=0.01; total time=  54.8s\n",
      "[CV] END .................................learning_rate=0.01; total time=  54.8s\n",
      "[CV] END .................................learning_rate=0.01; total time= 1.1min\n",
      "[CV] END .................................learning_rate=0.01; total time=  59.4s\n",
      "[CV] END .................................learning_rate=0.01; total time=  56.7s\n",
      "[CV] END ................................learning_rate=0.001; total time=  56.7s\n",
      "[CV] END ................................learning_rate=0.001; total time=  59.8s\n",
      "[CV] END ................................learning_rate=0.001; total time=  56.4s\n",
      "[CV] END ................................learning_rate=0.001; total time= 1.1min\n",
      "[CV] END ................................learning_rate=0.001; total time= 1.1min\n",
      "[CV] END ...............................learning_rate=0.0001; total time=  42.7s\n",
      "[CV] END ...............................learning_rate=0.0001; total time=  47.8s\n",
      "[CV] END ...............................learning_rate=0.0001; total time=  48.5s\n",
      "[CV] END ...............................learning_rate=0.0001; total time=  44.4s\n",
      "[CV] END ...............................learning_rate=0.0001; total time=  45.0s\n",
      "GradientBoostingClassifier(learning_rate=0.001, max_depth=8, n_estimators=4340,\n",
      "                           random_state=23)\n",
      "{'learning_rate': 0.001}\n",
      "[[885  50]\n",
      " [162 759]]\n",
      "              precision    recall  f1-score   support\n",
      "\n",
      "           0       0.85      0.95      0.89       935\n",
      "           1       0.94      0.82      0.88       921\n",
      "\n",
      "    accuracy                           0.89      1856\n",
      "   macro avg       0.89      0.89      0.89      1856\n",
      "weighted avg       0.89      0.89      0.89      1856\n",
      "\n"
     ]
    }
   ],
   "source": [
    "ensemble = GradientBoostingClassifier(max_depth=8, learning_rate = 0.001,n_estimators=4340 ,random_state=23).fit(\n",
    "        train_features, train_targets)\n",
    "\n",
    "#After the first run we make jumps of 100, 10 and lastly 1 for n_estimator\n",
    "\n",
    "param_grid = {'learning_rate': [0.1, 0.01, pow(10,-3), pow(10,-4), pow(10,-5), pow(10,-6)], \n",
    "              'max_depth' = [1,2,3,4,5,6,7,8],\n",
    "             'n_estimators' = range(1,6002, 1000)}\n",
    "grid = GridSearchCV(ensemble,param_grid,refit=True, scoring='roc_auc' ,verbose =2)\n",
    "grid.fit(train_features,train_targets)\n",
    "print(grid.best_estimator_)\n",
    "print(grid.best_params_)\n",
    "\n",
    "grid_predictions = grid.predict(test_features)\n",
    "print(confusion_matrix(test_targets,grid_predictions))\n",
    "print(classification_report(test_targets,grid_predictions))"
   ]
  },
  {
   "cell_type": "code",
   "execution_count": null,
   "id": "d7e24264",
   "metadata": {
    "id": "d7e24264",
    "outputId": "f7c6b7ca-d833-4cd3-cdb7-e1db2a865d25"
   },
   "outputs": [
    {
     "ename": "KeyboardInterrupt",
     "evalue": "",
     "output_type": "error",
     "traceback": [
      "\u001b[0;31m---------------------------------------------------------------------------\u001b[0m",
      "\u001b[0;31mKeyboardInterrupt\u001b[0m                         Traceback (most recent call last)",
      "\u001b[0;32m/var/folders/6n/xc5wxfg14_99k_b7s9ld53680000gn/T/ipykernel_817/3353272527.py\u001b[0m in \u001b[0;36m<module>\u001b[0;34m\u001b[0m\n\u001b[1;32m      8\u001b[0m \u001b[0;34m\u001b[0m\u001b[0m\n\u001b[1;32m      9\u001b[0m \u001b[0;34m\u001b[0m\u001b[0m\n\u001b[0;32m---> 10\u001b[0;31m \u001b[0mdt_scores\u001b[0m \u001b[0;34m=\u001b[0m \u001b[0mcross_val_score\u001b[0m\u001b[0;34m(\u001b[0m\u001b[0mensemble\u001b[0m\u001b[0;34m,\u001b[0m \u001b[0mtrain_features\u001b[0m\u001b[0;34m,\u001b[0m \u001b[0mtrain_targets\u001b[0m\u001b[0;34m,\u001b[0m \u001b[0mscoring\u001b[0m \u001b[0;34m=\u001b[0m\u001b[0;34m'roc_auc'\u001b[0m \u001b[0;34m,\u001b[0m\u001b[0mcv\u001b[0m \u001b[0;34m=\u001b[0m \u001b[0mkf\u001b[0m\u001b[0;34m)\u001b[0m\u001b[0;34m\u001b[0m\u001b[0;34m\u001b[0m\u001b[0m\n\u001b[0m\u001b[1;32m     11\u001b[0m \u001b[0mprint\u001b[0m\u001b[0;34m(\u001b[0m\u001b[0;34m\"mean cross validation score: {}\"\u001b[0m\u001b[0;34m.\u001b[0m\u001b[0mformat\u001b[0m\u001b[0;34m(\u001b[0m\u001b[0mnp\u001b[0m\u001b[0;34m.\u001b[0m\u001b[0mround\u001b[0m\u001b[0;34m(\u001b[0m\u001b[0mnp\u001b[0m\u001b[0;34m.\u001b[0m\u001b[0mmean\u001b[0m\u001b[0;34m(\u001b[0m\u001b[0mdt_scores\u001b[0m\u001b[0;34m)\u001b[0m\u001b[0;34m,\u001b[0m\u001b[0;36m3\u001b[0m\u001b[0;34m)\u001b[0m\u001b[0;34m)\u001b[0m\u001b[0;34m)\u001b[0m\u001b[0;34m\u001b[0m\u001b[0;34m\u001b[0m\u001b[0m\n\u001b[1;32m     12\u001b[0m \u001b[0;34m\u001b[0m\u001b[0m\n",
      "\u001b[0;32m~/opt/anaconda3/lib/python3.9/site-packages/sklearn/model_selection/_validation.py\u001b[0m in \u001b[0;36mcross_val_score\u001b[0;34m(estimator, X, y, groups, scoring, cv, n_jobs, verbose, fit_params, pre_dispatch, error_score)\u001b[0m\n\u001b[1;32m    507\u001b[0m     \u001b[0mscorer\u001b[0m \u001b[0;34m=\u001b[0m \u001b[0mcheck_scoring\u001b[0m\u001b[0;34m(\u001b[0m\u001b[0mestimator\u001b[0m\u001b[0;34m,\u001b[0m \u001b[0mscoring\u001b[0m\u001b[0;34m=\u001b[0m\u001b[0mscoring\u001b[0m\u001b[0;34m)\u001b[0m\u001b[0;34m\u001b[0m\u001b[0;34m\u001b[0m\u001b[0m\n\u001b[1;32m    508\u001b[0m \u001b[0;34m\u001b[0m\u001b[0m\n\u001b[0;32m--> 509\u001b[0;31m     cv_results = cross_validate(\n\u001b[0m\u001b[1;32m    510\u001b[0m         \u001b[0mestimator\u001b[0m\u001b[0;34m=\u001b[0m\u001b[0mestimator\u001b[0m\u001b[0;34m,\u001b[0m\u001b[0;34m\u001b[0m\u001b[0;34m\u001b[0m\u001b[0m\n\u001b[1;32m    511\u001b[0m         \u001b[0mX\u001b[0m\u001b[0;34m=\u001b[0m\u001b[0mX\u001b[0m\u001b[0;34m,\u001b[0m\u001b[0;34m\u001b[0m\u001b[0;34m\u001b[0m\u001b[0m\n",
      "\u001b[0;32m~/opt/anaconda3/lib/python3.9/site-packages/sklearn/model_selection/_validation.py\u001b[0m in \u001b[0;36mcross_validate\u001b[0;34m(estimator, X, y, groups, scoring, cv, n_jobs, verbose, fit_params, pre_dispatch, return_train_score, return_estimator, error_score)\u001b[0m\n\u001b[1;32m    265\u001b[0m     \u001b[0;31m# independent, and that it is pickle-able.\u001b[0m\u001b[0;34m\u001b[0m\u001b[0;34m\u001b[0m\u001b[0m\n\u001b[1;32m    266\u001b[0m     \u001b[0mparallel\u001b[0m \u001b[0;34m=\u001b[0m \u001b[0mParallel\u001b[0m\u001b[0;34m(\u001b[0m\u001b[0mn_jobs\u001b[0m\u001b[0;34m=\u001b[0m\u001b[0mn_jobs\u001b[0m\u001b[0;34m,\u001b[0m \u001b[0mverbose\u001b[0m\u001b[0;34m=\u001b[0m\u001b[0mverbose\u001b[0m\u001b[0;34m,\u001b[0m \u001b[0mpre_dispatch\u001b[0m\u001b[0;34m=\u001b[0m\u001b[0mpre_dispatch\u001b[0m\u001b[0;34m)\u001b[0m\u001b[0;34m\u001b[0m\u001b[0;34m\u001b[0m\u001b[0m\n\u001b[0;32m--> 267\u001b[0;31m     results = parallel(\n\u001b[0m\u001b[1;32m    268\u001b[0m         delayed(_fit_and_score)(\n\u001b[1;32m    269\u001b[0m             \u001b[0mclone\u001b[0m\u001b[0;34m(\u001b[0m\u001b[0mestimator\u001b[0m\u001b[0;34m)\u001b[0m\u001b[0;34m,\u001b[0m\u001b[0;34m\u001b[0m\u001b[0;34m\u001b[0m\u001b[0m\n",
      "\u001b[0;32m~/opt/anaconda3/lib/python3.9/site-packages/joblib/parallel.py\u001b[0m in \u001b[0;36m__call__\u001b[0;34m(self, iterable)\u001b[0m\n\u001b[1;32m   1044\u001b[0m                 \u001b[0mself\u001b[0m\u001b[0;34m.\u001b[0m\u001b[0m_iterating\u001b[0m \u001b[0;34m=\u001b[0m \u001b[0mself\u001b[0m\u001b[0;34m.\u001b[0m\u001b[0m_original_iterator\u001b[0m \u001b[0;32mis\u001b[0m \u001b[0;32mnot\u001b[0m \u001b[0;32mNone\u001b[0m\u001b[0;34m\u001b[0m\u001b[0;34m\u001b[0m\u001b[0m\n\u001b[1;32m   1045\u001b[0m \u001b[0;34m\u001b[0m\u001b[0m\n\u001b[0;32m-> 1046\u001b[0;31m             \u001b[0;32mwhile\u001b[0m \u001b[0mself\u001b[0m\u001b[0;34m.\u001b[0m\u001b[0mdispatch_one_batch\u001b[0m\u001b[0;34m(\u001b[0m\u001b[0miterator\u001b[0m\u001b[0;34m)\u001b[0m\u001b[0;34m:\u001b[0m\u001b[0;34m\u001b[0m\u001b[0;34m\u001b[0m\u001b[0m\n\u001b[0m\u001b[1;32m   1047\u001b[0m                 \u001b[0;32mpass\u001b[0m\u001b[0;34m\u001b[0m\u001b[0;34m\u001b[0m\u001b[0m\n\u001b[1;32m   1048\u001b[0m \u001b[0;34m\u001b[0m\u001b[0m\n",
      "\u001b[0;32m~/opt/anaconda3/lib/python3.9/site-packages/joblib/parallel.py\u001b[0m in \u001b[0;36mdispatch_one_batch\u001b[0;34m(self, iterator)\u001b[0m\n\u001b[1;32m    859\u001b[0m                 \u001b[0;32mreturn\u001b[0m \u001b[0;32mFalse\u001b[0m\u001b[0;34m\u001b[0m\u001b[0;34m\u001b[0m\u001b[0m\n\u001b[1;32m    860\u001b[0m             \u001b[0;32melse\u001b[0m\u001b[0;34m:\u001b[0m\u001b[0;34m\u001b[0m\u001b[0;34m\u001b[0m\u001b[0m\n\u001b[0;32m--> 861\u001b[0;31m                 \u001b[0mself\u001b[0m\u001b[0;34m.\u001b[0m\u001b[0m_dispatch\u001b[0m\u001b[0;34m(\u001b[0m\u001b[0mtasks\u001b[0m\u001b[0;34m)\u001b[0m\u001b[0;34m\u001b[0m\u001b[0;34m\u001b[0m\u001b[0m\n\u001b[0m\u001b[1;32m    862\u001b[0m                 \u001b[0;32mreturn\u001b[0m \u001b[0;32mTrue\u001b[0m\u001b[0;34m\u001b[0m\u001b[0;34m\u001b[0m\u001b[0m\n\u001b[1;32m    863\u001b[0m \u001b[0;34m\u001b[0m\u001b[0m\n",
      "\u001b[0;32m~/opt/anaconda3/lib/python3.9/site-packages/joblib/parallel.py\u001b[0m in \u001b[0;36m_dispatch\u001b[0;34m(self, batch)\u001b[0m\n\u001b[1;32m    777\u001b[0m         \u001b[0;32mwith\u001b[0m \u001b[0mself\u001b[0m\u001b[0;34m.\u001b[0m\u001b[0m_lock\u001b[0m\u001b[0;34m:\u001b[0m\u001b[0;34m\u001b[0m\u001b[0;34m\u001b[0m\u001b[0m\n\u001b[1;32m    778\u001b[0m             \u001b[0mjob_idx\u001b[0m \u001b[0;34m=\u001b[0m \u001b[0mlen\u001b[0m\u001b[0;34m(\u001b[0m\u001b[0mself\u001b[0m\u001b[0;34m.\u001b[0m\u001b[0m_jobs\u001b[0m\u001b[0;34m)\u001b[0m\u001b[0;34m\u001b[0m\u001b[0;34m\u001b[0m\u001b[0m\n\u001b[0;32m--> 779\u001b[0;31m             \u001b[0mjob\u001b[0m \u001b[0;34m=\u001b[0m \u001b[0mself\u001b[0m\u001b[0;34m.\u001b[0m\u001b[0m_backend\u001b[0m\u001b[0;34m.\u001b[0m\u001b[0mapply_async\u001b[0m\u001b[0;34m(\u001b[0m\u001b[0mbatch\u001b[0m\u001b[0;34m,\u001b[0m \u001b[0mcallback\u001b[0m\u001b[0;34m=\u001b[0m\u001b[0mcb\u001b[0m\u001b[0;34m)\u001b[0m\u001b[0;34m\u001b[0m\u001b[0;34m\u001b[0m\u001b[0m\n\u001b[0m\u001b[1;32m    780\u001b[0m             \u001b[0;31m# A job can complete so quickly than its callback is\u001b[0m\u001b[0;34m\u001b[0m\u001b[0;34m\u001b[0m\u001b[0m\n\u001b[1;32m    781\u001b[0m             \u001b[0;31m# called before we get here, causing self._jobs to\u001b[0m\u001b[0;34m\u001b[0m\u001b[0;34m\u001b[0m\u001b[0m\n",
      "\u001b[0;32m~/opt/anaconda3/lib/python3.9/site-packages/joblib/_parallel_backends.py\u001b[0m in \u001b[0;36mapply_async\u001b[0;34m(self, func, callback)\u001b[0m\n\u001b[1;32m    206\u001b[0m     \u001b[0;32mdef\u001b[0m \u001b[0mapply_async\u001b[0m\u001b[0;34m(\u001b[0m\u001b[0mself\u001b[0m\u001b[0;34m,\u001b[0m \u001b[0mfunc\u001b[0m\u001b[0;34m,\u001b[0m \u001b[0mcallback\u001b[0m\u001b[0;34m=\u001b[0m\u001b[0;32mNone\u001b[0m\u001b[0;34m)\u001b[0m\u001b[0;34m:\u001b[0m\u001b[0;34m\u001b[0m\u001b[0;34m\u001b[0m\u001b[0m\n\u001b[1;32m    207\u001b[0m         \u001b[0;34m\"\"\"Schedule a func to be run\"\"\"\u001b[0m\u001b[0;34m\u001b[0m\u001b[0;34m\u001b[0m\u001b[0m\n\u001b[0;32m--> 208\u001b[0;31m         \u001b[0mresult\u001b[0m \u001b[0;34m=\u001b[0m \u001b[0mImmediateResult\u001b[0m\u001b[0;34m(\u001b[0m\u001b[0mfunc\u001b[0m\u001b[0;34m)\u001b[0m\u001b[0;34m\u001b[0m\u001b[0;34m\u001b[0m\u001b[0m\n\u001b[0m\u001b[1;32m    209\u001b[0m         \u001b[0;32mif\u001b[0m \u001b[0mcallback\u001b[0m\u001b[0;34m:\u001b[0m\u001b[0;34m\u001b[0m\u001b[0;34m\u001b[0m\u001b[0m\n\u001b[1;32m    210\u001b[0m             \u001b[0mcallback\u001b[0m\u001b[0;34m(\u001b[0m\u001b[0mresult\u001b[0m\u001b[0;34m)\u001b[0m\u001b[0;34m\u001b[0m\u001b[0;34m\u001b[0m\u001b[0m\n",
      "\u001b[0;32m~/opt/anaconda3/lib/python3.9/site-packages/joblib/_parallel_backends.py\u001b[0m in \u001b[0;36m__init__\u001b[0;34m(self, batch)\u001b[0m\n\u001b[1;32m    570\u001b[0m         \u001b[0;31m# Don't delay the application, to avoid keeping the input\u001b[0m\u001b[0;34m\u001b[0m\u001b[0;34m\u001b[0m\u001b[0m\n\u001b[1;32m    571\u001b[0m         \u001b[0;31m# arguments in memory\u001b[0m\u001b[0;34m\u001b[0m\u001b[0;34m\u001b[0m\u001b[0m\n\u001b[0;32m--> 572\u001b[0;31m         \u001b[0mself\u001b[0m\u001b[0;34m.\u001b[0m\u001b[0mresults\u001b[0m \u001b[0;34m=\u001b[0m \u001b[0mbatch\u001b[0m\u001b[0;34m(\u001b[0m\u001b[0;34m)\u001b[0m\u001b[0;34m\u001b[0m\u001b[0;34m\u001b[0m\u001b[0m\n\u001b[0m\u001b[1;32m    573\u001b[0m \u001b[0;34m\u001b[0m\u001b[0m\n\u001b[1;32m    574\u001b[0m     \u001b[0;32mdef\u001b[0m \u001b[0mget\u001b[0m\u001b[0;34m(\u001b[0m\u001b[0mself\u001b[0m\u001b[0;34m)\u001b[0m\u001b[0;34m:\u001b[0m\u001b[0;34m\u001b[0m\u001b[0;34m\u001b[0m\u001b[0m\n",
      "\u001b[0;32m~/opt/anaconda3/lib/python3.9/site-packages/joblib/parallel.py\u001b[0m in \u001b[0;36m__call__\u001b[0;34m(self)\u001b[0m\n\u001b[1;32m    260\u001b[0m         \u001b[0;31m# change the default number of processes to -1\u001b[0m\u001b[0;34m\u001b[0m\u001b[0;34m\u001b[0m\u001b[0m\n\u001b[1;32m    261\u001b[0m         \u001b[0;32mwith\u001b[0m \u001b[0mparallel_backend\u001b[0m\u001b[0;34m(\u001b[0m\u001b[0mself\u001b[0m\u001b[0;34m.\u001b[0m\u001b[0m_backend\u001b[0m\u001b[0;34m,\u001b[0m \u001b[0mn_jobs\u001b[0m\u001b[0;34m=\u001b[0m\u001b[0mself\u001b[0m\u001b[0;34m.\u001b[0m\u001b[0m_n_jobs\u001b[0m\u001b[0;34m)\u001b[0m\u001b[0;34m:\u001b[0m\u001b[0;34m\u001b[0m\u001b[0;34m\u001b[0m\u001b[0m\n\u001b[0;32m--> 262\u001b[0;31m             return [func(*args, **kwargs)\n\u001b[0m\u001b[1;32m    263\u001b[0m                     for func, args, kwargs in self.items]\n\u001b[1;32m    264\u001b[0m \u001b[0;34m\u001b[0m\u001b[0m\n",
      "\u001b[0;32m~/opt/anaconda3/lib/python3.9/site-packages/joblib/parallel.py\u001b[0m in \u001b[0;36m<listcomp>\u001b[0;34m(.0)\u001b[0m\n\u001b[1;32m    260\u001b[0m         \u001b[0;31m# change the default number of processes to -1\u001b[0m\u001b[0;34m\u001b[0m\u001b[0;34m\u001b[0m\u001b[0m\n\u001b[1;32m    261\u001b[0m         \u001b[0;32mwith\u001b[0m \u001b[0mparallel_backend\u001b[0m\u001b[0;34m(\u001b[0m\u001b[0mself\u001b[0m\u001b[0;34m.\u001b[0m\u001b[0m_backend\u001b[0m\u001b[0;34m,\u001b[0m \u001b[0mn_jobs\u001b[0m\u001b[0;34m=\u001b[0m\u001b[0mself\u001b[0m\u001b[0;34m.\u001b[0m\u001b[0m_n_jobs\u001b[0m\u001b[0;34m)\u001b[0m\u001b[0;34m:\u001b[0m\u001b[0;34m\u001b[0m\u001b[0;34m\u001b[0m\u001b[0m\n\u001b[0;32m--> 262\u001b[0;31m             return [func(*args, **kwargs)\n\u001b[0m\u001b[1;32m    263\u001b[0m                     for func, args, kwargs in self.items]\n\u001b[1;32m    264\u001b[0m \u001b[0;34m\u001b[0m\u001b[0m\n",
      "\u001b[0;32m~/opt/anaconda3/lib/python3.9/site-packages/sklearn/utils/fixes.py\u001b[0m in \u001b[0;36m__call__\u001b[0;34m(self, *args, **kwargs)\u001b[0m\n\u001b[1;32m    214\u001b[0m     \u001b[0;32mdef\u001b[0m \u001b[0m__call__\u001b[0m\u001b[0;34m(\u001b[0m\u001b[0mself\u001b[0m\u001b[0;34m,\u001b[0m \u001b[0;34m*\u001b[0m\u001b[0margs\u001b[0m\u001b[0;34m,\u001b[0m \u001b[0;34m**\u001b[0m\u001b[0mkwargs\u001b[0m\u001b[0;34m)\u001b[0m\u001b[0;34m:\u001b[0m\u001b[0;34m\u001b[0m\u001b[0;34m\u001b[0m\u001b[0m\n\u001b[1;32m    215\u001b[0m         \u001b[0;32mwith\u001b[0m \u001b[0mconfig_context\u001b[0m\u001b[0;34m(\u001b[0m\u001b[0;34m**\u001b[0m\u001b[0mself\u001b[0m\u001b[0;34m.\u001b[0m\u001b[0mconfig\u001b[0m\u001b[0;34m)\u001b[0m\u001b[0;34m:\u001b[0m\u001b[0;34m\u001b[0m\u001b[0;34m\u001b[0m\u001b[0m\n\u001b[0;32m--> 216\u001b[0;31m             \u001b[0;32mreturn\u001b[0m \u001b[0mself\u001b[0m\u001b[0;34m.\u001b[0m\u001b[0mfunction\u001b[0m\u001b[0;34m(\u001b[0m\u001b[0;34m*\u001b[0m\u001b[0margs\u001b[0m\u001b[0;34m,\u001b[0m \u001b[0;34m**\u001b[0m\u001b[0mkwargs\u001b[0m\u001b[0;34m)\u001b[0m\u001b[0;34m\u001b[0m\u001b[0;34m\u001b[0m\u001b[0m\n\u001b[0m\u001b[1;32m    217\u001b[0m \u001b[0;34m\u001b[0m\u001b[0m\n\u001b[1;32m    218\u001b[0m \u001b[0;34m\u001b[0m\u001b[0m\n",
      "\u001b[0;32m~/opt/anaconda3/lib/python3.9/site-packages/sklearn/model_selection/_validation.py\u001b[0m in \u001b[0;36m_fit_and_score\u001b[0;34m(estimator, X, y, scorer, train, test, verbose, parameters, fit_params, return_train_score, return_parameters, return_n_test_samples, return_times, return_estimator, split_progress, candidate_progress, error_score)\u001b[0m\n\u001b[1;32m    678\u001b[0m             \u001b[0mestimator\u001b[0m\u001b[0;34m.\u001b[0m\u001b[0mfit\u001b[0m\u001b[0;34m(\u001b[0m\u001b[0mX_train\u001b[0m\u001b[0;34m,\u001b[0m \u001b[0;34m**\u001b[0m\u001b[0mfit_params\u001b[0m\u001b[0;34m)\u001b[0m\u001b[0;34m\u001b[0m\u001b[0;34m\u001b[0m\u001b[0m\n\u001b[1;32m    679\u001b[0m         \u001b[0;32melse\u001b[0m\u001b[0;34m:\u001b[0m\u001b[0;34m\u001b[0m\u001b[0;34m\u001b[0m\u001b[0m\n\u001b[0;32m--> 680\u001b[0;31m             \u001b[0mestimator\u001b[0m\u001b[0;34m.\u001b[0m\u001b[0mfit\u001b[0m\u001b[0;34m(\u001b[0m\u001b[0mX_train\u001b[0m\u001b[0;34m,\u001b[0m \u001b[0my_train\u001b[0m\u001b[0;34m,\u001b[0m \u001b[0;34m**\u001b[0m\u001b[0mfit_params\u001b[0m\u001b[0;34m)\u001b[0m\u001b[0;34m\u001b[0m\u001b[0;34m\u001b[0m\u001b[0m\n\u001b[0m\u001b[1;32m    681\u001b[0m \u001b[0;34m\u001b[0m\u001b[0m\n\u001b[1;32m    682\u001b[0m     \u001b[0;32mexcept\u001b[0m \u001b[0mException\u001b[0m\u001b[0;34m:\u001b[0m\u001b[0;34m\u001b[0m\u001b[0;34m\u001b[0m\u001b[0m\n",
      "\u001b[0;32m~/opt/anaconda3/lib/python3.9/site-packages/sklearn/ensemble/_gb.py\u001b[0m in \u001b[0;36mfit\u001b[0;34m(self, X, y, sample_weight, monitor)\u001b[0m\n\u001b[1;32m    584\u001b[0m \u001b[0;34m\u001b[0m\u001b[0m\n\u001b[1;32m    585\u001b[0m         \u001b[0;31m# fit the boosting stages\u001b[0m\u001b[0;34m\u001b[0m\u001b[0;34m\u001b[0m\u001b[0m\n\u001b[0;32m--> 586\u001b[0;31m         n_stages = self._fit_stages(\n\u001b[0m\u001b[1;32m    587\u001b[0m             \u001b[0mX\u001b[0m\u001b[0;34m,\u001b[0m\u001b[0;34m\u001b[0m\u001b[0;34m\u001b[0m\u001b[0m\n\u001b[1;32m    588\u001b[0m             \u001b[0my\u001b[0m\u001b[0;34m,\u001b[0m\u001b[0;34m\u001b[0m\u001b[0;34m\u001b[0m\u001b[0m\n",
      "\u001b[0;32m~/opt/anaconda3/lib/python3.9/site-packages/sklearn/ensemble/_gb.py\u001b[0m in \u001b[0;36m_fit_stages\u001b[0;34m(self, X, y, raw_predictions, sample_weight, random_state, X_val, y_val, sample_weight_val, begin_at_stage, monitor)\u001b[0m\n\u001b[1;32m    661\u001b[0m \u001b[0;34m\u001b[0m\u001b[0m\n\u001b[1;32m    662\u001b[0m             \u001b[0;31m# fit next stage of trees\u001b[0m\u001b[0;34m\u001b[0m\u001b[0;34m\u001b[0m\u001b[0m\n\u001b[0;32m--> 663\u001b[0;31m             raw_predictions = self._fit_stage(\n\u001b[0m\u001b[1;32m    664\u001b[0m                 \u001b[0mi\u001b[0m\u001b[0;34m,\u001b[0m\u001b[0;34m\u001b[0m\u001b[0;34m\u001b[0m\u001b[0m\n\u001b[1;32m    665\u001b[0m                 \u001b[0mX\u001b[0m\u001b[0;34m,\u001b[0m\u001b[0;34m\u001b[0m\u001b[0;34m\u001b[0m\u001b[0m\n",
      "\u001b[0;32m~/opt/anaconda3/lib/python3.9/site-packages/sklearn/ensemble/_gb.py\u001b[0m in \u001b[0;36m_fit_stage\u001b[0;34m(self, i, X, y, raw_predictions, sample_weight, sample_mask, random_state, X_csc, X_csr)\u001b[0m\n\u001b[1;32m    247\u001b[0m \u001b[0;34m\u001b[0m\u001b[0m\n\u001b[1;32m    248\u001b[0m             \u001b[0;31m# update tree leaves\u001b[0m\u001b[0;34m\u001b[0m\u001b[0;34m\u001b[0m\u001b[0m\n\u001b[0;32m--> 249\u001b[0;31m             loss.update_terminal_regions(\n\u001b[0m\u001b[1;32m    250\u001b[0m                 \u001b[0mtree\u001b[0m\u001b[0;34m.\u001b[0m\u001b[0mtree_\u001b[0m\u001b[0;34m,\u001b[0m\u001b[0;34m\u001b[0m\u001b[0;34m\u001b[0m\u001b[0m\n\u001b[1;32m    251\u001b[0m                 \u001b[0mX\u001b[0m\u001b[0;34m,\u001b[0m\u001b[0;34m\u001b[0m\u001b[0;34m\u001b[0m\u001b[0m\n",
      "\u001b[0;32m~/opt/anaconda3/lib/python3.9/site-packages/sklearn/ensemble/_gb_losses.py\u001b[0m in \u001b[0;36mupdate_terminal_regions\u001b[0;34m(self, tree, X, y, residual, raw_predictions, sample_weight, sample_mask, learning_rate, k)\u001b[0m\n\u001b[1;32m    119\u001b[0m         \u001b[0;31m# update each leaf (= perform line search)\u001b[0m\u001b[0;34m\u001b[0m\u001b[0;34m\u001b[0m\u001b[0m\n\u001b[1;32m    120\u001b[0m         \u001b[0;32mfor\u001b[0m \u001b[0mleaf\u001b[0m \u001b[0;32min\u001b[0m \u001b[0mnp\u001b[0m\u001b[0;34m.\u001b[0m\u001b[0mwhere\u001b[0m\u001b[0;34m(\u001b[0m\u001b[0mtree\u001b[0m\u001b[0;34m.\u001b[0m\u001b[0mchildren_left\u001b[0m \u001b[0;34m==\u001b[0m \u001b[0mTREE_LEAF\u001b[0m\u001b[0;34m)\u001b[0m\u001b[0;34m[\u001b[0m\u001b[0;36m0\u001b[0m\u001b[0;34m]\u001b[0m\u001b[0;34m:\u001b[0m\u001b[0;34m\u001b[0m\u001b[0;34m\u001b[0m\u001b[0m\n\u001b[0;32m--> 121\u001b[0;31m             self._update_terminal_region(\n\u001b[0m\u001b[1;32m    122\u001b[0m                 \u001b[0mtree\u001b[0m\u001b[0;34m,\u001b[0m\u001b[0;34m\u001b[0m\u001b[0;34m\u001b[0m\u001b[0m\n\u001b[1;32m    123\u001b[0m                 \u001b[0mmasked_terminal_regions\u001b[0m\u001b[0;34m,\u001b[0m\u001b[0;34m\u001b[0m\u001b[0;34m\u001b[0m\u001b[0m\n",
      "\u001b[0;32m~/opt/anaconda3/lib/python3.9/site-packages/sklearn/ensemble/_gb_losses.py\u001b[0m in \u001b[0;36m_update_terminal_region\u001b[0;34m(self, tree, terminal_regions, leaf, X, y, residual, raw_predictions, sample_weight)\u001b[0m\n\u001b[1;32m    722\u001b[0m         \u001b[0mwe\u001b[0m \u001b[0mtake\u001b[0m \u001b[0madvantage\u001b[0m \u001b[0mthat\u001b[0m\u001b[0;34m:\u001b[0m \u001b[0my\u001b[0m \u001b[0;34m-\u001b[0m \u001b[0mprob\u001b[0m \u001b[0;34m=\u001b[0m \u001b[0mresidual\u001b[0m\u001b[0;34m\u001b[0m\u001b[0;34m\u001b[0m\u001b[0m\n\u001b[1;32m    723\u001b[0m         \"\"\"\n\u001b[0;32m--> 724\u001b[0;31m         \u001b[0mterminal_region\u001b[0m \u001b[0;34m=\u001b[0m \u001b[0mnp\u001b[0m\u001b[0;34m.\u001b[0m\u001b[0mwhere\u001b[0m\u001b[0;34m(\u001b[0m\u001b[0mterminal_regions\u001b[0m \u001b[0;34m==\u001b[0m \u001b[0mleaf\u001b[0m\u001b[0;34m)\u001b[0m\u001b[0;34m[\u001b[0m\u001b[0;36m0\u001b[0m\u001b[0;34m]\u001b[0m\u001b[0;34m\u001b[0m\u001b[0;34m\u001b[0m\u001b[0m\n\u001b[0m\u001b[1;32m    725\u001b[0m         \u001b[0mresidual\u001b[0m \u001b[0;34m=\u001b[0m \u001b[0mresidual\u001b[0m\u001b[0;34m.\u001b[0m\u001b[0mtake\u001b[0m\u001b[0;34m(\u001b[0m\u001b[0mterminal_region\u001b[0m\u001b[0;34m,\u001b[0m \u001b[0maxis\u001b[0m\u001b[0;34m=\u001b[0m\u001b[0;36m0\u001b[0m\u001b[0;34m)\u001b[0m\u001b[0;34m\u001b[0m\u001b[0;34m\u001b[0m\u001b[0m\n\u001b[1;32m    726\u001b[0m         \u001b[0my\u001b[0m \u001b[0;34m=\u001b[0m \u001b[0my\u001b[0m\u001b[0;34m.\u001b[0m\u001b[0mtake\u001b[0m\u001b[0;34m(\u001b[0m\u001b[0mterminal_region\u001b[0m\u001b[0;34m,\u001b[0m \u001b[0maxis\u001b[0m\u001b[0;34m=\u001b[0m\u001b[0;36m0\u001b[0m\u001b[0;34m)\u001b[0m\u001b[0;34m\u001b[0m\u001b[0;34m\u001b[0m\u001b[0m\n",
      "\u001b[0;31mKeyboardInterrupt\u001b[0m: "
     ]
    }
   ],
   "source": [
    "#Boosting the tree and predicting with ROC curve and classification reports\n",
    "\n",
    "ensemble = GradientBoostingClassifier(max_depth=maximumDepth, learning_rate = learningRate,\n",
    "                                          n_estimators= nEstimator ,random_state=23)\n",
    "    \n",
    "k = 10\n",
    "kf = KFold(n_splits=k, shuffle = True)\n",
    "\n",
    "    \n",
    "dt_scores = cross_val_score(ensemble, train_features, train_targets, scoring ='roc_auc' ,cv = kf)\n",
    "print(\"mean cross validation score: {}\".format(np.round(np.mean(dt_scores),3)))\n",
    "\n",
    "ensemble.fit(train_features, train_targets)\n",
    "predictions = ensemble.predict(test_features)\n",
    "    \n",
    "print(\"Confusion Matrix:\")\n",
    "print(confusion_matrix(test_targets, predictions))\n",
    "\n",
    "print(\"Classification Report\")\n",
    "print(classification_report(test_targets, predictions))\n",
    "    \n",
    "#Beginning the plotting of ROC-curve\n",
    "pred_prob = ensemble.predict_proba(test_features)\n",
    "fpr, tpr, thresh = roc_curve(test_targets, pred_prob[:,1], pos_label=1)\n",
    "    \n",
    "#Plot roc curves\n",
    "plt.plot(fpr, tpr, linestyle='--',color='orange', label='Boosted Trees')\n",
    "\n",
    "# title\n",
    "plt.title('ROC curve')\n",
    "# x label\n",
    "plt.xlabel('False Positive Rate')\n",
    "# y label\n",
    "plt.ylabel('True Positive rate')\n",
    "\n",
    "plt.legend(loc='best')\n",
    "plt.savefig('ROC',dpi=300)\n",
    "plt.show();\n",
    "    \n",
    "#AUC Score\n",
    "auc_score = roc_auc_score(test_targets, pred_prob[:,1])\n",
    "print(\"AUC Score: \" + str(np.round(auc_score , 3)))"
   ]
  }
 ],
 "metadata": {
  "colab": {
   "name": "boostedTreesTest copy.ipynb",
   "provenance": []
  },
  "kernelspec": {
   "display_name": "Python 3 (ipykernel)",
   "language": "python",
   "name": "python3"
  },
  "language_info": {
   "codemirror_mode": {
    "name": "ipython",
    "version": 3
   },
   "file_extension": ".py",
   "mimetype": "text/x-python",
   "name": "python",
   "nbconvert_exporter": "python",
   "pygments_lexer": "ipython3",
   "version": "3.9.7"
  }
 },
 "nbformat": 4,
 "nbformat_minor": 5
}
