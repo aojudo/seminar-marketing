{
 "cells": [
  {
   "cell_type": "code",
   "execution_count": 29,
   "id": "44a51c94",
   "metadata": {
    "id": "44a51c94"
   },
   "outputs": [],
   "source": [
    "import numpy as np\n",
    "import pandas as pd\n",
    "from sklearn.metrics import zero_one_loss\n",
    "from sklearn.ensemble import GradientBoostingClassifier\n",
    "from sklearn.model_selection import train_test_split\n",
    "from sklearn.preprocessing import LabelEncoder\n",
    "from sklearn.metrics import log_loss, roc_curve, roc_auc_score\n",
    "from sklearn.metrics import classification_report, confusion_matrix\n",
    "import matplotlib.pyplot as plt\n",
    "from sklearn.model_selection import KFold\n",
    "from sklearn.model_selection import cross_val_score\n",
    "from matplotlib import pyplot\n",
    "from sklearn.metrics import accuracy_score\n",
    "from imblearn.under_sampling import NearMiss\n",
    "from sklearn.model_selection import GridSearchCV\n",
    "from imblearn.pipeline import Pipeline, make_pipeline\n",
    "from sklearn.model_selection import StratifiedKFold"
   ]
  },
  {
   "cell_type": "code",
   "execution_count": 30,
   "id": "42f05d96",
   "metadata": {
    "id": "42f05d96"
   },
   "outputs": [],
   "source": [
    "#Reading the file and splitting our target column\n",
    "df = pd.read_csv (r'bank-additional-full.csv', sep = ';', engine= 'python')   \n",
    "\n",
    "tussen = df[[\"y\"]]\n",
    "target = tussen.copy()\n",
    "df.drop(df.columns[len(df.columns)-1], axis=1, inplace=True)\n",
    "\n",
    "df=df[['age','default', 'contact', 'month', 'previous', 'poutcome', 'emp.var.rate', 'euribor3m', 'nr.employed']]\n",
    "\n",
    "#Encoding all the catergorical variables and deleting them from the old dataframe\n",
    "categories = ['contact','month','poutcome']\n",
    "df_encoded = pd.get_dummies(df['default'], prefix='default', drop_first=True)\n",
    "df_encoded.insert(0, 'ID', range(0, len(df_encoded)))\n",
    "del df['default']\n",
    "\n",
    "for x in categories:\n",
    "    df_encoded_tussen = pd.get_dummies(df[x], prefix=x, drop_first=True)\n",
    "    df_encoded_tussen.insert(0, 'ID', range(0, len(df_encoded_tussen)))\n",
    "    df_encoded = pd.merge(df_encoded, df_encoded_tussen, on = 'ID', how = 'outer')\n",
    "    del df[x]\n",
    "\n",
    "df.insert(0, 'ID', range(0, len(df)))\n",
    "features = pd.merge(df_encoded, df, on = 'ID', how = 'outer')\n",
    "y = pd.get_dummies(target, drop_first=True)\n",
    "del features['ID']"
   ]
  },
  {
   "cell_type": "code",
   "execution_count": 31,
   "id": "55ce4e93",
   "metadata": {},
   "outputs": [],
   "source": [
    "# create model and wrap into sklearn compatible classifier\n",
    "\n",
    "train_features, test_features, train_targets, test_targets = train_test_split(features, y.values.ravel(), test_size=0.2,\n",
    "                                                                                  random_state=23, stratify = y.values.ravel())"
   ]
  },
  {
   "cell_type": "code",
   "execution_count": 13,
   "id": "dae87413",
   "metadata": {
    "colab": {
     "base_uri": "https://localhost:8080/"
    },
    "executionInfo": {
     "elapsed": 709088,
     "status": "ok",
     "timestamp": 1649459015875,
     "user": {
      "displayName": "Skrt skrt",
      "userId": "02708380880722235013"
     },
     "user_tz": -120
    },
    "id": "dae87413",
    "outputId": "dfba6c06-e99a-4230-ff01-e57112e01daf"
   },
   "outputs": [
    {
     "name": "stdout",
     "output_type": "stream",
     "text": [
      "Fitting 10 folds for each of 11 candidates, totalling 110 fits\n",
      "[CV] END gradientboostingclassifier__learning_rate=0.001, gradientboostingclassifier__max_depth=1, gradientboostingclassifier__n_estimators=1000; total time=   3.4s\n",
      "[CV] END gradientboostingclassifier__learning_rate=0.001, gradientboostingclassifier__max_depth=1, gradientboostingclassifier__n_estimators=1000; total time=   3.6s\n",
      "[CV] END gradientboostingclassifier__learning_rate=0.001, gradientboostingclassifier__max_depth=1, gradientboostingclassifier__n_estimators=1000; total time=   3.4s\n",
      "[CV] END gradientboostingclassifier__learning_rate=0.001, gradientboostingclassifier__max_depth=1, gradientboostingclassifier__n_estimators=1000; total time=   3.5s\n",
      "[CV] END gradientboostingclassifier__learning_rate=0.001, gradientboostingclassifier__max_depth=1, gradientboostingclassifier__n_estimators=1000; total time=   3.6s\n",
      "[CV] END gradientboostingclassifier__learning_rate=0.001, gradientboostingclassifier__max_depth=1, gradientboostingclassifier__n_estimators=1000; total time=   3.5s\n",
      "[CV] END gradientboostingclassifier__learning_rate=0.001, gradientboostingclassifier__max_depth=1, gradientboostingclassifier__n_estimators=1000; total time=   3.6s\n",
      "[CV] END gradientboostingclassifier__learning_rate=0.001, gradientboostingclassifier__max_depth=1, gradientboostingclassifier__n_estimators=1000; total time=   3.6s\n",
      "[CV] END gradientboostingclassifier__learning_rate=0.001, gradientboostingclassifier__max_depth=1, gradientboostingclassifier__n_estimators=1000; total time=   3.7s\n",
      "[CV] END gradientboostingclassifier__learning_rate=0.001, gradientboostingclassifier__max_depth=1, gradientboostingclassifier__n_estimators=1000; total time=   3.6s\n",
      "[CV] END gradientboostingclassifier__learning_rate=0.001, gradientboostingclassifier__max_depth=1, gradientboostingclassifier__n_estimators=1001; total time=   3.6s\n",
      "[CV] END gradientboostingclassifier__learning_rate=0.001, gradientboostingclassifier__max_depth=1, gradientboostingclassifier__n_estimators=1001; total time=   3.7s\n",
      "[CV] END gradientboostingclassifier__learning_rate=0.001, gradientboostingclassifier__max_depth=1, gradientboostingclassifier__n_estimators=1001; total time=   3.7s\n",
      "[CV] END gradientboostingclassifier__learning_rate=0.001, gradientboostingclassifier__max_depth=1, gradientboostingclassifier__n_estimators=1001; total time=   3.9s\n",
      "[CV] END gradientboostingclassifier__learning_rate=0.001, gradientboostingclassifier__max_depth=1, gradientboostingclassifier__n_estimators=1001; total time=   3.7s\n",
      "[CV] END gradientboostingclassifier__learning_rate=0.001, gradientboostingclassifier__max_depth=1, gradientboostingclassifier__n_estimators=1001; total time=   3.7s\n",
      "[CV] END gradientboostingclassifier__learning_rate=0.001, gradientboostingclassifier__max_depth=1, gradientboostingclassifier__n_estimators=1001; total time=   3.9s\n",
      "[CV] END gradientboostingclassifier__learning_rate=0.001, gradientboostingclassifier__max_depth=1, gradientboostingclassifier__n_estimators=1001; total time=   4.5s\n",
      "[CV] END gradientboostingclassifier__learning_rate=0.001, gradientboostingclassifier__max_depth=1, gradientboostingclassifier__n_estimators=1001; total time=   3.8s\n",
      "[CV] END gradientboostingclassifier__learning_rate=0.001, gradientboostingclassifier__max_depth=1, gradientboostingclassifier__n_estimators=1001; total time=   3.6s\n",
      "[CV] END gradientboostingclassifier__learning_rate=0.001, gradientboostingclassifier__max_depth=1, gradientboostingclassifier__n_estimators=1002; total time=   3.6s\n",
      "[CV] END gradientboostingclassifier__learning_rate=0.001, gradientboostingclassifier__max_depth=1, gradientboostingclassifier__n_estimators=1002; total time=   3.8s\n",
      "[CV] END gradientboostingclassifier__learning_rate=0.001, gradientboostingclassifier__max_depth=1, gradientboostingclassifier__n_estimators=1002; total time=   3.7s\n",
      "[CV] END gradientboostingclassifier__learning_rate=0.001, gradientboostingclassifier__max_depth=1, gradientboostingclassifier__n_estimators=1002; total time=   3.7s\n",
      "[CV] END gradientboostingclassifier__learning_rate=0.001, gradientboostingclassifier__max_depth=1, gradientboostingclassifier__n_estimators=1002; total time=   3.9s\n",
      "[CV] END gradientboostingclassifier__learning_rate=0.001, gradientboostingclassifier__max_depth=1, gradientboostingclassifier__n_estimators=1002; total time=   3.7s\n",
      "[CV] END gradientboostingclassifier__learning_rate=0.001, gradientboostingclassifier__max_depth=1, gradientboostingclassifier__n_estimators=1002; total time=   3.8s\n",
      "[CV] END gradientboostingclassifier__learning_rate=0.001, gradientboostingclassifier__max_depth=1, gradientboostingclassifier__n_estimators=1002; total time=   4.6s\n",
      "[CV] END gradientboostingclassifier__learning_rate=0.001, gradientboostingclassifier__max_depth=1, gradientboostingclassifier__n_estimators=1002; total time=   4.0s\n",
      "[CV] END gradientboostingclassifier__learning_rate=0.001, gradientboostingclassifier__max_depth=1, gradientboostingclassifier__n_estimators=1002; total time=   4.4s\n",
      "[CV] END gradientboostingclassifier__learning_rate=0.001, gradientboostingclassifier__max_depth=1, gradientboostingclassifier__n_estimators=1003; total time=   4.4s\n",
      "[CV] END gradientboostingclassifier__learning_rate=0.001, gradientboostingclassifier__max_depth=1, gradientboostingclassifier__n_estimators=1003; total time=   4.7s\n",
      "[CV] END gradientboostingclassifier__learning_rate=0.001, gradientboostingclassifier__max_depth=1, gradientboostingclassifier__n_estimators=1003; total time=   5.5s\n",
      "[CV] END gradientboostingclassifier__learning_rate=0.001, gradientboostingclassifier__max_depth=1, gradientboostingclassifier__n_estimators=1003; total time=   4.1s\n",
      "[CV] END gradientboostingclassifier__learning_rate=0.001, gradientboostingclassifier__max_depth=1, gradientboostingclassifier__n_estimators=1003; total time=   3.8s\n",
      "[CV] END gradientboostingclassifier__learning_rate=0.001, gradientboostingclassifier__max_depth=1, gradientboostingclassifier__n_estimators=1003; total time=   3.8s\n",
      "[CV] END gradientboostingclassifier__learning_rate=0.001, gradientboostingclassifier__max_depth=1, gradientboostingclassifier__n_estimators=1003; total time=   3.9s\n",
      "[CV] END gradientboostingclassifier__learning_rate=0.001, gradientboostingclassifier__max_depth=1, gradientboostingclassifier__n_estimators=1003; total time=   4.1s\n",
      "[CV] END gradientboostingclassifier__learning_rate=0.001, gradientboostingclassifier__max_depth=1, gradientboostingclassifier__n_estimators=1003; total time=   4.0s\n",
      "[CV] END gradientboostingclassifier__learning_rate=0.001, gradientboostingclassifier__max_depth=1, gradientboostingclassifier__n_estimators=1003; total time=   3.8s\n",
      "[CV] END gradientboostingclassifier__learning_rate=0.001, gradientboostingclassifier__max_depth=1, gradientboostingclassifier__n_estimators=1004; total time=   6.3s\n",
      "[CV] END gradientboostingclassifier__learning_rate=0.001, gradientboostingclassifier__max_depth=1, gradientboostingclassifier__n_estimators=1004; total time=   6.7s\n",
      "[CV] END gradientboostingclassifier__learning_rate=0.001, gradientboostingclassifier__max_depth=1, gradientboostingclassifier__n_estimators=1004; total time=   4.0s\n",
      "[CV] END gradientboostingclassifier__learning_rate=0.001, gradientboostingclassifier__max_depth=1, gradientboostingclassifier__n_estimators=1004; total time=   4.1s\n",
      "[CV] END gradientboostingclassifier__learning_rate=0.001, gradientboostingclassifier__max_depth=1, gradientboostingclassifier__n_estimators=1004; total time=   4.1s\n",
      "[CV] END gradientboostingclassifier__learning_rate=0.001, gradientboostingclassifier__max_depth=1, gradientboostingclassifier__n_estimators=1004; total time=   4.2s\n",
      "[CV] END gradientboostingclassifier__learning_rate=0.001, gradientboostingclassifier__max_depth=1, gradientboostingclassifier__n_estimators=1004; total time=   4.3s\n",
      "[CV] END gradientboostingclassifier__learning_rate=0.001, gradientboostingclassifier__max_depth=1, gradientboostingclassifier__n_estimators=1004; total time=   5.6s\n",
      "[CV] END gradientboostingclassifier__learning_rate=0.001, gradientboostingclassifier__max_depth=1, gradientboostingclassifier__n_estimators=1004; total time=   4.6s\n",
      "[CV] END gradientboostingclassifier__learning_rate=0.001, gradientboostingclassifier__max_depth=1, gradientboostingclassifier__n_estimators=1004; total time=   4.4s\n"
     ]
    },
    {
     "name": "stdout",
     "output_type": "stream",
     "text": [
      "[CV] END gradientboostingclassifier__learning_rate=0.001, gradientboostingclassifier__max_depth=1, gradientboostingclassifier__n_estimators=1005; total time=   4.5s\n",
      "[CV] END gradientboostingclassifier__learning_rate=0.001, gradientboostingclassifier__max_depth=1, gradientboostingclassifier__n_estimators=1005; total time=   3.9s\n",
      "[CV] END gradientboostingclassifier__learning_rate=0.001, gradientboostingclassifier__max_depth=1, gradientboostingclassifier__n_estimators=1005; total time=   3.8s\n",
      "[CV] END gradientboostingclassifier__learning_rate=0.001, gradientboostingclassifier__max_depth=1, gradientboostingclassifier__n_estimators=1005; total time=   3.8s\n",
      "[CV] END gradientboostingclassifier__learning_rate=0.001, gradientboostingclassifier__max_depth=1, gradientboostingclassifier__n_estimators=1005; total time=   3.8s\n",
      "[CV] END gradientboostingclassifier__learning_rate=0.001, gradientboostingclassifier__max_depth=1, gradientboostingclassifier__n_estimators=1005; total time=   4.0s\n",
      "[CV] END gradientboostingclassifier__learning_rate=0.001, gradientboostingclassifier__max_depth=1, gradientboostingclassifier__n_estimators=1005; total time=   4.3s\n",
      "[CV] END gradientboostingclassifier__learning_rate=0.001, gradientboostingclassifier__max_depth=1, gradientboostingclassifier__n_estimators=1005; total time=   4.0s\n",
      "[CV] END gradientboostingclassifier__learning_rate=0.001, gradientboostingclassifier__max_depth=1, gradientboostingclassifier__n_estimators=1005; total time=   4.1s\n",
      "[CV] END gradientboostingclassifier__learning_rate=0.001, gradientboostingclassifier__max_depth=1, gradientboostingclassifier__n_estimators=1005; total time=   4.6s\n",
      "[CV] END gradientboostingclassifier__learning_rate=0.001, gradientboostingclassifier__max_depth=1, gradientboostingclassifier__n_estimators=1006; total time=   4.6s\n",
      "[CV] END gradientboostingclassifier__learning_rate=0.001, gradientboostingclassifier__max_depth=1, gradientboostingclassifier__n_estimators=1006; total time=   4.1s\n",
      "[CV] END gradientboostingclassifier__learning_rate=0.001, gradientboostingclassifier__max_depth=1, gradientboostingclassifier__n_estimators=1006; total time=   3.9s\n",
      "[CV] END gradientboostingclassifier__learning_rate=0.001, gradientboostingclassifier__max_depth=1, gradientboostingclassifier__n_estimators=1006; total time=   3.8s\n",
      "[CV] END gradientboostingclassifier__learning_rate=0.001, gradientboostingclassifier__max_depth=1, gradientboostingclassifier__n_estimators=1006; total time=   3.8s\n",
      "[CV] END gradientboostingclassifier__learning_rate=0.001, gradientboostingclassifier__max_depth=1, gradientboostingclassifier__n_estimators=1006; total time=   3.8s\n",
      "[CV] END gradientboostingclassifier__learning_rate=0.001, gradientboostingclassifier__max_depth=1, gradientboostingclassifier__n_estimators=1006; total time=   3.8s\n",
      "[CV] END gradientboostingclassifier__learning_rate=0.001, gradientboostingclassifier__max_depth=1, gradientboostingclassifier__n_estimators=1006; total time=   3.9s\n",
      "[CV] END gradientboostingclassifier__learning_rate=0.001, gradientboostingclassifier__max_depth=1, gradientboostingclassifier__n_estimators=1006; total time=   3.7s\n",
      "[CV] END gradientboostingclassifier__learning_rate=0.001, gradientboostingclassifier__max_depth=1, gradientboostingclassifier__n_estimators=1006; total time=   3.8s\n",
      "[CV] END gradientboostingclassifier__learning_rate=0.001, gradientboostingclassifier__max_depth=1, gradientboostingclassifier__n_estimators=1007; total time=   3.7s\n",
      "[CV] END gradientboostingclassifier__learning_rate=0.001, gradientboostingclassifier__max_depth=1, gradientboostingclassifier__n_estimators=1007; total time=   4.1s\n",
      "[CV] END gradientboostingclassifier__learning_rate=0.001, gradientboostingclassifier__max_depth=1, gradientboostingclassifier__n_estimators=1007; total time=   4.3s\n",
      "[CV] END gradientboostingclassifier__learning_rate=0.001, gradientboostingclassifier__max_depth=1, gradientboostingclassifier__n_estimators=1007; total time=   3.8s\n",
      "[CV] END gradientboostingclassifier__learning_rate=0.001, gradientboostingclassifier__max_depth=1, gradientboostingclassifier__n_estimators=1007; total time=   3.9s\n",
      "[CV] END gradientboostingclassifier__learning_rate=0.001, gradientboostingclassifier__max_depth=1, gradientboostingclassifier__n_estimators=1007; total time=   3.8s\n",
      "[CV] END gradientboostingclassifier__learning_rate=0.001, gradientboostingclassifier__max_depth=1, gradientboostingclassifier__n_estimators=1007; total time=   4.2s\n",
      "[CV] END gradientboostingclassifier__learning_rate=0.001, gradientboostingclassifier__max_depth=1, gradientboostingclassifier__n_estimators=1007; total time=   3.9s\n",
      "[CV] END gradientboostingclassifier__learning_rate=0.001, gradientboostingclassifier__max_depth=1, gradientboostingclassifier__n_estimators=1007; total time=   3.7s\n",
      "[CV] END gradientboostingclassifier__learning_rate=0.001, gradientboostingclassifier__max_depth=1, gradientboostingclassifier__n_estimators=1007; total time=   3.8s\n",
      "[CV] END gradientboostingclassifier__learning_rate=0.001, gradientboostingclassifier__max_depth=1, gradientboostingclassifier__n_estimators=1008; total time=   3.9s\n",
      "[CV] END gradientboostingclassifier__learning_rate=0.001, gradientboostingclassifier__max_depth=1, gradientboostingclassifier__n_estimators=1008; total time=   3.8s\n",
      "[CV] END gradientboostingclassifier__learning_rate=0.001, gradientboostingclassifier__max_depth=1, gradientboostingclassifier__n_estimators=1008; total time=   3.8s\n",
      "[CV] END gradientboostingclassifier__learning_rate=0.001, gradientboostingclassifier__max_depth=1, gradientboostingclassifier__n_estimators=1008; total time=   3.8s\n",
      "[CV] END gradientboostingclassifier__learning_rate=0.001, gradientboostingclassifier__max_depth=1, gradientboostingclassifier__n_estimators=1008; total time=   3.8s\n",
      "[CV] END gradientboostingclassifier__learning_rate=0.001, gradientboostingclassifier__max_depth=1, gradientboostingclassifier__n_estimators=1008; total time=   3.7s\n",
      "[CV] END gradientboostingclassifier__learning_rate=0.001, gradientboostingclassifier__max_depth=1, gradientboostingclassifier__n_estimators=1008; total time=   3.7s\n",
      "[CV] END gradientboostingclassifier__learning_rate=0.001, gradientboostingclassifier__max_depth=1, gradientboostingclassifier__n_estimators=1008; total time=   3.8s\n",
      "[CV] END gradientboostingclassifier__learning_rate=0.001, gradientboostingclassifier__max_depth=1, gradientboostingclassifier__n_estimators=1008; total time=   3.9s\n",
      "[CV] END gradientboostingclassifier__learning_rate=0.001, gradientboostingclassifier__max_depth=1, gradientboostingclassifier__n_estimators=1008; total time=   3.7s\n",
      "[CV] END gradientboostingclassifier__learning_rate=0.001, gradientboostingclassifier__max_depth=1, gradientboostingclassifier__n_estimators=1009; total time=   3.8s\n",
      "[CV] END gradientboostingclassifier__learning_rate=0.001, gradientboostingclassifier__max_depth=1, gradientboostingclassifier__n_estimators=1009; total time=   3.7s\n",
      "[CV] END gradientboostingclassifier__learning_rate=0.001, gradientboostingclassifier__max_depth=1, gradientboostingclassifier__n_estimators=1009; total time=   3.9s\n",
      "[CV] END gradientboostingclassifier__learning_rate=0.001, gradientboostingclassifier__max_depth=1, gradientboostingclassifier__n_estimators=1009; total time=   3.8s\n",
      "[CV] END gradientboostingclassifier__learning_rate=0.001, gradientboostingclassifier__max_depth=1, gradientboostingclassifier__n_estimators=1009; total time=   3.8s\n",
      "[CV] END gradientboostingclassifier__learning_rate=0.001, gradientboostingclassifier__max_depth=1, gradientboostingclassifier__n_estimators=1009; total time=   3.9s\n",
      "[CV] END gradientboostingclassifier__learning_rate=0.001, gradientboostingclassifier__max_depth=1, gradientboostingclassifier__n_estimators=1009; total time=   3.8s\n",
      "[CV] END gradientboostingclassifier__learning_rate=0.001, gradientboostingclassifier__max_depth=1, gradientboostingclassifier__n_estimators=1009; total time=   3.7s\n",
      "[CV] END gradientboostingclassifier__learning_rate=0.001, gradientboostingclassifier__max_depth=1, gradientboostingclassifier__n_estimators=1009; total time=   3.7s\n",
      "[CV] END gradientboostingclassifier__learning_rate=0.001, gradientboostingclassifier__max_depth=1, gradientboostingclassifier__n_estimators=1009; total time=   3.7s\n"
     ]
    },
    {
     "name": "stdout",
     "output_type": "stream",
     "text": [
      "[CV] END gradientboostingclassifier__learning_rate=0.001, gradientboostingclassifier__max_depth=1, gradientboostingclassifier__n_estimators=1010; total time=   3.9s\n",
      "[CV] END gradientboostingclassifier__learning_rate=0.001, gradientboostingclassifier__max_depth=1, gradientboostingclassifier__n_estimators=1010; total time=   3.7s\n",
      "[CV] END gradientboostingclassifier__learning_rate=0.001, gradientboostingclassifier__max_depth=1, gradientboostingclassifier__n_estimators=1010; total time=   3.7s\n",
      "[CV] END gradientboostingclassifier__learning_rate=0.001, gradientboostingclassifier__max_depth=1, gradientboostingclassifier__n_estimators=1010; total time=   3.9s\n",
      "[CV] END gradientboostingclassifier__learning_rate=0.001, gradientboostingclassifier__max_depth=1, gradientboostingclassifier__n_estimators=1010; total time=   3.7s\n",
      "[CV] END gradientboostingclassifier__learning_rate=0.001, gradientboostingclassifier__max_depth=1, gradientboostingclassifier__n_estimators=1010; total time=   3.7s\n",
      "[CV] END gradientboostingclassifier__learning_rate=0.001, gradientboostingclassifier__max_depth=1, gradientboostingclassifier__n_estimators=1010; total time=   3.7s\n",
      "[CV] END gradientboostingclassifier__learning_rate=0.001, gradientboostingclassifier__max_depth=1, gradientboostingclassifier__n_estimators=1010; total time=   3.9s\n",
      "[CV] END gradientboostingclassifier__learning_rate=0.001, gradientboostingclassifier__max_depth=1, gradientboostingclassifier__n_estimators=1010; total time=   4.3s\n",
      "[CV] END gradientboostingclassifier__learning_rate=0.001, gradientboostingclassifier__max_depth=1, gradientboostingclassifier__n_estimators=1010; total time=   3.7s\n",
      "[INFO] best score is 0.76 using {'gradientboostingclassifier__learning_rate': 0.001, 'gradientboostingclassifier__max_depth': 1, 'gradientboostingclassifier__n_estimators': 1000}\n"
     ]
    }
   ],
   "source": [
    "\n",
    "# define hyperparameter search space\n",
    "learning_rate = [0.1,0.01, pow(10,-3), pow(10,-4), pow(10,-5), pow(10,-6)] \n",
    "max_depth = [1,2,3,4,5,6,7,8]\n",
    "n_estimators = range(1,5002, 1000)\n",
    "\n",
    "# create dictionary from search space\n",
    "grid = dict(\n",
    "    gradientboostingclassifier__max_depth=max_depth,\n",
    "    gradientboostingclassifier__learning_rate=learning_rate,\n",
    "    gradientboostingclassifier__n_estimators=n_estimators,\n",
    ")\n",
    "\n",
    "# create 10-fold cross validation generator\n",
    "cv = KFold(n_splits=10, shuffle=True, random_state = 23)\n",
    "\n",
    "# create imbalanced learn pipeline\n",
    "imba_pipeline = make_pipeline(NearMiss(version=1), GradientBoostingClassifier(max_depth=3, \n",
    "                                                                                 learning_rate = 0.1,\n",
    "                                          n_estimators= 123 ,random_state=23))\n",
    "#cross_val_score(imba_pipeline, X_train, y_train, scoring='roc_auc', cv=cv)\n",
    "                              \n",
    "\n",
    "# create random searcher with 10-fold cv and start tuning process\n",
    "model_grid = GridSearchCV(estimator=imba_pipeline, param_grid=grid, cv=cv, verbose=2, scoring='roc_auc')\n",
    "grid_res = model_grid.fit(train_features, train_targets)\n",
    "\n",
    "# summarise grid search info\n",
    "bestScore = grid_res.best_score_\n",
    "bestParams = grid_res.best_params_\n",
    "print(\"[INFO] best score is {:.2f} using {}\".format(bestScore,\n",
    "    bestParams))"
   ]
  },
  {
   "cell_type": "code",
   "execution_count": 32,
   "id": "ec578156",
   "metadata": {
    "colab": {
     "base_uri": "https://localhost:8080/",
     "height": 545
    },
    "executionInfo": {
     "elapsed": 604,
     "status": "ok",
     "timestamp": 1649459016474,
     "user": {
      "displayName": "Skrt skrt",
      "userId": "02708380880722235013"
     },
     "user_tz": -120
    },
    "id": "ec578156",
    "outputId": "3989d6aa-6cdb-42b8-821b-864c3efc459e"
   },
   "outputs": [
    {
     "data": {
      "text/plain": [
       "((32950, 19), (7424, 19))"
      ]
     },
     "execution_count": 32,
     "metadata": {},
     "output_type": "execute_result"
    }
   ],
   "source": [
    "# underfit training data using nearmiss 1\n",
    "nm = NearMiss(version = 1)\n",
    "x_res, y_res = nm.fit_resample(train_features, train_targets)\n",
    "train_features.shape,x_res.shape"
   ]
  },
  {
   "cell_type": "code",
   "execution_count": 33,
   "id": "35506aa6",
   "metadata": {
    "id": "35506aa6"
   },
   "outputs": [],
   "source": [
    "#Now we set our n_estimator and learning_rate to the optimal value found in the last grid search\n",
    "learningRate = 0.001\n",
    "nEstimator = 1000\n",
    "maximumDepth = 1"
   ]
  },
  {
   "cell_type": "code",
   "execution_count": 34,
   "id": "d3f30183",
   "metadata": {
    "colab": {
     "base_uri": "https://localhost:8080/",
     "height": 425
    },
    "executionInfo": {
     "elapsed": 161698,
     "status": "error",
     "timestamp": 1649452518515,
     "user": {
      "displayName": "Skrt skrt",
      "userId": "02708380880722235013"
     },
     "user_tz": -120
    },
    "id": "d3f30183",
    "outputId": "db516d3d-58f9-41af-b011-4fc65c0e2f02"
   },
   "outputs": [
    {
     "name": "stdout",
     "output_type": "stream",
     "text": [
      "Learning rate: 0.100000, train: 0.860, test: 0.624\n",
      "Learning rate: 0.010000, train: 0.817, test: 0.658\n",
      "Learning rate: 0.001000, train: 0.794, test: 0.691\n",
      "Learning rate: 0.000100, train: 0.794, test: 0.691\n",
      "Learning rate: 0.000010, train: 0.794, test: 0.691\n",
      "Learning rate: 0.000001, train: 0.794, test: 0.691\n"
     ]
    },
    {
     "data": {
      "image/png": "[encoded data removed]",
      "text/plain": [
       "<Figure size 432x288 with 1 Axes>"
      ]
     },
     "metadata": {
      "needs_background": "light"
     },
     "output_type": "display_data"
    }
   ],
   "source": [
    "#Check for overfitting with learning_rate\n",
    "# define lists to collect scores\n",
    "train_scores, test_scores = list(), list()\n",
    "\n",
    "# define the estimators to evaluate\n",
    "values = [0.1, 0.01, pow(10,-3), pow(10,-4), pow(10,-5), pow(10,-6)]\n",
    "# evaluate a decision tree for estimator\n",
    "for i in values:\n",
    "    # configure the model\n",
    "    model = GradientBoostingClassifier(max_depth=maximumDepth, learning_rate = i, n_estimators=nEstimator, random_state=23).fit(\n",
    "        x_res, y_res)\n",
    "    # evaluate on the train dataset\n",
    "    schatting = model.predict(x_res)\n",
    "    train_acc = roc_auc_score(y_res, schatting)\n",
    "    train_scores.append(train_acc)\n",
    "    # evaluate on the test dataset\n",
    "    test_schatting = model.predict(test_features)\n",
    "    test_acc = roc_auc_score(test_targets, test_schatting)\n",
    "    test_scores.append(test_acc)\n",
    "    # summarize progress\n",
    "    print('Learning rate: %.6f, train: %.3f, test: %.3f' % (i, train_acc, test_acc))\n",
    "# plot of train and test scores vs n_estimator\n",
    "pyplot.plot(values, train_scores, '-o', label='Train')\n",
    "pyplot.plot(values, test_scores, '-o', label='Test')\n",
    "pyplot.legend()\n",
    "pyplot.show()\n"
   ]
  },
  {
   "cell_type": "code",
   "execution_count": 35,
   "id": "66313d10",
   "metadata": {
    "id": "66313d10",
    "outputId": "2e3f98ff-855d-4bbd-d3bb-7a44d67f2189",
    "scrolled": true
   },
   "outputs": [
    {
     "name": "stdout",
     "output_type": "stream",
     "text": [
      "n_estimator: 1, train: 0.794, test: 0.691\n",
      "n_estimator: 1001, train: 0.794, test: 0.691\n",
      "n_estimator: 2001, train: 0.793, test: 0.690\n",
      "n_estimator: 3001, train: 0.793, test: 0.690\n",
      "n_estimator: 4001, train: 0.800, test: 0.675\n",
      "n_estimator: 5001, train: 0.811, test: 0.678\n"
     ]
    },
    {
     "data": {
      "image/png": "[encoded data removed]",
      "text/plain": [
       "<Figure size 432x288 with 1 Axes>"
      ]
     },
     "metadata": {
      "needs_background": "light"
     },
     "output_type": "display_data"
    }
   ],
   "source": [
    "# define lists to collect scores\n",
    "train_scores, test_scores = list(), list()\n",
    "\n",
    "# define the estimators to evaluate\n",
    "values = [i for i in range(1, 6001, 1000)]\n",
    "# evaluate a decision tree for estimator\n",
    "for i in values:\n",
    "    # configure the model\n",
    "    model = GradientBoostingClassifier(max_depth=maximumDepth, learning_rate = learningRate, n_estimators=i, random_state=23).fit(\n",
    "        x_res, y_res)\n",
    "    # evaluate on the train dataset\n",
    "    schatting = model.predict(x_res)\n",
    "    train_acc = roc_auc_score(y_res, schatting)\n",
    "    train_scores.append(train_acc)\n",
    "    # evaluate on the test dataset\n",
    "    test_schatting = model.predict(test_features)\n",
    "    test_acc = roc_auc_score(test_targets, test_schatting)\n",
    "    test_scores.append(test_acc)\n",
    "    # summarize progress\n",
    "    print('n_estimator: %.0f, train: %.3f, test: %.3f' % (i, train_acc, test_acc))\n",
    "# plot of train and test scores vs n_estimator\n",
    "pyplot.plot(values, train_scores, '-o', label='Train')\n",
    "pyplot.plot(values, test_scores, '-o', label='Test')\n",
    "pyplot.legend()\n",
    "pyplot.show()"
   ]
  },
  {
   "cell_type": "code",
   "execution_count": 36,
   "id": "4bf6de10",
   "metadata": {
    "id": "4bf6de10",
    "outputId": "f2124676-8e40-4734-84ce-3046728fb586"
   },
   "outputs": [
    {
     "name": "stdout",
     "output_type": "stream",
     "text": [
      "tree depth: 1, train: 0.794, test: 0.691\n",
      "tree depth: 2, train: 0.799, test: 0.677\n",
      "tree depth: 3, train: 0.820, test: 0.646\n",
      "tree depth: 4, train: 0.847, test: 0.635\n",
      "tree depth: 5, train: 0.861, test: 0.623\n",
      "tree depth: 6, train: 0.872, test: 0.620\n",
      "tree depth: 7, train: 0.886, test: 0.610\n",
      "tree depth: 8, train: 0.894, test: 0.600\n"
     ]
    },
    {
     "data": {
      "image/png": "[encoded data removed]",
      "text/plain": [
       "<Figure size 432x288 with 1 Axes>"
      ]
     },
     "metadata": {
      "needs_background": "light"
     },
     "output_type": "display_data"
    }
   ],
   "source": [
    "# define lists to collect scores\n",
    "train_scores, test_scores = list(), list()\n",
    "\n",
    "# define the estimators to evaluate\n",
    "values = [1,2,3,4,5,6,7,8]\n",
    "# evaluate a decision tree for estimator\n",
    "for i in values:\n",
    "    # configure the model\n",
    "    model = GradientBoostingClassifier(max_depth=i, learning_rate = learningRate, n_estimators=nEstimator, random_state=23).fit(\n",
    "        x_res, y_res)\n",
    "    # evaluate on the train dataset\n",
    "    schatting = model.predict(x_res)\n",
    "    train_acc = roc_auc_score(y_res, schatting)\n",
    "    train_scores.append(train_acc)\n",
    "    # evaluate on the test dataset\n",
    "    test_schatting = model.predict(test_features)\n",
    "    test_acc = roc_auc_score(test_targets, test_schatting)\n",
    "    test_scores.append(test_acc)\n",
    "    # summarize progress\n",
    "    print('tree depth: %.0f, train: %.3f, test: %.3f' % (i, train_acc, test_acc))\n",
    "# plot of train and test scores vs n_estimator\n",
    "pyplot.plot(values, train_scores, '-o', label='Train')\n",
    "pyplot.plot(values, test_scores, '-o', label='Test')\n",
    "pyplot.legend()\n",
    "pyplot.show()"
   ]
  },
  {
   "cell_type": "code",
   "execution_count": 37,
   "id": "d592273a",
   "metadata": {
    "id": "d592273a"
   },
   "outputs": [
    {
     "name": "stdout",
     "output_type": "stream",
     "text": [
      "mean cross validation score: 0.834\n",
      "Confusion Matrix:\n",
      "[[4598 2712]\n",
      " [ 229  699]]\n",
      "Classification Report\n",
      "              precision    recall  f1-score   support\n",
      "\n",
      "           0       0.95      0.63      0.76      7310\n",
      "           1       0.20      0.75      0.32       928\n",
      "\n",
      "    accuracy                           0.64      8238\n",
      "   macro avg       0.58      0.69      0.54      8238\n",
      "weighted avg       0.87      0.64      0.71      8238\n",
      "\n"
     ]
    },
    {
     "data": {
      "image/png": "[encoded data removed]",
      "text/plain": [
       "<Figure size 432x288 with 1 Axes>"
      ]
     },
     "metadata": {
      "needs_background": "light"
     },
     "output_type": "display_data"
    },
    {
     "name": "stdout",
     "output_type": "stream",
     "text": [
      "AUC Score: 0.755\n"
     ]
    }
   ],
   "source": [
    "#Boosting the tree and predicting with ROC curve and classification reports\n",
    "\n",
    "ensemble = GradientBoostingClassifier(max_depth=maximumDepth, learning_rate = learningRate,\n",
    "                                          n_estimators= nEstimator ,random_state=23)\n",
    "    \n",
    "k = 10\n",
    "kf = KFold(n_splits=k, shuffle = True, random_state=23)\n",
    "\n",
    "dt_scores = cross_val_score(ensemble, x_res, y_res, scoring ='roc_auc' ,cv = kf)\n",
    "print(\"mean cross validation score: {}\".format(np.round(np.mean(dt_scores),3)))\n",
    "\n",
    "ensemble.fit(x_res, y_res)\n",
    "predictions = ensemble.predict(test_features)\n",
    "    \n",
    "print(\"Confusion Matrix:\")\n",
    "print(confusion_matrix(test_targets, predictions))\n",
    "\n",
    "print(\"Classification Report\")\n",
    "print(classification_report(test_targets, predictions))\n",
    "    \n",
    "#Beginning the plotting of ROC-curve\n",
    "pred_prob = ensemble.predict_proba(test_features)\n",
    "fpr, tpr, thresh = roc_curve(test_targets, pred_prob[:,1], pos_label=1)\n",
    "    \n",
    "#Plot roc curves\n",
    "plt.plot(fpr, tpr, linestyle='--',color='orange', label='Boosted Trees')\n",
    "\n",
    "# title\n",
    "plt.title('ROC curve')\n",
    "# x label\n",
    "plt.xlabel('False Positive Rate')\n",
    "# y label\n",
    "plt.ylabel('True Positive rate')\n",
    "\n",
    "plt.legend(loc='best')\n",
    "plt.savefig('ROC',dpi=300)\n",
    "plt.show();\n",
    "    \n",
    "#AUC Score\n",
    "auc_score = roc_auc_score(test_targets, pred_prob[:,1])\n",
    "print(\"AUC Score: \" + str(np.round(auc_score , 3)))"
   ]
  },
  {
   "cell_type": "code",
   "execution_count": null,
   "id": "ddcd5a01",
   "metadata": {},
   "outputs": [],
   "source": []
  }
 ],
 "metadata": {
  "colab": {
   "name": "boostedTreesTest copy.ipynb",
   "provenance": []
  },
  "kernelspec": {
   "display_name": "Python 3 (ipykernel)",
   "language": "python",
   "name": "python3"
  },
  "language_info": {
   "codemirror_mode": {
    "name": "ipython",
    "version": 3
   },
   "file_extension": ".py",
   "mimetype": "text/x-python",
   "name": "python",
   "nbconvert_exporter": "python",
   "pygments_lexer": "ipython3",
   "version": "3.9.7"
  }
 },
 "nbformat": 4,
 "nbformat_minor": 5
}
