{
 "cells": [
  {
   "cell_type": "code",
   "execution_count": 1,
   "id": "44a51c94",
   "metadata": {},
   "outputs": [],
   "source": [
    "import numpy as np\n",
    "import pandas as pd\n",
    "from sklearn.metrics import zero_one_loss\n",
    "from sklearn.ensemble import GradientBoostingClassifier\n",
    "from sklearn.model_selection import train_test_split\n",
    "from sklearn.preprocessing import LabelEncoder\n",
    "from sklearn.metrics import log_loss, roc_curve, roc_auc_score\n",
    "from sklearn.metrics import classification_report, confusion_matrix\n",
    "import matplotlib.pyplot as plt\n",
    "from sklearn.model_selection import KFold\n",
    "from sklearn.model_selection import cross_val_score\n",
    "from sklearn.metrics import r2_score\n",
    "from xgboost import XGBClassifier\n",
    "from matplotlib import pyplot\n",
    "from sklearn.metrics import accuracy_score\n",
    "from imblearn.under_sampling import NearMiss\n",
    "from collections import Counter\n",
    "from sklearn.model_selection import GridSearchCV"
   ]
  },
  {
   "cell_type": "code",
   "execution_count": 2,
   "id": "42f05d96",
   "metadata": {
    "scrolled": true
   },
   "outputs": [
    {
     "name": "stdout",
     "output_type": "stream",
     "text": [
      "           0    1         2         3         4         5         6         7  \\\n",
      "0   -0.29006  0.0 -0.443042 -0.566255 -0.116117  2.067572 -0.316228 -0.178988   \n",
      "1   -0.29006  0.0 -0.443042 -0.566255 -0.116117  2.067572 -0.316228 -0.178988   \n",
      "2   -0.29006  0.0 -0.443042 -0.566255 -0.116117  2.067572 -0.316228 -0.178988   \n",
      "3   -0.29006  0.0 -0.443042 -0.566255 -0.116117  2.067572 -0.316228 -0.178988   \n",
      "4   -0.29006  0.0 -0.443042 -0.566255 -0.116117  2.067572 -0.316228 -0.178988   \n",
      "..       ...  ...       ...       ...       ...       ...       ...       ...   \n",
      "897 -0.29006  0.0 -0.443042  1.765990 -0.116117 -0.483659 -0.316228 -0.178988   \n",
      "898 -0.29006  0.0 -0.443042 -0.566255 -0.116117 -0.483659 -0.316228 -0.178988   \n",
      "899 -0.29006  0.0 -0.443042 -0.566255 -0.116117 -0.483659 -0.316228 -0.178988   \n",
      "900 -0.29006  0.0 -0.443042 -0.566255 -0.116117 -0.483659 -0.316228 -0.178988   \n",
      "901 -0.29006  0.0 -0.443042 -0.566255 -0.116117 -0.483659 -0.316228 -0.178988   \n",
      "\n",
      "            8         9        10        11        12        13        14  \\\n",
      "0   -0.598693 -0.271679 -0.168838 -0.172280  0.473160 -0.337017 -0.653604   \n",
      "1   -0.598693 -0.271679 -0.168838 -0.172280  0.473160 -0.337017 -0.653604   \n",
      "2   -0.598693 -0.271679 -0.168838 -0.172280  0.473160 -0.337017 -0.653604   \n",
      "3   -0.598693 -0.271679 -0.168838 -0.172280  0.473160 -0.337017 -0.653604   \n",
      "4   -0.598693 -0.271679 -0.168838 -0.172280  0.473160 -0.337017 -0.653604   \n",
      "..        ...       ...       ...       ...       ...       ...       ...   \n",
      "897 -0.598693 -0.271679 -0.168838 -0.172280  0.473160 -0.337017  3.304349   \n",
      "898 -0.598693 -0.271679  5.922837 -0.172280 -2.113449 -0.337017  3.948667   \n",
      "899  1.670304 -0.271679 -0.168838 -0.172280  0.473160 -0.337017  2.015713   \n",
      "900 -0.598693 -0.271679 -0.168838  5.804508 -2.113449  2.967212  0.819123   \n",
      "901 -0.598693 -0.271679  5.922837 -0.172280 -2.113449 -0.337017 -1.205877   \n",
      "\n",
      "           15        16        17        18        19  \n",
      "0   -0.389335  0.967653  0.948899  0.941117  0.022108  \n",
      "1   -0.389335  0.967653  0.948899  0.941117  0.022108  \n",
      "2   -0.389335  0.967653  0.948899  0.941117  0.022108  \n",
      "3   -0.389335  0.967653  0.948899  0.941117  0.022108  \n",
      "4   -0.389335  0.967653  0.948899  0.941117  0.022108  \n",
      "..        ...       ...       ...       ...       ...  \n",
      "897 -0.389335 -1.515403 -1.202809 -0.758244  0.007369  \n",
      "898  2.212001 -0.475984 -1.117976 -2.017942  0.044216  \n",
      "899 -0.389335 -0.880203 -0.940980 -0.502054  0.051585  \n",
      "900  2.212001 -1.804131 -1.246272 -1.414943  0.029477  \n",
      "901  0.911333 -1.804131 -1.263029 -1.414943  0.044216  \n",
      "\n",
      "[902 rows x 20 columns]\n"
     ]
    }
   ],
   "source": [
    "#Reading the file and splitting our target column\n",
    "df = pd.read_csv (r'bank-additional\\bank-additional-clusters.csv')   \n",
    "\n",
    "#categories_filter = ['job','marital','education','default','housing','loan','contact','month','day_of_week','poutcome']\n",
    "\n",
    "#for x in categories_filter:\n",
    "#    df.drop(df.index[df[x] == 'unknown'], inplace=True)\n",
    "\n",
    "features = df.iloc[:, 0:20]\n",
    "tussen = df.iloc[:, 20]\n",
    "target = tussen.copy()\n",
    "y = pd.get_dummies(target, drop_first=True)\n",
    "df.drop(df.columns[len(df.columns)-1], axis=1, inplace=True)\n",
    "\n",
    "print(features)\n",
    "#print(y)\n",
    "#print(df)"
   ]
  },
  {
   "cell_type": "code",
   "execution_count": 3,
   "id": "d7e24264",
   "metadata": {},
   "outputs": [],
   "source": [
    "#Boosting the tree and predicting with ROC curve and classification reports\n",
    "def gradient_boosted_tree(features, targets):\n",
    "    train_features, test_features, train_targets, test_targets = train_test_split(features, y.values.ravel(), test_size=0.2,\n",
    "                                                                                  random_state=23)\n",
    "    ensemble = GradientBoostingClassifier(max_depth=1, n_estimators=3243 ,random_state=23)\n",
    "    \n",
    "    k = 10\n",
    "    kf = KFold(n_splits=k, shuffle = True)\n",
    "\n",
    "    \n",
    "    dt_scores = cross_val_score(ensemble, train_features, train_targets, scoring ='roc_auc' ,cv = kf)\n",
    "    dt_scores1 = cross_val_score(ensemble, train_features, train_targets, scoring ='accuracy' ,cv = kf)\n",
    "    print(\"mean cross validation score: {}\".format(np.round(np.mean(dt_scores),3)))\n",
    "    print(\"mean accuracy: {}\".format(np.round(np.mean(dt_scores1),3)))\n",
    "\n",
    "    ensemble.fit(train_features, train_targets)\n",
    "    predictions = ensemble.predict(test_features)\n",
    "    \n",
    "    print(\"Confusion Matrix:\")\n",
    "    print(confusion_matrix(test_targets, predictions))\n",
    "\n",
    "    print(\"Classification Report\")\n",
    "    print(classification_report(test_targets, predictions))\n",
    "    \n",
    "    #Beginning the plotting of ROC-curve\n",
    "    pred_prob = ensemble.predict_proba(test_features)\n",
    "    fpr, tpr, thresh = roc_curve(test_targets, pred_prob[:,1], pos_label=1)\n",
    "    \n",
    "    #Plot roc curves\n",
    "    plt.plot(fpr, tpr, linestyle='--',color='orange', label='Boosted Trees')\n",
    "\n",
    "    # title\n",
    "    plt.title('ROC curve')\n",
    "    # x label\n",
    "    plt.xlabel('False Positive Rate')\n",
    "    # y label\n",
    "    plt.ylabel('True Positive rate')\n",
    "\n",
    "    plt.legend(loc='best')\n",
    "    plt.savefig('ROC',dpi=300)\n",
    "    plt.show();\n",
    "    \n",
    "    #AUC Score\n",
    "    auc_score = roc_auc_score(test_targets, pred_prob[:,1])\n",
    "    print(\"AUC Score: \" + str(np.round(auc_score , 3)))\n",
    "    \n",
    "    #Log-loss function\n",
    "    print(\"Log-Loss: \" + str(np.round(log_loss(test_targets, predictions),3)))"
   ]
  },
  {
   "cell_type": "code",
   "execution_count": 4,
   "id": "d5215482",
   "metadata": {},
   "outputs": [
    {
     "name": "stdout",
     "output_type": "stream",
     "text": [
      "mean cross validation score: 0.901\n",
      "mean accuracy: 0.849\n",
      "Confusion Matrix:\n",
      "[[93  3]\n",
      " [14 71]]\n",
      "Classification Report\n",
      "              precision    recall  f1-score   support\n",
      "\n",
      "           0       0.87      0.97      0.92        96\n",
      "           1       0.96      0.84      0.89        85\n",
      "\n",
      "    accuracy                           0.91       181\n",
      "   macro avg       0.91      0.90      0.90       181\n",
      "weighted avg       0.91      0.91      0.91       181\n",
      "\n"
     ]
    },
    {
     "data": {
      "image/png": "[encoded data removed]",
      "text/plain": [
       "<Figure size 432x288 with 1 Axes>"
      ]
     },
     "metadata": {
      "needs_background": "light"
     },
     "output_type": "display_data"
    },
    {
     "name": "stdout",
     "output_type": "stream",
     "text": [
      "AUC Score: 0.93\n",
      "Log-Loss: 3.244\n"
     ]
    }
   ],
   "source": [
    "gradient_boosted_tree(features, y.values.ravel())"
   ]
  },
  {
   "cell_type": "code",
   "execution_count": 5,
   "id": "72bffc83",
   "metadata": {},
   "outputs": [
    {
     "name": "stdout",
     "output_type": "stream",
     "text": [
      "Fitting 5 folds for each of 10 candidates, totalling 50 fits\n",
      "[CV] END ..................................n_estimators=3240; total time=   0.9s\n",
      "[CV] END ..................................n_estimators=3240; total time=   1.0s\n",
      "[CV] END ..................................n_estimators=3240; total time=   1.0s\n",
      "[CV] END ..................................n_estimators=3240; total time=   1.0s\n",
      "[CV] END ..................................n_estimators=3240; total time=   1.0s\n",
      "[CV] END ..................................n_estimators=3241; total time=   0.9s\n",
      "[CV] END ..................................n_estimators=3241; total time=   0.9s\n",
      "[CV] END ..................................n_estimators=3241; total time=   0.9s\n",
      "[CV] END ..................................n_estimators=3241; total time=   1.0s\n",
      "[CV] END ..................................n_estimators=3241; total time=   0.9s\n",
      "[CV] END ..................................n_estimators=3242; total time=   0.9s\n",
      "[CV] END ..................................n_estimators=3242; total time=   0.9s\n",
      "[CV] END ..................................n_estimators=3242; total time=   0.9s\n",
      "[CV] END ..................................n_estimators=3242; total time=   1.0s\n",
      "[CV] END ..................................n_estimators=3242; total time=   1.0s\n",
      "[CV] END ..................................n_estimators=3243; total time=   0.9s\n",
      "[CV] END ..................................n_estimators=3243; total time=   1.0s\n",
      "[CV] END ..................................n_estimators=3243; total time=   0.9s\n",
      "[CV] END ..................................n_estimators=3243; total time=   1.0s\n",
      "[CV] END ..................................n_estimators=3243; total time=   1.0s\n",
      "[CV] END ..................................n_estimators=3244; total time=   0.9s\n",
      "[CV] END ..................................n_estimators=3244; total time=   1.0s\n",
      "[CV] END ..................................n_estimators=3244; total time=   1.0s\n",
      "[CV] END ..................................n_estimators=3244; total time=   1.0s\n",
      "[CV] END ..................................n_estimators=3244; total time=   0.9s\n",
      "[CV] END ..................................n_estimators=3245; total time=   1.0s\n",
      "[CV] END ..................................n_estimators=3245; total time=   1.0s\n",
      "[CV] END ..................................n_estimators=3245; total time=   0.9s\n",
      "[CV] END ..................................n_estimators=3245; total time=   0.9s\n",
      "[CV] END ..................................n_estimators=3245; total time=   0.9s\n",
      "[CV] END ..................................n_estimators=3246; total time=   0.9s\n",
      "[CV] END ..................................n_estimators=3246; total time=   0.9s\n",
      "[CV] END ..................................n_estimators=3246; total time=   0.9s\n",
      "[CV] END ..................................n_estimators=3246; total time=   0.9s\n",
      "[CV] END ..................................n_estimators=3246; total time=   0.9s\n",
      "[CV] END ..................................n_estimators=3247; total time=   0.9s\n",
      "[CV] END ..................................n_estimators=3247; total time=   1.0s\n",
      "[CV] END ..................................n_estimators=3247; total time=   0.9s\n",
      "[CV] END ..................................n_estimators=3247; total time=   0.9s\n",
      "[CV] END ..................................n_estimators=3247; total time=   1.0s\n",
      "[CV] END ..................................n_estimators=3248; total time=   0.9s\n",
      "[CV] END ..................................n_estimators=3248; total time=   0.9s\n",
      "[CV] END ..................................n_estimators=3248; total time=   0.9s\n",
      "[CV] END ..................................n_estimators=3248; total time=   1.0s\n",
      "[CV] END ..................................n_estimators=3248; total time=   0.9s\n",
      "[CV] END ..................................n_estimators=3249; total time=   1.0s\n",
      "[CV] END ..................................n_estimators=3249; total time=   0.9s\n",
      "[CV] END ..................................n_estimators=3249; total time=   1.0s\n",
      "[CV] END ..................................n_estimators=3249; total time=   1.0s\n",
      "[CV] END ..................................n_estimators=3249; total time=   1.0s\n",
      "GradientBoostingClassifier(max_depth=1, n_estimators=3243, random_state=23)\n",
      "[[93  3]\n",
      " [14 71]]\n",
      "              precision    recall  f1-score   support\n",
      "\n",
      "           0       0.87      0.97      0.92        96\n",
      "           1       0.96      0.84      0.89        85\n",
      "\n",
      "    accuracy                           0.91       181\n",
      "   macro avg       0.91      0.90      0.90       181\n",
      "weighted avg       0.91      0.91      0.91       181\n",
      "\n"
     ]
    }
   ],
   "source": [
    "train_features, test_features, train_targets, test_targets = train_test_split(features, y.values.ravel(), test_size=0.2,\n",
    "                                                                                  random_state=23)\n",
    "ensemble = GradientBoostingClassifier(max_depth=1, n_estimators=1000 ,random_state=23).fit(\n",
    "        train_features, train_targets)\n",
    "param_grid = {'n_estimators': range(3240,3250,1)}\n",
    "grid = GridSearchCV(ensemble,param_grid,refit=True,verbose=2)\n",
    "grid.fit(train_features,train_targets)\n",
    "print(grid.best_estimator_)\n",
    "\n",
    "grid_predictions = grid.predict(test_features)\n",
    "print(confusion_matrix(test_targets,grid_predictions))\n",
    "print(classification_report(test_targets,grid_predictions))"
   ]
  },
  {
   "cell_type": "code",
   "execution_count": 6,
   "id": "df8d82b8",
   "metadata": {},
   "outputs": [
    {
     "name": "stdout",
     "output_type": "stream",
     "text": [
      ">1, train: 0.881, test: 0.895\n",
      ">2, train: 0.938, test: 0.901\n",
      ">3, train: 0.953, test: 0.873\n",
      ">4, train: 0.953, test: 0.884\n",
      ">5, train: 0.953, test: 0.873\n",
      ">6, train: 0.953, test: 0.867\n",
      ">7, train: 0.953, test: 0.878\n",
      ">8, train: 0.953, test: 0.878\n",
      ">9, train: 0.953, test: 0.878\n",
      ">10, train: 0.953, test: 0.884\n"
     ]
    },
    {
     "data": {
      "image/png": "[encoded data removed]",
      "text/plain": [
       "<Figure size 432x288 with 1 Axes>"
      ]
     },
     "metadata": {
      "needs_background": "light"
     },
     "output_type": "display_data"
    }
   ],
   "source": [
    "train_features, test_features, train_targets, test_targets = train_test_split(features, y.values.ravel(), test_size=0.2,\n",
    "                                                                                  random_state=23)\n",
    "# define lists to collect scores\n",
    "train_scores, test_scores = list(), list()\n",
    "# define the tree depths to evaluate\n",
    "values = [i for i in range(1, 11)]\n",
    "# evaluate a decision tree for each depth\n",
    "for i in values:\n",
    "\t# configure the model\n",
    "\tmodel = GradientBoostingClassifier(max_depth=i, n_estimators=1000, random_state=23).fit(\n",
    "        train_features, train_targets)\n",
    "\t# evaluate on the train dataset\n",
    "\tschatting = model.predict(train_features)\n",
    "\ttrain_acc = accuracy_score(train_targets, schatting)\n",
    "\ttrain_scores.append(train_acc)\n",
    "\t# evaluate on the test dataset\n",
    "\ttest_schatting = model.predict(test_features)\n",
    "\ttest_acc = accuracy_score(test_targets, test_schatting)\n",
    "\ttest_scores.append(test_acc)\n",
    "\t# summarize progress\n",
    "\tprint('>%d, train: %.3f, test: %.3f' % (i, train_acc, test_acc))\n",
    "# plot of train and test scores vs tree depth\n",
    "pyplot.plot(values, train_scores, '-o', label='Train')\n",
    "pyplot.plot(values, test_scores, '-o', label='Test')\n",
    "pyplot.legend()\n",
    "pyplot.show()"
   ]
  }
 ],
 "metadata": {
  "kernelspec": {
   "display_name": "Python 3 (ipykernel)",
   "language": "python",
   "name": "python3"
  },
  "language_info": {
   "codemirror_mode": {
    "name": "ipython",
    "version": 3
   },
   "file_extension": ".py",
   "mimetype": "text/x-python",
   "name": "python",
   "nbconvert_exporter": "python",
   "pygments_lexer": "ipython3",
   "version": "3.7.11"
  }
 },
 "nbformat": 4,
 "nbformat_minor": 5
}
