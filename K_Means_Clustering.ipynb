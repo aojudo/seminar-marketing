{
 "cells": [
  {
   "cell_type": "code",
   "execution_count": 1,
   "id": "23a67587",
   "metadata": {},
   "outputs": [],
   "source": [
    "import numpy as np\n",
    "import pandas as pd\n",
    "from matplotlib import pyplot as plt\n",
    "from sklearn.cluster import KMeans\n",
    "\n",
    "from sklearn.model_selection import train_test_split\n",
    "from sklearn.preprocessing import StandardScaler, LabelEncoder\n",
    "from sklearn.ensemble import RandomForestClassifier, GradientBoostingClassifier\n",
    "from sklearn.metrics import confusion_matrix, classification_report, r2_score, accuracy_score, roc_curve, auc, ConfusionMatrixDisplay, zero_one_loss, log_loss, roc_auc_score\n",
    "from sklearn.model_selection import GridSearchCV, train_test_split, KFold, cross_val_score\n",
    "import matplotlib.pyplot as plt\n",
    "import seaborn as sns\n",
    "from prettytable import PrettyTable\n",
    "%matplotlib inline\n",
    "import warnings\n",
    "warnings.filterwarnings(\"ignore\")\n",
    "\n",
    "import matplotlib.pyplot as plt\n",
    "from kneed import KneeLocator\n",
    "from sklearn.cluster import KMeans\n",
    "from sklearn.metrics import silhouette_score\n",
    "\n",
    "from imblearn.under_sampling import NearMiss\n",
    "from collections import Counter\n",
    "\n",
    "from sklearn.datasets import load_breast_cancer\n",
    "from sklearn.model_selection import train_test_split\n",
    "from sklearn.preprocessing import StandardScaler, LabelEncoder\n",
    "from sklearn.ensemble import RandomForestClassifier, GradientBoostingClassifier\n",
    "from sklearn.metrics import confusion_matrix, classification_report, r2_score, accuracy_score, roc_curve, auc, ConfusionMatrixDisplay, zero_one_loss, log_loss, roc_auc_score\n",
    "\n",
    "from matplotlib import pyplot\n",
    "from imblearn.under_sampling import NearMiss\n",
    "from collections import Counter\n",
    "\n",
    "import sys\n",
    "import pandas as pd\n",
    "import time\n",
    "import random\n",
    "from scipy.stats import uniform, truncnorm, randint\n",
    "from imblearn.under_sampling import NearMiss\n",
    "\n",
    "\n",
    "import numpy as np\n",
    "from numpy import loadtxt\n",
    "from numpy.random import seed\n",
    "\n",
    "from sklearn.preprocessing import StandardScaler, OneHotEncoder\n",
    "from sklearn.compose import make_column_transformer\n",
    "from sklearn.compose import make_column_transformer\n",
    "from sklearn.pipeline import Pipeline\n",
    "from sklearn.model_selection import train_test_split, RandomizedSearchCV, GridSearchCV, KFold\n",
    "\n",
    "import tensorflow as tf\n",
    "from tensorflow import keras\n",
    "from tensorflow.keras import Sequential\n",
    "from tensorflow.keras.layers import Conv2D, Flatten, Dense\n",
    "from tensorflow.keras.optimizers import SGD, Adam\n",
    "from tensorflow.keras.wrappers.scikit_learn import KerasClassifier"
   ]
  },
  {
   "cell_type": "code",
   "execution_count": 2,
   "id": "f3e693a8",
   "metadata": {},
   "outputs": [
    {
     "data": {
      "text/plain": [
       "(902, 19)"
      ]
     },
     "execution_count": 2,
     "metadata": {},
     "output_type": "execute_result"
    }
   ],
   "source": [
    "# function to reset all RNG's to seed 23\n",
    "def reset_random_seeds():\n",
    "   tf.random.set_seed(23) # tensorflow's seed\n",
    "   np.random.seed(23) # numpy's seed\n",
    "   random.seed(23) # python's seed\n",
    "\n",
    "# import data\n",
    "data = pd.read_csv (r'bank-additional\\bank-additional.csv', sep = ';', engine= 'python')\n",
    "#data = data.head(1000)\n",
    "length = data.shape[0]\n",
    "data.head()\n",
    "\n",
    "# select variables\n",
    "cats_to_use = ['age', 'default', 'contact', 'month', 'previous', 'poutcome', 'emp.var.rate', 'euribor3m', 'nr.employed', 'y']\n",
    "data = data[cats_to_use]\n",
    "\n",
    "# 'age', 'job', 'marital', 'education', 'default', 'housing', 'loan',\n",
    "#       'contact', 'month', 'day_of_week', 'duration', 'campaign', 'pdays',\n",
    "#       'previous', 'poutcome', 'emp.var.rate', 'cons.price.idx',\n",
    "#       'cons.conf.idx', 'euribor3m', 'nr.employed', 'y'\n",
    "\n",
    "# save lists of categorical and numerical variables\n",
    "cat_cols = ['default', 'contact', 'month', 'poutcome', 'y']\n",
    "num_cols = ['age', 'previous', 'emp.var.rate', 'euribor3m', 'nr.employed']\n",
    "\n",
    "# create column transformer to 1 one-hot-encode cat vars and 2 noralise num vars\n",
    "ct = make_column_transformer(\n",
    "    (OneHotEncoder(drop='first'), cat_cols), # drop first column (reference)\n",
    "    (StandardScaler(), num_cols),\n",
    ")\n",
    "\n",
    "# transform base table (pandas df -> numpy array)\n",
    "base = ct.fit_transform(data)\n",
    "\n",
    "# convert base table to p.df for ease of use (numpy array -> pandas df)\n",
    "base_temp = pd.DataFrame(base, columns=ct.get_feature_names_out().tolist())\n",
    "base_temp\n",
    "\n",
    "# seperate base table into X and y and convert to numpy array (base pandas df -> y numpy array + X numpy array)\n",
    "y = base_temp['onehotencoder__y_yes'].values\n",
    "X = base_temp.drop(columns=['onehotencoder__y_yes']).values\n",
    "\n",
    "# save and check dimensions of X \n",
    "(X_length, X_vars) = X.shape\n",
    "X_length, X_vars\n",
    "\n",
    "# reset RNG's\n",
    "reset_random_seeds()\n",
    "\n",
    "# undersample data to get 50/50 success ratio using near-miss-1\n",
    "undersample = NearMiss(version=1)\n",
    "X, y = undersample.fit_resample(X, y)\n",
    "\n",
    "(X_length, X_vars) = X.shape\n",
    "X_length, X_vars"
   ]
  },
  {
   "cell_type": "code",
   "execution_count": 3,
   "id": "6a5b9d33",
   "metadata": {},
   "outputs": [],
   "source": [
    "# create train/test split\n",
    "train_features, test_features, train_targets, test_targets = train_test_split(X, y, test_size=0.2, random_state=23)"
   ]
  },
  {
   "cell_type": "code",
   "execution_count": 4,
   "id": "f53a2102",
   "metadata": {},
   "outputs": [
    {
     "name": "stdout",
     "output_type": "stream",
     "text": [
      "(721, 19)\n"
     ]
    }
   ],
   "source": [
    "ss = StandardScaler()\n",
    "X = ss.fit_transform(train_features)\n",
    "X_test_ss = ss.transform(test_features)\n",
    "\n",
    "# niet genormaliseerd\n",
    "# X_train_ss = train_features\n",
    "# X_test_ss = test_features\n",
    "print(X.shape)"
   ]
  },
  {
   "cell_type": "code",
   "execution_count": 5,
   "id": "ce6f2788",
   "metadata": {},
   "outputs": [
    {
     "data": {
      "image/png": "[encoded data removed]",
      "text/plain": [
       "<Figure size 432x288 with 1 Axes>"
      ]
     },
     "metadata": {
      "needs_background": "light"
     },
     "output_type": "display_data"
    }
   ],
   "source": [
    "wcss = []\n",
    "for i in range(1, 20):\n",
    "    kmeans = KMeans(n_clusters=i, init='k-means++', max_iter=300, n_init=10, random_state=0)\n",
    "    kmeans.fit(X)\n",
    "    wcss.append(kmeans.inertia_)\n",
    "plt.plot(range(1, 20), wcss)\n",
    "plt.title('Elbow Method')\n",
    "plt.xlabel('Number of clusters')\n",
    "plt.ylabel('WCSS')\n",
    "plt.show()"
   ]
  },
  {
   "cell_type": "code",
   "execution_count": 6,
   "id": "b954dee0",
   "metadata": {},
   "outputs": [
    {
     "name": "stdout",
     "output_type": "stream",
     "text": [
      "[3 2 3 3 2 0 3 2 5 8 2 2 2 3 3 0 7 1 1 2 2 4 3 2 1 2 2 7 4 4 4 4 2 3 3 2 8\n",
      " 0 0 2 1 4 4 2 2 4 1 0 8 0 2 3 0 7 2 7 1 0 1 3 3 3 1 2 3 4 0 2 3 1 1 8 2 3\n",
      " 3 3 4 0 6 3 0 2 4 1 4 0 2 0 2 3 0 2 7 1 2 4 1 2 7 9 3 3 4 2 4 3 4 2 8 2 0\n",
      " 3 3 4 3 2 0 2 3 7 8 0 3 6 7 4 1 2 3 2 1 4 0 3 0 3 2 2 3 9 0 1 0 3 1 3 2 2\n",
      " 1 0 1 0 2 0 8 2 1 7 3 2 0 2 4 3 1 4 2 8 3 4 3 2 3 2 4 0 2 3 3 1 0 3 3 7 4\n",
      " 3 3 2 4 1 1 4 2 1 1 3 0 3 6 5 3 2 0 0 4 3 1 0 4 3 0 3 1 0 4 2 3 7 1 0 9 0\n",
      " 4 4 3 2 3 8 0 0 2 3 3 0 3 4 8 2 7 3 3 0 0 3 0 1 4 4 1 1 0 4 8 9 5 3 8 2 0\n",
      " 2 0 2 3 0 0 2 1 8 4 9 3 1 3 3 7 4 1 1 0 2 0 3 0 0 2 0 2 2 2 3 3 3 4 2 4 0\n",
      " 4 3 8 6 3 4 9 0 0 0 6 3 3 3 7 2 0 2 7 1 5 4 4 1 2 4 4 3 4 2 2 4 3 2 0 3 0\n",
      " 3 4 1 4 2 4 0 7 0 4 3 8 1 4 3 5 3 1 6 0 2 3 2 5 3 4 1 2 4 1 4 7 7 4 2 0 0\n",
      " 3 1 2 4 3 0 7 2 0 7 0 2 0 5 3 2 3 2 3 0 4 3 1 2 7 0 2 2 0 0 7 3 2 3 0 4 0\n",
      " 3 3 3 7 3 3 0 0 4 3 2 2 3 2 2 0 4 3 3 1 5 3 4 4 2 4 7 0 4 9 5 2 4 3 0 4 4\n",
      " 4 5 3 0 4 5 3 3 2 2 3 2 2 1 4 8 3 4 2 2 2 0 3 9 2 4 2 3 0 4 2 1 2 1 0 3 4\n",
      " 0 2 2 3 1 1 5 4 4 4 1 2 8 2 3 2 3 2 0 2 0 3 1 0 3 3 6 3 9 4 2 2 3 9 1 1 7\n",
      " 3 3 2 1 2 3 3 2 3 1 3 2 3 7 1 3 9 5 5 3 3 0 3 0 3 1 2 4 3 1 2 0 3 2 7 3 3\n",
      " 3 4 0 3 8 4 3 7 9 2 0 2 3 0 3 3 3 4 4 7 7 0 2 3 7 6 3 9 3 2 3 4 2 1 4 3 7\n",
      " 0 8 0 2 9 3 4 9 2 0 8 0 9 3 2 0 7 2 0 9 0 1 4 3 5 0 3 3 4 4 7 0 3 4 7 3 0\n",
      " 1 4 4 8 3 1 4 2 0 3 0 5 4 7 2 3 6 3 5 0 3 3 0 0 3 3 3 7 0 8 7 2 4 0 9 2 3\n",
      " 0 0 7 0 2 3 4 5 2 3 3 1 3 1 2 3 4 7 8 4 3 0 9 1 5 8 2 2 2 3 0 1 0 1 1 0 2\n",
      " 4 4 1 3 7 0 0 5 4 3 2 2 3 0 1 3 1 3]\n"
     ]
    }
   ],
   "source": [
    "kmeans = KMeans(n_clusters=10, init='k-means++', max_iter=300, n_init=10, random_state=0)\n",
    "pred_y = kmeans.fit_predict(X) # Compute cluster centers and predict cluster index for each sample\n",
    "\n",
    "print(pred_y)"
   ]
  },
  {
   "cell_type": "code",
   "execution_count": 7,
   "id": "5073c2c7",
   "metadata": {},
   "outputs": [
    {
     "data": {
      "text/plain": [
       "Counter({3: 175,\n",
       "         2: 138,\n",
       "         0: 120,\n",
       "         5: 20,\n",
       "         8: 24,\n",
       "         7: 41,\n",
       "         1: 73,\n",
       "         4: 102,\n",
       "         6: 9,\n",
       "         9: 19})"
      ]
     },
     "execution_count": 7,
     "metadata": {},
     "output_type": "execute_result"
    }
   ],
   "source": [
    "Counter(pred_y)"
   ]
  },
  {
   "cell_type": "code",
   "execution_count": 9,
   "id": "1a7e01b0",
   "metadata": {},
   "outputs": [
    {
     "name": "stdout",
     "output_type": "stream",
     "text": [
      "     Clusters\n",
      "0           3\n",
      "1           2\n",
      "2           3\n",
      "3           3\n",
      "4           2\n",
      "..        ...\n",
      "716         0\n",
      "717         1\n",
      "718         3\n",
      "719         1\n",
      "720         3\n",
      "\n",
      "[721 rows x 1 columns]\n"
     ]
    }
   ],
   "source": [
    "df = pd.DataFrame(pred_y, columns = ['Clusters'])\n",
    "print(df)"
   ]
  },
  {
   "cell_type": "code",
   "execution_count": null,
   "id": "152ad1b7",
   "metadata": {},
   "outputs": [],
   "source": []
  },
  {
   "cell_type": "code",
   "execution_count": null,
   "id": "007767be",
   "metadata": {},
   "outputs": [],
   "source": []
  },
  {
   "cell_type": "code",
   "execution_count": null,
   "id": "f635f4bc",
   "metadata": {},
   "outputs": [],
   "source": []
  },
  {
   "cell_type": "code",
   "execution_count": null,
   "id": "a3cdb86a",
   "metadata": {},
   "outputs": [],
   "source": []
  },
  {
   "cell_type": "code",
   "execution_count": null,
   "id": "5dc9914d",
   "metadata": {},
   "outputs": [],
   "source": []
  }
 ],
 "metadata": {
  "kernelspec": {
   "display_name": "Python 3 (ipykernel)",
   "language": "python",
   "name": "python3"
  },
  "language_info": {
   "codemirror_mode": {
    "name": "ipython",
    "version": 3
   },
   "file_extension": ".py",
   "mimetype": "text/x-python",
   "name": "python",
   "nbconvert_exporter": "python",
   "pygments_lexer": "ipython3",
   "version": "3.7.11"
  }
 },
 "nbformat": 4,
 "nbformat_minor": 5
}
