{
 "cells": [
  {
   "cell_type": "code",
   "execution_count": 1,
   "id": "3f27df88",
   "metadata": {},
   "outputs": [],
   "source": [
    "import numpy as np\n",
    "import pandas as pd\n",
    "from matplotlib import pyplot as plt\n",
    "from sklearn.cluster import KMeans\n",
    "\n",
    "from sklearn.model_selection import train_test_split\n",
    "from sklearn.preprocessing import StandardScaler, LabelEncoder\n",
    "from sklearn.ensemble import RandomForestClassifier, GradientBoostingClassifier\n",
    "from sklearn.metrics import confusion_matrix, classification_report, r2_score, accuracy_score, roc_curve, auc, ConfusionMatrixDisplay, zero_one_loss, log_loss, roc_auc_score\n",
    "from sklearn.model_selection import GridSearchCV, train_test_split, KFold, cross_val_score\n",
    "import matplotlib.pyplot as plt\n",
    "import seaborn as sns\n",
    "from prettytable import PrettyTable\n",
    "%matplotlib inline\n",
    "import warnings\n",
    "warnings.filterwarnings(\"ignore\")\n",
    "\n",
    "import matplotlib.pyplot as plt\n",
    "from kneed import KneeLocator\n",
    "from sklearn.cluster import KMeans\n",
    "from sklearn.metrics import silhouette_score\n",
    "\n",
    "from imblearn.under_sampling import NearMiss\n",
    "from collections import Counter\n",
    "\n",
    "from sklearn.datasets import load_breast_cancer\n",
    "from sklearn.model_selection import train_test_split\n",
    "from sklearn.preprocessing import StandardScaler, LabelEncoder\n",
    "from sklearn.ensemble import RandomForestClassifier, GradientBoostingClassifier\n",
    "from sklearn.metrics import confusion_matrix, classification_report, r2_score, accuracy_score, roc_curve, auc, ConfusionMatrixDisplay, zero_one_loss, log_loss, roc_auc_score\n",
    "\n",
    "from matplotlib import pyplot\n",
    "from imblearn.under_sampling import NearMiss\n",
    "from collections import Counter\n",
    "\n",
    "import sys\n",
    "import pandas as pd\n",
    "import time\n",
    "import random\n",
    "from scipy.stats import uniform, truncnorm, randint\n",
    "from imblearn.under_sampling import NearMiss\n",
    "\n",
    "\n",
    "import numpy as np\n",
    "from numpy import loadtxt\n",
    "from numpy.random import seed\n",
    "\n",
    "from sklearn.preprocessing import StandardScaler, OneHotEncoder\n",
    "from sklearn.compose import make_column_transformer\n",
    "from sklearn.compose import make_column_transformer\n",
    "from sklearn.pipeline import Pipeline\n",
    "from sklearn.model_selection import train_test_split, RandomizedSearchCV, GridSearchCV, KFold\n",
    "\n",
    "import tensorflow as tf\n",
    "from tensorflow import keras\n",
    "from tensorflow.keras import Sequential\n",
    "from tensorflow.keras.layers import Conv2D, Flatten, Dense\n",
    "from tensorflow.keras.optimizers import SGD, Adam\n",
    "from tensorflow.keras.wrappers.scikit_learn import KerasClassifier"
   ]
  },
  {
   "cell_type": "code",
   "execution_count": 2,
   "id": "0dc0162b",
   "metadata": {},
   "outputs": [
    {
     "data": {
      "text/plain": [
       "(902, 19)"
      ]
     },
     "execution_count": 2,
     "metadata": {},
     "output_type": "execute_result"
    }
   ],
   "source": [
    "# function to reset all RNG's to seed 23\n",
    "def reset_random_seeds():\n",
    "   tf.random.set_seed(23) # tensorflow's seed\n",
    "   np.random.seed(23) # numpy's seed\n",
    "   random.seed(23) # python's seed\n",
    "\n",
    "# import data\n",
    "data = pd.read_csv (r'bank-additional\\bank-additional.csv', sep = ';', engine= 'python')\n",
    "#data = data.head(1000)\n",
    "length = data.shape[0]\n",
    "data.head()\n",
    "\n",
    "# select variables\n",
    "cats_to_use = ['age', 'default', 'contact', 'month', 'previous', 'poutcome', 'emp.var.rate', 'euribor3m', 'nr.employed', 'y']\n",
    "data = data[cats_to_use]\n",
    "\n",
    "# 'age', 'job', 'marital', 'education', 'default', 'housing', 'loan',\n",
    "#       'contact', 'month', 'day_of_week', 'duration', 'campaign', 'pdays',\n",
    "#       'previous', 'poutcome', 'emp.var.rate', 'cons.price.idx',\n",
    "#       'cons.conf.idx', 'euribor3m', 'nr.employed', 'y'\n",
    "\n",
    "# save lists of categorical and numerical variables\n",
    "cat_cols = ['default', 'contact', 'month', 'poutcome', 'y']\n",
    "num_cols = ['age', 'previous', 'emp.var.rate', 'euribor3m', 'nr.employed']\n",
    "\n",
    "# create column transformer to 1 one-hot-encode cat vars and 2 noralise num vars\n",
    "ct = make_column_transformer(\n",
    "    (OneHotEncoder(drop='first'), cat_cols), # drop first column (reference)\n",
    "    (StandardScaler(), num_cols),\n",
    ")\n",
    "\n",
    "# transform base table (pandas df -> numpy array)\n",
    "base = ct.fit_transform(data)\n",
    "\n",
    "# convert base table to p.df for ease of use (numpy array -> pandas df)\n",
    "base_temp = pd.DataFrame(base, columns=ct.get_feature_names_out().tolist())\n",
    "base_temp\n",
    "\n",
    "# seperate base table into X and y and convert to numpy array (base pandas df -> y numpy array + X numpy array)\n",
    "y = base_temp['onehotencoder__y_yes'].values\n",
    "X = base_temp.drop(columns=['onehotencoder__y_yes']).values\n",
    "\n",
    "# save and check dimensions of X \n",
    "(X_length, X_vars) = X.shape\n",
    "X_length, X_vars\n",
    "\n",
    "# reset RNG's\n",
    "reset_random_seeds()\n",
    "\n",
    "# undersample data to get 50/50 success ratio using near-miss-1\n",
    "undersample = NearMiss(version=1)\n",
    "X, y = undersample.fit_resample(X, y)\n",
    "\n",
    "(X_length, X_vars) = X.shape\n",
    "X_length, X_vars"
   ]
  },
  {
   "cell_type": "code",
   "execution_count": null,
   "id": "ee39eb2e",
   "metadata": {},
   "outputs": [],
   "source": []
  },
  {
   "cell_type": "code",
   "execution_count": 3,
   "id": "5646d432",
   "metadata": {},
   "outputs": [
    {
     "name": "stdout",
     "output_type": "stream",
     "text": [
      "(902, 19)\n"
     ]
    }
   ],
   "source": [
    "ss = StandardScaler()\n",
    "X = ss.fit_transform(X)\n",
    "\n",
    "# niet genormaliseerd\n",
    "# X_train_ss = train_features\n",
    "# X_test_ss = test_features\n",
    "print(X.shape)"
   ]
  },
  {
   "cell_type": "code",
   "execution_count": 4,
   "id": "b17e3984",
   "metadata": {},
   "outputs": [
    {
     "data": {
      "image/png": "[encoded data removed]",
      "text/plain": [
       "<Figure size 432x288 with 1 Axes>"
      ]
     },
     "metadata": {
      "needs_background": "light"
     },
     "output_type": "display_data"
    }
   ],
   "source": [
    "wcss = []\n",
    "for i in range(1, 20):\n",
    "    kmeans = KMeans(n_clusters=i, init='k-means++', max_iter=300, n_init=10, random_state=0)\n",
    "    kmeans.fit(X)\n",
    "    wcss.append(kmeans.inertia_)\n",
    "plt.plot(range(1, 20), wcss)\n",
    "plt.title('Elbow Method')\n",
    "plt.xlabel('Number of clusters')\n",
    "plt.ylabel('WCSS')\n",
    "plt.show()"
   ]
  },
  {
   "cell_type": "code",
   "execution_count": 5,
   "id": "e8ae9e83",
   "metadata": {},
   "outputs": [
    {
     "name": "stdout",
     "output_type": "stream",
     "text": [
      "[3 3 3 3 3 3 3 3 3 3 3 3 3 3 3 3 3 3 3 3 3 3 1 1 3 3 3 3 3 3 1 3 3 7 7 7 7\n",
      " 7 7 7 7 7 7 7 7 7 7 7 7 7 7 8 8 8 8 8 7 7 8 8 8 8 8 7 7 7 7 7 7 7 7 7 7 1\n",
      " 7 7 7 7 7 7 7 7 7 7 5 3 3 5 3 3 3 3 3 3 3 5 3 3 3 5 3 2 2 2 2 2 2 2 2 2 2\n",
      " 2 2 5 5 5 5 5 5 5 5 5 5 2 2 2 2 2 2 2 2 3 3 5 5 2 2 5 5 3 3 3 5 5 5 5 5 5\n",
      " 5 5 5 5 5 5 5 5 5 5 5 5 5 5 5 2 2 2 2 2 2 2 2 5 5 5 5 5 5 5 2 2 5 5 5 5 5\n",
      " 5 5 5 5 5 5 5 5 5 5 5 5 5 5 5 5 5 2 3 5 2 5 7 7 1 3 5 5 7 7 7 3 3 3 3 3 3\n",
      " 3 3 3 3 5 5 3 3 3 7 1 7 7 7 7 7 7 7 7 7 7 7 7 7 7 7 7 7 7 7 7 7 7 0 0 0 7\n",
      " 7 7 7 7 7 7 0 0 0 7 7 7 7 7 7 7 0 7 7 0 0 7 0 0 0 0 0 0 0 0 0 0 3 3 3 3 3\n",
      " 3 3 3 3 5 5 5 5 2 2 2 2 5 5 5 5 5 5 5 5 5 5 5 5 2 2 3 1 7 3 3 3 3 3 3 2 2\n",
      " 2 5 2 5 2 2 2 5 5 5 5 5 5 5 5 2 2 2 2 5 5 3 3 3 3 3 3 3 2 2 2 5 5 5 5 5 5\n",
      " 5 5 5 5 5 5 5 5 5 2 5 5 5 3 5 3 3 5 5 5 5 5 5 5 5 5 5 5 5 5 5 5 5 5 3 3 5\n",
      " 5 3 3 3 3 5 3 5 5 5 5 5 5 5 5 5 2 2 2 3 3 3 3 3 3 3 3 5 5 5 5 3 3 3 2 3 3\n",
      " 3 3 3 2 2 2 5 3 4 5 4 4 4 0 8 2 5 8 5 0 1 1 1 8 4 4 4 6 4 5 4 3 0 5 1 3 0\n",
      " 5 1 4 5 7 1 7 4 5 4 4 4 4 1 7 3 4 2 6 7 7 7 8 5 1 6 3 1 4 3 1 4 8 0 4 1 3\n",
      " 0 8 4 0 0 5 0 5 1 1 4 0 9 8 6 0 1 5 4 1 6 1 3 2 1 1 1 8 4 1 4 2 7 1 2 1 5\n",
      " 7 2 7 7 1 4 1 2 4 4 3 9 9 1 5 7 8 3 4 3 8 0 4 7 4 1 2 0 1 0 3 8 1 3 2 3 1\n",
      " 7 4 1 7 8 3 4 6 1 1 2 3 7 4 4 7 2 7 1 0 1 6 4 4 1 5 7 1 5 1 4 1 3 0 7 7 1\n",
      " 4 2 4 2 3 1 4 1 1 1 9 1 1 6 2 4 1 4 0 7 0 4 1 3 3 9 1 7 0 7 3 0 3 9 8 0 4\n",
      " 1 2 7 1 5 1 7 3 0 1 1 4 2 4 1 6 4 6 8 7 4 0 4 1 3 3 3 7 4 8 1 1 0 8 1 7 0\n",
      " 2 3 4 4 2 7 8 2 4 4 7 3 8 1 2 6 4 6 1 6 1 3 1 1 7 1 1 5 9 1 7 6 4 7 6 1 1\n",
      " 1 2 4 1 7 6 1 0 1 3 1 5 8 1 1 3 1 0 7 7 7 4 0 7 4 4 1 1 0 4 2 1 1 6 8 1 3\n",
      " 7 6 3 3 2 1 7 6 4 7 7 3 1 1 1 4 3 1 0 4 8 4 0 2 0 4 1 7 4 0 4 1 2 1 7 4 4\n",
      " 4 4 5 5 1 2 1 7 7 3 1 0 7 1 4 1 1 1 1 0 4 6 8 9 1 7 1 1 1 4 4 8 1 3 1 9 4\n",
      " 1 6 1 6 7 5 7 3 1 1 1 1 4 4 1 4 3 9 4 1 1 7 0 4 1 4 2 0 4 1 4 1 3 1 0 1 0\n",
      " 9 1 9 1 1 1 6 1 2 1 6 7 4 6]\n"
     ]
    }
   ],
   "source": [
    "kmeans = KMeans(n_clusters=10, init='k-means++', max_iter=300, n_init=10, random_state=0)\n",
    "pred_y = kmeans.fit_predict(X) # Compute cluster centers and predict cluster index for each sample\n",
    "\n",
    "print(pred_y)"
   ]
  },
  {
   "cell_type": "code",
   "execution_count": 6,
   "id": "16225b1a",
   "metadata": {},
   "outputs": [
    {
     "data": {
      "text/plain": [
       "Counter({3: 153,\n",
       "         1: 130,\n",
       "         7: 138,\n",
       "         8: 33,\n",
       "         5: 177,\n",
       "         2: 90,\n",
       "         0: 58,\n",
       "         4: 86,\n",
       "         6: 25,\n",
       "         9: 12})"
      ]
     },
     "execution_count": 6,
     "metadata": {},
     "output_type": "execute_result"
    }
   ],
   "source": [
    "Counter(pred_y)"
   ]
  },
  {
   "cell_type": "code",
   "execution_count": 8,
   "id": "ff60c3ea",
   "metadata": {},
   "outputs": [
    {
     "name": "stdout",
     "output_type": "stream",
     "text": [
      "[[-0.29005968  0.         -0.44304229 ...  0.94111707  3.\n",
      "   0.        ]\n",
      " [-0.29005968  0.         -0.44304229 ...  0.94111707  3.\n",
      "   0.        ]\n",
      " [-0.29005968  0.         -0.44304229 ...  0.94111707  3.\n",
      "   0.        ]\n",
      " ...\n",
      " [-0.29005968  0.         -0.44304229 ... -0.50205371  7.\n",
      "   1.        ]\n",
      " [-0.29005968  0.         -0.44304229 ... -1.41494313  4.\n",
      "   1.        ]\n",
      " [-0.29005968  0.         -0.44304229 ... -1.41494313  6.\n",
      "   1.        ]]\n"
     ]
    }
   ],
   "source": [
    "Xnew = np.insert(X, 19, pred_y, axis=1)\n",
    "Xnew = np.insert(Xnew, 20, y, axis=1)\n",
    "print(Xnew)"
   ]
  },
  {
   "cell_type": "code",
   "execution_count": null,
   "id": "db06a490",
   "metadata": {},
   "outputs": [],
   "source": [
    "df = pd.DataFrame(Xnew)\n",
    "print(df)"
   ]
  },
  {
   "cell_type": "code",
   "execution_count": null,
   "id": "8abecc6b",
   "metadata": {},
   "outputs": [],
   "source": [
    "df.to_csv(r'bank-additional\\bank-additional-clusters.csv', index = False)"
   ]
  }
 ],
 "metadata": {
  "kernelspec": {
   "display_name": "Python 3 (ipykernel)",
   "language": "python",
   "name": "python3"
  },
  "language_info": {
   "codemirror_mode": {
    "name": "ipython",
    "version": 3
   },
   "file_extension": ".py",
   "mimetype": "text/x-python",
   "name": "python",
   "nbconvert_exporter": "python",
   "pygments_lexer": "ipython3",
   "version": "3.7.11"
  }
 },
 "nbformat": 4,
 "nbformat_minor": 5
}
