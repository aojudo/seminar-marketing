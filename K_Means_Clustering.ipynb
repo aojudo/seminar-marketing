{
 "cells": [
  {
   "cell_type": "code",
   "execution_count": 1,
   "id": "66a99915",
   "metadata": {},
   "outputs": [],
   "source": [
    "import numpy as np\n",
    "import pandas as pd\n",
    "import matplotlib.pyplot as plt\n",
    "\n",
    "from sklearn import preprocessing\n",
    "from sklearn.cluster import KMeans\n",
    "from sklearn.preprocessing import StandardScaler, OneHotEncoder\n",
    "from sklearn.compose import make_column_transformer\n",
    "\n",
    "import warnings\n",
    "warnings.filterwarnings(\"ignore\")\n",
    "from imblearn.under_sampling import NearMiss\n",
    "from collections import Counter\n",
    "\n",
    "import random\n",
    "from numpy.random import seed\n",
    "import tensorflow as tf"
   ]
  },
  {
   "cell_type": "code",
   "execution_count": 2,
   "id": "a1ebb46e",
   "metadata": {},
   "outputs": [
    {
     "data": {
      "text/plain": [
       "(9280, 19)"
      ]
     },
     "execution_count": 2,
     "metadata": {},
     "output_type": "execute_result"
    }
   ],
   "source": [
    "# function to reset all RNG's to seed 23\n",
    "def reset_random_seeds():\n",
    "   tf.random.set_seed(23) # tensorflow's seed\n",
    "   np.random.seed(23) # numpy's seed\n",
    "   random.seed(23) # python's seed\n",
    "\n",
    "# import data\n",
    "data = pd.read_csv (r'bank-additional\\bank-additional-full.csv', sep = ';', engine= 'python')\n",
    "#data = data.head(1000)\n",
    "length = data.shape[0]\n",
    "data.head()\n",
    "\n",
    "# select variables\n",
    "cats_to_use = ['age', 'default', 'contact', 'month', 'previous', 'poutcome', 'emp.var.rate', 'euribor3m', 'nr.employed', 'y']\n",
    "data = data[cats_to_use]\n",
    "\n",
    "# 'age', 'job', 'marital', 'education', 'default', 'housing', 'loan',\n",
    "#       'contact', 'month', 'day_of_week', 'duration', 'campaign', 'pdays',\n",
    "#       'previous', 'poutcome', 'emp.var.rate', 'cons.price.idx',\n",
    "#       'cons.conf.idx', 'euribor3m', 'nr.employed', 'y'\n",
    "\n",
    "# save lists of categorical and numerical variables\n",
    "cat_cols = ['default', 'contact', 'month', 'poutcome', 'y']\n",
    "num_cols = ['age', 'previous', 'emp.var.rate', 'euribor3m', 'nr.employed']\n",
    "\n",
    "# create column transformer to 1 one-hot-encode cat vars and 2 noralise num vars\n",
    "ct = make_column_transformer(\n",
    "    (OneHotEncoder(drop='first'), cat_cols), # drop first column (reference)\n",
    "    (StandardScaler(), num_cols),\n",
    ")\n",
    "\n",
    "# transform base table (pandas df -> numpy array)\n",
    "base = ct.fit_transform(data)\n",
    "\n",
    "# convert base table to p.df for ease of use (numpy array -> pandas df)\n",
    "base_temp = pd.DataFrame(base, columns=ct.get_feature_names_out().tolist())\n",
    "base_temp\n",
    "\n",
    "# seperate base table into X and y and convert to numpy array (base pandas df -> y numpy array + X numpy array)\n",
    "y = base_temp['onehotencoder__y_yes'].values\n",
    "X = base_temp.drop(columns=['onehotencoder__y_yes']).values\n",
    "\n",
    "# save and check dimensions of X \n",
    "(X_length, X_vars) = X.shape\n",
    "X_length, X_vars\n",
    "\n",
    "# reset RNG's\n",
    "reset_random_seeds()\n",
    "\n",
    "# undersample data to get 50/50 success ratio using near-miss-1\n",
    "undersample = NearMiss(version=1)\n",
    "X, y = undersample.fit_resample(X, y)\n",
    "\n",
    "(X_length, X_vars) = X.shape\n",
    "X_length, X_vars"
   ]
  },
  {
   "cell_type": "code",
   "execution_count": 3,
   "id": "11fabf10",
   "metadata": {},
   "outputs": [
    {
     "name": "stdout",
     "output_type": "stream",
     "text": [
      "(9280, 19)\n"
     ]
    }
   ],
   "source": [
    "ss = StandardScaler()\n",
    "X = ss.fit_transform(X)\n",
    "\n",
    "# niet genormaliseerd\n",
    "# X_train_ss = train_features\n",
    "# X_test_ss = test_features\n",
    "print(X.shape)"
   ]
  },
  {
   "cell_type": "code",
   "execution_count": 4,
   "id": "59cc025b",
   "metadata": {},
   "outputs": [
    {
     "data": {
      "image/png": "[encoded data removed]",
      "text/plain": [
       "<Figure size 432x288 with 1 Axes>"
      ]
     },
     "metadata": {
      "needs_background": "light"
     },
     "output_type": "display_data"
    }
   ],
   "source": [
    "wcss = []\n",
    "for i in range(1, 20):\n",
    "    kmeans = KMeans(n_clusters=i, init='k-means++', max_iter=300, n_init=10, random_state=0)\n",
    "    kmeans.fit(X)\n",
    "    wcss.append(kmeans.inertia_)\n",
    "plt.plot(range(1, 20), wcss)\n",
    "plt.title('Elbow Method')\n",
    "plt.xlabel('Number of clusters')\n",
    "plt.ylabel('WCSS')\n",
    "plt.show()"
   ]
  },
  {
   "cell_type": "code",
   "execution_count": 5,
   "id": "e8657d27",
   "metadata": {},
   "outputs": [
    {
     "name": "stdout",
     "output_type": "stream",
     "text": [
      "[1 1 1 ... 2 2 2]\n"
     ]
    }
   ],
   "source": [
    "kmeans = KMeans(n_clusters=10, init='k-means++', max_iter=300, n_init=10, random_state=0)\n",
    "pred_y = kmeans.fit_predict(X) # Compute cluster centers and predict cluster index for each sample\n",
    "print(pred_y)"
   ]
  },
  {
   "cell_type": "code",
   "execution_count": 6,
   "id": "3479c799",
   "metadata": {},
   "outputs": [
    {
     "data": {
      "text/plain": [
       "Counter({1: 993,\n",
       "         0: 602,\n",
       "         5: 2099,\n",
       "         3: 1317,\n",
       "         2: 585,\n",
       "         7: 303,\n",
       "         4: 1883,\n",
       "         8: 258,\n",
       "         9: 315,\n",
       "         6: 925})"
      ]
     },
     "execution_count": 6,
     "metadata": {},
     "output_type": "execute_result"
    }
   ],
   "source": [
    "Counter(pred_y)"
   ]
  },
  {
   "cell_type": "code",
   "execution_count": 7,
   "id": "f24ecbd8",
   "metadata": {},
   "outputs": [
    {
     "name": "stdout",
     "output_type": "stream",
     "text": [
      "(9280, 19)\n",
      "[[ 3.57331023  0.          2.18019605 ...  0.          0.\n",
      "   0.        ]\n",
      " [ 3.57331023  0.          2.18019605 ...  0.          0.\n",
      "   0.        ]\n",
      " [ 3.57331023  0.          2.18019605 ...  0.          0.\n",
      "   0.        ]\n",
      " ...\n",
      " [-0.27985256  0.         -0.45867435 ...  0.          0.\n",
      "   1.        ]\n",
      " [-0.27985256  0.         -0.45867435 ...  0.          0.\n",
      "   1.        ]\n",
      " [-0.27985256  0.         -0.45867435 ...  0.          0.\n",
      "   1.        ]]\n"
     ]
    }
   ],
   "source": [
    "cluster_dummies = pd.get_dummies(pred_y, drop_first = False)\n",
    "print(X.shape)\n",
    "\n",
    "Xnew = X.copy()\n",
    "for x in cluster_dummies:\n",
    "    Xnew = np.insert(Xnew, 19+x, cluster_dummies.iloc[:, x], axis=1)\n",
    "\n",
    "\n",
    "Xnew = np.insert(Xnew, 29, y, axis=1)\n",
    "print(Xnew)"
   ]
  },
  {
   "cell_type": "code",
   "execution_count": 8,
   "id": "85e7f01f",
   "metadata": {},
   "outputs": [
    {
     "name": "stdout",
     "output_type": "stream",
     "text": [
      "            0    1         2         3         4         5         6   \\\n",
      "0     3.573310  0.0  2.180196 -0.473917 -0.098404 -0.580834 -0.286953   \n",
      "1     3.573310  0.0  2.180196 -0.473917 -0.098404 -0.580834 -0.286953   \n",
      "2     3.573310  0.0  2.180196 -0.473917 -0.098404 -0.580834 -0.286953   \n",
      "3    -0.279853  0.0  2.180196 -0.473917 -0.098404 -0.580834 -0.286953   \n",
      "4     3.573310  0.0  2.180196 -0.473917 -0.098404 -0.580834 -0.286953   \n",
      "...        ...  ...       ...       ...       ...       ...       ...   \n",
      "9275 -0.279853  0.0 -0.458674 -0.473917 -0.098404 -0.580834 -0.286953   \n",
      "9276 -0.279853  0.0 -0.458674 -0.473917 -0.098404 -0.580834 -0.286953   \n",
      "9277 -0.279853  0.0 -0.458674 -0.473917 -0.098404 -0.580834 -0.286953   \n",
      "9278 -0.279853  0.0 -0.458674 -0.473917 -0.098404 -0.580834 -0.286953   \n",
      "9279 -0.279853  0.0 -0.458674 -0.473917 -0.098404 -0.580834 -0.286953   \n",
      "\n",
      "           7         8         9   ...   20   21   22   23   24   25   26  \\\n",
      "0    -0.18372  1.902423 -0.287173  ...  1.0  0.0  0.0  0.0  0.0  0.0  0.0   \n",
      "1    -0.18372  1.902423 -0.287173  ...  1.0  0.0  0.0  0.0  0.0  0.0  0.0   \n",
      "2    -0.18372  1.902423 -0.287173  ...  1.0  0.0  0.0  0.0  0.0  0.0  0.0   \n",
      "3    -0.18372  1.902423 -0.287173  ...  1.0  0.0  0.0  0.0  0.0  0.0  0.0   \n",
      "4    -0.18372  1.902423 -0.287173  ...  1.0  0.0  0.0  0.0  0.0  0.0  0.0   \n",
      "...       ...       ...       ...  ...  ...  ...  ...  ...  ...  ...  ...   \n",
      "9275 -0.18372 -0.525645  3.482224  ...  0.0  0.0  0.0  0.0  0.0  1.0  0.0   \n",
      "9276 -0.18372 -0.525645  3.482224  ...  0.0  0.0  0.0  0.0  0.0  1.0  0.0   \n",
      "9277 -0.18372 -0.525645  3.482224  ...  0.0  1.0  0.0  0.0  0.0  0.0  0.0   \n",
      "9278 -0.18372 -0.525645  3.482224  ...  0.0  1.0  0.0  0.0  0.0  0.0  0.0   \n",
      "9279 -0.18372 -0.525645  3.482224  ...  0.0  1.0  0.0  0.0  0.0  0.0  0.0   \n",
      "\n",
      "       27   28   29  \n",
      "0     0.0  0.0  0.0  \n",
      "1     0.0  0.0  0.0  \n",
      "2     0.0  0.0  0.0  \n",
      "3     0.0  0.0  0.0  \n",
      "4     0.0  0.0  0.0  \n",
      "...   ...  ...  ...  \n",
      "9275  0.0  0.0  1.0  \n",
      "9276  0.0  0.0  1.0  \n",
      "9277  0.0  0.0  1.0  \n",
      "9278  0.0  0.0  1.0  \n",
      "9279  0.0  0.0  1.0  \n",
      "\n",
      "[9280 rows x 30 columns]\n"
     ]
    }
   ],
   "source": [
    "df = pd.DataFrame(Xnew)\n",
    "print(df)"
   ]
  },
  {
   "cell_type": "code",
   "execution_count": 9,
   "id": "7a82c8a3",
   "metadata": {},
   "outputs": [],
   "source": [
    "df.to_csv(r'bank-additional\\bank-additional-clusters.csv', index = False)"
   ]
  }
 ],
 "metadata": {
  "kernelspec": {
   "display_name": "Python 3 (ipykernel)",
   "language": "python",
   "name": "python3"
  },
  "language_info": {
   "codemirror_mode": {
    "name": "ipython",
    "version": 3
   },
   "file_extension": ".py",
   "mimetype": "text/x-python",
   "name": "python",
   "nbconvert_exporter": "python",
   "pygments_lexer": "ipython3",
   "version": "3.7.11"
  }
 },
 "nbformat": 4,
 "nbformat_minor": 5
}
