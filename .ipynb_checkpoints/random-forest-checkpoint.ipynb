{
 "cells": [
  {
   "cell_type": "markdown",
   "id": "6e35096c",
   "metadata": {},
   "source": [
    "# Random Forest"
   ]
  },
  {
   "cell_type": "code",
   "execution_count": 1,
   "id": "57e4fcf1",
   "metadata": {},
   "outputs": [],
   "source": [
    "import numpy as np\n",
    "import pandas as pd\n",
    "\n",
    "from sklearn.ensemble import GradientBoostingClassifier, RandomForestClassifier\n",
    "from sklearn.model_selection import GridSearchCV, train_test_split, KFold, cross_val_score\n",
    "from sklearn.preprocessing import StandardScaler, OneHotEncoder, LabelEncoder\n",
    "from sklearn.metrics import log_loss, roc_curve, roc_auc_score, zero_one_loss, classification_report, confusion_matrix, accuracy_score\n",
    "from sklearn.compose import make_column_transformer\n",
    "import matplotlib.pyplot as plt\n",
    "from matplotlib import pyplot\n",
    "from imblearn.under_sampling import NearMiss\n",
    "from imblearn.pipeline import Pipeline, make_pipeline\n",
    "import random\n",
    "from numpy.random import seed\n",
    "import tensorflow as tf"
   ]
  },
  {
   "cell_type": "markdown",
   "id": "11e274cf",
   "metadata": {},
   "source": [
    "## Data preperation"
   ]
  },
  {
   "cell_type": "code",
   "execution_count": 2,
   "id": "da1b2a7d",
   "metadata": {},
   "outputs": [
    {
     "data": {
      "text/plain": [
       "(41188, 19)"
      ]
     },
     "execution_count": 2,
     "metadata": {},
     "output_type": "execute_result"
    }
   ],
   "source": [
    "# function to reset all RNG's to seed 23\n",
    "def reset_random_seeds():\n",
    "   tf.random.set_seed(23) # tensorflow's seed\n",
    "   np.random.seed(23) # numpy's seed\n",
    "   random.seed(23) # python's seed\n",
    "\n",
    "# import data\n",
    "data = pd.read_csv (r'bank-additional-full.csv', sep = ';', engine= 'python')\n",
    "#data = data.head(1000)\n",
    "length = data.shape[0]\n",
    "data.head()\n",
    "\n",
    "# select variables\n",
    "cats_to_use = ['age', 'default', 'contact', 'month', 'previous', 'poutcome', 'emp.var.rate', 'euribor3m', 'nr.employed', 'y']\n",
    "data = data[cats_to_use]\n",
    "\n",
    "# 'age', 'job', 'marital', 'education', 'default', 'housing', 'loan',\n",
    "#       'contact', 'month', 'day_of_week', 'duration', 'campaign', 'pdays',\n",
    "#       'previous', 'poutcome', 'emp.var.rate', 'cons.price.idx',\n",
    "#       'cons.conf.idx', 'euribor3m', 'nr.employed', 'y'\n",
    "\n",
    "# save lists of categorical and numerical variables\n",
    "cat_cols = ['default', 'contact', 'month', 'poutcome', 'y']\n",
    "num_cols = ['age', 'previous', 'emp.var.rate', 'euribor3m', 'nr.employed']\n",
    "\n",
    "# create column transformer to 1 one-hot-encode cat vars and 2 noralise num vars\n",
    "ct = make_column_transformer(\n",
    "    (OneHotEncoder(drop='first'), cat_cols), # drop first column (reference)\n",
    "    (StandardScaler(), num_cols),\n",
    ")\n",
    "\n",
    "# transform base table (pandas df -> numpy array)\n",
    "base = ct.fit_transform(data)\n",
    "\n",
    "# convert base table to p.df for ease of use (numpy array -> pandas df)\n",
    "base_temp = pd.DataFrame(base, columns=ct.get_feature_names_out().tolist())\n",
    "base_temp\n",
    "\n",
    "# seperate base table into X and y and convert to numpy array (base pandas df -> y numpy array + X numpy array)\n",
    "y = base_temp['onehotencoder__y_yes'].values\n",
    "X = base_temp.drop(columns=['onehotencoder__y_yes']).values\n",
    "\n",
    "# save and check dimensions of X \n",
    "(X_length, X_vars) = X.shape\n",
    "X_length, X_vars"
   ]
  },
  {
   "cell_type": "markdown",
   "id": "2623457d",
   "metadata": {},
   "source": [
    "## Grid search hyperparameter tuning"
   ]
  },
  {
   "cell_type": "code",
   "execution_count": null,
   "id": "ca967676",
   "metadata": {},
   "outputs": [
    {
     "name": "stdout",
     "output_type": "stream",
     "text": [
      "Fitting 10 folds for each of 30 candidates, totalling 300 fits\n",
      "[CV] END randomforestclassifier__max_depth=1, randomforestclassifier__n_estimators=50; total time=   4.6s\n",
      "[CV] END randomforestclassifier__max_depth=1, randomforestclassifier__n_estimators=50; total time=   4.5s\n",
      "[CV] END randomforestclassifier__max_depth=1, randomforestclassifier__n_estimators=50; total time=   4.5s\n",
      "[CV] END randomforestclassifier__max_depth=1, randomforestclassifier__n_estimators=50; total time=   4.4s\n",
      "[CV] END randomforestclassifier__max_depth=1, randomforestclassifier__n_estimators=50; total time=   4.4s\n",
      "[CV] END randomforestclassifier__max_depth=1, randomforestclassifier__n_estimators=50; total time=   4.7s\n",
      "[CV] END randomforestclassifier__max_depth=1, randomforestclassifier__n_estimators=50; total time=   3.9s\n",
      "[CV] END randomforestclassifier__max_depth=1, randomforestclassifier__n_estimators=50; total time=   3.6s\n",
      "[CV] END randomforestclassifier__max_depth=1, randomforestclassifier__n_estimators=50; total time=   4.6s\n",
      "[CV] END randomforestclassifier__max_depth=1, randomforestclassifier__n_estimators=50; total time=   4.8s\n",
      "[CV] END randomforestclassifier__max_depth=1, randomforestclassifier__n_estimators=100; total time=   4.2s\n",
      "[CV] END randomforestclassifier__max_depth=1, randomforestclassifier__n_estimators=100; total time=   4.8s\n",
      "[CV] END randomforestclassifier__max_depth=1, randomforestclassifier__n_estimators=100; total time=   4.6s\n",
      "[CV] END randomforestclassifier__max_depth=1, randomforestclassifier__n_estimators=100; total time=   4.5s\n",
      "[CV] END randomforestclassifier__max_depth=1, randomforestclassifier__n_estimators=100; total time=   4.5s\n",
      "[CV] END randomforestclassifier__max_depth=1, randomforestclassifier__n_estimators=100; total time=   4.5s\n",
      "[CV] END randomforestclassifier__max_depth=1, randomforestclassifier__n_estimators=100; total time=   4.8s\n",
      "[CV] END randomforestclassifier__max_depth=1, randomforestclassifier__n_estimators=100; total time=   4.7s\n",
      "[CV] END randomforestclassifier__max_depth=1, randomforestclassifier__n_estimators=100; total time=   5.6s\n",
      "[CV] END randomforestclassifier__max_depth=1, randomforestclassifier__n_estimators=100; total time=   4.6s\n",
      "[CV] END randomforestclassifier__max_depth=1, randomforestclassifier__n_estimators=150; total time=   5.5s\n",
      "[CV] END randomforestclassifier__max_depth=1, randomforestclassifier__n_estimators=150; total time=   4.7s\n",
      "[CV] END randomforestclassifier__max_depth=1, randomforestclassifier__n_estimators=150; total time=   5.2s\n",
      "[CV] END randomforestclassifier__max_depth=1, randomforestclassifier__n_estimators=150; total time=   5.2s\n",
      "[CV] END randomforestclassifier__max_depth=1, randomforestclassifier__n_estimators=150; total time=   5.4s\n"
     ]
    }
   ],
   "source": [
    "train_features, test_features, train_targets, test_targets = train_test_split(X, y, test_size=0.2,\n",
    "                                                                                  random_state=23)\n",
    "# define hyperparameter search space\n",
    "#max_depth = [1]\n",
    "#n_estimators = range(1,1001, 50)\n",
    "\n",
    "n_estimators = [50,100,150,200,300,500]\n",
    "max_depth = range(1,16,3)\n",
    "\n",
    "# create dictionary from search space\n",
    "grid = dict(\n",
    "    randomforestclassifier__max_depth=max_depth,\n",
    "    randomforestclassifier__n_estimators=n_estimators\n",
    ")\n",
    "\n",
    "# create 10-fold cross validation generator\n",
    "cv = KFold(n_splits=10)\n",
    "\n",
    "# create imbalanced learn pipeline\n",
    "imba_pipeline = make_pipeline(NearMiss(version=1), RandomForestClassifier(n_estimators=n_estimators, max_depth=max_depth, random_state=23))\n",
    "\n",
    "# create random searcher with 10-fold cv and start tuning process\n",
    "model_grid = GridSearchCV(estimator=imba_pipeline, param_grid=grid, n_jobs=1, cv=cv, verbose=2, scoring='roc_auc')\n",
    "grid_res = model_grid.fit(train_features, train_targets)\n",
    "\n",
    "# summarise grid search info\n",
    "bestScore = grid_res.best_score_\n",
    "bestParams = grid_res.best_params_\n"
   ]
  },
  {
   "cell_type": "code",
   "execution_count": 4,
   "id": "a6f294e5",
   "metadata": {
    "scrolled": true
   },
   "outputs": [
    {
     "name": "stdout",
     "output_type": "stream",
     "text": [
      "[INFO] best score is 0.75 using {'randomforestclassifier__max_depth': 4, 'randomforestclassifier__n_estimators': 500}\n"
     ]
    }
   ],
   "source": [
    "print(\"[INFO] best score is {:.2f} using {}\".format(bestScore, bestParams))"
   ]
  },
  {
   "cell_type": "code",
   "execution_count": 6,
   "id": "507395fb",
   "metadata": {},
   "outputs": [],
   "source": [
    "# use best hyperparameters\n",
    "max_depth = 4\n",
    "n_estimators = 500"
   ]
  },
  {
   "cell_type": "markdown",
   "id": "7e2630ca",
   "metadata": {},
   "source": [
    "## Undersample training data for further analysis"
   ]
  },
  {
   "cell_type": "code",
   "execution_count": 13,
   "id": "1e4a3813",
   "metadata": {
    "scrolled": true
   },
   "outputs": [],
   "source": [
    "# undersample training data usinig nearmiss 1\n",
    "nm = NearMiss(version = 1)\n",
    "x_res, y_res = nm.fit_resample(train_features, train_targets)\n",
    "train_features.shape, x_res.shape"
   ]
  },
  {
   "cell_type": "markdown",
   "id": "105d8e5a",
   "metadata": {},
   "source": [
    "## Overfit analysis"
   ]
  },
  {
   "cell_type": "markdown",
   "id": "5b45934c",
   "metadata": {},
   "source": [
    "#### Check for overfitting by varying n_estimators"
   ]
  },
  {
   "cell_type": "code",
   "execution_count": 7,
   "id": "d5c6a463",
   "metadata": {},
   "outputs": [],
   "source": [
    "# define lists to collect scores\n",
    "train_scores, test_scores = list(), list()\n",
    "\n",
    "# define the estimators to evaluate\n",
    "values = [i for i in range(1, 1000, 50)]\n",
    "# evaluate a decision tree for estimator\n",
    "for i in values:\n",
    "    # configure the model\n",
    "    model = RandomForestClassifier(n_estimators=i, max_depth=max_depth, random_state=23).fit(\n",
    "        x_res, y_res)\n",
    "    # evaluate on the train dataset\n",
    "    prediction = model.predict(x_res)\n",
    "    train_acc = roc_auc_score(y_res, prediction)\n",
    "    train_scores.append(train_acc)\n",
    "    # evaluate on the test dataset\n",
    "    test_prediction = model.predict(test_features)\n",
    "    test_acc = roc_auc_score(test_targets, test_prediction)\n",
    "    test_scores.append(test_acc)\n",
    "    # summarize progress\n",
    "    print('n_estimator: %.0f, train: %.3f, test: %.3f' % (i, train_acc, test_acc))\n",
    "# plot of train and test scores vs n_estimator\n",
    "pyplot.plot(values, train_scores, '-o', label='Train')\n",
    "pyplot.plot(values, test_scores, '-o', label='Test')\n",
    "pyplot.legend()\n",
    "pyplot.show()"
   ]
  },
  {
   "cell_type": "markdown",
   "id": "dac4903e",
   "metadata": {},
   "source": [
    "## Run final model on test data to get AUC"
   ]
  },
  {
   "cell_type": "code",
   "execution_count": 15,
   "id": "ef0feeb7",
   "metadata": {
    "scrolled": false
   },
   "outputs": [
    {
     "name": "stdout",
     "output_type": "stream",
     "text": [
      "mean cross validation score: 0.907\n",
      "Confusion Matrix:\n",
      "[[4628 2723]\n",
      " [ 237  650]]\n",
      "Classification Report\n",
      "              precision    recall  f1-score   support\n",
      "\n",
      "         0.0       0.95      0.63      0.76      7351\n",
      "         1.0       0.19      0.73      0.31       887\n",
      "\n",
      "    accuracy                           0.64      8238\n",
      "   macro avg       0.57      0.68      0.53      8238\n",
      "weighted avg       0.87      0.64      0.71      8238\n",
      "\n"
     ]
    },
    {
     "data": {
      "image/png": "[encoded data removed]",
      "text/plain": [
       "<Figure size 432x288 with 1 Axes>"
      ]
     },
     "metadata": {
      "needs_background": "light"
     },
     "output_type": "display_data"
    },
    {
     "name": "stdout",
     "output_type": "stream",
     "text": [
      "AUC Score: 0.738\n"
     ]
    }
   ],
   "source": [
    "# create random forest classifier and test on test data\n",
    "clf=RandomForestClassifier(max_depth=maxDepth, n_estimators= nEstimators ,random_state=23)\n",
    "\n",
    "k = 10\n",
    "kf = KFold(n_splits=k, shuffle = True)\n",
    "\n",
    "dt_scores = cross_val_score(clf, x_res, y_res, scoring ='roc_auc', cv = kf)\n",
    "print(\"mean cross validation score: {}\".format(np.round(np.mean(dt_scores),3)))\n",
    "\n",
    "clf.fit(x_res, y_res)\n",
    "predictions = clf.predict(test_features)\n",
    "\n",
    "print(\"Confusion Matrix:\")\n",
    "print(confusion_matrix(test_targets, predictions))\n",
    "\n",
    "print(\"Classification Report\")\n",
    "print(classification_report(test_targets, predictions))\n",
    "    \n",
    "#Beginning the plotting of ROC-curve\n",
    "pred_prob = clf.predict_proba(test_features)\n",
    "fpr, tpr, thresh = roc_curve(test_targets, pred_prob[:,1], pos_label=1)\n",
    "    \n",
    "#Plot roc curves\n",
    "plt.plot(fpr, tpr, linestyle='--',color='orange', label='Random Forest')\n",
    "\n",
    "# title\n",
    "plt.title('ROC curve')\n",
    "# x label\n",
    "plt.xlabel('False Positive Rate')\n",
    "# y label\n",
    "plt.ylabel('True Positive rate')\n",
    "\n",
    "plt.legend(loc='best')\n",
    "plt.savefig('ROC',dpi=300)\n",
    "plt.show();\n",
    "    \n",
    "#AUC Score\n",
    "auc_score = roc_auc_score(test_targets, pred_prob[:,1])\n",
    "print(\"AUC Score: \" + str(np.round(auc_score , 3)))"
   ]
  },
  {
   "cell_type": "markdown",
   "id": "8f864f1f",
   "metadata": {},
   "source": [
    "## Notes"
   ]
  }
 ],
 "metadata": {
  "kernelspec": {
   "display_name": "Python 3 (ipykernel)",
   "language": "python",
   "name": "python3"
  },
  "language_info": {
   "codemirror_mode": {
    "name": "ipython",
    "version": 3
   },
   "file_extension": ".py",
   "mimetype": "text/x-python",
   "name": "python",
   "nbconvert_exporter": "python",
   "pygments_lexer": "ipython3",
   "version": "3.7.13"
  }
 },
 "nbformat": 4,
 "nbformat_minor": 5
}
