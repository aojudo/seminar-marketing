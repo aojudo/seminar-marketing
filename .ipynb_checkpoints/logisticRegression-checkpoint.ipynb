{
 "cells": [
  {
   "cell_type": "code",
   "execution_count": 1,
   "id": "9e3beccb",
   "metadata": {},
   "outputs": [],
   "source": [
    "import numpy as np\n",
    "import pandas as pd\n",
    "from sklearn.metrics import zero_one_loss\n",
    "from sklearn.ensemble import GradientBoostingClassifier\n",
    "from sklearn.model_selection import train_test_split\n",
    "from sklearn.preprocessing import LabelEncoder\n",
    "from sklearn.metrics import log_loss, roc_curve, roc_auc_score\n",
    "from sklearn.metrics import classification_report, confusion_matrix\n",
    "import matplotlib.pyplot as plt\n",
    "from sklearn.linear_model import LogisticRegression"
   ]
  },
  {
   "cell_type": "code",
   "execution_count": 2,
   "id": "ad8ed292",
   "metadata": {},
   "outputs": [],
   "source": [
    "#Reading the file and splitting our target column\n",
    "df = pd.read_csv (r'C:\\Users\\DK200\\OneDrive\\Documenten\\Bachelor 3\\Blok 4\\Seminar Marketing and Data Analytics\\Data\\bank-additional\\bank-additional-full.csv', sep = ';', engine= 'python')   \n",
    "\n",
    "tussen = df[[\"y\"]]\n",
    "target = tussen.copy()\n",
    "df.drop(df.columns[len(df.columns)-1], axis=1, inplace=True)\n",
    "\n",
    "#Encoding all the catergorical variables and deleting them from the old dataframe\n",
    "categories = ['marital','education','default','housing','loan','contact','month','day_of_week','poutcome']\n",
    "df_encoded = pd.get_dummies(df['job'], prefix='job', drop_first=False)\n",
    "df_encoded.insert(0, 'ID', range(0, len(df_encoded)))\n",
    "del df['job']\n",
    "\n",
    "for x in categories:\n",
    "    df_encoded_tussen = pd.get_dummies(df[x], prefix=x, drop_first=True)\n",
    "    df_encoded_tussen.insert(0, 'ID', range(0, len(df_encoded_tussen)))\n",
    "    df_encoded = pd.merge(df_encoded, df_encoded_tussen, on = 'ID', how = 'outer')\n",
    "    del df[x]\n",
    "\n",
    "df.insert(0, 'ID', range(0, len(df)))\n",
    "features = pd.merge(df_encoded, df, on = 'ID', how = 'outer')\n",
    "y = pd.get_dummies(target, drop_first=True)\n",
    "del features['ID']"
   ]
  },
  {
   "cell_type": "code",
   "execution_count": 3,
   "id": "45aaaf0d",
   "metadata": {},
   "outputs": [
    {
     "name": "stdout",
     "output_type": "stream",
     "text": [
      "0.914\n"
     ]
    }
   ],
   "source": [
    "train_features, test_features, train_targets, test_targets = train_test_split(features, y.values.ravel(), test_size=0.2,\n",
    "                                                                                  random_state=23)\n",
    "#Logistics Regression\n",
    "logisticRegr = LogisticRegression(solver='lbfgs', max_iter = 6000)\n",
    "logisticRegr.fit(train_features, train_targets)\n",
    "\n",
    "predictions = logisticRegr.predict(test_features)\n",
    "\n",
    "# Use score method to get accuracy of model\n",
    "score = logisticRegr.score(test_features, test_targets)\n",
    "print(np.round(score , 3))"
   ]
  },
  {
   "cell_type": "code",
   "execution_count": 4,
   "id": "58f8e7b9",
   "metadata": {},
   "outputs": [
    {
     "name": "stdout",
     "output_type": "stream",
     "text": [
      "Confusion Matrix:\n",
      "[[7157  194]\n",
      " [ 514  373]]\n",
      "Classification Report\n",
      "              precision    recall  f1-score   support\n",
      "\n",
      "           0       0.93      0.97      0.95      7351\n",
      "           1       0.66      0.42      0.51       887\n",
      "\n",
      "    accuracy                           0.91      8238\n",
      "   macro avg       0.80      0.70      0.73      8238\n",
      "weighted avg       0.90      0.91      0.91      8238\n",
      "\n"
     ]
    },
    {
     "data": {
      "image/png": "[encoded data removed]",
      "text/plain": [
       "<Figure size 432x288 with 1 Axes>"
      ]
     },
     "metadata": {
      "needs_background": "light"
     },
     "output_type": "display_data"
    },
    {
     "name": "stdout",
     "output_type": "stream",
     "text": [
      "AUC Score: 0.933\n",
      "Log-Loss: 2.968\n"
     ]
    }
   ],
   "source": [
    "print(\"Confusion Matrix:\")\n",
    "print(confusion_matrix(test_targets, predictions))\n",
    "\n",
    "print(\"Classification Report\")\n",
    "print(classification_report(test_targets, predictions))\n",
    "    \n",
    "#Beginning the plotting of ROC-curve\n",
    "pred_prob = logisticRegr.predict_proba(test_features)\n",
    "fpr, tpr, thresh = roc_curve(test_targets, pred_prob[:,1], pos_label=1)\n",
    "    \n",
    "#Plot roc curves\n",
    "plt.plot(fpr, tpr, linestyle='--',color='orange', label='Logistic')\n",
    "\n",
    "# title\n",
    "plt.title('ROC curve')\n",
    "# x label\n",
    "plt.xlabel('False Positive Rate')\n",
    "# y label\n",
    "plt.ylabel('True Positive rate')\n",
    "\n",
    "plt.legend(loc='best')\n",
    "plt.savefig('ROC',dpi=300)\n",
    "plt.show();\n",
    "    \n",
    "#AUC Score\n",
    "auc_score = roc_auc_score(test_targets, pred_prob[:,1])\n",
    "print(\"AUC Score: \" + str(np.round(auc_score,3)))\n",
    "\n",
    "#Log-loss function\n",
    "print(\"Log-Loss: \" + str(np.round(log_loss(test_targets, predictions),3)))"
   ]
  }
 ],
 "metadata": {
  "kernelspec": {
   "display_name": "Python 3 (ipykernel)",
   "language": "python",
   "name": "python3"
  },
  "language_info": {
   "codemirror_mode": {
    "name": "ipython",
    "version": 3
   },
   "file_extension": ".py",
   "mimetype": "text/x-python",
   "name": "python",
   "nbconvert_exporter": "python",
   "pygments_lexer": "ipython3",
   "version": "3.7.11"
  }
 },
 "nbformat": 4,
 "nbformat_minor": 5
}
