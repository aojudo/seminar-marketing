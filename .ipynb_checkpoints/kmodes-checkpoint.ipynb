{
 "cells": [
  {
   "cell_type": "code",
   "execution_count": 1,
   "id": "b4dd3a09",
   "metadata": {},
   "outputs": [],
   "source": [
    "import numpy as np\n",
    "import pandas as pd\n",
    "import matplotlib.pyplot as plt\n",
    "\n",
    "from sklearn import preprocessing\n",
    "from sklearn.cluster import KMeans\n",
    "from sklearn.preprocessing import StandardScaler, OneHotEncoder\n",
    "from sklearn.compose import make_column_transformer\n",
    "from sklearn.neighbors import DistanceMetric\n",
    "from sklearn.model_selection import GridSearchCV, train_test_split\n",
    "import warnings\n",
    "warnings.filterwarnings(\"ignore\")\n",
    "from imblearn.under_sampling import NearMiss\n",
    "from collections import Counter\n",
    "\n",
    "import random\n",
    "from numpy.random import seed\n",
    "import tensorflow as tf\n",
    "from kmodes.kprototypes import KPrototypes"
   ]
  },
  {
   "cell_type": "code",
   "execution_count": 3,
   "id": "4ed807a5",
   "metadata": {},
   "outputs": [],
   "source": [
    "# function to reset all RNG's to seed 23\n",
    "def reset_random_seeds():\n",
    "   tf.random.set_seed(23) # tensorflow's seed\n",
    "   np.random.seed(23) # numpy's seed\n",
    "   random.seed(23) # python's seed\n",
    "\n",
    "# import data\n",
    "data = pd.read_csv (r'bank-additional-full.csv', sep = ';', engine= 'python')\n",
    "#data = data.head(1000)\n",
    "length = data.shape[0]\n",
    "data.head()\n",
    "\n",
    "# select variables\n",
    "cats_to_use = ['age', 'default', 'contact', 'month', 'previous', 'poutcome', 'emp.var.rate', 'euribor3m', 'nr.employed', 'y']\n",
    "data = data[cats_to_use]\n",
    "\n",
    "# 'age', 'job', 'marital', 'education', 'default', 'housing', 'loan',\n",
    "#       'contact', 'month', 'day_of_week', 'duration', 'campaign', 'pdays',\n",
    "#       'previous', 'poutcome', 'emp.var.rate', 'cons.price.idx',\n",
    "#       'cons.conf.idx', 'euribor3m', 'nr.employed', 'y'\n"
   ]
  },
  {
   "cell_type": "code",
   "execution_count": null,
   "id": "69632e63",
   "metadata": {},
   "outputs": [],
   "source": [
    "data.head()"
   ]
  },
  {
   "cell_type": "code",
   "execution_count": null,
   "id": "ef94a7dc",
   "metadata": {
    "scrolled": true
   },
   "outputs": [],
   "source": [
    "\n",
    "# save lists of categorical and numerical variables\n",
    "cat_cols = ['default', 'contact', 'month', 'poutcome', 'y']\n",
    "num_cols = ['age', 'previous', 'emp.var.rate', 'euribor3m', 'nr.employed']\n",
    "\n",
    "# create column transformer to 1 one-hot-encode cat vars and 2 noralise num vars\n",
    "# ct = make_column_transformer(\n",
    "#     (OneHotEncoder(drop='first'), cat_cols), # drop first column (reference)\n",
    "#     (StandardScaler(), num_cols),\n",
    "# )\n",
    "\n",
    "# transform base table (pandas df -> numpy array)\n",
    "#base = ct.fit_transform(data)\n",
    "\n",
    "# convert base table to p.df for ease of use (numpy array -> pandas df)\n",
    "# base_temp = pd.DataFrame(base, columns=ct.get_feature_names_out().tolist())\n",
    "# base_temp\n",
    "\n",
    "# # seperate base table into X and y and convert to numpy array (base pandas df -> y numpy array + X numpy array)\n",
    "# y = base_temp['onehotencoder__y_yes'].values\n",
    "# X = base_temp.drop(columns=['onehotencoder__y_yes']).values\n",
    "\n",
    "y = data[\"y\"].values\n",
    "X = data.drop(columns=['y']).values\n",
    "\n",
    "# save and check dimensions of X \n",
    "(X_length, X_vars) = X.shape\n",
    "X_length, X_vars\n",
    "\n",
    "# reset RNG's\n",
    "reset_random_seeds()\n",
    "\n",
    "(X_length, X_vars) = X.shape\n",
    "X_length, X_vars"
   ]
  },
  {
   "cell_type": "code",
   "execution_count": null,
   "id": "699a7ab6",
   "metadata": {},
   "outputs": [],
   "source": [
    "data.head()\n",
    "train_features, test_features, train_targets, test_targets = train_test_split(X, y.ravel(), test_size=0.2,\n",
    "                                                                                  random_state=23)\n",
    " \n",
    "# for col in data.columns:\n",
    "#     print(col)\n",
    "train_features"
   ]
  },
  {
   "cell_type": "code",
   "execution_count": null,
   "id": "8c0be75e",
   "metadata": {},
   "outputs": [],
   "source": [
    "# wcss = []\n",
    "# for i in range(1, 20):\n",
    "#     kmeans = KMeans(n_clusters=i, init='k-means++', max_iter=300, n_init=10, random_state=0)\n",
    "#     kmeans.fit(train_features)\n",
    "#     wcss.append(kmeans.inertia_)\n",
    "# plt.plot(range(1, 20), wcss)\n",
    "# plt.title('Elbow Method')\n",
    "# plt.xlabel('Number of clusters')\n",
    "# plt.ylabel('WCSS')\n",
    "# plt.show()"
   ]
  },
  {
   "cell_type": "code",
   "execution_count": null,
   "id": "dde11a60",
   "metadata": {},
   "outputs": [],
   "source": [
    "categorical_features_idx = [1,2,3,5]"
   ]
  },
  {
   "cell_type": "code",
   "execution_count": null,
   "id": "9a5d1ffc",
   "metadata": {
    "scrolled": true
   },
   "outputs": [],
   "source": [
    "mark_array=train_features"
   ]
  },
  {
   "cell_type": "code",
   "execution_count": null,
   "id": "0e9f3a70",
   "metadata": {},
   "outputs": [],
   "source": [
    "kproto = KPrototypes(n_clusters=2, verbose=2, max_iter=20).fit(mark_array, categorical=categorical_features_idx)"
   ]
  },
  {
   "cell_type": "code",
   "execution_count": null,
   "id": "1a3e32c2",
   "metadata": {},
   "outputs": [],
   "source": [
    "mark_array=train_features"
   ]
  },
  {
   "cell_type": "code",
   "execution_count": null,
   "id": "a516113c",
   "metadata": {},
   "outputs": [],
   "source": [
    "#prediction\n",
    "clusters = kproto.predict(mark_array, categorical=categorical_features_idx)"
   ]
  },
  {
   "cell_type": "code",
   "execution_count": null,
   "id": "ebd83e10",
   "metadata": {},
   "outputs": [],
   "source": [
    "print(clusters.mean())"
   ]
  },
  {
   "cell_type": "code",
   "execution_count": null,
   "id": "75cabc3c",
   "metadata": {},
   "outputs": [],
   "source": [
    "train = train_features\n",
    "print(train.shape)"
   ]
  },
  {
   "cell_type": "code",
   "execution_count": null,
   "id": "c7529c88",
   "metadata": {
    "scrolled": false
   },
   "outputs": [],
   "source": [
    "train = np.insert(train, 9, clusters, axis=1)\n",
    "train = np.insert(train, 10, train_targets, axis=1)\n",
    "train.shape"
   ]
  },
  {
   "cell_type": "code",
   "execution_count": null,
   "id": "07abc421",
   "metadata": {
    "scrolled": true
   },
   "outputs": [],
   "source": [
    "df_train = pd.DataFrame(train)\n",
    "df_train.columns = [\"age\", \"default\", \"contact\", \"month\",\"previous\", \"poutcome\", \"emp.var.rate\", \"euribor3m\", \"nr.employed\", 'cluster', 'y']\n",
    "\n",
    "#print(df_train)"
   ]
  },
  {
   "cell_type": "code",
   "execution_count": null,
   "id": "84690665",
   "metadata": {},
   "outputs": [],
   "source": [
    "# save lists of categorical and numerical variables\n",
    "cat_cols = ['default', 'contact', 'month', 'poutcome', 'cluster', 'y']\n",
    "num_cols = ['age', 'previous', 'emp.var.rate', 'euribor3m', 'nr.employed']\n",
    "\n",
    "# create column transformer to 1 one-hot-encode cat vars and 2 noralise num vars\n",
    "ct = make_column_transformer(\n",
    "    (OneHotEncoder(drop='first'), cat_cols), # drop first column (reference)\n",
    "    (StandardScaler(), num_cols)\n",
    ")\n",
    "\n",
    "# transform base table (pandas df -> numpy array)\n",
    "base = ct.fit_transform(df_train)\n",
    "\n",
    "# convert base table to p.df for ease of use (numpy array -> pandas df)\n",
    "base_temp = pd.DataFrame(base, columns=ct.get_feature_names_out().tolist())\n",
    "base_temp"
   ]
  },
  {
   "cell_type": "code",
   "execution_count": null,
   "id": "e36886f5",
   "metadata": {},
   "outputs": [],
   "source": [
    "base_temp.to_csv(r'bank-additional-trainclusters.csv', index = False)"
   ]
  },
  {
   "cell_type": "markdown",
   "id": "46c195ce",
   "metadata": {},
   "source": [
    "# test clusters"
   ]
  },
  {
   "cell_type": "code",
   "execution_count": null,
   "id": "7a900aac",
   "metadata": {},
   "outputs": [],
   "source": [
    "mark_array_test=test_features"
   ]
  },
  {
   "cell_type": "code",
   "execution_count": null,
   "id": "777ca17c",
   "metadata": {},
   "outputs": [],
   "source": [
    "#prediction\n",
    "clusters_pred = kproto.predict(mark_array_test, categorical=categorical_features_idx)"
   ]
  },
  {
   "cell_type": "code",
   "execution_count": null,
   "id": "136ad54e",
   "metadata": {
    "scrolled": true
   },
   "outputs": [],
   "source": [
    "print(clusters_pred.mean())"
   ]
  },
  {
   "cell_type": "code",
   "execution_count": null,
   "id": "869863c2",
   "metadata": {},
   "outputs": [],
   "source": [
    "test = test_features\n",
    "print(test.shape)"
   ]
  },
  {
   "cell_type": "code",
   "execution_count": null,
   "id": "859b140a",
   "metadata": {
    "scrolled": true
   },
   "outputs": [],
   "source": [
    "test = np.insert(test, 9, clusters_pred, axis=1)\n",
    "test = np.insert(test, 10, test_targets, axis=1)\n",
    "test.shape"
   ]
  },
  {
   "cell_type": "code",
   "execution_count": null,
   "id": "7ab46d4d",
   "metadata": {},
   "outputs": [],
   "source": [
    "df_test = pd.DataFrame(test)\n",
    "df_test.columns = [\"age\", \"default\", \"contact\", \"month\",\"previous\", \"poutcome\", \"emp.var.rate\", \"euribor3m\", \"nr.employed\", 'cluster', 'y']\n",
    "\n",
    "#print(df_test)\n",
    "\n",
    "# transform base table (pandas df -> numpy array)\n",
    "base_test = ct.fit_transform(df_test)\n",
    "\n",
    "# convert base table to p.df for ease of use (numpy array -> pandas df)\n",
    "base_temp_test = pd.DataFrame(base_test, columns=ct.get_feature_names_out().tolist())"
   ]
  },
  {
   "cell_type": "code",
   "execution_count": null,
   "id": "3d8add57",
   "metadata": {},
   "outputs": [],
   "source": [
    "base_temp_test.insert(loc=1, column='onehotencoder__default_yes', value=0.0)\n",
    "base_temp_test"
   ]
  },
  {
   "cell_type": "code",
   "execution_count": null,
   "id": "fa4248ab",
   "metadata": {},
   "outputs": [],
   "source": [
    "base_temp_test.to_csv(r'bank-additional-testclusters.csv', index = False)"
   ]
  }
 ],
 "metadata": {
  "kernelspec": {
   "display_name": "Python 3 (ipykernel)",
   "language": "python",
   "name": "python3"
  },
  "language_info": {
   "codemirror_mode": {
    "name": "ipython",
    "version": 3
   },
   "file_extension": ".py",
   "mimetype": "text/x-python",
   "name": "python",
   "nbconvert_exporter": "python",
   "pygments_lexer": "ipython3",
   "version": "3.7.13"
  }
 },
 "nbformat": 4,
 "nbformat_minor": 5
}
