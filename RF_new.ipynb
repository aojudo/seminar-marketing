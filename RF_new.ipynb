{
 "cells": [
  {
   "cell_type": "code",
   "execution_count": 1,
   "id": "127163fd",
   "metadata": {},
   "outputs": [],
   "source": [
    "import numpy as np\n",
    "import pandas as pd\n",
    "\n",
    "from sklearn.ensemble import GradientBoostingClassifier, RandomForestClassifier\n",
    "from sklearn.model_selection import GridSearchCV, train_test_split, KFold, cross_val_score\n",
    "from sklearn.preprocessing import StandardScaler, OneHotEncoder, LabelEncoder\n",
    "from sklearn.metrics import log_loss, roc_curve, roc_auc_score, zero_one_loss, classification_report, confusion_matrix, accuracy_score\n",
    "from sklearn.compose import make_column_transformer\n",
    "import matplotlib.pyplot as plt\n",
    "from matplotlib import pyplot\n",
    "from imblearn.under_sampling import NearMiss\n",
    "from imblearn.pipeline import Pipeline, make_pipeline\n",
    "import random\n",
    "from numpy.random import seed\n",
    "import tensorflow as tf"
   ]
  },
  {
   "cell_type": "code",
   "execution_count": 2,
   "id": "d1497977",
   "metadata": {},
   "outputs": [
    {
     "data": {
      "text/plain": [
       "(41188, 19)"
      ]
     },
     "execution_count": 2,
     "metadata": {},
     "output_type": "execute_result"
    }
   ],
   "source": [
    "# function to reset all RNG's to seed 23\n",
    "def reset_random_seeds():\n",
    "   tf.random.set_seed(23) # tensorflow's seed\n",
    "   np.random.seed(23) # numpy's seed\n",
    "   random.seed(23) # python's seed\n",
    "\n",
    "# import data\n",
    "data = pd.read_csv (r'bank-additional\\bank-additional-full.csv', sep = ';', engine= 'python')\n",
    "#data = data.head(1000)\n",
    "length = data.shape[0]\n",
    "data.head()\n",
    "\n",
    "# select variables\n",
    "cats_to_use = ['age', 'default', 'contact', 'month', 'previous', 'poutcome', 'emp.var.rate', 'euribor3m', 'nr.employed', 'y']\n",
    "data = data[cats_to_use]\n",
    "\n",
    "# 'age', 'job', 'marital', 'education', 'default', 'housing', 'loan',\n",
    "#       'contact', 'month', 'day_of_week', 'duration', 'campaign', 'pdays',\n",
    "#       'previous', 'poutcome', 'emp.var.rate', 'cons.price.idx',\n",
    "#       'cons.conf.idx', 'euribor3m', 'nr.employed', 'y'\n",
    "\n",
    "# save lists of categorical and numerical variables\n",
    "cat_cols = ['default', 'contact', 'month', 'poutcome', 'y']\n",
    "num_cols = ['age', 'previous', 'emp.var.rate', 'euribor3m', 'nr.employed']\n",
    "\n",
    "# create column transformer to 1 one-hot-encode cat vars and 2 noralise num vars\n",
    "ct = make_column_transformer(\n",
    "    (OneHotEncoder(drop='first'), cat_cols), # drop first column (reference)\n",
    "    (StandardScaler(), num_cols),\n",
    ")\n",
    "\n",
    "# transform base table (pandas df -> numpy array)\n",
    "base = ct.fit_transform(data)\n",
    "\n",
    "# convert base table to p.df for ease of use (numpy array -> pandas df)\n",
    "base_temp = pd.DataFrame(base, columns=ct.get_feature_names_out().tolist())\n",
    "base_temp\n",
    "\n",
    "# seperate base table into X and y and convert to numpy array (base pandas df -> y numpy array + X numpy array)\n",
    "y = base_temp['onehotencoder__y_yes'].values\n",
    "X = base_temp.drop(columns=['onehotencoder__y_yes']).values\n",
    "\n",
    "# save and check dimensions of X \n",
    "(X_length, X_vars) = X.shape\n",
    "X_length, X_vars\n"
   ]
  },
  {
   "cell_type": "code",
   "execution_count": null,
   "id": "d6edb23b",
   "metadata": {},
   "outputs": [
    {
     "name": "stdout",
     "output_type": "stream",
     "text": [
      "Fitting 10 folds for each of 100 candidates, totalling 1000 fits\n",
      "[CV] END randomforestclassifier__max_depth=1, randomforestclassifier__n_estimators=1; total time=   1.1s\n",
      "[CV] END randomforestclassifier__max_depth=1, randomforestclassifier__n_estimators=1; total time=   1.1s\n",
      "[CV] END randomforestclassifier__max_depth=1, randomforestclassifier__n_estimators=1; total time=   1.1s\n",
      "[CV] END randomforestclassifier__max_depth=1, randomforestclassifier__n_estimators=1; total time=   1.0s\n",
      "[CV] END randomforestclassifier__max_depth=1, randomforestclassifier__n_estimators=1; total time=   1.0s\n",
      "[CV] END randomforestclassifier__max_depth=1, randomforestclassifier__n_estimators=1; total time=   1.0s\n",
      "[CV] END randomforestclassifier__max_depth=1, randomforestclassifier__n_estimators=1; total time=   1.0s\n",
      "[CV] END randomforestclassifier__max_depth=1, randomforestclassifier__n_estimators=1; total time=   1.0s\n",
      "[CV] END randomforestclassifier__max_depth=1, randomforestclassifier__n_estimators=1; total time=   1.0s\n",
      "[CV] END randomforestclassifier__max_depth=1, randomforestclassifier__n_estimators=1; total time=   1.0s\n",
      "[CV] END randomforestclassifier__max_depth=1, randomforestclassifier__n_estimators=1; total time=   1.0s\n",
      "[CV] END randomforestclassifier__max_depth=1, randomforestclassifier__n_estimators=1; total time=   1.0s\n",
      "[CV] END randomforestclassifier__max_depth=1, randomforestclassifier__n_estimators=1; total time=   1.0s\n",
      "[CV] END randomforestclassifier__max_depth=1, randomforestclassifier__n_estimators=1; total time=   1.0s\n",
      "[CV] END randomforestclassifier__max_depth=1, randomforestclassifier__n_estimators=1; total time=   1.0s\n",
      "[CV] END randomforestclassifier__max_depth=1, randomforestclassifier__n_estimators=1; total time=   1.0s\n",
      "[CV] END randomforestclassifier__max_depth=1, randomforestclassifier__n_estimators=1; total time=   1.0s\n",
      "[CV] END randomforestclassifier__max_depth=1, randomforestclassifier__n_estimators=1; total time=   1.0s\n",
      "[CV] END randomforestclassifier__max_depth=1, randomforestclassifier__n_estimators=1; total time=   1.0s\n",
      "[CV] END randomforestclassifier__max_depth=1, randomforestclassifier__n_estimators=1; total time=   1.0s\n",
      "[CV] END randomforestclassifier__max_depth=1, randomforestclassifier__n_estimators=1; total time=   1.0s\n",
      "[CV] END randomforestclassifier__max_depth=1, randomforestclassifier__n_estimators=1; total time=   1.0s\n",
      "[CV] END randomforestclassifier__max_depth=1, randomforestclassifier__n_estimators=1; total time=   1.0s\n",
      "[CV] END randomforestclassifier__max_depth=1, randomforestclassifier__n_estimators=1; total time=   1.0s\n",
      "[CV] END randomforestclassifier__max_depth=1, randomforestclassifier__n_estimators=1; total time=   1.0s\n",
      "[CV] END randomforestclassifier__max_depth=1, randomforestclassifier__n_estimators=1; total time=   1.0s\n",
      "[CV] END randomforestclassifier__max_depth=1, randomforestclassifier__n_estimators=1; total time=   1.0s\n",
      "[CV] END randomforestclassifier__max_depth=1, randomforestclassifier__n_estimators=1; total time=   1.0s\n",
      "[CV] END randomforestclassifier__max_depth=1, randomforestclassifier__n_estimators=1; total time=   1.0s\n",
      "[CV] END randomforestclassifier__max_depth=1, randomforestclassifier__n_estimators=1; total time=   1.0s\n",
      "[CV] END randomforestclassifier__max_depth=1, randomforestclassifier__n_estimators=2; total time=   1.0s\n",
      "[CV] END randomforestclassifier__max_depth=1, randomforestclassifier__n_estimators=2; total time=   1.0s\n",
      "[CV] END randomforestclassifier__max_depth=1, randomforestclassifier__n_estimators=2; total time=   1.0s\n",
      "[CV] END randomforestclassifier__max_depth=1, randomforestclassifier__n_estimators=2; total time=   1.0s\n",
      "[CV] END randomforestclassifier__max_depth=1, randomforestclassifier__n_estimators=2; total time=   1.0s\n",
      "[CV] END randomforestclassifier__max_depth=1, randomforestclassifier__n_estimators=2; total time=   1.0s\n",
      "[CV] END randomforestclassifier__max_depth=1, randomforestclassifier__n_estimators=2; total time=   1.0s\n",
      "[CV] END randomforestclassifier__max_depth=1, randomforestclassifier__n_estimators=2; total time=   1.0s\n",
      "[CV] END randomforestclassifier__max_depth=1, randomforestclassifier__n_estimators=2; total time=   1.0s\n",
      "[CV] END randomforestclassifier__max_depth=1, randomforestclassifier__n_estimators=2; total time=   1.0s\n",
      "[CV] END randomforestclassifier__max_depth=1, randomforestclassifier__n_estimators=3; total time=   1.0s\n",
      "[CV] END randomforestclassifier__max_depth=1, randomforestclassifier__n_estimators=3; total time=   1.0s\n",
      "[CV] END randomforestclassifier__max_depth=1, randomforestclassifier__n_estimators=3; total time=   1.0s\n",
      "[CV] END randomforestclassifier__max_depth=1, randomforestclassifier__n_estimators=3; total time=   1.0s\n",
      "[CV] END randomforestclassifier__max_depth=1, randomforestclassifier__n_estimators=3; total time=   1.0s\n",
      "[CV] END randomforestclassifier__max_depth=1, randomforestclassifier__n_estimators=3; total time=   1.1s\n",
      "[CV] END randomforestclassifier__max_depth=1, randomforestclassifier__n_estimators=3; total time=   1.0s\n",
      "[CV] END randomforestclassifier__max_depth=1, randomforestclassifier__n_estimators=3; total time=   1.0s\n",
      "[CV] END randomforestclassifier__max_depth=1, randomforestclassifier__n_estimators=3; total time=   1.0s\n",
      "[CV] END randomforestclassifier__max_depth=1, randomforestclassifier__n_estimators=3; total time=   1.1s\n",
      "[CV] END randomforestclassifier__max_depth=1, randomforestclassifier__n_estimators=4; total time=   1.0s\n",
      "[CV] END randomforestclassifier__max_depth=1, randomforestclassifier__n_estimators=4; total time=   1.1s\n",
      "[CV] END randomforestclassifier__max_depth=1, randomforestclassifier__n_estimators=4; total time=   1.1s\n",
      "[CV] END randomforestclassifier__max_depth=1, randomforestclassifier__n_estimators=4; total time=   1.0s\n",
      "[CV] END randomforestclassifier__max_depth=1, randomforestclassifier__n_estimators=4; total time=   1.1s\n",
      "[CV] END randomforestclassifier__max_depth=1, randomforestclassifier__n_estimators=4; total time=   1.1s\n",
      "[CV] END randomforestclassifier__max_depth=1, randomforestclassifier__n_estimators=4; total time=   1.1s\n",
      "[CV] END randomforestclassifier__max_depth=1, randomforestclassifier__n_estimators=4; total time=   1.1s\n",
      "[CV] END randomforestclassifier__max_depth=1, randomforestclassifier__n_estimators=4; total time=   1.2s\n",
      "[CV] END randomforestclassifier__max_depth=1, randomforestclassifier__n_estimators=4; total time=   1.1s\n",
      "[CV] END randomforestclassifier__max_depth=1, randomforestclassifier__n_estimators=5; total time=   1.0s\n",
      "[CV] END randomforestclassifier__max_depth=1, randomforestclassifier__n_estimators=5; total time=   1.0s\n",
      "[CV] END randomforestclassifier__max_depth=1, randomforestclassifier__n_estimators=5; total time=   1.0s\n",
      "[CV] END randomforestclassifier__max_depth=1, randomforestclassifier__n_estimators=5; total time=   1.0s\n",
      "[CV] END randomforestclassifier__max_depth=1, randomforestclassifier__n_estimators=5; total time=   1.0s\n",
      "[CV] END randomforestclassifier__max_depth=1, randomforestclassifier__n_estimators=5; total time=   1.0s\n",
      "[CV] END randomforestclassifier__max_depth=1, randomforestclassifier__n_estimators=5; total time=   1.0s\n",
      "[CV] END randomforestclassifier__max_depth=1, randomforestclassifier__n_estimators=5; total time=   1.0s\n",
      "[CV] END randomforestclassifier__max_depth=1, randomforestclassifier__n_estimators=5; total time=   1.1s\n",
      "[CV] END randomforestclassifier__max_depth=1, randomforestclassifier__n_estimators=5; total time=   1.1s\n",
      "[CV] END randomforestclassifier__max_depth=1, randomforestclassifier__n_estimators=7; total time=   1.1s\n",
      "[CV] END randomforestclassifier__max_depth=1, randomforestclassifier__n_estimators=7; total time=   1.2s\n",
      "[CV] END randomforestclassifier__max_depth=1, randomforestclassifier__n_estimators=7; total time=   1.1s\n",
      "[CV] END randomforestclassifier__max_depth=1, randomforestclassifier__n_estimators=7; total time=   1.1s\n",
      "[CV] END randomforestclassifier__max_depth=1, randomforestclassifier__n_estimators=7; total time=   1.0s\n",
      "[CV] END randomforestclassifier__max_depth=1, randomforestclassifier__n_estimators=7; total time=   1.0s\n",
      "[CV] END randomforestclassifier__max_depth=1, randomforestclassifier__n_estimators=7; total time=   1.1s\n",
      "[CV] END randomforestclassifier__max_depth=1, randomforestclassifier__n_estimators=7; total time=   1.0s\n"
     ]
    },
    {
     "name": "stdout",
     "output_type": "stream",
     "text": [
      "[CV] END randomforestclassifier__max_depth=1, randomforestclassifier__n_estimators=7; total time=   1.1s\n",
      "[CV] END randomforestclassifier__max_depth=1, randomforestclassifier__n_estimators=7; total time=   1.0s\n",
      "[CV] END randomforestclassifier__max_depth=1, randomforestclassifier__n_estimators=9; total time=   1.1s\n",
      "[CV] END randomforestclassifier__max_depth=1, randomforestclassifier__n_estimators=9; total time=   1.0s\n",
      "[CV] END randomforestclassifier__max_depth=1, randomforestclassifier__n_estimators=9; total time=   1.1s\n",
      "[CV] END randomforestclassifier__max_depth=1, randomforestclassifier__n_estimators=9; total time=   1.2s\n",
      "[CV] END randomforestclassifier__max_depth=1, randomforestclassifier__n_estimators=9; total time=   1.2s\n",
      "[CV] END randomforestclassifier__max_depth=1, randomforestclassifier__n_estimators=9; total time=   1.2s\n",
      "[CV] END randomforestclassifier__max_depth=1, randomforestclassifier__n_estimators=9; total time=   1.0s\n",
      "[CV] END randomforestclassifier__max_depth=1, randomforestclassifier__n_estimators=9; total time=   1.1s\n",
      "[CV] END randomforestclassifier__max_depth=1, randomforestclassifier__n_estimators=9; total time=   1.2s\n",
      "[CV] END randomforestclassifier__max_depth=1, randomforestclassifier__n_estimators=9; total time=   1.1s\n",
      "[CV] END randomforestclassifier__max_depth=1, randomforestclassifier__n_estimators=12; total time=   1.1s\n",
      "[CV] END randomforestclassifier__max_depth=1, randomforestclassifier__n_estimators=12; total time=   1.1s\n",
      "[CV] END randomforestclassifier__max_depth=1, randomforestclassifier__n_estimators=12; total time=   1.0s\n",
      "[CV] END randomforestclassifier__max_depth=1, randomforestclassifier__n_estimators=12; total time=   1.0s\n",
      "[CV] END randomforestclassifier__max_depth=1, randomforestclassifier__n_estimators=12; total time=   1.0s\n",
      "[CV] END randomforestclassifier__max_depth=1, randomforestclassifier__n_estimators=12; total time=   1.0s\n",
      "[CV] END randomforestclassifier__max_depth=1, randomforestclassifier__n_estimators=12; total time=   1.1s\n",
      "[CV] END randomforestclassifier__max_depth=1, randomforestclassifier__n_estimators=12; total time=   1.1s\n",
      "[CV] END randomforestclassifier__max_depth=1, randomforestclassifier__n_estimators=12; total time=   1.1s\n",
      "[CV] END randomforestclassifier__max_depth=1, randomforestclassifier__n_estimators=12; total time=   1.1s\n",
      "[CV] END randomforestclassifier__max_depth=1, randomforestclassifier__n_estimators=16; total time=   1.2s\n",
      "[CV] END randomforestclassifier__max_depth=1, randomforestclassifier__n_estimators=16; total time=   1.1s\n",
      "[CV] END randomforestclassifier__max_depth=1, randomforestclassifier__n_estimators=16; total time=   1.1s\n",
      "[CV] END randomforestclassifier__max_depth=1, randomforestclassifier__n_estimators=16; total time=   1.1s\n",
      "[CV] END randomforestclassifier__max_depth=1, randomforestclassifier__n_estimators=16; total time=   1.2s\n",
      "[CV] END randomforestclassifier__max_depth=1, randomforestclassifier__n_estimators=16; total time=   1.2s\n",
      "[CV] END randomforestclassifier__max_depth=1, randomforestclassifier__n_estimators=16; total time=   1.1s\n",
      "[CV] END randomforestclassifier__max_depth=1, randomforestclassifier__n_estimators=16; total time=   1.1s\n",
      "[CV] END randomforestclassifier__max_depth=1, randomforestclassifier__n_estimators=16; total time=   1.1s\n",
      "[CV] END randomforestclassifier__max_depth=1, randomforestclassifier__n_estimators=16; total time=   1.0s\n",
      "[CV] END randomforestclassifier__max_depth=1, randomforestclassifier__n_estimators=21; total time=   1.1s\n",
      "[CV] END randomforestclassifier__max_depth=1, randomforestclassifier__n_estimators=21; total time=   1.0s\n",
      "[CV] END randomforestclassifier__max_depth=1, randomforestclassifier__n_estimators=21; total time=   1.0s\n",
      "[CV] END randomforestclassifier__max_depth=1, randomforestclassifier__n_estimators=21; total time=   1.0s\n",
      "[CV] END randomforestclassifier__max_depth=1, randomforestclassifier__n_estimators=21; total time=   1.0s\n",
      "[CV] END randomforestclassifier__max_depth=1, randomforestclassifier__n_estimators=21; total time=   1.0s\n",
      "[CV] END randomforestclassifier__max_depth=1, randomforestclassifier__n_estimators=21; total time=   1.0s\n",
      "[CV] END randomforestclassifier__max_depth=1, randomforestclassifier__n_estimators=21; total time=   1.0s\n",
      "[CV] END randomforestclassifier__max_depth=1, randomforestclassifier__n_estimators=21; total time=   1.0s\n",
      "[CV] END randomforestclassifier__max_depth=1, randomforestclassifier__n_estimators=21; total time=   1.1s\n",
      "[CV] END randomforestclassifier__max_depth=1, randomforestclassifier__n_estimators=28; total time=   1.1s\n",
      "[CV] END randomforestclassifier__max_depth=1, randomforestclassifier__n_estimators=28; total time=   1.2s\n",
      "[CV] END randomforestclassifier__max_depth=1, randomforestclassifier__n_estimators=28; total time=   1.1s\n",
      "[CV] END randomforestclassifier__max_depth=1, randomforestclassifier__n_estimators=28; total time=   1.1s\n"
     ]
    }
   ],
   "source": [
    "# create model and wrap into sklearn compatible classifier\n",
    "\n",
    "train_features, test_features, train_targets, test_targets = train_test_split(X, y, test_size=0.2,\n",
    "                                                                                  random_state=23)\n",
    "\n",
    "# define hyperparameter search space\n",
    "#max_depth = [1]\n",
    "#n_estimators = range(1,1001, 50)\n",
    "n_estimators = np.geomspace(1,200,num=20,dtype=int)\n",
    "max_depth = range(1,16,3)\n",
    "# create dictionary from search space\n",
    "grid = dict(\n",
    "    randomforestclassifier__max_depth=max_depth,\n",
    "    randomforestclassifier__n_estimators=n_estimators\n",
    ")\n",
    "\n",
    "# create 10-fold cross validation generator\n",
    "cv = KFold(n_splits=10)\n",
    "\n",
    "# create imbalanced learn pipeline\n",
    "imba_pipeline = make_pipeline(NearMiss(version=1), RandomForestClassifier(n_estimators= n_estimators ,random_state=23))\n",
    "\n",
    "# create random searcher with 10-fold cv and start tuning process\n",
    "model_grid = GridSearchCV(estimator=imba_pipeline, param_grid=grid, n_jobs=1, cv=cv, verbose=2, scoring='roc_auc')\n",
    "grid_res = model_grid.fit(train_features, train_targets)\n",
    "\n",
    "# summarise grid search info\n",
    "bestScore = grid_res.best_score_\n",
    "bestParams = grid_res.best_params_\n"
   ]
  },
  {
   "cell_type": "code",
   "execution_count": null,
   "id": "d45be0db",
   "metadata": {},
   "outputs": [],
   "source": [
    "print(\"[INFO] best score is {:.2f} using {}\".format(bestScore, bestParams))"
   ]
  },
  {
   "cell_type": "code",
   "execution_count": 7,
   "id": "6680d0a2",
   "metadata": {},
   "outputs": [],
   "source": [
    "# train_features, test_features, train_targets, test_targets = train_test_split(features, y.ravel(), test_size=0.2,\n",
    "#                                                                                   random_state=23)\n",
    "# ensemble = RandomForestClassifier().fit(train_features, train_targets)\n",
    "\n",
    "\n",
    "# #After the first run we make jumps of 100, 10 and lastly 1 for n_estimator\n",
    "\n",
    "# param_grid = {'n_estimators': range(1,6001,1000),\n",
    "#              'max_depth': [1,2,3,4,5,6,7,8,9]}\n",
    "# grid = GridSearchCV(ensemble,param_grid,refit=True, scoring='roc_auc' ,verbose =2)\n",
    "# grid.fit(train_features,train_targets)\n",
    "# print(grid.best_estimator_)\n",
    "# print(grid.best_params_)\n",
    "\n",
    "# grid_predictions = grid_res.predict(test_features)\n",
    "# print(confusion_matrix(test_targets,grid_predictions))\n",
    "# print(classification_report(test_targets,grid_predictions))"
   ]
  },
  {
   "cell_type": "code",
   "execution_count": 17,
   "id": "e15fe939",
   "metadata": {
    "scrolled": false
   },
   "outputs": [],
   "source": [
    "#print(\"Best: %f using %s\" % (grid.best_score_, grid.best_params_))"
   ]
  },
  {
   "cell_type": "code",
   "execution_count": 14,
   "id": "c86612b9",
   "metadata": {},
   "outputs": [],
   "source": [
    "# underfit test data\n",
    "\n",
    "nm = NearMiss(version = 1)\n",
    "\n",
    "X_res, y_res = nm.fit_resample(train_features, train_targets)"
   ]
  },
  {
   "cell_type": "code",
   "execution_count": 16,
   "id": "1257810a",
   "metadata": {},
   "outputs": [
    {
     "data": {
      "text/plain": [
       "((32950, 19), (7506, 19))"
      ]
     },
     "execution_count": 16,
     "metadata": {},
     "output_type": "execute_result"
    }
   ],
   "source": [
    "train_features.shape,X_res.shape"
   ]
  },
  {
   "cell_type": "code",
   "execution_count": 20,
   "id": "a37b0af2",
   "metadata": {},
   "outputs": [
    {
     "name": "stdout",
     "output_type": "stream",
     "text": [
      "1.0000000, train: 0.812, test: 0.665\n",
      "8.0000000, train: 0.836, test: 0.647\n",
      "15.0000000, train: 0.830, test: 0.657\n",
      "22.0000000, train: 0.828, test: 0.659\n",
      "29.0000000, train: 0.827, test: 0.666\n",
      "36.0000000, train: 0.828, test: 0.662\n",
      "43.0000000, train: 0.830, test: 0.657\n",
      "50.0000000, train: 0.829, test: 0.660\n",
      "57.0000000, train: 0.829, test: 0.659\n",
      "64.0000000, train: 0.829, test: 0.660\n",
      "71.0000000, train: 0.830, test: 0.659\n",
      "78.0000000, train: 0.829, test: 0.659\n",
      "85.0000000, train: 0.830, test: 0.659\n",
      "92.0000000, train: 0.829, test: 0.660\n",
      "99.0000000, train: 0.829, test: 0.661\n"
     ]
    },
    {
     "data": {
      "image/png": "[encoded data removed]",
      "text/plain": [
       "<Figure size 432x288 with 1 Axes>"
      ]
     },
     "metadata": {
      "needs_background": "light"
     },
     "output_type": "display_data"
    }
   ],
   "source": [
    "# define lists to collect scores\n",
    "train_scores, test_scores = list(), list()\n",
    "#Now we set our n_estimator and learning_rate to the optimal value found in the last grid search\n",
    "nEstimator = 951\n",
    "\n",
    "#Check for overfitting\n",
    "\n",
    "# define the tree depths to evaluate\n",
    "values = [i for i in range_with_floats(1, 101, 7)]\n",
    "# evaluate a decision tree for each depth\n",
    "for i in values:\n",
    "    # configure the model\n",
    "    model = RandomForestClassifier(n_estimators=i, max_depth = 5, random_state = 23).fit(\n",
    "        X_res, y_res)\n",
    "    # evaluate on the train dataset\n",
    "    schatting = model.predict(X_res)\n",
    "    train_acc = roc_auc_score(y_res, schatting)\n",
    "    train_scores.append(train_acc)\n",
    "    # evaluate on the test dataset\n",
    "    test_schatting = model.predict(test_features)\n",
    "    test_acc = roc_auc_score(test_targets, test_schatting)\n",
    "    test_scores.append(test_acc)\n",
    "    # summarize progress\n",
    "    print('%.7f, train: %.3f, test: %.3f' % (i, train_acc, test_acc))\n",
    "# plot of train and test scores vs tree depth\n",
    "pyplot.plot(values, train_scores, '-o', label='Train')\n",
    "pyplot.plot(values, test_scores, '-o', label='Test')\n",
    "pyplot.legend()\n",
    "pyplot.show()"
   ]
  },
  {
   "cell_type": "code",
   "execution_count": 25,
   "id": "9da47c4f",
   "metadata": {},
   "outputs": [],
   "source": [
    "#Boosting the tree and predicting with ROC curve and classification reports\n",
    "def random_forest(feature, targets, nEstimators):\n",
    "    train_features, test_features, train_targets, test_targets = train_test_split(feature, targets, test_size=0.2,\n",
    "                                                                                  random_state=23)\n",
    "    ensemble = RandomForestClassifier(max_depth=maxDepth, n_estimators= nEstimators ,random_state=23)\n",
    "    \n",
    "    k = 10\n",
    "    kf = KFold(n_splits=k, shuffle = True)\n",
    "\n",
    "    \n",
    "    dt_scores = cross_val_score(ensemble, train_features, train_targets, scoring ='roc_auc' ,cv = kf)\n",
    "    print(\"mean cross validation score: {}\".format(np.round(np.mean(dt_scores),3)))\n",
    "\n",
    "    ensemble.fit(train_features, train_targets)\n",
    "    predictions = ensemble.predict(test_features)\n",
    "    \n",
    "    print(\"Confusion Matrix:\")\n",
    "    print(confusion_matrix(test_targets, predictions))\n",
    "\n",
    "    print(\"Classification Report\")\n",
    "    print(classification_report(test_targets, predictions))\n",
    "    \n",
    "    #Beginning the plotting of ROC-curve\n",
    "    pred_prob = ensemble.predict_proba(test_features)\n",
    "    fpr, tpr, thresh = roc_curve(test_targets, pred_prob[:,1], pos_label=1)\n",
    "    \n",
    "    #Plot roc curves\n",
    "    plt.plot(fpr, tpr, linestyle='--',color='orange', label='Random Forest')\n",
    "\n",
    "    # title\n",
    "    plt.title('ROC curve')\n",
    "    # x label\n",
    "    plt.xlabel('False Positive Rate')\n",
    "    # y label\n",
    "    plt.ylabel('True Positive rate')\n",
    "\n",
    "    plt.legend(loc='best')\n",
    "    plt.savefig('ROC',dpi=300)\n",
    "    plt.show();\n",
    "    \n",
    "    #AUC Score\n",
    "    auc_score = roc_auc_score(test_targets, pred_prob[:,1])\n",
    "    print(\"AUC Score: \" + str(np.round(auc_score , 3)))"
   ]
  },
  {
   "cell_type": "code",
   "execution_count": 26,
   "id": "2d40df8c",
   "metadata": {},
   "outputs": [
    {
     "name": "stdout",
     "output_type": "stream",
     "text": [
      "mean cross validation score: 0.935\n",
      "Confusion Matrix:\n",
      "[[887  48]\n",
      " [200 721]]\n",
      "Classification Report\n",
      "              precision    recall  f1-score   support\n",
      "\n",
      "         0.0       0.82      0.95      0.88       935\n",
      "         1.0       0.94      0.78      0.85       921\n",
      "\n",
      "    accuracy                           0.87      1856\n",
      "   macro avg       0.88      0.87      0.87      1856\n",
      "weighted avg       0.88      0.87      0.87      1856\n",
      "\n"
     ]
    },
    {
     "data": {
      "image/png": "[encoded data removed]",
      "text/plain": [
       "<Figure size 432x288 with 1 Axes>"
      ]
     },
     "metadata": {
      "needs_background": "light"
     },
     "output_type": "display_data"
    },
    {
     "name": "stdout",
     "output_type": "stream",
     "text": [
      "AUC Score: 0.918\n"
     ]
    }
   ],
   "source": [
    "random_forest(features, y.ravel(), nEstimator)"
   ]
  },
  {
   "cell_type": "code",
   "execution_count": null,
   "id": "41e5eb0a",
   "metadata": {},
   "outputs": [],
   "source": []
  }
 ],
 "metadata": {
  "kernelspec": {
   "display_name": "Python 3 (ipykernel)",
   "language": "python",
   "name": "python3"
  },
  "language_info": {
   "codemirror_mode": {
    "name": "ipython",
    "version": 3
   },
   "file_extension": ".py",
   "mimetype": "text/x-python",
   "name": "python",
   "nbconvert_exporter": "python",
   "pygments_lexer": "ipython3",
   "version": "3.7.11"
  }
 },
 "nbformat": 4,
 "nbformat_minor": 5
}
