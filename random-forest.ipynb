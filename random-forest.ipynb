{
 "cells": [
  {
   "cell_type": "markdown",
   "id": "5f72d573",
   "metadata": {},
   "source": [
    "# Random Forest"
   ]
  },
  {
   "cell_type": "code",
   "execution_count": 1,
   "id": "57e4fcf1",
   "metadata": {},
   "outputs": [],
   "source": [
    "import numpy as np\n",
    "import pandas as pd\n",
    "import time\n",
    "\n",
    "from sklearn.ensemble import GradientBoostingClassifier, RandomForestClassifier\n",
    "from sklearn.model_selection import GridSearchCV, train_test_split, KFold, cross_val_score\n",
    "from sklearn.preprocessing import StandardScaler, OneHotEncoder, LabelEncoder\n",
    "from sklearn.metrics import log_loss, roc_curve, roc_auc_score, zero_one_loss, classification_report, confusion_matrix, accuracy_score\n",
    "from sklearn.compose import make_column_transformer\n",
    "import matplotlib.pyplot as plt\n",
    "from matplotlib import pyplot\n",
    "from imblearn.under_sampling import NearMiss\n",
    "from imblearn.pipeline import Pipeline, make_pipeline\n",
    "import random\n",
    "from numpy.random import seed\n",
    "import tensorflow as tf"
   ]
  },
  {
   "cell_type": "markdown",
   "id": "9ecab014",
   "metadata": {},
   "source": [
    "## Data preperation"
   ]
  },
  {
   "cell_type": "code",
   "execution_count": 2,
   "id": "da1b2a7d",
   "metadata": {},
   "outputs": [
    {
     "data": {
      "text/plain": [
       "(41188, 19)"
      ]
     },
     "execution_count": 2,
     "metadata": {},
     "output_type": "execute_result"
    }
   ],
   "source": [
    "# function to reset all RNG's to seed 23\n",
    "def reset_random_seeds():\n",
    "   tf.random.set_seed(23) # tensorflow's seed\n",
    "   np.random.seed(23) # numpy's seed\n",
    "   random.seed(23) # python's seed\n",
    "\n",
    "# import data\n",
    "data = pd.read_csv (r'bank-additional-full.csv', sep = ';', engine= 'python')\n",
    "#data = data.head(1000)\n",
    "length = data.shape[0]\n",
    "data.head()\n",
    "\n",
    "# select variables\n",
    "cats_to_use = ['age', 'default', 'contact', 'month', 'previous', 'poutcome', 'emp.var.rate', 'euribor3m', 'nr.employed', 'y']\n",
    "data = data[cats_to_use]\n",
    "\n",
    "# 'age', 'job', 'marital', 'education', 'default', 'housing', 'loan',\n",
    "#       'contact', 'month', 'day_of_week', 'duration', 'campaign', 'pdays',\n",
    "#       'previous', 'poutcome', 'emp.var.rate', 'cons.price.idx',\n",
    "#       'cons.conf.idx', 'euribor3m', 'nr.employed', 'y'\n",
    "\n",
    "# save lists of categorical and numerical variables\n",
    "cat_cols = ['default', 'contact', 'month', 'poutcome', 'y']\n",
    "num_cols = ['age', 'previous', 'emp.var.rate', 'euribor3m', 'nr.employed']\n",
    "\n",
    "# create column transformer to 1 one-hot-encode cat vars and 2 noralise num vars\n",
    "ct = make_column_transformer(\n",
    "    (OneHotEncoder(drop='first'), cat_cols), # drop first column (reference)\n",
    "    (StandardScaler(), num_cols),\n",
    ")\n",
    "\n",
    "# transform base table (pandas df -> numpy array)\n",
    "base = ct.fit_transform(data)\n",
    "\n",
    "# convert base table to p.df for ease of use (numpy array -> pandas df)\n",
    "base_temp = pd.DataFrame(base, columns=ct.get_feature_names_out().tolist())\n",
    "base_temp\n",
    "\n",
    "# seperate base table into X and y and convert to numpy array (base pandas df -> y numpy array + X numpy array)\n",
    "y = base_temp['onehotencoder__y_yes'].values\n",
    "X = base_temp.drop(columns=['onehotencoder__y_yes']).values\n",
    "\n",
    "# save and check dimensions of X \n",
    "(X_length, X_vars) = X.shape\n",
    "X_length, X_vars"
   ]
  },
  {
   "cell_type": "code",
   "execution_count": 3,
   "id": "65846018",
   "metadata": {},
   "outputs": [],
   "source": [
    "# split data into training and test data\n",
    "train_features, test_features, train_targets, test_targets = train_test_split(X, y, test_size=0.2, random_state=23)"
   ]
  },
  {
   "cell_type": "markdown",
   "id": "b2a4bda9",
   "metadata": {},
   "source": [
    "## Grid search hyperparameter tuning"
   ]
  },
  {
   "cell_type": "code",
   "execution_count": 5,
   "id": "ca967676",
   "metadata": {
    "scrolled": true
   },
   "outputs": [
    {
     "name": "stdout",
     "output_type": "stream",
     "text": [
      "Fitting 10 folds for each of 30 candidates, totalling 300 fits\n",
      "[CV] END randomforestclassifier__max_depth=1, randomforestclassifier__n_estimators=50; total time=   4.6s\n",
      "[CV] END randomforestclassifier__max_depth=1, randomforestclassifier__n_estimators=50; total time=   4.5s\n",
      "[CV] END randomforestclassifier__max_depth=1, randomforestclassifier__n_estimators=50; total time=   4.5s\n",
      "[CV] END randomforestclassifier__max_depth=1, randomforestclassifier__n_estimators=50; total time=   4.4s\n",
      "[CV] END randomforestclassifier__max_depth=1, randomforestclassifier__n_estimators=50; total time=   4.4s\n",
      "[CV] END randomforestclassifier__max_depth=1, randomforestclassifier__n_estimators=50; total time=   4.7s\n",
      "[CV] END randomforestclassifier__max_depth=1, randomforestclassifier__n_estimators=50; total time=   3.9s\n",
      "[CV] END randomforestclassifier__max_depth=1, randomforestclassifier__n_estimators=50; total time=   3.6s\n",
      "[CV] END randomforestclassifier__max_depth=1, randomforestclassifier__n_estimators=50; total time=   4.6s\n",
      "[CV] END randomforestclassifier__max_depth=1, randomforestclassifier__n_estimators=50; total time=   4.8s\n",
      "[CV] END randomforestclassifier__max_depth=1, randomforestclassifier__n_estimators=100; total time=   4.2s\n",
      "[CV] END randomforestclassifier__max_depth=1, randomforestclassifier__n_estimators=100; total time=   4.8s\n",
      "[CV] END randomforestclassifier__max_depth=1, randomforestclassifier__n_estimators=100; total time=   4.6s\n",
      "[CV] END randomforestclassifier__max_depth=1, randomforestclassifier__n_estimators=100; total time=   4.5s\n",
      "[CV] END randomforestclassifier__max_depth=1, randomforestclassifier__n_estimators=100; total time=   4.5s\n",
      "[CV] END randomforestclassifier__max_depth=1, randomforestclassifier__n_estimators=100; total time=   4.5s\n",
      "[CV] END randomforestclassifier__max_depth=1, randomforestclassifier__n_estimators=100; total time=   4.8s\n",
      "[CV] END randomforestclassifier__max_depth=1, randomforestclassifier__n_estimators=100; total time=   4.7s\n",
      "[CV] END randomforestclassifier__max_depth=1, randomforestclassifier__n_estimators=100; total time=   5.6s\n",
      "[CV] END randomforestclassifier__max_depth=1, randomforestclassifier__n_estimators=100; total time=   4.6s\n",
      "[CV] END randomforestclassifier__max_depth=1, randomforestclassifier__n_estimators=150; total time=   5.5s\n",
      "[CV] END randomforestclassifier__max_depth=1, randomforestclassifier__n_estimators=150; total time=   4.7s\n",
      "[CV] END randomforestclassifier__max_depth=1, randomforestclassifier__n_estimators=150; total time=   5.2s\n",
      "[CV] END randomforestclassifier__max_depth=1, randomforestclassifier__n_estimators=150; total time=   5.2s\n",
      "[CV] END randomforestclassifier__max_depth=1, randomforestclassifier__n_estimators=150; total time=   5.4s\n",
      "[CV] END randomforestclassifier__max_depth=1, randomforestclassifier__n_estimators=150; total time=   5.1s\n",
      "[CV] END randomforestclassifier__max_depth=1, randomforestclassifier__n_estimators=150; total time=   5.3s\n",
      "[CV] END randomforestclassifier__max_depth=1, randomforestclassifier__n_estimators=150; total time=   4.4s\n",
      "[CV] END randomforestclassifier__max_depth=1, randomforestclassifier__n_estimators=150; total time=   4.8s\n",
      "[CV] END randomforestclassifier__max_depth=1, randomforestclassifier__n_estimators=150; total time=   5.6s\n",
      "[CV] END randomforestclassifier__max_depth=1, randomforestclassifier__n_estimators=200; total time=   5.9s\n",
      "[CV] END randomforestclassifier__max_depth=1, randomforestclassifier__n_estimators=200; total time=   6.1s\n",
      "[CV] END randomforestclassifier__max_depth=1, randomforestclassifier__n_estimators=200; total time=   7.2s\n",
      "[CV] END randomforestclassifier__max_depth=1, randomforestclassifier__n_estimators=200; total time=   4.0s\n",
      "[CV] END randomforestclassifier__max_depth=1, randomforestclassifier__n_estimators=200; total time=   4.8s\n",
      "[CV] END randomforestclassifier__max_depth=1, randomforestclassifier__n_estimators=200; total time=   5.0s\n",
      "[CV] END randomforestclassifier__max_depth=1, randomforestclassifier__n_estimators=200; total time=   4.7s\n",
      "[CV] END randomforestclassifier__max_depth=1, randomforestclassifier__n_estimators=200; total time=   4.4s\n",
      "[CV] END randomforestclassifier__max_depth=1, randomforestclassifier__n_estimators=200; total time=   5.7s\n",
      "[CV] END randomforestclassifier__max_depth=1, randomforestclassifier__n_estimators=200; total time=   5.6s\n",
      "[CV] END randomforestclassifier__max_depth=1, randomforestclassifier__n_estimators=300; total time=   7.2s\n",
      "[CV] END randomforestclassifier__max_depth=1, randomforestclassifier__n_estimators=300; total time=   7.0s\n",
      "[CV] END randomforestclassifier__max_depth=1, randomforestclassifier__n_estimators=300; total time=   7.4s\n",
      "[CV] END randomforestclassifier__max_depth=1, randomforestclassifier__n_estimators=300; total time=   6.7s\n",
      "[CV] END randomforestclassifier__max_depth=1, randomforestclassifier__n_estimators=300; total time=   5.7s\n",
      "[CV] END randomforestclassifier__max_depth=1, randomforestclassifier__n_estimators=300; total time=   6.6s\n",
      "[CV] END randomforestclassifier__max_depth=1, randomforestclassifier__n_estimators=300; total time=   7.6s\n",
      "[CV] END randomforestclassifier__max_depth=1, randomforestclassifier__n_estimators=300; total time=   9.6s\n",
      "[CV] END randomforestclassifier__max_depth=1, randomforestclassifier__n_estimators=300; total time=   6.3s\n",
      "[CV] END randomforestclassifier__max_depth=1, randomforestclassifier__n_estimators=300; total time=   7.1s\n",
      "[CV] END randomforestclassifier__max_depth=1, randomforestclassifier__n_estimators=500; total time=   8.4s\n",
      "[CV] END randomforestclassifier__max_depth=1, randomforestclassifier__n_estimators=500; total time=   7.6s\n",
      "[CV] END randomforestclassifier__max_depth=1, randomforestclassifier__n_estimators=500; total time=   7.0s\n",
      "[CV] END randomforestclassifier__max_depth=1, randomforestclassifier__n_estimators=500; total time=   8.1s\n",
      "[CV] END randomforestclassifier__max_depth=1, randomforestclassifier__n_estimators=500; total time=   8.1s\n",
      "[CV] END randomforestclassifier__max_depth=1, randomforestclassifier__n_estimators=500; total time=   8.6s\n",
      "[CV] END randomforestclassifier__max_depth=1, randomforestclassifier__n_estimators=500; total time=   7.9s\n",
      "[CV] END randomforestclassifier__max_depth=1, randomforestclassifier__n_estimators=500; total time=   6.5s\n",
      "[CV] END randomforestclassifier__max_depth=1, randomforestclassifier__n_estimators=500; total time=   8.2s\n",
      "[CV] END randomforestclassifier__max_depth=1, randomforestclassifier__n_estimators=500; total time=   8.4s\n",
      "[CV] END randomforestclassifier__max_depth=4, randomforestclassifier__n_estimators=50; total time=   4.2s\n",
      "[CV] END randomforestclassifier__max_depth=4, randomforestclassifier__n_estimators=50; total time=   4.1s\n",
      "[CV] END randomforestclassifier__max_depth=4, randomforestclassifier__n_estimators=50; total time=   4.2s\n",
      "[CV] END randomforestclassifier__max_depth=4, randomforestclassifier__n_estimators=50; total time=   4.3s\n",
      "[CV] END randomforestclassifier__max_depth=4, randomforestclassifier__n_estimators=50; total time=   4.6s\n",
      "[CV] END randomforestclassifier__max_depth=4, randomforestclassifier__n_estimators=50; total time=   4.4s\n",
      "[CV] END randomforestclassifier__max_depth=4, randomforestclassifier__n_estimators=50; total time=   4.3s\n",
      "[CV] END randomforestclassifier__max_depth=4, randomforestclassifier__n_estimators=50; total time=   4.6s\n",
      "[CV] END randomforestclassifier__max_depth=4, randomforestclassifier__n_estimators=50; total time=   4.5s\n",
      "[CV] END randomforestclassifier__max_depth=4, randomforestclassifier__n_estimators=50; total time=   6.1s\n",
      "[CV] END randomforestclassifier__max_depth=4, randomforestclassifier__n_estimators=100; total time=   4.9s\n",
      "[CV] END randomforestclassifier__max_depth=4, randomforestclassifier__n_estimators=100; total time=   4.5s\n",
      "[CV] END randomforestclassifier__max_depth=4, randomforestclassifier__n_estimators=100; total time=   5.8s\n",
      "[CV] END randomforestclassifier__max_depth=4, randomforestclassifier__n_estimators=100; total time=   4.7s\n",
      "[CV] END randomforestclassifier__max_depth=4, randomforestclassifier__n_estimators=100; total time=   3.9s\n",
      "[CV] END randomforestclassifier__max_depth=4, randomforestclassifier__n_estimators=100; total time=   5.6s\n",
      "[CV] END randomforestclassifier__max_depth=4, randomforestclassifier__n_estimators=100; total time=   5.2s\n"
     ]
    },
    {
     "name": "stdout",
     "output_type": "stream",
     "text": [
      "[CV] END randomforestclassifier__max_depth=4, randomforestclassifier__n_estimators=100; total time=   5.4s\n",
      "[CV] END randomforestclassifier__max_depth=4, randomforestclassifier__n_estimators=100; total time=   6.0s\n",
      "[CV] END randomforestclassifier__max_depth=4, randomforestclassifier__n_estimators=100; total time=   5.4s\n",
      "[CV] END randomforestclassifier__max_depth=4, randomforestclassifier__n_estimators=150; total time=   6.1s\n",
      "[CV] END randomforestclassifier__max_depth=4, randomforestclassifier__n_estimators=150; total time=   5.1s\n",
      "[CV] END randomforestclassifier__max_depth=4, randomforestclassifier__n_estimators=150; total time=   4.6s\n",
      "[CV] END randomforestclassifier__max_depth=4, randomforestclassifier__n_estimators=150; total time=   4.6s\n",
      "[CV] END randomforestclassifier__max_depth=4, randomforestclassifier__n_estimators=150; total time=   4.5s\n",
      "[CV] END randomforestclassifier__max_depth=4, randomforestclassifier__n_estimators=150; total time=   5.6s\n",
      "[CV] END randomforestclassifier__max_depth=4, randomforestclassifier__n_estimators=150; total time=   4.7s\n",
      "[CV] END randomforestclassifier__max_depth=4, randomforestclassifier__n_estimators=150; total time=   6.5s\n",
      "[CV] END randomforestclassifier__max_depth=4, randomforestclassifier__n_estimators=150; total time=   5.4s\n",
      "[CV] END randomforestclassifier__max_depth=4, randomforestclassifier__n_estimators=150; total time=   5.4s\n",
      "[CV] END randomforestclassifier__max_depth=4, randomforestclassifier__n_estimators=200; total time=   4.8s\n",
      "[CV] END randomforestclassifier__max_depth=4, randomforestclassifier__n_estimators=200; total time=   6.8s\n",
      "[CV] END randomforestclassifier__max_depth=4, randomforestclassifier__n_estimators=200; total time=   5.0s\n",
      "[CV] END randomforestclassifier__max_depth=4, randomforestclassifier__n_estimators=200; total time=   5.1s\n",
      "[CV] END randomforestclassifier__max_depth=4, randomforestclassifier__n_estimators=200; total time=   5.7s\n",
      "[CV] END randomforestclassifier__max_depth=4, randomforestclassifier__n_estimators=200; total time=   6.8s\n",
      "[CV] END randomforestclassifier__max_depth=4, randomforestclassifier__n_estimators=200; total time=   6.3s\n",
      "[CV] END randomforestclassifier__max_depth=4, randomforestclassifier__n_estimators=200; total time=   5.9s\n",
      "[CV] END randomforestclassifier__max_depth=4, randomforestclassifier__n_estimators=200; total time=   7.7s\n",
      "[CV] END randomforestclassifier__max_depth=4, randomforestclassifier__n_estimators=200; total time=   6.8s\n",
      "[CV] END randomforestclassifier__max_depth=4, randomforestclassifier__n_estimators=300; total time=   7.7s\n",
      "[CV] END randomforestclassifier__max_depth=4, randomforestclassifier__n_estimators=300; total time=   7.4s\n",
      "[CV] END randomforestclassifier__max_depth=4, randomforestclassifier__n_estimators=300; total time=   5.0s\n",
      "[CV] END randomforestclassifier__max_depth=4, randomforestclassifier__n_estimators=300; total time=   6.8s\n",
      "[CV] END randomforestclassifier__max_depth=4, randomforestclassifier__n_estimators=300; total time=   7.5s\n",
      "[CV] END randomforestclassifier__max_depth=4, randomforestclassifier__n_estimators=300; total time=   7.1s\n",
      "[CV] END randomforestclassifier__max_depth=4, randomforestclassifier__n_estimators=300; total time=   7.8s\n",
      "[CV] END randomforestclassifier__max_depth=4, randomforestclassifier__n_estimators=300; total time=   8.1s\n",
      "[CV] END randomforestclassifier__max_depth=4, randomforestclassifier__n_estimators=300; total time=   7.6s\n",
      "[CV] END randomforestclassifier__max_depth=4, randomforestclassifier__n_estimators=300; total time=   5.8s\n",
      "[CV] END randomforestclassifier__max_depth=4, randomforestclassifier__n_estimators=500; total time=   7.6s\n",
      "[CV] END randomforestclassifier__max_depth=4, randomforestclassifier__n_estimators=500; total time=   7.7s\n",
      "[CV] END randomforestclassifier__max_depth=4, randomforestclassifier__n_estimators=500; total time=   6.3s\n",
      "[CV] END randomforestclassifier__max_depth=4, randomforestclassifier__n_estimators=500; total time=   9.5s\n",
      "[CV] END randomforestclassifier__max_depth=4, randomforestclassifier__n_estimators=500; total time=  10.2s\n",
      "[CV] END randomforestclassifier__max_depth=4, randomforestclassifier__n_estimators=500; total time=   7.8s\n",
      "[CV] END randomforestclassifier__max_depth=4, randomforestclassifier__n_estimators=500; total time=   7.5s\n",
      "[CV] END randomforestclassifier__max_depth=4, randomforestclassifier__n_estimators=500; total time=  10.6s\n",
      "[CV] END randomforestclassifier__max_depth=4, randomforestclassifier__n_estimators=500; total time=   9.0s\n",
      "[CV] END randomforestclassifier__max_depth=4, randomforestclassifier__n_estimators=500; total time=   7.0s\n",
      "[CV] END randomforestclassifier__max_depth=7, randomforestclassifier__n_estimators=50; total time=   4.2s\n",
      "[CV] END randomforestclassifier__max_depth=7, randomforestclassifier__n_estimators=50; total time=   4.1s\n",
      "[CV] END randomforestclassifier__max_depth=7, randomforestclassifier__n_estimators=50; total time=   3.9s\n",
      "[CV] END randomforestclassifier__max_depth=7, randomforestclassifier__n_estimators=50; total time=   3.8s\n",
      "[CV] END randomforestclassifier__max_depth=7, randomforestclassifier__n_estimators=50; total time=   4.1s\n",
      "[CV] END randomforestclassifier__max_depth=7, randomforestclassifier__n_estimators=50; total time=   3.3s\n",
      "[CV] END randomforestclassifier__max_depth=7, randomforestclassifier__n_estimators=50; total time=   3.6s\n",
      "[CV] END randomforestclassifier__max_depth=7, randomforestclassifier__n_estimators=50; total time=   3.5s\n",
      "[CV] END randomforestclassifier__max_depth=7, randomforestclassifier__n_estimators=50; total time=   4.1s\n",
      "[CV] END randomforestclassifier__max_depth=7, randomforestclassifier__n_estimators=50; total time=   4.9s\n",
      "[CV] END randomforestclassifier__max_depth=7, randomforestclassifier__n_estimators=100; total time=   6.0s\n",
      "[CV] END randomforestclassifier__max_depth=7, randomforestclassifier__n_estimators=100; total time=   4.5s\n",
      "[CV] END randomforestclassifier__max_depth=7, randomforestclassifier__n_estimators=100; total time=   4.5s\n",
      "[CV] END randomforestclassifier__max_depth=7, randomforestclassifier__n_estimators=100; total time=   5.2s\n",
      "[CV] END randomforestclassifier__max_depth=7, randomforestclassifier__n_estimators=100; total time=   5.0s\n",
      "[CV] END randomforestclassifier__max_depth=7, randomforestclassifier__n_estimators=100; total time=   5.4s\n",
      "[CV] END randomforestclassifier__max_depth=7, randomforestclassifier__n_estimators=100; total time=   5.1s\n",
      "[CV] END randomforestclassifier__max_depth=7, randomforestclassifier__n_estimators=100; total time=   4.2s\n",
      "[CV] END randomforestclassifier__max_depth=7, randomforestclassifier__n_estimators=100; total time=   5.8s\n",
      "[CV] END randomforestclassifier__max_depth=7, randomforestclassifier__n_estimators=100; total time=   4.8s\n",
      "[CV] END randomforestclassifier__max_depth=7, randomforestclassifier__n_estimators=150; total time=   5.2s\n",
      "[CV] END randomforestclassifier__max_depth=7, randomforestclassifier__n_estimators=150; total time=   4.7s\n",
      "[CV] END randomforestclassifier__max_depth=7, randomforestclassifier__n_estimators=150; total time=   4.9s\n",
      "[CV] END randomforestclassifier__max_depth=7, randomforestclassifier__n_estimators=150; total time=   5.6s\n",
      "[CV] END randomforestclassifier__max_depth=7, randomforestclassifier__n_estimators=150; total time=   5.7s\n",
      "[CV] END randomforestclassifier__max_depth=7, randomforestclassifier__n_estimators=150; total time=   6.2s\n",
      "[CV] END randomforestclassifier__max_depth=7, randomforestclassifier__n_estimators=150; total time=   6.0s\n",
      "[CV] END randomforestclassifier__max_depth=7, randomforestclassifier__n_estimators=150; total time=   6.3s\n",
      "[CV] END randomforestclassifier__max_depth=7, randomforestclassifier__n_estimators=150; total time=   5.7s\n",
      "[CV] END randomforestclassifier__max_depth=7, randomforestclassifier__n_estimators=150; total time=   6.7s\n",
      "[CV] END randomforestclassifier__max_depth=7, randomforestclassifier__n_estimators=200; total time=   7.5s\n",
      "[CV] END randomforestclassifier__max_depth=7, randomforestclassifier__n_estimators=200; total time=   8.5s\n",
      "[CV] END randomforestclassifier__max_depth=7, randomforestclassifier__n_estimators=200; total time=   7.0s\n",
      "[CV] END randomforestclassifier__max_depth=7, randomforestclassifier__n_estimators=200; total time=   6.9s\n"
     ]
    },
    {
     "name": "stdout",
     "output_type": "stream",
     "text": [
      "[CV] END randomforestclassifier__max_depth=7, randomforestclassifier__n_estimators=200; total time=   7.5s\n",
      "[CV] END randomforestclassifier__max_depth=7, randomforestclassifier__n_estimators=200; total time=   7.6s\n",
      "[CV] END randomforestclassifier__max_depth=7, randomforestclassifier__n_estimators=200; total time=   7.1s\n",
      "[CV] END randomforestclassifier__max_depth=7, randomforestclassifier__n_estimators=200; total time=   6.5s\n",
      "[CV] END randomforestclassifier__max_depth=7, randomforestclassifier__n_estimators=200; total time=   6.2s\n",
      "[CV] END randomforestclassifier__max_depth=7, randomforestclassifier__n_estimators=200; total time=   6.4s\n",
      "[CV] END randomforestclassifier__max_depth=7, randomforestclassifier__n_estimators=300; total time=   7.5s\n",
      "[CV] END randomforestclassifier__max_depth=7, randomforestclassifier__n_estimators=300; total time=  11.2s\n",
      "[CV] END randomforestclassifier__max_depth=7, randomforestclassifier__n_estimators=300; total time=   6.9s\n",
      "[CV] END randomforestclassifier__max_depth=7, randomforestclassifier__n_estimators=300; total time=   4.7s\n",
      "[CV] END randomforestclassifier__max_depth=7, randomforestclassifier__n_estimators=300; total time=   8.3s\n",
      "[CV] END randomforestclassifier__max_depth=7, randomforestclassifier__n_estimators=300; total time=   4.2s\n",
      "[CV] END randomforestclassifier__max_depth=7, randomforestclassifier__n_estimators=300; total time=   3.8s\n",
      "[CV] END randomforestclassifier__max_depth=7, randomforestclassifier__n_estimators=300; total time=   4.2s\n",
      "[CV] END randomforestclassifier__max_depth=7, randomforestclassifier__n_estimators=300; total time=   6.4s\n",
      "[CV] END randomforestclassifier__max_depth=7, randomforestclassifier__n_estimators=300; total time=   3.7s\n",
      "[CV] END randomforestclassifier__max_depth=7, randomforestclassifier__n_estimators=500; total time=   5.4s\n",
      "[CV] END randomforestclassifier__max_depth=7, randomforestclassifier__n_estimators=500; total time=   4.6s\n",
      "[CV] END randomforestclassifier__max_depth=7, randomforestclassifier__n_estimators=500; total time=   3.8s\n",
      "[CV] END randomforestclassifier__max_depth=7, randomforestclassifier__n_estimators=500; total time=   6.2s\n",
      "[CV] END randomforestclassifier__max_depth=7, randomforestclassifier__n_estimators=500; total time=   5.9s\n",
      "[CV] END randomforestclassifier__max_depth=7, randomforestclassifier__n_estimators=500; total time=   5.1s\n",
      "[CV] END randomforestclassifier__max_depth=7, randomforestclassifier__n_estimators=500; total time=   6.1s\n",
      "[CV] END randomforestclassifier__max_depth=7, randomforestclassifier__n_estimators=500; total time=   5.6s\n",
      "[CV] END randomforestclassifier__max_depth=7, randomforestclassifier__n_estimators=500; total time=   5.0s\n",
      "[CV] END randomforestclassifier__max_depth=7, randomforestclassifier__n_estimators=500; total time=   5.5s\n",
      "[CV] END randomforestclassifier__max_depth=10, randomforestclassifier__n_estimators=50; total time=   3.2s\n",
      "[CV] END randomforestclassifier__max_depth=10, randomforestclassifier__n_estimators=50; total time=   2.9s\n",
      "[CV] END randomforestclassifier__max_depth=10, randomforestclassifier__n_estimators=50; total time=   4.0s\n"
     ]
    },
    {
     "ename": "KeyboardInterrupt",
     "evalue": "",
     "output_type": "error",
     "traceback": [
      "\u001b[1;31m---------------------------------------------------------------------------\u001b[0m",
      "\u001b[1;31mKeyboardInterrupt\u001b[0m                         Traceback (most recent call last)",
      "\u001b[1;32m~\\AppData\\Local\\Temp\\ipykernel_15092\\1635045241.py\u001b[0m in \u001b[0;36m<module>\u001b[1;34m\u001b[0m\n\u001b[0;32m     22\u001b[0m \u001b[1;31m# create random searcher with 10-fold cv and start tuning process\u001b[0m\u001b[1;33m\u001b[0m\u001b[1;33m\u001b[0m\u001b[1;33m\u001b[0m\u001b[0m\n\u001b[0;32m     23\u001b[0m \u001b[0mmodel_grid\u001b[0m \u001b[1;33m=\u001b[0m \u001b[0mGridSearchCV\u001b[0m\u001b[1;33m(\u001b[0m\u001b[0mestimator\u001b[0m\u001b[1;33m=\u001b[0m\u001b[0mimba_pipeline\u001b[0m\u001b[1;33m,\u001b[0m \u001b[0mparam_grid\u001b[0m\u001b[1;33m=\u001b[0m\u001b[0mgrid\u001b[0m\u001b[1;33m,\u001b[0m \u001b[0mn_jobs\u001b[0m\u001b[1;33m=\u001b[0m\u001b[1;36m1\u001b[0m\u001b[1;33m,\u001b[0m \u001b[0mcv\u001b[0m\u001b[1;33m=\u001b[0m\u001b[0mcv\u001b[0m\u001b[1;33m,\u001b[0m \u001b[0mverbose\u001b[0m\u001b[1;33m=\u001b[0m\u001b[1;36m2\u001b[0m\u001b[1;33m,\u001b[0m \u001b[0mscoring\u001b[0m\u001b[1;33m=\u001b[0m\u001b[1;34m'roc_auc'\u001b[0m\u001b[1;33m)\u001b[0m\u001b[1;33m\u001b[0m\u001b[1;33m\u001b[0m\u001b[0m\n\u001b[1;32m---> 24\u001b[1;33m \u001b[0mgrid_res\u001b[0m \u001b[1;33m=\u001b[0m \u001b[0mmodel_grid\u001b[0m\u001b[1;33m.\u001b[0m\u001b[0mfit\u001b[0m\u001b[1;33m(\u001b[0m\u001b[0mtrain_features\u001b[0m\u001b[1;33m,\u001b[0m \u001b[0mtrain_targets\u001b[0m\u001b[1;33m)\u001b[0m\u001b[1;33m\u001b[0m\u001b[1;33m\u001b[0m\u001b[0m\n\u001b[0m\u001b[0;32m     25\u001b[0m \u001b[1;33m\u001b[0m\u001b[0m\n\u001b[0;32m     26\u001b[0m \u001b[1;31m# summarise grid search info\u001b[0m\u001b[1;33m\u001b[0m\u001b[1;33m\u001b[0m\u001b[1;33m\u001b[0m\u001b[0m\n",
      "\u001b[1;32m~\\anaconda3\\envs\\seminar-marketing\\lib\\site-packages\\sklearn\\model_selection\\_search.py\u001b[0m in \u001b[0;36mfit\u001b[1;34m(self, X, y, groups, **fit_params)\u001b[0m\n\u001b[0;32m    889\u001b[0m                 \u001b[1;32mreturn\u001b[0m \u001b[0mresults\u001b[0m\u001b[1;33m\u001b[0m\u001b[1;33m\u001b[0m\u001b[0m\n\u001b[0;32m    890\u001b[0m \u001b[1;33m\u001b[0m\u001b[0m\n\u001b[1;32m--> 891\u001b[1;33m             \u001b[0mself\u001b[0m\u001b[1;33m.\u001b[0m\u001b[0m_run_search\u001b[0m\u001b[1;33m(\u001b[0m\u001b[0mevaluate_candidates\u001b[0m\u001b[1;33m)\u001b[0m\u001b[1;33m\u001b[0m\u001b[1;33m\u001b[0m\u001b[0m\n\u001b[0m\u001b[0;32m    892\u001b[0m \u001b[1;33m\u001b[0m\u001b[0m\n\u001b[0;32m    893\u001b[0m             \u001b[1;31m# multimetric is determined here because in the case of a callable\u001b[0m\u001b[1;33m\u001b[0m\u001b[1;33m\u001b[0m\u001b[1;33m\u001b[0m\u001b[0m\n",
      "\u001b[1;32m~\\anaconda3\\envs\\seminar-marketing\\lib\\site-packages\\sklearn\\model_selection\\_search.py\u001b[0m in \u001b[0;36m_run_search\u001b[1;34m(self, evaluate_candidates)\u001b[0m\n\u001b[0;32m   1390\u001b[0m     \u001b[1;32mdef\u001b[0m \u001b[0m_run_search\u001b[0m\u001b[1;33m(\u001b[0m\u001b[0mself\u001b[0m\u001b[1;33m,\u001b[0m \u001b[0mevaluate_candidates\u001b[0m\u001b[1;33m)\u001b[0m\u001b[1;33m:\u001b[0m\u001b[1;33m\u001b[0m\u001b[1;33m\u001b[0m\u001b[0m\n\u001b[0;32m   1391\u001b[0m         \u001b[1;34m\"\"\"Search all candidates in param_grid\"\"\"\u001b[0m\u001b[1;33m\u001b[0m\u001b[1;33m\u001b[0m\u001b[0m\n\u001b[1;32m-> 1392\u001b[1;33m         \u001b[0mevaluate_candidates\u001b[0m\u001b[1;33m(\u001b[0m\u001b[0mParameterGrid\u001b[0m\u001b[1;33m(\u001b[0m\u001b[0mself\u001b[0m\u001b[1;33m.\u001b[0m\u001b[0mparam_grid\u001b[0m\u001b[1;33m)\u001b[0m\u001b[1;33m)\u001b[0m\u001b[1;33m\u001b[0m\u001b[1;33m\u001b[0m\u001b[0m\n\u001b[0m\u001b[0;32m   1393\u001b[0m \u001b[1;33m\u001b[0m\u001b[0m\n\u001b[0;32m   1394\u001b[0m \u001b[1;33m\u001b[0m\u001b[0m\n",
      "\u001b[1;32m~\\anaconda3\\envs\\seminar-marketing\\lib\\site-packages\\sklearn\\model_selection\\_search.py\u001b[0m in \u001b[0;36mevaluate_candidates\u001b[1;34m(candidate_params, cv, more_results)\u001b[0m\n\u001b[0;32m    849\u001b[0m                     )\n\u001b[0;32m    850\u001b[0m                     for (cand_idx, parameters), (split_idx, (train, test)) in product(\n\u001b[1;32m--> 851\u001b[1;33m                         \u001b[0menumerate\u001b[0m\u001b[1;33m(\u001b[0m\u001b[0mcandidate_params\u001b[0m\u001b[1;33m)\u001b[0m\u001b[1;33m,\u001b[0m \u001b[0menumerate\u001b[0m\u001b[1;33m(\u001b[0m\u001b[0mcv\u001b[0m\u001b[1;33m.\u001b[0m\u001b[0msplit\u001b[0m\u001b[1;33m(\u001b[0m\u001b[0mX\u001b[0m\u001b[1;33m,\u001b[0m \u001b[0my\u001b[0m\u001b[1;33m,\u001b[0m \u001b[0mgroups\u001b[0m\u001b[1;33m)\u001b[0m\u001b[1;33m)\u001b[0m\u001b[1;33m\u001b[0m\u001b[1;33m\u001b[0m\u001b[0m\n\u001b[0m\u001b[0;32m    852\u001b[0m                     )\n\u001b[0;32m    853\u001b[0m                 )\n",
      "\u001b[1;32m~\\anaconda3\\envs\\seminar-marketing\\lib\\site-packages\\joblib\\parallel.py\u001b[0m in \u001b[0;36m__call__\u001b[1;34m(self, iterable)\u001b[0m\n\u001b[0;32m   1044\u001b[0m                 \u001b[0mself\u001b[0m\u001b[1;33m.\u001b[0m\u001b[0m_iterating\u001b[0m \u001b[1;33m=\u001b[0m \u001b[0mself\u001b[0m\u001b[1;33m.\u001b[0m\u001b[0m_original_iterator\u001b[0m \u001b[1;32mis\u001b[0m \u001b[1;32mnot\u001b[0m \u001b[1;32mNone\u001b[0m\u001b[1;33m\u001b[0m\u001b[1;33m\u001b[0m\u001b[0m\n\u001b[0;32m   1045\u001b[0m \u001b[1;33m\u001b[0m\u001b[0m\n\u001b[1;32m-> 1046\u001b[1;33m             \u001b[1;32mwhile\u001b[0m \u001b[0mself\u001b[0m\u001b[1;33m.\u001b[0m\u001b[0mdispatch_one_batch\u001b[0m\u001b[1;33m(\u001b[0m\u001b[0miterator\u001b[0m\u001b[1;33m)\u001b[0m\u001b[1;33m:\u001b[0m\u001b[1;33m\u001b[0m\u001b[1;33m\u001b[0m\u001b[0m\n\u001b[0m\u001b[0;32m   1047\u001b[0m                 \u001b[1;32mpass\u001b[0m\u001b[1;33m\u001b[0m\u001b[1;33m\u001b[0m\u001b[0m\n\u001b[0;32m   1048\u001b[0m \u001b[1;33m\u001b[0m\u001b[0m\n",
      "\u001b[1;32m~\\anaconda3\\envs\\seminar-marketing\\lib\\site-packages\\joblib\\parallel.py\u001b[0m in \u001b[0;36mdispatch_one_batch\u001b[1;34m(self, iterator)\u001b[0m\n\u001b[0;32m    859\u001b[0m                 \u001b[1;32mreturn\u001b[0m \u001b[1;32mFalse\u001b[0m\u001b[1;33m\u001b[0m\u001b[1;33m\u001b[0m\u001b[0m\n\u001b[0;32m    860\u001b[0m             \u001b[1;32melse\u001b[0m\u001b[1;33m:\u001b[0m\u001b[1;33m\u001b[0m\u001b[1;33m\u001b[0m\u001b[0m\n\u001b[1;32m--> 861\u001b[1;33m                 \u001b[0mself\u001b[0m\u001b[1;33m.\u001b[0m\u001b[0m_dispatch\u001b[0m\u001b[1;33m(\u001b[0m\u001b[0mtasks\u001b[0m\u001b[1;33m)\u001b[0m\u001b[1;33m\u001b[0m\u001b[1;33m\u001b[0m\u001b[0m\n\u001b[0m\u001b[0;32m    862\u001b[0m                 \u001b[1;32mreturn\u001b[0m \u001b[1;32mTrue\u001b[0m\u001b[1;33m\u001b[0m\u001b[1;33m\u001b[0m\u001b[0m\n\u001b[0;32m    863\u001b[0m \u001b[1;33m\u001b[0m\u001b[0m\n",
      "\u001b[1;32m~\\anaconda3\\envs\\seminar-marketing\\lib\\site-packages\\joblib\\parallel.py\u001b[0m in \u001b[0;36m_dispatch\u001b[1;34m(self, batch)\u001b[0m\n\u001b[0;32m    777\u001b[0m         \u001b[1;32mwith\u001b[0m \u001b[0mself\u001b[0m\u001b[1;33m.\u001b[0m\u001b[0m_lock\u001b[0m\u001b[1;33m:\u001b[0m\u001b[1;33m\u001b[0m\u001b[1;33m\u001b[0m\u001b[0m\n\u001b[0;32m    778\u001b[0m             \u001b[0mjob_idx\u001b[0m \u001b[1;33m=\u001b[0m \u001b[0mlen\u001b[0m\u001b[1;33m(\u001b[0m\u001b[0mself\u001b[0m\u001b[1;33m.\u001b[0m\u001b[0m_jobs\u001b[0m\u001b[1;33m)\u001b[0m\u001b[1;33m\u001b[0m\u001b[1;33m\u001b[0m\u001b[0m\n\u001b[1;32m--> 779\u001b[1;33m             \u001b[0mjob\u001b[0m \u001b[1;33m=\u001b[0m \u001b[0mself\u001b[0m\u001b[1;33m.\u001b[0m\u001b[0m_backend\u001b[0m\u001b[1;33m.\u001b[0m\u001b[0mapply_async\u001b[0m\u001b[1;33m(\u001b[0m\u001b[0mbatch\u001b[0m\u001b[1;33m,\u001b[0m \u001b[0mcallback\u001b[0m\u001b[1;33m=\u001b[0m\u001b[0mcb\u001b[0m\u001b[1;33m)\u001b[0m\u001b[1;33m\u001b[0m\u001b[1;33m\u001b[0m\u001b[0m\n\u001b[0m\u001b[0;32m    780\u001b[0m             \u001b[1;31m# A job can complete so quickly than its callback is\u001b[0m\u001b[1;33m\u001b[0m\u001b[1;33m\u001b[0m\u001b[1;33m\u001b[0m\u001b[0m\n\u001b[0;32m    781\u001b[0m             \u001b[1;31m# called before we get here, causing self._jobs to\u001b[0m\u001b[1;33m\u001b[0m\u001b[1;33m\u001b[0m\u001b[1;33m\u001b[0m\u001b[0m\n",
      "\u001b[1;32m~\\anaconda3\\envs\\seminar-marketing\\lib\\site-packages\\joblib\\_parallel_backends.py\u001b[0m in \u001b[0;36mapply_async\u001b[1;34m(self, func, callback)\u001b[0m\n\u001b[0;32m    206\u001b[0m     \u001b[1;32mdef\u001b[0m \u001b[0mapply_async\u001b[0m\u001b[1;33m(\u001b[0m\u001b[0mself\u001b[0m\u001b[1;33m,\u001b[0m \u001b[0mfunc\u001b[0m\u001b[1;33m,\u001b[0m \u001b[0mcallback\u001b[0m\u001b[1;33m=\u001b[0m\u001b[1;32mNone\u001b[0m\u001b[1;33m)\u001b[0m\u001b[1;33m:\u001b[0m\u001b[1;33m\u001b[0m\u001b[1;33m\u001b[0m\u001b[0m\n\u001b[0;32m    207\u001b[0m         \u001b[1;34m\"\"\"Schedule a func to be run\"\"\"\u001b[0m\u001b[1;33m\u001b[0m\u001b[1;33m\u001b[0m\u001b[0m\n\u001b[1;32m--> 208\u001b[1;33m         \u001b[0mresult\u001b[0m \u001b[1;33m=\u001b[0m \u001b[0mImmediateResult\u001b[0m\u001b[1;33m(\u001b[0m\u001b[0mfunc\u001b[0m\u001b[1;33m)\u001b[0m\u001b[1;33m\u001b[0m\u001b[1;33m\u001b[0m\u001b[0m\n\u001b[0m\u001b[0;32m    209\u001b[0m         \u001b[1;32mif\u001b[0m \u001b[0mcallback\u001b[0m\u001b[1;33m:\u001b[0m\u001b[1;33m\u001b[0m\u001b[1;33m\u001b[0m\u001b[0m\n\u001b[0;32m    210\u001b[0m             \u001b[0mcallback\u001b[0m\u001b[1;33m(\u001b[0m\u001b[0mresult\u001b[0m\u001b[1;33m)\u001b[0m\u001b[1;33m\u001b[0m\u001b[1;33m\u001b[0m\u001b[0m\n",
      "\u001b[1;32m~\\anaconda3\\envs\\seminar-marketing\\lib\\site-packages\\joblib\\_parallel_backends.py\u001b[0m in \u001b[0;36m__init__\u001b[1;34m(self, batch)\u001b[0m\n\u001b[0;32m    570\u001b[0m         \u001b[1;31m# Don't delay the application, to avoid keeping the input\u001b[0m\u001b[1;33m\u001b[0m\u001b[1;33m\u001b[0m\u001b[1;33m\u001b[0m\u001b[0m\n\u001b[0;32m    571\u001b[0m         \u001b[1;31m# arguments in memory\u001b[0m\u001b[1;33m\u001b[0m\u001b[1;33m\u001b[0m\u001b[1;33m\u001b[0m\u001b[0m\n\u001b[1;32m--> 572\u001b[1;33m         \u001b[0mself\u001b[0m\u001b[1;33m.\u001b[0m\u001b[0mresults\u001b[0m \u001b[1;33m=\u001b[0m \u001b[0mbatch\u001b[0m\u001b[1;33m(\u001b[0m\u001b[1;33m)\u001b[0m\u001b[1;33m\u001b[0m\u001b[1;33m\u001b[0m\u001b[0m\n\u001b[0m\u001b[0;32m    573\u001b[0m \u001b[1;33m\u001b[0m\u001b[0m\n\u001b[0;32m    574\u001b[0m     \u001b[1;32mdef\u001b[0m \u001b[0mget\u001b[0m\u001b[1;33m(\u001b[0m\u001b[0mself\u001b[0m\u001b[1;33m)\u001b[0m\u001b[1;33m:\u001b[0m\u001b[1;33m\u001b[0m\u001b[1;33m\u001b[0m\u001b[0m\n",
      "\u001b[1;32m~\\anaconda3\\envs\\seminar-marketing\\lib\\site-packages\\joblib\\parallel.py\u001b[0m in \u001b[0;36m__call__\u001b[1;34m(self)\u001b[0m\n\u001b[0;32m    261\u001b[0m         \u001b[1;32mwith\u001b[0m \u001b[0mparallel_backend\u001b[0m\u001b[1;33m(\u001b[0m\u001b[0mself\u001b[0m\u001b[1;33m.\u001b[0m\u001b[0m_backend\u001b[0m\u001b[1;33m,\u001b[0m \u001b[0mn_jobs\u001b[0m\u001b[1;33m=\u001b[0m\u001b[0mself\u001b[0m\u001b[1;33m.\u001b[0m\u001b[0m_n_jobs\u001b[0m\u001b[1;33m)\u001b[0m\u001b[1;33m:\u001b[0m\u001b[1;33m\u001b[0m\u001b[1;33m\u001b[0m\u001b[0m\n\u001b[0;32m    262\u001b[0m             return [func(*args, **kwargs)\n\u001b[1;32m--> 263\u001b[1;33m                     for func, args, kwargs in self.items]\n\u001b[0m\u001b[0;32m    264\u001b[0m \u001b[1;33m\u001b[0m\u001b[0m\n\u001b[0;32m    265\u001b[0m     \u001b[1;32mdef\u001b[0m \u001b[0m__reduce__\u001b[0m\u001b[1;33m(\u001b[0m\u001b[0mself\u001b[0m\u001b[1;33m)\u001b[0m\u001b[1;33m:\u001b[0m\u001b[1;33m\u001b[0m\u001b[1;33m\u001b[0m\u001b[0m\n",
      "\u001b[1;32m~\\anaconda3\\envs\\seminar-marketing\\lib\\site-packages\\joblib\\parallel.py\u001b[0m in \u001b[0;36m<listcomp>\u001b[1;34m(.0)\u001b[0m\n\u001b[0;32m    261\u001b[0m         \u001b[1;32mwith\u001b[0m \u001b[0mparallel_backend\u001b[0m\u001b[1;33m(\u001b[0m\u001b[0mself\u001b[0m\u001b[1;33m.\u001b[0m\u001b[0m_backend\u001b[0m\u001b[1;33m,\u001b[0m \u001b[0mn_jobs\u001b[0m\u001b[1;33m=\u001b[0m\u001b[0mself\u001b[0m\u001b[1;33m.\u001b[0m\u001b[0m_n_jobs\u001b[0m\u001b[1;33m)\u001b[0m\u001b[1;33m:\u001b[0m\u001b[1;33m\u001b[0m\u001b[1;33m\u001b[0m\u001b[0m\n\u001b[0;32m    262\u001b[0m             return [func(*args, **kwargs)\n\u001b[1;32m--> 263\u001b[1;33m                     for func, args, kwargs in self.items]\n\u001b[0m\u001b[0;32m    264\u001b[0m \u001b[1;33m\u001b[0m\u001b[0m\n\u001b[0;32m    265\u001b[0m     \u001b[1;32mdef\u001b[0m \u001b[0m__reduce__\u001b[0m\u001b[1;33m(\u001b[0m\u001b[0mself\u001b[0m\u001b[1;33m)\u001b[0m\u001b[1;33m:\u001b[0m\u001b[1;33m\u001b[0m\u001b[1;33m\u001b[0m\u001b[0m\n",
      "\u001b[1;32m~\\anaconda3\\envs\\seminar-marketing\\lib\\site-packages\\sklearn\\utils\\fixes.py\u001b[0m in \u001b[0;36m__call__\u001b[1;34m(self, *args, **kwargs)\u001b[0m\n\u001b[0;32m    214\u001b[0m     \u001b[1;32mdef\u001b[0m \u001b[0m__call__\u001b[0m\u001b[1;33m(\u001b[0m\u001b[0mself\u001b[0m\u001b[1;33m,\u001b[0m \u001b[1;33m*\u001b[0m\u001b[0margs\u001b[0m\u001b[1;33m,\u001b[0m \u001b[1;33m**\u001b[0m\u001b[0mkwargs\u001b[0m\u001b[1;33m)\u001b[0m\u001b[1;33m:\u001b[0m\u001b[1;33m\u001b[0m\u001b[1;33m\u001b[0m\u001b[0m\n\u001b[0;32m    215\u001b[0m         \u001b[1;32mwith\u001b[0m \u001b[0mconfig_context\u001b[0m\u001b[1;33m(\u001b[0m\u001b[1;33m**\u001b[0m\u001b[0mself\u001b[0m\u001b[1;33m.\u001b[0m\u001b[0mconfig\u001b[0m\u001b[1;33m)\u001b[0m\u001b[1;33m:\u001b[0m\u001b[1;33m\u001b[0m\u001b[1;33m\u001b[0m\u001b[0m\n\u001b[1;32m--> 216\u001b[1;33m             \u001b[1;32mreturn\u001b[0m \u001b[0mself\u001b[0m\u001b[1;33m.\u001b[0m\u001b[0mfunction\u001b[0m\u001b[1;33m(\u001b[0m\u001b[1;33m*\u001b[0m\u001b[0margs\u001b[0m\u001b[1;33m,\u001b[0m \u001b[1;33m**\u001b[0m\u001b[0mkwargs\u001b[0m\u001b[1;33m)\u001b[0m\u001b[1;33m\u001b[0m\u001b[1;33m\u001b[0m\u001b[0m\n\u001b[0m\u001b[0;32m    217\u001b[0m \u001b[1;33m\u001b[0m\u001b[0m\n\u001b[0;32m    218\u001b[0m \u001b[1;33m\u001b[0m\u001b[0m\n",
      "\u001b[1;32m~\\anaconda3\\envs\\seminar-marketing\\lib\\site-packages\\sklearn\\model_selection\\_validation.py\u001b[0m in \u001b[0;36m_fit_and_score\u001b[1;34m(estimator, X, y, scorer, train, test, verbose, parameters, fit_params, return_train_score, return_parameters, return_n_test_samples, return_times, return_estimator, split_progress, candidate_progress, error_score)\u001b[0m\n\u001b[0;32m    678\u001b[0m             \u001b[0mestimator\u001b[0m\u001b[1;33m.\u001b[0m\u001b[0mfit\u001b[0m\u001b[1;33m(\u001b[0m\u001b[0mX_train\u001b[0m\u001b[1;33m,\u001b[0m \u001b[1;33m**\u001b[0m\u001b[0mfit_params\u001b[0m\u001b[1;33m)\u001b[0m\u001b[1;33m\u001b[0m\u001b[1;33m\u001b[0m\u001b[0m\n\u001b[0;32m    679\u001b[0m         \u001b[1;32melse\u001b[0m\u001b[1;33m:\u001b[0m\u001b[1;33m\u001b[0m\u001b[1;33m\u001b[0m\u001b[0m\n\u001b[1;32m--> 680\u001b[1;33m             \u001b[0mestimator\u001b[0m\u001b[1;33m.\u001b[0m\u001b[0mfit\u001b[0m\u001b[1;33m(\u001b[0m\u001b[0mX_train\u001b[0m\u001b[1;33m,\u001b[0m \u001b[0my_train\u001b[0m\u001b[1;33m,\u001b[0m \u001b[1;33m**\u001b[0m\u001b[0mfit_params\u001b[0m\u001b[1;33m)\u001b[0m\u001b[1;33m\u001b[0m\u001b[1;33m\u001b[0m\u001b[0m\n\u001b[0m\u001b[0;32m    681\u001b[0m \u001b[1;33m\u001b[0m\u001b[0m\n\u001b[0;32m    682\u001b[0m     \u001b[1;32mexcept\u001b[0m \u001b[0mException\u001b[0m\u001b[1;33m:\u001b[0m\u001b[1;33m\u001b[0m\u001b[1;33m\u001b[0m\u001b[0m\n",
      "\u001b[1;32m~\\anaconda3\\envs\\seminar-marketing\\lib\\site-packages\\imblearn\\pipeline.py\u001b[0m in \u001b[0;36mfit\u001b[1;34m(self, X, y, **fit_params)\u001b[0m\n\u001b[0;32m    266\u001b[0m         \"\"\"\n\u001b[0;32m    267\u001b[0m         \u001b[0mfit_params_steps\u001b[0m \u001b[1;33m=\u001b[0m \u001b[0mself\u001b[0m\u001b[1;33m.\u001b[0m\u001b[0m_check_fit_params\u001b[0m\u001b[1;33m(\u001b[0m\u001b[1;33m**\u001b[0m\u001b[0mfit_params\u001b[0m\u001b[1;33m)\u001b[0m\u001b[1;33m\u001b[0m\u001b[1;33m\u001b[0m\u001b[0m\n\u001b[1;32m--> 268\u001b[1;33m         \u001b[0mXt\u001b[0m\u001b[1;33m,\u001b[0m \u001b[0myt\u001b[0m \u001b[1;33m=\u001b[0m \u001b[0mself\u001b[0m\u001b[1;33m.\u001b[0m\u001b[0m_fit\u001b[0m\u001b[1;33m(\u001b[0m\u001b[0mX\u001b[0m\u001b[1;33m,\u001b[0m \u001b[0my\u001b[0m\u001b[1;33m,\u001b[0m \u001b[1;33m**\u001b[0m\u001b[0mfit_params_steps\u001b[0m\u001b[1;33m)\u001b[0m\u001b[1;33m\u001b[0m\u001b[1;33m\u001b[0m\u001b[0m\n\u001b[0m\u001b[0;32m    269\u001b[0m         \u001b[1;32mwith\u001b[0m \u001b[0m_print_elapsed_time\u001b[0m\u001b[1;33m(\u001b[0m\u001b[1;34m\"Pipeline\"\u001b[0m\u001b[1;33m,\u001b[0m \u001b[0mself\u001b[0m\u001b[1;33m.\u001b[0m\u001b[0m_log_message\u001b[0m\u001b[1;33m(\u001b[0m\u001b[0mlen\u001b[0m\u001b[1;33m(\u001b[0m\u001b[0mself\u001b[0m\u001b[1;33m.\u001b[0m\u001b[0msteps\u001b[0m\u001b[1;33m)\u001b[0m \u001b[1;33m-\u001b[0m \u001b[1;36m1\u001b[0m\u001b[1;33m)\u001b[0m\u001b[1;33m)\u001b[0m\u001b[1;33m:\u001b[0m\u001b[1;33m\u001b[0m\u001b[1;33m\u001b[0m\u001b[0m\n\u001b[0;32m    270\u001b[0m             \u001b[1;32mif\u001b[0m \u001b[0mself\u001b[0m\u001b[1;33m.\u001b[0m\u001b[0m_final_estimator\u001b[0m \u001b[1;33m!=\u001b[0m \u001b[1;34m\"passthrough\"\u001b[0m\u001b[1;33m:\u001b[0m\u001b[1;33m\u001b[0m\u001b[1;33m\u001b[0m\u001b[0m\n",
      "\u001b[1;32m~\\anaconda3\\envs\\seminar-marketing\\lib\\site-packages\\imblearn\\pipeline.py\u001b[0m in \u001b[0;36m_fit\u001b[1;34m(self, X, y, **fit_params_steps)\u001b[0m\n\u001b[0;32m    230\u001b[0m                     \u001b[0mmessage_clsname\u001b[0m\u001b[1;33m=\u001b[0m\u001b[1;34m\"Pipeline\"\u001b[0m\u001b[1;33m,\u001b[0m\u001b[1;33m\u001b[0m\u001b[1;33m\u001b[0m\u001b[0m\n\u001b[0;32m    231\u001b[0m                     \u001b[0mmessage\u001b[0m\u001b[1;33m=\u001b[0m\u001b[0mself\u001b[0m\u001b[1;33m.\u001b[0m\u001b[0m_log_message\u001b[0m\u001b[1;33m(\u001b[0m\u001b[0mstep_idx\u001b[0m\u001b[1;33m)\u001b[0m\u001b[1;33m,\u001b[0m\u001b[1;33m\u001b[0m\u001b[1;33m\u001b[0m\u001b[0m\n\u001b[1;32m--> 232\u001b[1;33m                     \u001b[1;33m**\u001b[0m\u001b[0mfit_params_steps\u001b[0m\u001b[1;33m[\u001b[0m\u001b[0mname\u001b[0m\u001b[1;33m]\u001b[0m\u001b[1;33m,\u001b[0m\u001b[1;33m\u001b[0m\u001b[1;33m\u001b[0m\u001b[0m\n\u001b[0m\u001b[0;32m    233\u001b[0m                 )\n\u001b[0;32m    234\u001b[0m             \u001b[1;31m# Replace the transformer of the step with the fitted\u001b[0m\u001b[1;33m\u001b[0m\u001b[1;33m\u001b[0m\u001b[1;33m\u001b[0m\u001b[0m\n",
      "\u001b[1;32m~\\anaconda3\\envs\\seminar-marketing\\lib\\site-packages\\joblib\\memory.py\u001b[0m in \u001b[0;36m__call__\u001b[1;34m(self, *args, **kwargs)\u001b[0m\n\u001b[0;32m    347\u001b[0m \u001b[1;33m\u001b[0m\u001b[0m\n\u001b[0;32m    348\u001b[0m     \u001b[1;32mdef\u001b[0m \u001b[0m__call__\u001b[0m\u001b[1;33m(\u001b[0m\u001b[0mself\u001b[0m\u001b[1;33m,\u001b[0m \u001b[1;33m*\u001b[0m\u001b[0margs\u001b[0m\u001b[1;33m,\u001b[0m \u001b[1;33m**\u001b[0m\u001b[0mkwargs\u001b[0m\u001b[1;33m)\u001b[0m\u001b[1;33m:\u001b[0m\u001b[1;33m\u001b[0m\u001b[1;33m\u001b[0m\u001b[0m\n\u001b[1;32m--> 349\u001b[1;33m         \u001b[1;32mreturn\u001b[0m \u001b[0mself\u001b[0m\u001b[1;33m.\u001b[0m\u001b[0mfunc\u001b[0m\u001b[1;33m(\u001b[0m\u001b[1;33m*\u001b[0m\u001b[0margs\u001b[0m\u001b[1;33m,\u001b[0m \u001b[1;33m**\u001b[0m\u001b[0mkwargs\u001b[0m\u001b[1;33m)\u001b[0m\u001b[1;33m\u001b[0m\u001b[1;33m\u001b[0m\u001b[0m\n\u001b[0m\u001b[0;32m    350\u001b[0m \u001b[1;33m\u001b[0m\u001b[0m\n\u001b[0;32m    351\u001b[0m     \u001b[1;32mdef\u001b[0m \u001b[0mcall_and_shelve\u001b[0m\u001b[1;33m(\u001b[0m\u001b[0mself\u001b[0m\u001b[1;33m,\u001b[0m \u001b[1;33m*\u001b[0m\u001b[0margs\u001b[0m\u001b[1;33m,\u001b[0m \u001b[1;33m**\u001b[0m\u001b[0mkwargs\u001b[0m\u001b[1;33m)\u001b[0m\u001b[1;33m:\u001b[0m\u001b[1;33m\u001b[0m\u001b[1;33m\u001b[0m\u001b[0m\n",
      "\u001b[1;32m~\\anaconda3\\envs\\seminar-marketing\\lib\\site-packages\\imblearn\\pipeline.py\u001b[0m in \u001b[0;36m_fit_resample_one\u001b[1;34m(sampler, X, y, message_clsname, message, **fit_params)\u001b[0m\n\u001b[0;32m    392\u001b[0m \u001b[1;32mdef\u001b[0m \u001b[0m_fit_resample_one\u001b[0m\u001b[1;33m(\u001b[0m\u001b[0msampler\u001b[0m\u001b[1;33m,\u001b[0m \u001b[0mX\u001b[0m\u001b[1;33m,\u001b[0m \u001b[0my\u001b[0m\u001b[1;33m,\u001b[0m \u001b[0mmessage_clsname\u001b[0m\u001b[1;33m=\u001b[0m\u001b[1;34m\"\"\u001b[0m\u001b[1;33m,\u001b[0m \u001b[0mmessage\u001b[0m\u001b[1;33m=\u001b[0m\u001b[1;32mNone\u001b[0m\u001b[1;33m,\u001b[0m \u001b[1;33m**\u001b[0m\u001b[0mfit_params\u001b[0m\u001b[1;33m)\u001b[0m\u001b[1;33m:\u001b[0m\u001b[1;33m\u001b[0m\u001b[1;33m\u001b[0m\u001b[0m\n\u001b[0;32m    393\u001b[0m     \u001b[1;32mwith\u001b[0m \u001b[0m_print_elapsed_time\u001b[0m\u001b[1;33m(\u001b[0m\u001b[0mmessage_clsname\u001b[0m\u001b[1;33m,\u001b[0m \u001b[0mmessage\u001b[0m\u001b[1;33m)\u001b[0m\u001b[1;33m:\u001b[0m\u001b[1;33m\u001b[0m\u001b[1;33m\u001b[0m\u001b[0m\n\u001b[1;32m--> 394\u001b[1;33m         \u001b[0mX_res\u001b[0m\u001b[1;33m,\u001b[0m \u001b[0my_res\u001b[0m \u001b[1;33m=\u001b[0m \u001b[0msampler\u001b[0m\u001b[1;33m.\u001b[0m\u001b[0mfit_resample\u001b[0m\u001b[1;33m(\u001b[0m\u001b[0mX\u001b[0m\u001b[1;33m,\u001b[0m \u001b[0my\u001b[0m\u001b[1;33m,\u001b[0m \u001b[1;33m**\u001b[0m\u001b[0mfit_params\u001b[0m\u001b[1;33m)\u001b[0m\u001b[1;33m\u001b[0m\u001b[1;33m\u001b[0m\u001b[0m\n\u001b[0m\u001b[0;32m    395\u001b[0m \u001b[1;33m\u001b[0m\u001b[0m\n\u001b[0;32m    396\u001b[0m         \u001b[1;32mreturn\u001b[0m \u001b[0mX_res\u001b[0m\u001b[1;33m,\u001b[0m \u001b[0my_res\u001b[0m\u001b[1;33m,\u001b[0m \u001b[0msampler\u001b[0m\u001b[1;33m\u001b[0m\u001b[1;33m\u001b[0m\u001b[0m\n",
      "\u001b[1;32m~\\anaconda3\\envs\\seminar-marketing\\lib\\site-packages\\imblearn\\base.py\u001b[0m in \u001b[0;36mfit_resample\u001b[1;34m(self, X, y)\u001b[0m\n\u001b[0;32m     81\u001b[0m         )\n\u001b[0;32m     82\u001b[0m \u001b[1;33m\u001b[0m\u001b[0m\n\u001b[1;32m---> 83\u001b[1;33m         \u001b[0moutput\u001b[0m \u001b[1;33m=\u001b[0m \u001b[0mself\u001b[0m\u001b[1;33m.\u001b[0m\u001b[0m_fit_resample\u001b[0m\u001b[1;33m(\u001b[0m\u001b[0mX\u001b[0m\u001b[1;33m,\u001b[0m \u001b[0my\u001b[0m\u001b[1;33m)\u001b[0m\u001b[1;33m\u001b[0m\u001b[1;33m\u001b[0m\u001b[0m\n\u001b[0m\u001b[0;32m     84\u001b[0m \u001b[1;33m\u001b[0m\u001b[0m\n\u001b[0;32m     85\u001b[0m         y_ = (\n",
      "\u001b[1;32m~\\anaconda3\\envs\\seminar-marketing\\lib\\site-packages\\imblearn\\under_sampling\\_prototype_selection\\_nearmiss.py\u001b[0m in \u001b[0;36m_fit_resample\u001b[1;34m(self, X, y)\u001b[0m\n\u001b[0;32m    233\u001b[0m                 \u001b[1;32mif\u001b[0m \u001b[0mself\u001b[0m\u001b[1;33m.\u001b[0m\u001b[0mversion\u001b[0m \u001b[1;33m==\u001b[0m \u001b[1;36m1\u001b[0m\u001b[1;33m:\u001b[0m\u001b[1;33m\u001b[0m\u001b[1;33m\u001b[0m\u001b[0m\n\u001b[0;32m    234\u001b[0m                     dist_vec, idx_vec = self.nn_.kneighbors(\n\u001b[1;32m--> 235\u001b[1;33m                         \u001b[0mX_class\u001b[0m\u001b[1;33m,\u001b[0m \u001b[0mn_neighbors\u001b[0m\u001b[1;33m=\u001b[0m\u001b[0mself\u001b[0m\u001b[1;33m.\u001b[0m\u001b[0mnn_\u001b[0m\u001b[1;33m.\u001b[0m\u001b[0mn_neighbors\u001b[0m\u001b[1;33m\u001b[0m\u001b[1;33m\u001b[0m\u001b[0m\n\u001b[0m\u001b[0;32m    236\u001b[0m                     )\n\u001b[0;32m    237\u001b[0m                     index_target_class = self._selection_dist_based(\n",
      "\u001b[1;32m~\\anaconda3\\envs\\seminar-marketing\\lib\\site-packages\\sklearn\\neighbors\\_base.py\u001b[0m in \u001b[0;36mkneighbors\u001b[1;34m(self, X, n_neighbors, return_distance)\u001b[0m\n\u001b[0;32m    757\u001b[0m                     \u001b[0mmetric\u001b[0m\u001b[1;33m=\u001b[0m\u001b[0mself\u001b[0m\u001b[1;33m.\u001b[0m\u001b[0meffective_metric_\u001b[0m\u001b[1;33m,\u001b[0m\u001b[1;33m\u001b[0m\u001b[1;33m\u001b[0m\u001b[0m\n\u001b[0;32m    758\u001b[0m                     \u001b[0mn_jobs\u001b[0m\u001b[1;33m=\u001b[0m\u001b[0mn_jobs\u001b[0m\u001b[1;33m,\u001b[0m\u001b[1;33m\u001b[0m\u001b[1;33m\u001b[0m\u001b[0m\n\u001b[1;32m--> 759\u001b[1;33m                     \u001b[1;33m**\u001b[0m\u001b[0mkwds\u001b[0m\u001b[1;33m,\u001b[0m\u001b[1;33m\u001b[0m\u001b[1;33m\u001b[0m\u001b[0m\n\u001b[0m\u001b[0;32m    760\u001b[0m                 )\n\u001b[0;32m    761\u001b[0m             )\n",
      "\u001b[1;32m~\\anaconda3\\envs\\seminar-marketing\\lib\\site-packages\\sklearn\\metrics\\pairwise.py\u001b[0m in \u001b[0;36mpairwise_distances_chunked\u001b[1;34m(X, Y, reduce_func, metric, n_jobs, working_memory, **kwds)\u001b[0m\n\u001b[0;32m   1715\u001b[0m         \u001b[1;32melse\u001b[0m\u001b[1;33m:\u001b[0m\u001b[1;33m\u001b[0m\u001b[1;33m\u001b[0m\u001b[0m\n\u001b[0;32m   1716\u001b[0m             \u001b[0mX_chunk\u001b[0m \u001b[1;33m=\u001b[0m \u001b[0mX\u001b[0m\u001b[1;33m[\u001b[0m\u001b[0msl\u001b[0m\u001b[1;33m]\u001b[0m\u001b[1;33m\u001b[0m\u001b[1;33m\u001b[0m\u001b[0m\n\u001b[1;32m-> 1717\u001b[1;33m         \u001b[0mD_chunk\u001b[0m \u001b[1;33m=\u001b[0m \u001b[0mpairwise_distances\u001b[0m\u001b[1;33m(\u001b[0m\u001b[0mX_chunk\u001b[0m\u001b[1;33m,\u001b[0m \u001b[0mY\u001b[0m\u001b[1;33m,\u001b[0m \u001b[0mmetric\u001b[0m\u001b[1;33m=\u001b[0m\u001b[0mmetric\u001b[0m\u001b[1;33m,\u001b[0m \u001b[0mn_jobs\u001b[0m\u001b[1;33m=\u001b[0m\u001b[0mn_jobs\u001b[0m\u001b[1;33m,\u001b[0m \u001b[1;33m**\u001b[0m\u001b[0mkwds\u001b[0m\u001b[1;33m)\u001b[0m\u001b[1;33m\u001b[0m\u001b[1;33m\u001b[0m\u001b[0m\n\u001b[0m\u001b[0;32m   1718\u001b[0m         if (X is Y or Y is None) and PAIRWISE_DISTANCE_FUNCTIONS.get(\n\u001b[0;32m   1719\u001b[0m             \u001b[0mmetric\u001b[0m\u001b[1;33m,\u001b[0m \u001b[1;32mNone\u001b[0m\u001b[1;33m\u001b[0m\u001b[1;33m\u001b[0m\u001b[0m\n",
      "\u001b[1;32m~\\anaconda3\\envs\\seminar-marketing\\lib\\site-packages\\sklearn\\metrics\\pairwise.py\u001b[0m in \u001b[0;36mpairwise_distances\u001b[1;34m(X, Y, metric, n_jobs, force_all_finite, **kwds)\u001b[0m\n\u001b[0;32m   1887\u001b[0m         \u001b[0mfunc\u001b[0m \u001b[1;33m=\u001b[0m \u001b[0mpartial\u001b[0m\u001b[1;33m(\u001b[0m\u001b[0mdistance\u001b[0m\u001b[1;33m.\u001b[0m\u001b[0mcdist\u001b[0m\u001b[1;33m,\u001b[0m \u001b[0mmetric\u001b[0m\u001b[1;33m=\u001b[0m\u001b[0mmetric\u001b[0m\u001b[1;33m,\u001b[0m \u001b[1;33m**\u001b[0m\u001b[0mkwds\u001b[0m\u001b[1;33m)\u001b[0m\u001b[1;33m\u001b[0m\u001b[1;33m\u001b[0m\u001b[0m\n\u001b[0;32m   1888\u001b[0m \u001b[1;33m\u001b[0m\u001b[0m\n\u001b[1;32m-> 1889\u001b[1;33m     \u001b[1;32mreturn\u001b[0m \u001b[0m_parallel_pairwise\u001b[0m\u001b[1;33m(\u001b[0m\u001b[0mX\u001b[0m\u001b[1;33m,\u001b[0m \u001b[0mY\u001b[0m\u001b[1;33m,\u001b[0m \u001b[0mfunc\u001b[0m\u001b[1;33m,\u001b[0m \u001b[0mn_jobs\u001b[0m\u001b[1;33m,\u001b[0m \u001b[1;33m**\u001b[0m\u001b[0mkwds\u001b[0m\u001b[1;33m)\u001b[0m\u001b[1;33m\u001b[0m\u001b[1;33m\u001b[0m\u001b[0m\n\u001b[0m\u001b[0;32m   1890\u001b[0m \u001b[1;33m\u001b[0m\u001b[0m\n\u001b[0;32m   1891\u001b[0m \u001b[1;33m\u001b[0m\u001b[0m\n",
      "\u001b[1;32m~\\anaconda3\\envs\\seminar-marketing\\lib\\site-packages\\sklearn\\metrics\\pairwise.py\u001b[0m in \u001b[0;36m_parallel_pairwise\u001b[1;34m(X, Y, func, n_jobs, **kwds)\u001b[0m\n\u001b[0;32m   1428\u001b[0m \u001b[1;33m\u001b[0m\u001b[0m\n\u001b[0;32m   1429\u001b[0m     \u001b[1;32mif\u001b[0m \u001b[0meffective_n_jobs\u001b[0m\u001b[1;33m(\u001b[0m\u001b[0mn_jobs\u001b[0m\u001b[1;33m)\u001b[0m \u001b[1;33m==\u001b[0m \u001b[1;36m1\u001b[0m\u001b[1;33m:\u001b[0m\u001b[1;33m\u001b[0m\u001b[1;33m\u001b[0m\u001b[0m\n\u001b[1;32m-> 1430\u001b[1;33m         \u001b[1;32mreturn\u001b[0m \u001b[0mfunc\u001b[0m\u001b[1;33m(\u001b[0m\u001b[0mX\u001b[0m\u001b[1;33m,\u001b[0m \u001b[0mY\u001b[0m\u001b[1;33m,\u001b[0m \u001b[1;33m**\u001b[0m\u001b[0mkwds\u001b[0m\u001b[1;33m)\u001b[0m\u001b[1;33m\u001b[0m\u001b[1;33m\u001b[0m\u001b[0m\n\u001b[0m\u001b[0;32m   1431\u001b[0m \u001b[1;33m\u001b[0m\u001b[0m\n\u001b[0;32m   1432\u001b[0m     \u001b[1;31m# enforce a threading backend to prevent data communication overhead\u001b[0m\u001b[1;33m\u001b[0m\u001b[1;33m\u001b[0m\u001b[1;33m\u001b[0m\u001b[0m\n",
      "\u001b[1;32m~\\anaconda3\\envs\\seminar-marketing\\lib\\site-packages\\sklearn\\metrics\\pairwise.py\u001b[0m in \u001b[0;36meuclidean_distances\u001b[1;34m(X, Y, Y_norm_squared, squared, X_norm_squared)\u001b[0m\n\u001b[0;32m    328\u001b[0m             )\n\u001b[0;32m    329\u001b[0m \u001b[1;33m\u001b[0m\u001b[0m\n\u001b[1;32m--> 330\u001b[1;33m     \u001b[1;32mreturn\u001b[0m \u001b[0m_euclidean_distances\u001b[0m\u001b[1;33m(\u001b[0m\u001b[0mX\u001b[0m\u001b[1;33m,\u001b[0m \u001b[0mY\u001b[0m\u001b[1;33m,\u001b[0m \u001b[0mX_norm_squared\u001b[0m\u001b[1;33m,\u001b[0m \u001b[0mY_norm_squared\u001b[0m\u001b[1;33m,\u001b[0m \u001b[0msquared\u001b[0m\u001b[1;33m)\u001b[0m\u001b[1;33m\u001b[0m\u001b[1;33m\u001b[0m\u001b[0m\n\u001b[0m\u001b[0;32m    331\u001b[0m \u001b[1;33m\u001b[0m\u001b[0m\n\u001b[0;32m    332\u001b[0m \u001b[1;33m\u001b[0m\u001b[0m\n",
      "\u001b[1;32m~\\anaconda3\\envs\\seminar-marketing\\lib\\site-packages\\sklearn\\metrics\\pairwise.py\u001b[0m in \u001b[0;36m_euclidean_distances\u001b[1;34m(X, Y, X_norm_squared, Y_norm_squared, squared)\u001b[0m\n\u001b[0;32m    369\u001b[0m     \u001b[1;32melse\u001b[0m\u001b[1;33m:\u001b[0m\u001b[1;33m\u001b[0m\u001b[1;33m\u001b[0m\u001b[0m\n\u001b[0;32m    370\u001b[0m         \u001b[1;31m# if dtype is already float64, no need to chunk and upcast\u001b[0m\u001b[1;33m\u001b[0m\u001b[1;33m\u001b[0m\u001b[1;33m\u001b[0m\u001b[0m\n\u001b[1;32m--> 371\u001b[1;33m         \u001b[0mdistances\u001b[0m \u001b[1;33m=\u001b[0m \u001b[1;33m-\u001b[0m\u001b[1;36m2\u001b[0m \u001b[1;33m*\u001b[0m \u001b[0msafe_sparse_dot\u001b[0m\u001b[1;33m(\u001b[0m\u001b[0mX\u001b[0m\u001b[1;33m,\u001b[0m \u001b[0mY\u001b[0m\u001b[1;33m.\u001b[0m\u001b[0mT\u001b[0m\u001b[1;33m,\u001b[0m \u001b[0mdense_output\u001b[0m\u001b[1;33m=\u001b[0m\u001b[1;32mTrue\u001b[0m\u001b[1;33m)\u001b[0m\u001b[1;33m\u001b[0m\u001b[1;33m\u001b[0m\u001b[0m\n\u001b[0m\u001b[0;32m    372\u001b[0m         \u001b[0mdistances\u001b[0m \u001b[1;33m+=\u001b[0m \u001b[0mXX\u001b[0m\u001b[1;33m\u001b[0m\u001b[1;33m\u001b[0m\u001b[0m\n\u001b[0;32m    373\u001b[0m         \u001b[0mdistances\u001b[0m \u001b[1;33m+=\u001b[0m \u001b[0mYY\u001b[0m\u001b[1;33m\u001b[0m\u001b[1;33m\u001b[0m\u001b[0m\n",
      "\u001b[1;32m~\\anaconda3\\envs\\seminar-marketing\\lib\\site-packages\\sklearn\\utils\\extmath.py\u001b[0m in \u001b[0;36msafe_sparse_dot\u001b[1;34m(a, b, dense_output)\u001b[0m\n\u001b[0;32m    151\u001b[0m             \u001b[0mret\u001b[0m \u001b[1;33m=\u001b[0m \u001b[0mnp\u001b[0m\u001b[1;33m.\u001b[0m\u001b[0mdot\u001b[0m\u001b[1;33m(\u001b[0m\u001b[0ma\u001b[0m\u001b[1;33m,\u001b[0m \u001b[0mb\u001b[0m\u001b[1;33m)\u001b[0m\u001b[1;33m\u001b[0m\u001b[1;33m\u001b[0m\u001b[0m\n\u001b[0;32m    152\u001b[0m     \u001b[1;32melse\u001b[0m\u001b[1;33m:\u001b[0m\u001b[1;33m\u001b[0m\u001b[1;33m\u001b[0m\u001b[0m\n\u001b[1;32m--> 153\u001b[1;33m         \u001b[0mret\u001b[0m \u001b[1;33m=\u001b[0m \u001b[0ma\u001b[0m \u001b[1;33m@\u001b[0m \u001b[0mb\u001b[0m\u001b[1;33m\u001b[0m\u001b[1;33m\u001b[0m\u001b[0m\n\u001b[0m\u001b[0;32m    154\u001b[0m \u001b[1;33m\u001b[0m\u001b[0m\n\u001b[0;32m    155\u001b[0m     if (\n",
      "\u001b[1;31mKeyboardInterrupt\u001b[0m: "
     ]
    }
   ],
   "source": [
    "# define hyperparameter search space\n",
    "n_estimators = [50,100,150,200,300,500]\n",
    "max_depth = range(1,16,3)\n",
    "\n",
    "# create dictionary from search space\n",
    "grid = dict(\n",
    "    randomforestclassifier__max_depth=max_depth,\n",
    "    randomforestclassifier__n_estimators=n_estimators\n",
    ")\n",
    "\n",
    "# create 10-fold cross validation generator\n",
    "cv = KFold(n_splits=10)\n",
    "\n",
    "# create imbalanced learn pipeline\n",
    "imba_pipeline = make_pipeline(NearMiss(version=1), RandomForestClassifier(n_estimators=n_estimators, max_depth=max_depth, random_state=23))\n",
    "\n",
    "# create random searcher with 10-fold cv and start tuning process\n",
    "model_grid = GridSearchCV(estimator=imba_pipeline, param_grid=grid, n_jobs=1, cv=cv, verbose=2, scoring='roc_auc')\n",
    "grid_res = model_grid.fit(train_features, train_targets)\n",
    "\n",
    "# summarise grid search info\n",
    "bestScore = grid_res.best_score_\n",
    "bestParams = grid_res.best_params_\n"
   ]
  },
  {
   "cell_type": "code",
   "execution_count": 4,
   "id": "a6f294e5",
   "metadata": {
    "scrolled": true
   },
   "outputs": [
    {
     "name": "stdout",
     "output_type": "stream",
     "text": [
      "[INFO] best score is 0.75 using {'randomforestclassifier__max_depth': 4, 'randomforestclassifier__n_estimators': 500}\n"
     ]
    }
   ],
   "source": [
    "print(\"[INFO] best score is {:.2f} using {}\".format(bestScore, bestParams))"
   ]
  },
  {
   "cell_type": "code",
   "execution_count": 4,
   "id": "2d910e49",
   "metadata": {},
   "outputs": [],
   "source": [
    "# use best hyperparameters\n",
    "max_depth = 4\n",
    "n_estimators = 500"
   ]
  },
  {
   "cell_type": "markdown",
   "id": "a6f0ca3f",
   "metadata": {},
   "source": [
    "## Undersample training data for further analysis"
   ]
  },
  {
   "cell_type": "code",
   "execution_count": 5,
   "id": "1e4a3813",
   "metadata": {
    "scrolled": true
   },
   "outputs": [
    {
     "data": {
      "text/plain": [
       "((32950, 19), (7506, 19))"
      ]
     },
     "execution_count": 5,
     "metadata": {},
     "output_type": "execute_result"
    }
   ],
   "source": [
    "# undersample training data usinig nearmiss 1\n",
    "nm = NearMiss(version = 1)\n",
    "x_res, y_res = nm.fit_resample(train_features, train_targets)\n",
    "train_features.shape, x_res.shape"
   ]
  },
  {
   "cell_type": "markdown",
   "id": "393439b3",
   "metadata": {},
   "source": [
    "## Overfit analysis"
   ]
  },
  {
   "cell_type": "markdown",
   "id": "f2e0d4e6",
   "metadata": {},
   "source": [
    "#### Check for overfitting by varying n_estimators"
   ]
  },
  {
   "cell_type": "code",
   "execution_count": 6,
   "id": "e652d8f3",
   "metadata": {
    "scrolled": true
   },
   "outputs": [
    {
     "name": "stdout",
     "output_type": "stream",
     "text": [
      "n_estimator: 1, train: 0.804, test: 0.679\n",
      "n_estimator: 51, train: 0.818, test: 0.679\n",
      "n_estimator: 101, train: 0.817, test: 0.684\n",
      "n_estimator: 151, train: 0.816, test: 0.684\n",
      "n_estimator: 201, train: 0.817, test: 0.683\n",
      "n_estimator: 251, train: 0.817, test: 0.683\n",
      "n_estimator: 301, train: 0.817, test: 0.679\n",
      "n_estimator: 351, train: 0.817, test: 0.681\n",
      "n_estimator: 401, train: 0.818, test: 0.681\n",
      "n_estimator: 451, train: 0.818, test: 0.680\n",
      "n_estimator: 501, train: 0.818, test: 0.681\n",
      "n_estimator: 551, train: 0.817, test: 0.682\n",
      "n_estimator: 601, train: 0.817, test: 0.682\n",
      "n_estimator: 651, train: 0.817, test: 0.682\n",
      "n_estimator: 701, train: 0.818, test: 0.680\n",
      "n_estimator: 751, train: 0.818, test: 0.680\n",
      "n_estimator: 801, train: 0.818, test: 0.680\n",
      "n_estimator: 851, train: 0.818, test: 0.681\n",
      "n_estimator: 901, train: 0.818, test: 0.680\n",
      "n_estimator: 951, train: 0.818, test: 0.680\n"
     ]
    },
    {
     "data": {
      "image/png": "[encoded data removed]",
      "text/plain": [
       "<Figure size 432x288 with 1 Axes>"
      ]
     },
     "metadata": {
      "needs_background": "light"
     },
     "output_type": "display_data"
    }
   ],
   "source": [
    "# define lists to collect scores\n",
    "train_scores, test_scores = list(), list()\n",
    "\n",
    "# define the estimators to evaluate\n",
    "values = [i for i in range(1, 1000, 50)]\n",
    "# evaluate a decision tree for estimator\n",
    "for i in values:\n",
    "    # configure the model\n",
    "    model = RandomForestClassifier(n_estimators=i, max_depth=max_depth, random_state=23).fit(\n",
    "        x_res, y_res)\n",
    "    # evaluate on the train dataset\n",
    "    prediction = model.predict(x_res)\n",
    "    train_acc = roc_auc_score(y_res, prediction)\n",
    "    train_scores.append(train_acc)\n",
    "    # evaluate on the test dataset\n",
    "    test_prediction = model.predict(test_features)\n",
    "    test_acc = roc_auc_score(test_targets, test_prediction)\n",
    "    test_scores.append(test_acc)\n",
    "    # summarize progress\n",
    "    print('n_estimator: %.0f, train: %.3f, test: %.3f' % (i, train_acc, test_acc))\n",
    "# plot of train and test scores vs n_estimator\n",
    "pyplot.plot(values, train_scores, '-o', label='Train')\n",
    "pyplot.plot(values, test_scores, '-o', label='Test')\n",
    "pyplot.legend()\n",
    "pyplot.show()"
   ]
  },
  {
   "cell_type": "markdown",
   "id": "16963b6e",
   "metadata": {},
   "source": [
    "#### Check for overfitting by varying max_depth"
   ]
  },
  {
   "cell_type": "code",
   "execution_count": 6,
   "id": "d8c71a83",
   "metadata": {},
   "outputs": [
    {
     "name": "stdout",
     "output_type": "stream",
     "text": [
      "n_estimator: 1, train: 0.801, test: 0.697\n",
      "n_estimator: 4, train: 0.818, test: 0.681\n",
      "n_estimator: 7, train: 0.869, test: 0.619\n",
      "n_estimator: 10, train: 0.903, test: 0.580\n",
      "n_estimator: 13, train: 0.918, test: 0.557\n"
     ]
    },
    {
     "data": {
      "image/png": "[encoded data removed]",
      "text/plain": [
       "<Figure size 432x288 with 1 Axes>"
      ]
     },
     "metadata": {
      "needs_background": "light"
     },
     "output_type": "display_data"
    }
   ],
   "source": [
    "# define lists to collect scores\n",
    "train_scores, test_scores = list(), list()\n",
    "\n",
    "# define the estimators to evaluate\n",
    "values = [i for i in range(1, 16, 3)]\n",
    "# evaluate a decision tree for estimator\n",
    "for i in values:\n",
    "    # configure the model\n",
    "    model = RandomForestClassifier(n_estimators=n_estimators, max_depth=i, random_state=23).fit(\n",
    "        x_res, y_res)\n",
    "    # evaluate on the train dataset\n",
    "    prediction = model.predict(x_res)\n",
    "    train_acc = roc_auc_score(y_res, prediction)\n",
    "    train_scores.append(train_acc)\n",
    "    # evaluate on the test dataset\n",
    "    test_prediction = model.predict(test_features)\n",
    "    test_acc = roc_auc_score(test_targets, test_prediction)\n",
    "    test_scores.append(test_acc)\n",
    "    # summarize progress\n",
    "    print('max_depth: %.0f, train: %.3f, test: %.3f' % (i, train_acc, test_acc))\n",
    "# plot of train and test scores vs n_estimator\n",
    "pyplot.plot(values, train_scores, '-o', label='Train')\n",
    "pyplot.plot(values, test_scores, '-o', label='Test')\n",
    "pyplot.legend()\n",
    "pyplot.show()"
   ]
  },
  {
   "cell_type": "markdown",
   "id": "846cf66a",
   "metadata": {},
   "source": [
    "## Run final model on test data to get AUC"
   ]
  },
  {
   "cell_type": "code",
   "execution_count": 6,
   "id": "ef0feeb7",
   "metadata": {
    "scrolled": false
   },
   "outputs": [
    {
     "name": "stdout",
     "output_type": "stream",
     "text": [
      "Sun Apr 17 01:56:54 2022\n",
      "mean cross validation score: 0.908\n",
      "Confusion Matrix:\n",
      "[[4628 2723]\n",
      " [ 237  650]]\n",
      "Classification Report\n",
      "              precision    recall  f1-score   support\n",
      "\n",
      "         0.0       0.95      0.63      0.76      7351\n",
      "         1.0       0.19      0.73      0.31       887\n",
      "\n",
      "    accuracy                           0.64      8238\n",
      "   macro avg       0.57      0.68      0.53      8238\n",
      "weighted avg       0.87      0.64      0.71      8238\n",
      "\n"
     ]
    },
    {
     "data": {
      "image/png": "[encoded data removed]",
      "text/plain": [
       "<Figure size 432x288 with 1 Axes>"
      ]
     },
     "metadata": {
      "needs_background": "light"
     },
     "output_type": "display_data"
    },
    {
     "name": "stdout",
     "output_type": "stream",
     "text": [
      "AUC Score: 0.738\n"
     ]
    },
    {
     "data": {
      "text/plain": [
       "'Sun Apr 17 01:57:26 2022'"
      ]
     },
     "execution_count": 6,
     "metadata": {},
     "output_type": "execute_result"
    }
   ],
   "source": [
    "# for model timing\n",
    "print(time.ctime())\n",
    "\n",
    "# create random forest classifier and test on test data\n",
    "clf=RandomForestClassifier(max_depth=max_depth, n_estimators= n_estimators ,random_state=23)\n",
    "\n",
    "k = 10\n",
    "kf = KFold(n_splits=k, shuffle = True)\n",
    "\n",
    "dt_scores = cross_val_score(clf, x_res, y_res, scoring ='roc_auc', cv = kf)\n",
    "print(\"mean cross validation score: {}\".format(np.round(np.mean(dt_scores),3)))\n",
    "\n",
    "clf.fit(x_res, y_res)\n",
    "predictions = clf.predict(test_features)\n",
    "\n",
    "print(\"Confusion Matrix:\")\n",
    "print(confusion_matrix(test_targets, predictions))\n",
    "\n",
    "print(\"Classification Report\")\n",
    "print(classification_report(test_targets, predictions))\n",
    "    \n",
    "#Beginning the plotting of ROC-curve\n",
    "pred_prob = clf.predict_proba(test_features)\n",
    "fpr, tpr, thresh = roc_curve(test_targets, pred_prob[:,1], pos_label=1)\n",
    "    \n",
    "#Plot roc curves\n",
    "plt.plot(fpr, tpr, linestyle='--',color='orange', label='Random Forest')\n",
    "\n",
    "# title\n",
    "plt.title('ROC curve')\n",
    "# x label\n",
    "plt.xlabel('False Positive Rate')\n",
    "# y label\n",
    "plt.ylabel('True Positive rate')\n",
    "\n",
    "plt.legend(loc='best')\n",
    "plt.savefig('ROC',dpi=300)\n",
    "plt.show();\n",
    "    \n",
    "#AUC Score\n",
    "auc_score = roc_auc_score(test_targets, pred_prob[:,1])\n",
    "print(\"AUC Score: \" + str(np.round(auc_score , 3)))\n",
    "\n",
    "# for model timing\n",
    "time.ctime()"
   ]
  }
 ],
 "metadata": {
  "kernelspec": {
   "display_name": "Python 3 (ipykernel)",
   "language": "python",
   "name": "python3"
  },
  "language_info": {
   "codemirror_mode": {
    "name": "ipython",
    "version": 3
   },
   "file_extension": ".py",
   "mimetype": "text/x-python",
   "name": "python",
   "nbconvert_exporter": "python",
   "pygments_lexer": "ipython3",
   "version": "3.7.13"
  }
 },
 "nbformat": 4,
 "nbformat_minor": 5
}
