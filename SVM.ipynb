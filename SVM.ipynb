{
 "cells": [
  {
   "cell_type": "markdown",
   "id": "70a80a94",
   "metadata": {},
   "source": [
    "# SVM"
   ]
  },
  {
   "cell_type": "code",
   "execution_count": 1,
   "id": "9b631811",
   "metadata": {},
   "outputs": [],
   "source": [
    "import numpy as np\n",
    "import pandas as pd\n",
    "from sklearn.metrics import zero_one_loss\n",
    "from sklearn.ensemble import GradientBoostingClassifier\n",
    "from sklearn.model_selection import train_test_split\n",
    "from sklearn.preprocessing import LabelEncoder\n",
    "from sklearn.metrics import log_loss, roc_curve, roc_auc_score\n",
    "from sklearn.metrics import classification_report, confusion_matrix\n",
    "import matplotlib.pyplot as plt\n",
    "from sklearn import svm\n",
    "from sklearn import datasets\n",
    "from sklearn import metrics\n",
    "from sklearn.model_selection import GridSearchCV\n",
    "from sklearn.svm import SVC \n",
    "from imblearn.under_sampling import NearMiss\n",
    "from sklearn.preprocessing import StandardScaler\n",
    "from sklearn.model_selection import KFold, StratifiedKFold\n",
    "from sklearn.model_selection import cross_val_score\n",
    "from matplotlib import pyplot\n",
    "from imblearn.pipeline import Pipeline, make_pipeline"
   ]
  },
  {
   "cell_type": "markdown",
   "id": "681004de",
   "metadata": {},
   "source": [
    "## Data preperation"
   ]
  },
  {
   "cell_type": "code",
   "execution_count": 2,
   "id": "5e2cd489",
   "metadata": {},
   "outputs": [],
   "source": [
    "#Reading the file and splitting our target column\n",
    "df = pd.read_csv (r'bank-additional-full.csv', sep = ';', engine= 'python')   \n",
    "\n",
    "tussen = df[[\"y\"]]\n",
    "target = tussen.copy()\n",
    "df.drop(df.columns[len(df.columns)-1], axis=1, inplace=True)\n",
    "\n",
    "df=df[['age','default', 'contact', 'month', 'previous', 'poutcome', 'emp.var.rate', 'euribor3m', 'nr.employed']]\n",
    "\n",
    "#Encoding all the catergorical variables and deleting them from the old dataframe\n",
    "categories = ['contact','month','poutcome']\n",
    "df_encoded = pd.get_dummies(df['default'], prefix='default', drop_first=True)\n",
    "df_encoded.insert(0, 'ID', range(0, len(df_encoded)))\n",
    "del df['default']\n",
    "\n",
    "for x in categories:\n",
    "    df_encoded_tussen = pd.get_dummies(df[x], prefix=x, drop_first=True)\n",
    "    df_encoded_tussen.insert(0, 'ID', range(0, len(df_encoded_tussen)))\n",
    "    df_encoded = pd.merge(df_encoded, df_encoded_tussen, on = 'ID', how = 'outer')\n",
    "    del df[x]\n",
    "\n",
    "#Changing pandas dataframe to numpy array\n",
    "X = df\n",
    "\n",
    "#Normalizing the data\n",
    "sc = StandardScaler()\n",
    "X = sc.fit_transform(X)    \n",
    "\n",
    "#Convert to a pandaframe\n",
    "X = pd.DataFrame(X, columns = ['age', 'previous', 'emp.var.rate', 'euribor3m', 'nr.employed'])\n",
    "\n",
    "X.insert(0, 'ID', range(0, len(X)))\n",
    "features = pd.merge(df_encoded, X, on = 'ID', how = 'outer')\n",
    "y = pd.get_dummies(target, drop_first=True)\n",
    "del features['ID']"
   ]
  },
  {
   "cell_type": "code",
   "execution_count": 3,
   "id": "36ecf37a",
   "metadata": {},
   "outputs": [],
   "source": [
    "# split data into traininng and test data\n",
    "train_features, test_features, train_targets, test_targets = train_test_split(features, y.values.ravel(), test_size=0.2, random_state=23)\n"
   ]
  },
  {
   "cell_type": "markdown",
   "id": "2af63f0e",
   "metadata": {},
   "source": [
    "## Grid search hyperparameter tuning"
   ]
  },
  {
   "cell_type": "code",
   "execution_count": 4,
   "id": "87e89e40",
   "metadata": {
    "scrolled": true
   },
   "outputs": [
    {
     "name": "stdout",
     "output_type": "stream",
     "text": [
      "Fitting 10 folds for each of 24 candidates, totalling 240 fits\n",
      "[CV] END .......svc__C=0.1, svc__gamma=1, svc__kernel=linear; total time=   6.5s\n",
      "[CV] END .......svc__C=0.1, svc__gamma=1, svc__kernel=linear; total time=   6.4s\n",
      "[CV] END .......svc__C=0.1, svc__gamma=1, svc__kernel=linear; total time=   5.9s\n",
      "[CV] END .......svc__C=0.1, svc__gamma=1, svc__kernel=linear; total time=   6.1s\n",
      "[CV] END .......svc__C=0.1, svc__gamma=1, svc__kernel=linear; total time=   5.8s\n",
      "[CV] END .......svc__C=0.1, svc__gamma=1, svc__kernel=linear; total time=   6.2s\n",
      "[CV] END .......svc__C=0.1, svc__gamma=1, svc__kernel=linear; total time=   6.0s\n",
      "[CV] END .......svc__C=0.1, svc__gamma=1, svc__kernel=linear; total time=   6.1s\n",
      "[CV] END .......svc__C=0.1, svc__gamma=1, svc__kernel=linear; total time=   6.2s\n",
      "[CV] END .......svc__C=0.1, svc__gamma=1, svc__kernel=linear; total time=   5.7s\n",
      "[CV] END ..........svc__C=0.1, svc__gamma=1, svc__kernel=rbf; total time=   8.9s\n",
      "[CV] END ..........svc__C=0.1, svc__gamma=1, svc__kernel=rbf; total time=   8.8s\n",
      "[CV] END ..........svc__C=0.1, svc__gamma=1, svc__kernel=rbf; total time=   8.7s\n",
      "[CV] END ..........svc__C=0.1, svc__gamma=1, svc__kernel=rbf; total time=   8.7s\n",
      "[CV] END ..........svc__C=0.1, svc__gamma=1, svc__kernel=rbf; total time=   8.8s\n",
      "[CV] END ..........svc__C=0.1, svc__gamma=1, svc__kernel=rbf; total time=   9.2s\n",
      "[CV] END ..........svc__C=0.1, svc__gamma=1, svc__kernel=rbf; total time=   8.8s\n",
      "[CV] END ..........svc__C=0.1, svc__gamma=1, svc__kernel=rbf; total time=   8.8s\n",
      "[CV] END ..........svc__C=0.1, svc__gamma=1, svc__kernel=rbf; total time=   8.6s\n",
      "[CV] END ..........svc__C=0.1, svc__gamma=1, svc__kernel=rbf; total time=   9.1s\n",
      "[CV] END .....svc__C=0.1, svc__gamma=0.1, svc__kernel=linear; total time=   6.0s\n",
      "[CV] END .....svc__C=0.1, svc__gamma=0.1, svc__kernel=linear; total time=   6.0s\n",
      "[CV] END .....svc__C=0.1, svc__gamma=0.1, svc__kernel=linear; total time=   5.6s\n",
      "[CV] END .....svc__C=0.1, svc__gamma=0.1, svc__kernel=linear; total time=   5.8s\n",
      "[CV] END .....svc__C=0.1, svc__gamma=0.1, svc__kernel=linear; total time=   5.5s\n",
      "[CV] END .....svc__C=0.1, svc__gamma=0.1, svc__kernel=linear; total time=   5.9s\n",
      "[CV] END .....svc__C=0.1, svc__gamma=0.1, svc__kernel=linear; total time=   5.8s\n",
      "[CV] END .....svc__C=0.1, svc__gamma=0.1, svc__kernel=linear; total time=   6.1s\n",
      "[CV] END .....svc__C=0.1, svc__gamma=0.1, svc__kernel=linear; total time=   6.4s\n",
      "[CV] END .....svc__C=0.1, svc__gamma=0.1, svc__kernel=linear; total time=   5.8s\n",
      "[CV] END ........svc__C=0.1, svc__gamma=0.1, svc__kernel=rbf; total time=   7.7s\n",
      "[CV] END ........svc__C=0.1, svc__gamma=0.1, svc__kernel=rbf; total time=   7.9s\n",
      "[CV] END ........svc__C=0.1, svc__gamma=0.1, svc__kernel=rbf; total time=   7.6s\n",
      "[CV] END ........svc__C=0.1, svc__gamma=0.1, svc__kernel=rbf; total time=   7.5s\n",
      "[CV] END ........svc__C=0.1, svc__gamma=0.1, svc__kernel=rbf; total time=   7.8s\n",
      "[CV] END ........svc__C=0.1, svc__gamma=0.1, svc__kernel=rbf; total time=   7.8s\n",
      "[CV] END ........svc__C=0.1, svc__gamma=0.1, svc__kernel=rbf; total time=   7.5s\n",
      "[CV] END ........svc__C=0.1, svc__gamma=0.1, svc__kernel=rbf; total time=   7.6s\n",
      "[CV] END ........svc__C=0.1, svc__gamma=0.1, svc__kernel=rbf; total time=   7.8s\n",
      "[CV] END ........svc__C=0.1, svc__gamma=0.1, svc__kernel=rbf; total time=   8.2s\n",
      "[CV] END ....svc__C=0.1, svc__gamma=0.01, svc__kernel=linear; total time=   5.9s\n",
      "[CV] END ....svc__C=0.1, svc__gamma=0.01, svc__kernel=linear; total time=   5.9s\n",
      "[CV] END ....svc__C=0.1, svc__gamma=0.01, svc__kernel=linear; total time=   5.6s\n",
      "[CV] END ....svc__C=0.1, svc__gamma=0.01, svc__kernel=linear; total time=   5.6s\n",
      "[CV] END ....svc__C=0.1, svc__gamma=0.01, svc__kernel=linear; total time=   5.7s\n",
      "[CV] END ....svc__C=0.1, svc__gamma=0.01, svc__kernel=linear; total time=   6.0s\n",
      "[CV] END ....svc__C=0.1, svc__gamma=0.01, svc__kernel=linear; total time=   5.8s\n",
      "[CV] END ....svc__C=0.1, svc__gamma=0.01, svc__kernel=linear; total time=   6.1s\n",
      "[CV] END ....svc__C=0.1, svc__gamma=0.01, svc__kernel=linear; total time=   6.0s\n",
      "[CV] END ....svc__C=0.1, svc__gamma=0.01, svc__kernel=linear; total time=   5.6s\n",
      "[CV] END .......svc__C=0.1, svc__gamma=0.01, svc__kernel=rbf; total time=   8.1s\n",
      "[CV] END .......svc__C=0.1, svc__gamma=0.01, svc__kernel=rbf; total time=   8.0s\n",
      "[CV] END .......svc__C=0.1, svc__gamma=0.01, svc__kernel=rbf; total time=   7.8s\n",
      "[CV] END .......svc__C=0.1, svc__gamma=0.01, svc__kernel=rbf; total time=   8.0s\n",
      "[CV] END .......svc__C=0.1, svc__gamma=0.01, svc__kernel=rbf; total time=   8.0s\n",
      "[CV] END .......svc__C=0.1, svc__gamma=0.01, svc__kernel=rbf; total time=   8.0s\n",
      "[CV] END .......svc__C=0.1, svc__gamma=0.01, svc__kernel=rbf; total time=   7.9s\n",
      "[CV] END .......svc__C=0.1, svc__gamma=0.01, svc__kernel=rbf; total time=   7.8s\n",
      "[CV] END .......svc__C=0.1, svc__gamma=0.01, svc__kernel=rbf; total time=   7.9s\n",
      "[CV] END .......svc__C=0.1, svc__gamma=0.01, svc__kernel=rbf; total time=   7.9s\n",
      "[CV] END ...svc__C=0.1, svc__gamma=0.001, svc__kernel=linear; total time=   6.0s\n",
      "[CV] END ...svc__C=0.1, svc__gamma=0.001, svc__kernel=linear; total time=   6.0s\n",
      "[CV] END ...svc__C=0.1, svc__gamma=0.001, svc__kernel=linear; total time=   5.6s\n",
      "[CV] END ...svc__C=0.1, svc__gamma=0.001, svc__kernel=linear; total time=   5.8s\n",
      "[CV] END ...svc__C=0.1, svc__gamma=0.001, svc__kernel=linear; total time=   5.7s\n",
      "[CV] END ...svc__C=0.1, svc__gamma=0.001, svc__kernel=linear; total time=   5.9s\n",
      "[CV] END ...svc__C=0.1, svc__gamma=0.001, svc__kernel=linear; total time=   5.8s\n",
      "[CV] END ...svc__C=0.1, svc__gamma=0.001, svc__kernel=linear; total time=   5.8s\n",
      "[CV] END ...svc__C=0.1, svc__gamma=0.001, svc__kernel=linear; total time=   6.0s\n",
      "[CV] END ...svc__C=0.1, svc__gamma=0.001, svc__kernel=linear; total time=   5.6s\n",
      "[CV] END ......svc__C=0.1, svc__gamma=0.001, svc__kernel=rbf; total time=  10.2s\n",
      "[CV] END ......svc__C=0.1, svc__gamma=0.001, svc__kernel=rbf; total time=  10.1s\n",
      "[CV] END ......svc__C=0.1, svc__gamma=0.001, svc__kernel=rbf; total time=  10.2s\n",
      "[CV] END ......svc__C=0.1, svc__gamma=0.001, svc__kernel=rbf; total time=  10.0s\n",
      "[CV] END ......svc__C=0.1, svc__gamma=0.001, svc__kernel=rbf; total time=   9.8s\n",
      "[CV] END ......svc__C=0.1, svc__gamma=0.001, svc__kernel=rbf; total time=  10.0s\n",
      "[CV] END ......svc__C=0.1, svc__gamma=0.001, svc__kernel=rbf; total time=  10.0s\n",
      "[CV] END ......svc__C=0.1, svc__gamma=0.001, svc__kernel=rbf; total time=   9.8s\n",
      "[CV] END ......svc__C=0.1, svc__gamma=0.001, svc__kernel=rbf; total time=  10.0s\n",
      "[CV] END ......svc__C=0.1, svc__gamma=0.001, svc__kernel=rbf; total time=   9.9s\n",
      "[CV] END .........svc__C=1, svc__gamma=1, svc__kernel=linear; total time=   9.3s\n",
      "[CV] END .........svc__C=1, svc__gamma=1, svc__kernel=linear; total time=  10.7s\n",
      "[CV] END .........svc__C=1, svc__gamma=1, svc__kernel=linear; total time=   7.9s\n",
      "[CV] END .........svc__C=1, svc__gamma=1, svc__kernel=linear; total time=   9.1s\n",
      "[CV] END .........svc__C=1, svc__gamma=1, svc__kernel=linear; total time=   8.8s\n",
      "[CV] END .........svc__C=1, svc__gamma=1, svc__kernel=linear; total time=   9.4s\n",
      "[CV] END .........svc__C=1, svc__gamma=1, svc__kernel=linear; total time=   9.8s\n",
      "[CV] END .........svc__C=1, svc__gamma=1, svc__kernel=linear; total time=  10.2s\n",
      "[CV] END .........svc__C=1, svc__gamma=1, svc__kernel=linear; total time=   9.1s\n",
      "[CV] END .........svc__C=1, svc__gamma=1, svc__kernel=linear; total time=   9.1s\n",
      "[CV] END ............svc__C=1, svc__gamma=1, svc__kernel=rbf; total time=   8.4s\n",
      "[CV] END ............svc__C=1, svc__gamma=1, svc__kernel=rbf; total time=   8.7s\n",
      "[CV] END ............svc__C=1, svc__gamma=1, svc__kernel=rbf; total time=   8.3s\n",
      "[CV] END ............svc__C=1, svc__gamma=1, svc__kernel=rbf; total time=   8.6s\n",
      "[CV] END ............svc__C=1, svc__gamma=1, svc__kernel=rbf; total time=   8.7s\n",
      "[CV] END ............svc__C=1, svc__gamma=1, svc__kernel=rbf; total time=   8.9s\n",
      "[CV] END ............svc__C=1, svc__gamma=1, svc__kernel=rbf; total time=   8.6s\n",
      "[CV] END ............svc__C=1, svc__gamma=1, svc__kernel=rbf; total time=   8.4s\n",
      "[CV] END ............svc__C=1, svc__gamma=1, svc__kernel=rbf; total time=   7.9s\n",
      "[CV] END ............svc__C=1, svc__gamma=1, svc__kernel=rbf; total time=   8.5s\n",
      "[CV] END .......svc__C=1, svc__gamma=0.1, svc__kernel=linear; total time=   9.0s\n"
     ]
    },
    {
     "name": "stdout",
     "output_type": "stream",
     "text": [
      "[CV] END .......svc__C=1, svc__gamma=0.1, svc__kernel=linear; total time=  10.7s\n",
      "[CV] END .......svc__C=1, svc__gamma=0.1, svc__kernel=linear; total time=   7.7s\n",
      "[CV] END .......svc__C=1, svc__gamma=0.1, svc__kernel=linear; total time=   9.2s\n",
      "[CV] END .......svc__C=1, svc__gamma=0.1, svc__kernel=linear; total time=   8.8s\n",
      "[CV] END .......svc__C=1, svc__gamma=0.1, svc__kernel=linear; total time=   9.2s\n",
      "[CV] END .......svc__C=1, svc__gamma=0.1, svc__kernel=linear; total time=   9.8s\n",
      "[CV] END .......svc__C=1, svc__gamma=0.1, svc__kernel=linear; total time=  10.1s\n",
      "[CV] END .......svc__C=1, svc__gamma=0.1, svc__kernel=linear; total time=   9.2s\n",
      "[CV] END .......svc__C=1, svc__gamma=0.1, svc__kernel=linear; total time=   9.0s\n",
      "[CV] END ..........svc__C=1, svc__gamma=0.1, svc__kernel=rbf; total time=   7.4s\n",
      "[CV] END ..........svc__C=1, svc__gamma=0.1, svc__kernel=rbf; total time=   7.6s\n",
      "[CV] END ..........svc__C=1, svc__gamma=0.1, svc__kernel=rbf; total time=   7.5s\n",
      "[CV] END ..........svc__C=1, svc__gamma=0.1, svc__kernel=rbf; total time=   7.4s\n",
      "[CV] END ..........svc__C=1, svc__gamma=0.1, svc__kernel=rbf; total time=   7.2s\n",
      "[CV] END ..........svc__C=1, svc__gamma=0.1, svc__kernel=rbf; total time=   7.5s\n",
      "[CV] END ..........svc__C=1, svc__gamma=0.1, svc__kernel=rbf; total time=   7.4s\n",
      "[CV] END ..........svc__C=1, svc__gamma=0.1, svc__kernel=rbf; total time=   7.5s\n",
      "[CV] END ..........svc__C=1, svc__gamma=0.1, svc__kernel=rbf; total time=   7.3s\n",
      "[CV] END ..........svc__C=1, svc__gamma=0.1, svc__kernel=rbf; total time=   7.4s\n",
      "[CV] END ......svc__C=1, svc__gamma=0.01, svc__kernel=linear; total time=   9.1s\n",
      "[CV] END ......svc__C=1, svc__gamma=0.01, svc__kernel=linear; total time=  10.7s\n",
      "[CV] END ......svc__C=1, svc__gamma=0.01, svc__kernel=linear; total time=   7.7s\n",
      "[CV] END ......svc__C=1, svc__gamma=0.01, svc__kernel=linear; total time=   9.3s\n",
      "[CV] END ......svc__C=1, svc__gamma=0.01, svc__kernel=linear; total time=   8.8s\n",
      "[CV] END ......svc__C=1, svc__gamma=0.01, svc__kernel=linear; total time=   9.4s\n",
      "[CV] END ......svc__C=1, svc__gamma=0.01, svc__kernel=linear; total time=   9.8s\n",
      "[CV] END ......svc__C=1, svc__gamma=0.01, svc__kernel=linear; total time=  10.1s\n",
      "[CV] END ......svc__C=1, svc__gamma=0.01, svc__kernel=linear; total time=   8.8s\n",
      "[CV] END ......svc__C=1, svc__gamma=0.01, svc__kernel=linear; total time=   8.9s\n",
      "[CV] END .........svc__C=1, svc__gamma=0.01, svc__kernel=rbf; total time=   7.5s\n",
      "[CV] END .........svc__C=1, svc__gamma=0.01, svc__kernel=rbf; total time=   7.7s\n",
      "[CV] END .........svc__C=1, svc__gamma=0.01, svc__kernel=rbf; total time=   7.7s\n",
      "[CV] END .........svc__C=1, svc__gamma=0.01, svc__kernel=rbf; total time=   7.4s\n",
      "[CV] END .........svc__C=1, svc__gamma=0.01, svc__kernel=rbf; total time=   7.7s\n",
      "[CV] END .........svc__C=1, svc__gamma=0.01, svc__kernel=rbf; total time=   7.8s\n",
      "[CV] END .........svc__C=1, svc__gamma=0.01, svc__kernel=rbf; total time=   7.6s\n",
      "[CV] END .........svc__C=1, svc__gamma=0.01, svc__kernel=rbf; total time=   7.4s\n",
      "[CV] END .........svc__C=1, svc__gamma=0.01, svc__kernel=rbf; total time=   7.7s\n",
      "[CV] END .........svc__C=1, svc__gamma=0.01, svc__kernel=rbf; total time=   7.5s\n",
      "[CV] END .....svc__C=1, svc__gamma=0.001, svc__kernel=linear; total time=   9.1s\n",
      "[CV] END .....svc__C=1, svc__gamma=0.001, svc__kernel=linear; total time=  10.8s\n",
      "[CV] END .....svc__C=1, svc__gamma=0.001, svc__kernel=linear; total time=   7.8s\n",
      "[CV] END .....svc__C=1, svc__gamma=0.001, svc__kernel=linear; total time=   9.3s\n",
      "[CV] END .....svc__C=1, svc__gamma=0.001, svc__kernel=linear; total time=   8.7s\n",
      "[CV] END .....svc__C=1, svc__gamma=0.001, svc__kernel=linear; total time=   9.3s\n",
      "[CV] END .....svc__C=1, svc__gamma=0.001, svc__kernel=linear; total time=   9.9s\n",
      "[CV] END .....svc__C=1, svc__gamma=0.001, svc__kernel=linear; total time=  10.1s\n",
      "[CV] END .....svc__C=1, svc__gamma=0.001, svc__kernel=linear; total time=   9.5s\n",
      "[CV] END .....svc__C=1, svc__gamma=0.001, svc__kernel=linear; total time=   8.9s\n",
      "[CV] END ........svc__C=1, svc__gamma=0.001, svc__kernel=rbf; total time=   8.1s\n",
      "[CV] END ........svc__C=1, svc__gamma=0.001, svc__kernel=rbf; total time=   8.1s\n",
      "[CV] END ........svc__C=1, svc__gamma=0.001, svc__kernel=rbf; total time=   8.0s\n",
      "[CV] END ........svc__C=1, svc__gamma=0.001, svc__kernel=rbf; total time=   8.4s\n",
      "[CV] END ........svc__C=1, svc__gamma=0.001, svc__kernel=rbf; total time=   7.5s\n",
      "[CV] END ........svc__C=1, svc__gamma=0.001, svc__kernel=rbf; total time=   7.3s\n",
      "[CV] END ........svc__C=1, svc__gamma=0.001, svc__kernel=rbf; total time=   7.7s\n",
      "[CV] END ........svc__C=1, svc__gamma=0.001, svc__kernel=rbf; total time=   6.9s\n",
      "[CV] END ........svc__C=1, svc__gamma=0.001, svc__kernel=rbf; total time=   7.7s\n",
      "[CV] END ........svc__C=1, svc__gamma=0.001, svc__kernel=rbf; total time=   7.1s\n",
      "[CV] END ........svc__C=10, svc__gamma=1, svc__kernel=linear; total time=  35.7s\n",
      "[CV] END ........svc__C=10, svc__gamma=1, svc__kernel=linear; total time=  35.0s\n",
      "[CV] END ........svc__C=10, svc__gamma=1, svc__kernel=linear; total time=  18.2s\n",
      "[CV] END ........svc__C=10, svc__gamma=1, svc__kernel=linear; total time=  31.8s\n",
      "[CV] END ........svc__C=10, svc__gamma=1, svc__kernel=linear; total time=  31.4s\n",
      "[CV] END ........svc__C=10, svc__gamma=1, svc__kernel=linear; total time=  36.3s\n",
      "[CV] END ........svc__C=10, svc__gamma=1, svc__kernel=linear; total time=  34.7s\n",
      "[CV] END ........svc__C=10, svc__gamma=1, svc__kernel=linear; total time=  35.8s\n",
      "[CV] END ........svc__C=10, svc__gamma=1, svc__kernel=linear; total time=  33.8s\n",
      "[CV] END ........svc__C=10, svc__gamma=1, svc__kernel=linear; total time=  32.4s\n",
      "[CV] END ...........svc__C=10, svc__gamma=1, svc__kernel=rbf; total time=   8.4s\n",
      "[CV] END ...........svc__C=10, svc__gamma=1, svc__kernel=rbf; total time=   9.4s\n",
      "[CV] END ...........svc__C=10, svc__gamma=1, svc__kernel=rbf; total time=   7.0s\n",
      "[CV] END ...........svc__C=10, svc__gamma=1, svc__kernel=rbf; total time=   8.9s\n",
      "[CV] END ...........svc__C=10, svc__gamma=1, svc__kernel=rbf; total time=   8.5s\n",
      "[CV] END ...........svc__C=10, svc__gamma=1, svc__kernel=rbf; total time=   9.7s\n",
      "[CV] END ...........svc__C=10, svc__gamma=1, svc__kernel=rbf; total time=   8.2s\n",
      "[CV] END ...........svc__C=10, svc__gamma=1, svc__kernel=rbf; total time=   8.7s\n",
      "[CV] END ...........svc__C=10, svc__gamma=1, svc__kernel=rbf; total time=   7.8s\n",
      "[CV] END ...........svc__C=10, svc__gamma=1, svc__kernel=rbf; total time=   8.7s\n",
      "[CV] END ......svc__C=10, svc__gamma=0.1, svc__kernel=linear; total time=  35.3s\n",
      "[CV] END ......svc__C=10, svc__gamma=0.1, svc__kernel=linear; total time=  35.1s\n",
      "[CV] END ......svc__C=10, svc__gamma=0.1, svc__kernel=linear; total time=  18.4s\n",
      "[CV] END ......svc__C=10, svc__gamma=0.1, svc__kernel=linear; total time=  32.0s\n",
      "[CV] END ......svc__C=10, svc__gamma=0.1, svc__kernel=linear; total time=  31.9s\n",
      "[CV] END ......svc__C=10, svc__gamma=0.1, svc__kernel=linear; total time=  36.6s\n",
      "[CV] END ......svc__C=10, svc__gamma=0.1, svc__kernel=linear; total time=  35.4s\n",
      "[CV] END ......svc__C=10, svc__gamma=0.1, svc__kernel=linear; total time=  35.8s\n",
      "[CV] END ......svc__C=10, svc__gamma=0.1, svc__kernel=linear; total time=  32.3s\n",
      "[CV] END ......svc__C=10, svc__gamma=0.1, svc__kernel=linear; total time=  32.4s\n",
      "[CV] END .........svc__C=10, svc__gamma=0.1, svc__kernel=rbf; total time=   7.7s\n",
      "[CV] END .........svc__C=10, svc__gamma=0.1, svc__kernel=rbf; total time=   6.5s\n",
      "[CV] END .........svc__C=10, svc__gamma=0.1, svc__kernel=rbf; total time=   7.7s\n",
      "[CV] END .........svc__C=10, svc__gamma=0.1, svc__kernel=rbf; total time=   7.0s\n",
      "[CV] END .........svc__C=10, svc__gamma=0.1, svc__kernel=rbf; total time=   7.2s\n",
      "[CV] END .........svc__C=10, svc__gamma=0.1, svc__kernel=rbf; total time=   7.5s\n",
      "[CV] END .........svc__C=10, svc__gamma=0.1, svc__kernel=rbf; total time=   7.8s\n",
      "[CV] END .........svc__C=10, svc__gamma=0.1, svc__kernel=rbf; total time=   7.6s\n",
      "[CV] END .........svc__C=10, svc__gamma=0.1, svc__kernel=rbf; total time=   7.0s\n",
      "[CV] END .........svc__C=10, svc__gamma=0.1, svc__kernel=rbf; total time=   8.0s\n",
      "[CV] END .....svc__C=10, svc__gamma=0.01, svc__kernel=linear; total time=  35.5s\n",
      "[CV] END .....svc__C=10, svc__gamma=0.01, svc__kernel=linear; total time=  35.3s\n",
      "[CV] END .....svc__C=10, svc__gamma=0.01, svc__kernel=linear; total time=  18.5s\n"
     ]
    },
    {
     "name": "stdout",
     "output_type": "stream",
     "text": [
      "[CV] END .....svc__C=10, svc__gamma=0.01, svc__kernel=linear; total time=  32.1s\n",
      "[CV] END .....svc__C=10, svc__gamma=0.01, svc__kernel=linear; total time=  31.6s\n",
      "[CV] END .....svc__C=10, svc__gamma=0.01, svc__kernel=linear; total time=  36.5s\n",
      "[CV] END .....svc__C=10, svc__gamma=0.01, svc__kernel=linear; total time=  35.2s\n",
      "[CV] END .....svc__C=10, svc__gamma=0.01, svc__kernel=linear; total time=  36.2s\n",
      "[CV] END .....svc__C=10, svc__gamma=0.01, svc__kernel=linear; total time=  34.6s\n",
      "[CV] END .....svc__C=10, svc__gamma=0.01, svc__kernel=linear; total time=  32.8s\n",
      "[CV] END ........svc__C=10, svc__gamma=0.01, svc__kernel=rbf; total time=   7.5s\n",
      "[CV] END ........svc__C=10, svc__gamma=0.01, svc__kernel=rbf; total time=   7.5s\n",
      "[CV] END ........svc__C=10, svc__gamma=0.01, svc__kernel=rbf; total time=   7.5s\n",
      "[CV] END ........svc__C=10, svc__gamma=0.01, svc__kernel=rbf; total time=   7.2s\n",
      "[CV] END ........svc__C=10, svc__gamma=0.01, svc__kernel=rbf; total time=   7.5s\n",
      "[CV] END ........svc__C=10, svc__gamma=0.01, svc__kernel=rbf; total time=   7.3s\n",
      "[CV] END ........svc__C=10, svc__gamma=0.01, svc__kernel=rbf; total time=   7.6s\n",
      "[CV] END ........svc__C=10, svc__gamma=0.01, svc__kernel=rbf; total time=   6.9s\n",
      "[CV] END ........svc__C=10, svc__gamma=0.01, svc__kernel=rbf; total time=   7.4s\n",
      "[CV] END ........svc__C=10, svc__gamma=0.01, svc__kernel=rbf; total time=   6.9s\n",
      "[CV] END ....svc__C=10, svc__gamma=0.001, svc__kernel=linear; total time=  36.3s\n",
      "[CV] END ....svc__C=10, svc__gamma=0.001, svc__kernel=linear; total time=  35.8s\n",
      "[CV] END ....svc__C=10, svc__gamma=0.001, svc__kernel=linear; total time=  18.5s\n",
      "[CV] END ....svc__C=10, svc__gamma=0.001, svc__kernel=linear; total time=  32.1s\n",
      "[CV] END ....svc__C=10, svc__gamma=0.001, svc__kernel=linear; total time=  31.9s\n",
      "[CV] END ....svc__C=10, svc__gamma=0.001, svc__kernel=linear; total time=  36.1s\n",
      "[CV] END ....svc__C=10, svc__gamma=0.001, svc__kernel=linear; total time=  35.5s\n",
      "[CV] END ....svc__C=10, svc__gamma=0.001, svc__kernel=linear; total time=  36.3s\n",
      "[CV] END ....svc__C=10, svc__gamma=0.001, svc__kernel=linear; total time=  34.2s\n",
      "[CV] END ....svc__C=10, svc__gamma=0.001, svc__kernel=linear; total time=  33.0s\n",
      "[CV] END .......svc__C=10, svc__gamma=0.001, svc__kernel=rbf; total time=   7.1s\n",
      "[CV] END .......svc__C=10, svc__gamma=0.001, svc__kernel=rbf; total time=   7.6s\n",
      "[CV] END .......svc__C=10, svc__gamma=0.001, svc__kernel=rbf; total time=   6.9s\n",
      "[CV] END .......svc__C=10, svc__gamma=0.001, svc__kernel=rbf; total time=   7.5s\n",
      "[CV] END .......svc__C=10, svc__gamma=0.001, svc__kernel=rbf; total time=   6.7s\n",
      "[CV] END .......svc__C=10, svc__gamma=0.001, svc__kernel=rbf; total time=   7.5s\n",
      "[CV] END .......svc__C=10, svc__gamma=0.001, svc__kernel=rbf; total time=   7.1s\n",
      "[CV] END .......svc__C=10, svc__gamma=0.001, svc__kernel=rbf; total time=   7.3s\n",
      "[CV] END .......svc__C=10, svc__gamma=0.001, svc__kernel=rbf; total time=   7.4s\n",
      "[CV] END .......svc__C=10, svc__gamma=0.001, svc__kernel=rbf; total time=   7.1s\n",
      "[INFO] best score is 0.76 using {'svc__C': 1, 'svc__gamma': 0.001, 'svc__kernel': 'rbf'}\n"
     ]
    }
   ],
   "source": [
    "# define hyperparameter search space\n",
    "C= [0.1,1, 10]\n",
    "gamma = [1,0.1,0.01,0.001]\n",
    "kernel = ['linear','rbf']\n",
    "\n",
    "# create dictionary from search space\n",
    "grid = dict(\n",
    "    svc__C=C,\n",
    "    svc__gamma=gamma,\n",
    "    svc__kernel=kernel,\n",
    ")\n",
    "\n",
    "# create 10-fold cross validation generator\n",
    "cv = StratifiedKFold(n_splits=10, shuffle=True, random_state = 23)\n",
    "\n",
    "# create imbalanced learn pipeline\n",
    "imba_pipeline = make_pipeline(NearMiss(version=1), svm.SVC(C = 1 ,kernel = 'rbf', gamma = 'scale'))             \n",
    "\n",
    "# create random searcher with 10-fold cv and start tuning process\n",
    "model_grid = GridSearchCV(estimator=imba_pipeline, param_grid=grid, n_jobs=1, cv=cv, verbose=2, scoring='roc_auc')\n",
    "grid_res = model_grid.fit(train_features, train_targets)\n",
    "\n",
    "# summarise grid search info\n",
    "bestScore = grid_res.best_score_\n",
    "bestParams = grid_res.best_params_\n",
    "print(\"[INFO] best score is {:.2f} using {}\".format(bestScore, bestParams))"
   ]
  },
  {
   "cell_type": "code",
   "execution_count": 5,
   "id": "a5843b7b",
   "metadata": {},
   "outputs": [],
   "source": [
    "# best hyperparameters\n",
    "C = 1\n",
    "gamma = 0.001\n",
    "kernel = 'rbf'"
   ]
  },
  {
   "cell_type": "markdown",
   "id": "62c690fc",
   "metadata": {},
   "source": [
    "## Undersample training data for further analysis"
   ]
  },
  {
   "cell_type": "code",
   "execution_count": 6,
   "id": "704e8271",
   "metadata": {},
   "outputs": [
    {
     "data": {
      "text/plain": [
       "((32950, 19), (7506, 19))"
      ]
     },
     "execution_count": 6,
     "metadata": {},
     "output_type": "execute_result"
    }
   ],
   "source": [
    "# undersample training data using nearmiss 1\n",
    "nm = NearMiss(version = 1)\n",
    "x_res, y_res = nm.fit_resample(train_features, train_targets)\n",
    "train_features.shape,x_res.shape"
   ]
  },
  {
   "cell_type": "markdown",
   "id": "42318cd7",
   "metadata": {},
   "source": [
    "## Check for Overfitting"
   ]
  },
  {
   "cell_type": "markdown",
   "id": "f328bd3f",
   "metadata": {},
   "source": [
    "#### Check for overfitting by varying c"
   ]
  },
  {
   "cell_type": "code",
   "execution_count": 7,
   "id": "fe0843d3",
   "metadata": {},
   "outputs": [
    {
     "name": "stdout",
     "output_type": "stream",
     "text": [
      "C: 0.010, train: 0.691, test: 0.660\n",
      "C: 0.100, train: 0.798, test: 0.705\n",
      "C: 1.000, train: 0.798, test: 0.704\n",
      "C: 2.000, train: 0.798, test: 0.703\n",
      "C: 3.000, train: 0.799, test: 0.702\n",
      "C: 4.000, train: 0.799, test: 0.701\n",
      "C: 5.000, train: 0.805, test: 0.703\n",
      "C: 6.000, train: 0.807, test: 0.699\n",
      "C: 7.000, train: 0.809, test: 0.697\n",
      "C: 8.000, train: 0.813, test: 0.646\n",
      "C: 9.000, train: 0.812, test: 0.647\n",
      "C: 10.000, train: 0.812, test: 0.647\n"
     ]
    },
    {
     "data": {
      "image/png": "[encoded data removed]",
      "text/plain": [
       "<Figure size 432x288 with 1 Axes>"
      ]
     },
     "metadata": {
      "needs_background": "light"
     },
     "output_type": "display_data"
    }
   ],
   "source": [
    "# define lists to collect scores\n",
    "train_scores_c, test_scores_c = list(), list()\n",
    "\n",
    "# define the C to evaluate\n",
    "values = [0.01, 0.1, 1, 2, 3, 4, 5, 6, 7, 8, 9, 10]\n",
    "# evaluate the svm for C\n",
    "for i in values:\n",
    "    # configure the model\n",
    "    model = svm.SVC(C=i ,kernel = kernel, gamma = gamma, probability=True).fit(\n",
    "        x_res, y_res)\n",
    "    # evaluate on the train dataset\n",
    "    schatting = model.predict(x_res)\n",
    "    train_acc = roc_auc_score(y_res, schatting)\n",
    "    train_scores_c.append(train_acc)\n",
    "    # evaluate on the test dataset\n",
    "    test_schatting = model.predict(test_features)\n",
    "    test_acc = roc_auc_score(test_targets, test_schatting)\n",
    "    test_scores_c.append(test_acc)\n",
    "    # summarize progress\n",
    "    print('C: %.3f, train: %.3f, test: %.3f' % (i, train_acc, test_acc))\n",
    "# plot of train and test scores vs tree depth\n",
    "pyplot.plot(values, train_scores_c, '-o', label='Train')\n",
    "pyplot.plot(values, test_scores_c, '-o', label='Test')\n",
    "pyplot.legend()\n",
    "pyplot.show()\n"
   ]
  },
  {
   "cell_type": "code",
   "execution_count": 8,
   "id": "1dbd8bc2",
   "metadata": {
    "scrolled": false
   },
   "outputs": [
    {
     "name": "stdout",
     "output_type": "stream",
     "text": [
      "Gamma: 1.000, train: 0.853, test: 0.625\n",
      "Gamma: 0.100, train: 0.836, test: 0.635\n",
      "Gamma: 0.010, train: 0.815, test: 0.641\n",
      "Gamma: 0.001, train: 0.798, test: 0.704\n"
     ]
    },
    {
     "data": {
      "image/png": "[encoded data removed]",
      "text/plain": [
       "<Figure size 432x288 with 1 Axes>"
      ]
     },
     "metadata": {
      "needs_background": "light"
     },
     "output_type": "display_data"
    }
   ],
   "source": [
    "# define lists to collect scores\n",
    "train_scores_g, test_scores_g = list(), list()\n",
    "\n",
    "# define gamma's to evaluate\n",
    "values = [1,0.1,0.01,0.001]\n",
    "# evaluate SVM models\n",
    "for i in values:\n",
    "    # configure the model\n",
    "    model = svm.SVC(C=C ,kernel = kernel, gamma = i, probability=True).fit(\n",
    "        x_res, y_res)\n",
    "    # evaluate on the train dataset\n",
    "    schatting = model.predict(x_res)\n",
    "    train_acc = roc_auc_score(y_res, schatting)\n",
    "    train_scores_g.append(train_acc)\n",
    "    # evaluate on the test dataset\n",
    "    test_schatting = model.predict(test_features)\n",
    "    test_acc = roc_auc_score(test_targets, test_schatting)\n",
    "    test_scores_g.append(test_acc)\n",
    "    # summarize progress\n",
    "    print('Gamma: %.3f, train: %.3f, test: %.3f' % (i, train_acc, test_acc))\n",
    "# plot of train and test scores vs tree depth\n",
    "pyplot.plot(values, train_scores_g, '-o', label='Train')\n",
    "pyplot.plot(values, test_scores_g, '-o', label='Test')\n",
    "pyplot.legend()\n",
    "pyplot.show()"
   ]
  },
  {
   "cell_type": "markdown",
   "id": "02fb4347",
   "metadata": {},
   "source": [
    "## Run final model on test data to get AUC"
   ]
  },
  {
   "cell_type": "code",
   "execution_count": 9,
   "id": "4f68c6bc",
   "metadata": {
    "tags": []
   },
   "outputs": [
    {
     "name": "stdout",
     "output_type": "stream",
     "text": [
      "mean cross validation score: 0.875\n",
      "Confusion Matrix:\n",
      "[[5241 2110]\n",
      " [ 270  617]]\n",
      "Classification Report\n",
      "              precision    recall  f1-score   support\n",
      "\n",
      "           0       0.95      0.71      0.81      7351\n",
      "           1       0.23      0.70      0.34       887\n",
      "\n",
      "    accuracy                           0.71      8238\n",
      "   macro avg       0.59      0.70      0.58      8238\n",
      "weighted avg       0.87      0.71      0.76      8238\n",
      "\n"
     ]
    },
    {
     "data": {
      "image/png": "[encoded data removed]",
      "text/plain": [
       "<Figure size 432x288 with 1 Axes>"
      ]
     },
     "metadata": {
      "needs_background": "light"
     },
     "output_type": "display_data"
    },
    {
     "name": "stdout",
     "output_type": "stream",
     "text": [
      "AUC Score: 0.752\n"
     ]
    }
   ],
   "source": [
    "#SVM Classifier\n",
    "classifier = svm.SVC(C= C ,kernel = kernel, gamma = gamma, probability=True)\n",
    "\n",
    "k = 10\n",
    "kf = StratifiedKFold(n_splits=10, shuffle=True, random_state = 23)\n",
    "    \n",
    "dt_scores = cross_val_score(classifier, x_res, y_res, scoring ='roc_auc' ,cv = kf)\n",
    "print(\"mean cross validation score: {}\".format(np.round(np.mean(dt_scores),3)))\n",
    "    \n",
    "classifier.fit(x_res, y_res)\n",
    "\n",
    "predictions = classifier.predict(test_features)\n",
    "\n",
    "print(\"Confusion Matrix:\")\n",
    "print(confusion_matrix(test_targets, predictions))\n",
    "\n",
    "print(\"Classification Report\")\n",
    "print(classification_report(test_targets, predictions))\n",
    "    \n",
    "#Beginning the plotting of ROC-curve\n",
    "pred_prob = classifier.predict_proba(test_features)\n",
    "fpr, tpr, thresh = roc_curve(test_targets, pred_prob[:,1], pos_label=1)\n",
    "    \n",
    "#Plot roc curves\n",
    "plt.plot(fpr, tpr, linestyle='--',color='orange', label='SVM')\n",
    "\n",
    "# title\n",
    "plt.title('ROC curve')\n",
    "# x label\n",
    "plt.xlabel('False Positive Rate')\n",
    "# y label\n",
    "plt.ylabel('True Positive rate')\n",
    "\n",
    "plt.legend(loc='best')\n",
    "plt.savefig('ROC',dpi=300)\n",
    "plt.show();\n",
    "    \n",
    "#AUC Score\n",
    "auc_score = roc_auc_score(test_targets, pred_prob[:,1])\n",
    "print(\"AUC Score: \" + str(np.round(auc_score , 3)))"
   ]
  }
 ],
 "metadata": {
  "kernelspec": {
   "display_name": "Python 3 (ipykernel)",
   "language": "python",
   "name": "python3"
  },
  "language_info": {
   "codemirror_mode": {
    "name": "ipython",
    "version": 3
   },
   "file_extension": ".py",
   "mimetype": "text/x-python",
   "name": "python",
   "nbconvert_exporter": "python",
   "pygments_lexer": "ipython3",
   "version": "3.7.13"
  }
 },
 "nbformat": 4,
 "nbformat_minor": 5
}
