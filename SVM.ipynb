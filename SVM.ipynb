{
 "cells": [
  {
   "cell_type": "code",
   "execution_count": 1,
   "id": "9b631811",
   "metadata": {
    "executionInfo": {
     "elapsed": 1826,
     "status": "ok",
     "timestamp": 1649760309349,
     "user": {
      "displayName": "Skrt skrt",
      "userId": "02708380880722235013"
     },
     "user_tz": -120
    },
    "id": "9b631811"
   },
   "outputs": [],
   "source": [
    "import numpy as np\n",
    "import pandas as pd\n",
    "from sklearn.metrics import zero_one_loss\n",
    "from sklearn.ensemble import GradientBoostingClassifier\n",
    "from sklearn.model_selection import train_test_split\n",
    "from sklearn.preprocessing import LabelEncoder\n",
    "from sklearn.metrics import log_loss, roc_curve, roc_auc_score\n",
    "from sklearn.metrics import classification_report, confusion_matrix\n",
    "import matplotlib.pyplot as plt\n",
    "from sklearn import svm\n",
    "from sklearn import datasets\n",
    "from sklearn import metrics\n",
    "from sklearn.model_selection import GridSearchCV\n",
    "from sklearn.svm import SVC \n",
    "from imblearn.under_sampling import NearMiss\n",
    "from sklearn.preprocessing import StandardScaler\n",
    "from sklearn.model_selection import KFold\n",
    "from sklearn.model_selection import cross_val_score\n",
    "from matplotlib import pyplot\n",
    "from imblearn.pipeline import Pipeline, make_pipeline\n",
    "from sklearn.model_selection import StratifiedKFold"
   ]
  },
  {
   "cell_type": "code",
   "execution_count": 2,
   "id": "5e2cd489",
   "metadata": {
    "executionInfo": {
     "elapsed": 1032,
     "status": "ok",
     "timestamp": 1649760374376,
     "user": {
      "displayName": "Skrt skrt",
      "userId": "02708380880722235013"
     },
     "user_tz": -120
    },
    "id": "5e2cd489"
   },
   "outputs": [],
   "source": [
    "#Reading the file and splitting our target column\n",
    "df = pd.read_csv (r'bank-additional-full.csv', sep = ';', engine= 'python')   \n",
    "\n",
    "tussen = df[[\"y\"]]\n",
    "target = tussen.copy()\n",
    "df.drop(df.columns[len(df.columns)-1], axis=1, inplace=True)\n",
    "\n",
    "df=df[['age','default', 'contact', 'month', 'previous', 'poutcome', 'emp.var.rate', 'euribor3m', 'nr.employed']]\n",
    "\n",
    "#Encoding all the catergorical variables and deleting them from the old dataframe\n",
    "categories = ['contact','month','poutcome']\n",
    "df_encoded = pd.get_dummies(df['default'], prefix='default', drop_first=True)\n",
    "df_encoded.insert(0, 'ID', range(0, len(df_encoded)))\n",
    "del df['default']\n",
    "\n",
    "for x in categories:\n",
    "    df_encoded_tussen = pd.get_dummies(df[x], prefix=x, drop_first=True)\n",
    "    df_encoded_tussen.insert(0, 'ID', range(0, len(df_encoded_tussen)))\n",
    "    df_encoded = pd.merge(df_encoded, df_encoded_tussen, on = 'ID', how = 'outer')\n",
    "    del df[x]\n",
    "\n",
    "#Changing pandas dataframe to numpy array\n",
    "X = df\n",
    "\n",
    "#Normalizing the data\n",
    "sc = StandardScaler()\n",
    "X = sc.fit_transform(X)    \n",
    "\n",
    "#Convert to a pandaframe\n",
    "X = pd.DataFrame(X, columns = ['age', 'previous', 'emp.var.rate', 'euribor3m', 'nr.employed'])\n",
    "\n",
    "X.insert(0, 'ID', range(0, len(X)))\n",
    "features = pd.merge(df_encoded, X, on = 'ID', how = 'outer')\n",
    "y = pd.get_dummies(target, drop_first=True)\n",
    "del features['ID']"
   ]
  },
  {
   "cell_type": "code",
   "execution_count": 3,
   "id": "01306551",
   "metadata": {},
   "outputs": [],
   "source": [
    "# create model and wrap into sklearn compatible classifier\n",
    "\n",
    "train_features, test_features, train_targets, test_targets = train_test_split(features, y.values.ravel(), test_size=0.2,\n",
    "                                                                                  random_state=23)"
   ]
  },
  {
   "cell_type": "code",
   "execution_count": null,
   "id": "87e89e40",
   "metadata": {
    "colab": {
     "base_uri": "https://localhost:8080/"
    },
    "executionInfo": {
     "elapsed": 4760643,
     "status": "ok",
     "timestamp": 1649765135015,
     "user": {
      "displayName": "Skrt skrt",
      "userId": "02708380880722235013"
     },
     "user_tz": -120
    },
    "id": "87e89e40",
    "outputId": "4b71d00e-1af2-45b9-9a22-5c5de2994747"
   },
   "outputs": [
    {
     "name": "stdout",
     "output_type": "stream",
     "text": [
      "Fitting 10 folds for each of 24 candidates, totalling 240 fits\n",
      "[CV] END .......svc__C=0.1, svc__gamma=1, svc__kernel=linear; total time=   9.9s\n",
      "[CV] END .......svc__C=0.1, svc__gamma=1, svc__kernel=linear; total time=   7.6s\n",
      "[CV] END .......svc__C=0.1, svc__gamma=1, svc__kernel=linear; total time=   7.7s\n",
      "[CV] END .......svc__C=0.1, svc__gamma=1, svc__kernel=linear; total time=   7.9s\n",
      "[CV] END .......svc__C=0.1, svc__gamma=1, svc__kernel=linear; total time=   8.3s\n",
      "[CV] END .......svc__C=0.1, svc__gamma=1, svc__kernel=linear; total time=   8.7s\n",
      "[CV] END .......svc__C=0.1, svc__gamma=1, svc__kernel=linear; total time=   8.4s\n",
      "[CV] END .......svc__C=0.1, svc__gamma=1, svc__kernel=linear; total time=   7.9s\n",
      "[CV] END .......svc__C=0.1, svc__gamma=1, svc__kernel=linear; total time=   8.0s\n",
      "[CV] END .......svc__C=0.1, svc__gamma=1, svc__kernel=linear; total time=  11.0s\n",
      "[CV] END ..........svc__C=0.1, svc__gamma=1, svc__kernel=rbf; total time=  12.2s\n",
      "[CV] END ..........svc__C=0.1, svc__gamma=1, svc__kernel=rbf; total time=  14.1s\n",
      "[CV] END ..........svc__C=0.1, svc__gamma=1, svc__kernel=rbf; total time=  14.3s\n",
      "[CV] END ..........svc__C=0.1, svc__gamma=1, svc__kernel=rbf; total time=  21.2s\n",
      "[CV] END ..........svc__C=0.1, svc__gamma=1, svc__kernel=rbf; total time=  18.0s\n",
      "[CV] END ..........svc__C=0.1, svc__gamma=1, svc__kernel=rbf; total time=  13.1s\n",
      "[CV] END ..........svc__C=0.1, svc__gamma=1, svc__kernel=rbf; total time=  13.2s\n",
      "[CV] END ..........svc__C=0.1, svc__gamma=1, svc__kernel=rbf; total time=  12.5s\n",
      "[CV] END ..........svc__C=0.1, svc__gamma=1, svc__kernel=rbf; total time=  12.5s\n",
      "[CV] END ..........svc__C=0.1, svc__gamma=1, svc__kernel=rbf; total time=  12.4s\n",
      "[CV] END .....svc__C=0.1, svc__gamma=0.1, svc__kernel=linear; total time=   8.7s\n",
      "[CV] END .....svc__C=0.1, svc__gamma=0.1, svc__kernel=linear; total time=   8.4s\n",
      "[CV] END .....svc__C=0.1, svc__gamma=0.1, svc__kernel=linear; total time=   8.5s\n",
      "[CV] END .....svc__C=0.1, svc__gamma=0.1, svc__kernel=linear; total time=   8.6s\n",
      "[CV] END .....svc__C=0.1, svc__gamma=0.1, svc__kernel=linear; total time=   8.5s\n",
      "[CV] END .....svc__C=0.1, svc__gamma=0.1, svc__kernel=linear; total time=   8.4s\n",
      "[CV] END .....svc__C=0.1, svc__gamma=0.1, svc__kernel=linear; total time=   8.5s\n",
      "[CV] END .....svc__C=0.1, svc__gamma=0.1, svc__kernel=linear; total time=   8.2s\n",
      "[CV] END .....svc__C=0.1, svc__gamma=0.1, svc__kernel=linear; total time=   8.6s\n",
      "[CV] END .....svc__C=0.1, svc__gamma=0.1, svc__kernel=linear; total time=   7.9s\n",
      "[CV] END ........svc__C=0.1, svc__gamma=0.1, svc__kernel=rbf; total time=  10.5s\n",
      "[CV] END ........svc__C=0.1, svc__gamma=0.1, svc__kernel=rbf; total time=  11.0s\n",
      "[CV] END ........svc__C=0.1, svc__gamma=0.1, svc__kernel=rbf; total time=  16.7s\n",
      "[CV] END ........svc__C=0.1, svc__gamma=0.1, svc__kernel=rbf; total time=  12.0s\n",
      "[CV] END ........svc__C=0.1, svc__gamma=0.1, svc__kernel=rbf; total time=  10.8s\n",
      "[CV] END ........svc__C=0.1, svc__gamma=0.1, svc__kernel=rbf; total time=  10.5s\n",
      "[CV] END ........svc__C=0.1, svc__gamma=0.1, svc__kernel=rbf; total time=  10.7s\n",
      "[CV] END ........svc__C=0.1, svc__gamma=0.1, svc__kernel=rbf; total time=  10.8s\n",
      "[CV] END ........svc__C=0.1, svc__gamma=0.1, svc__kernel=rbf; total time=  10.6s\n",
      "[CV] END ........svc__C=0.1, svc__gamma=0.1, svc__kernel=rbf; total time=  10.6s\n",
      "[CV] END ....svc__C=0.1, svc__gamma=0.01, svc__kernel=linear; total time=   8.4s\n",
      "[CV] END ....svc__C=0.1, svc__gamma=0.01, svc__kernel=linear; total time=   8.1s\n",
      "[CV] END ....svc__C=0.1, svc__gamma=0.01, svc__kernel=linear; total time=   8.5s\n",
      "[CV] END ....svc__C=0.1, svc__gamma=0.01, svc__kernel=linear; total time=  14.8s\n",
      "[CV] END ....svc__C=0.1, svc__gamma=0.01, svc__kernel=linear; total time=  10.3s\n",
      "[CV] END ....svc__C=0.1, svc__gamma=0.01, svc__kernel=linear; total time=   8.5s\n",
      "[CV] END ....svc__C=0.1, svc__gamma=0.01, svc__kernel=linear; total time=   8.5s\n",
      "[CV] END ....svc__C=0.1, svc__gamma=0.01, svc__kernel=linear; total time=   8.4s\n",
      "[CV] END ....svc__C=0.1, svc__gamma=0.01, svc__kernel=linear; total time=   8.8s\n",
      "[CV] END ....svc__C=0.1, svc__gamma=0.01, svc__kernel=linear; total time=   8.1s\n",
      "[CV] END .......svc__C=0.1, svc__gamma=0.01, svc__kernel=rbf; total time=  12.6s\n",
      "[CV] END .......svc__C=0.1, svc__gamma=0.01, svc__kernel=rbf; total time=  13.7s\n",
      "[CV] END .......svc__C=0.1, svc__gamma=0.01, svc__kernel=rbf; total time=  11.4s\n",
      "[CV] END .......svc__C=0.1, svc__gamma=0.01, svc__kernel=rbf; total time=  11.6s\n",
      "[CV] END .......svc__C=0.1, svc__gamma=0.01, svc__kernel=rbf; total time=  11.3s\n",
      "[CV] END .......svc__C=0.1, svc__gamma=0.01, svc__kernel=rbf; total time=  11.4s\n",
      "[CV] END .......svc__C=0.1, svc__gamma=0.01, svc__kernel=rbf; total time=  11.4s\n",
      "[CV] END .......svc__C=0.1, svc__gamma=0.01, svc__kernel=rbf; total time=  11.3s\n",
      "[CV] END .......svc__C=0.1, svc__gamma=0.01, svc__kernel=rbf; total time=  13.2s\n",
      "[CV] END .......svc__C=0.1, svc__gamma=0.01, svc__kernel=rbf; total time=  13.1s\n",
      "[CV] END ...svc__C=0.1, svc__gamma=0.001, svc__kernel=linear; total time=   8.7s\n",
      "[CV] END ...svc__C=0.1, svc__gamma=0.001, svc__kernel=linear; total time=   8.3s\n",
      "[CV] END ...svc__C=0.1, svc__gamma=0.001, svc__kernel=linear; total time=   8.4s\n",
      "[CV] END ...svc__C=0.1, svc__gamma=0.001, svc__kernel=linear; total time=   8.4s\n",
      "[CV] END ...svc__C=0.1, svc__gamma=0.001, svc__kernel=linear; total time=   8.9s\n",
      "[CV] END ...svc__C=0.1, svc__gamma=0.001, svc__kernel=linear; total time=   8.5s\n",
      "[CV] END ...svc__C=0.1, svc__gamma=0.001, svc__kernel=linear; total time=   8.7s\n",
      "[CV] END ...svc__C=0.1, svc__gamma=0.001, svc__kernel=linear; total time=   8.5s\n",
      "[CV] END ...svc__C=0.1, svc__gamma=0.001, svc__kernel=linear; total time=   8.6s\n",
      "[CV] END ...svc__C=0.1, svc__gamma=0.001, svc__kernel=linear; total time=   7.9s\n",
      "[CV] END ......svc__C=0.1, svc__gamma=0.001, svc__kernel=rbf; total time=  17.5s\n",
      "[CV] END ......svc__C=0.1, svc__gamma=0.001, svc__kernel=rbf; total time=  25.9s\n",
      "[CV] END ......svc__C=0.1, svc__gamma=0.001, svc__kernel=rbf; total time=  16.6s\n",
      "[CV] END ......svc__C=0.1, svc__gamma=0.001, svc__kernel=rbf; total time=  15.3s\n",
      "[CV] END ......svc__C=0.1, svc__gamma=0.001, svc__kernel=rbf; total time=  15.0s\n",
      "[CV] END ......svc__C=0.1, svc__gamma=0.001, svc__kernel=rbf; total time=  15.3s\n",
      "[CV] END ......svc__C=0.1, svc__gamma=0.001, svc__kernel=rbf; total time=  15.0s\n",
      "[CV] END ......svc__C=0.1, svc__gamma=0.001, svc__kernel=rbf; total time=  15.2s\n",
      "[CV] END ......svc__C=0.1, svc__gamma=0.001, svc__kernel=rbf; total time=  15.3s\n",
      "[CV] END ......svc__C=0.1, svc__gamma=0.001, svc__kernel=rbf; total time=  15.0s\n",
      "[CV] END .........svc__C=1, svc__gamma=1, svc__kernel=linear; total time=  13.7s\n",
      "[CV] END .........svc__C=1, svc__gamma=1, svc__kernel=linear; total time=  16.3s\n",
      "[CV] END .........svc__C=1, svc__gamma=1, svc__kernel=linear; total time=  13.8s\n",
      "[CV] END .........svc__C=1, svc__gamma=1, svc__kernel=linear; total time=  13.4s\n",
      "[CV] END .........svc__C=1, svc__gamma=1, svc__kernel=linear; total time=  14.9s\n",
      "[CV] END .........svc__C=1, svc__gamma=1, svc__kernel=linear; total time=  13.4s\n",
      "[CV] END .........svc__C=1, svc__gamma=1, svc__kernel=linear; total time=  15.2s\n",
      "[CV] END .........svc__C=1, svc__gamma=1, svc__kernel=linear; total time=  14.7s\n",
      "[CV] END .........svc__C=1, svc__gamma=1, svc__kernel=linear; total time=  14.2s\n",
      "[CV] END .........svc__C=1, svc__gamma=1, svc__kernel=linear; total time=  12.7s\n",
      "[CV] END ............svc__C=1, svc__gamma=1, svc__kernel=rbf; total time=  12.1s\n",
      "[CV] END ............svc__C=1, svc__gamma=1, svc__kernel=rbf; total time=  12.8s\n",
      "[CV] END ............svc__C=1, svc__gamma=1, svc__kernel=rbf; total time=  12.1s\n",
      "[CV] END ............svc__C=1, svc__gamma=1, svc__kernel=rbf; total time=  12.3s\n",
      "[CV] END ............svc__C=1, svc__gamma=1, svc__kernel=rbf; total time=  13.7s\n",
      "[CV] END ............svc__C=1, svc__gamma=1, svc__kernel=rbf; total time=  12.7s\n",
      "[CV] END ............svc__C=1, svc__gamma=1, svc__kernel=rbf; total time=  12.9s\n",
      "[CV] END ............svc__C=1, svc__gamma=1, svc__kernel=rbf; total time=  12.9s\n",
      "[CV] END ............svc__C=1, svc__gamma=1, svc__kernel=rbf; total time=  12.1s\n",
      "[CV] END ............svc__C=1, svc__gamma=1, svc__kernel=rbf; total time=  12.6s\n",
      "[CV] END .......svc__C=1, svc__gamma=0.1, svc__kernel=linear; total time=  13.9s\n"
     ]
    },
    {
     "name": "stdout",
     "output_type": "stream",
     "text": [
      "[CV] END .......svc__C=1, svc__gamma=0.1, svc__kernel=linear; total time=  14.4s\n",
      "[CV] END .......svc__C=1, svc__gamma=0.1, svc__kernel=linear; total time=  13.2s\n",
      "[CV] END .......svc__C=1, svc__gamma=0.1, svc__kernel=linear; total time=  13.4s\n",
      "[CV] END .......svc__C=1, svc__gamma=0.1, svc__kernel=linear; total time=  15.5s\n",
      "[CV] END .......svc__C=1, svc__gamma=0.1, svc__kernel=linear; total time=  14.6s\n",
      "[CV] END .......svc__C=1, svc__gamma=0.1, svc__kernel=linear; total time=  22.0s\n",
      "[CV] END .......svc__C=1, svc__gamma=0.1, svc__kernel=linear; total time=  15.9s\n",
      "[CV] END .......svc__C=1, svc__gamma=0.1, svc__kernel=linear; total time=  14.4s\n",
      "[CV] END .......svc__C=1, svc__gamma=0.1, svc__kernel=linear; total time=  13.1s\n",
      "[CV] END ..........svc__C=1, svc__gamma=0.1, svc__kernel=rbf; total time=  10.5s\n",
      "[CV] END ..........svc__C=1, svc__gamma=0.1, svc__kernel=rbf; total time=  10.9s\n",
      "[CV] END ..........svc__C=1, svc__gamma=0.1, svc__kernel=rbf; total time=  10.8s\n",
      "[CV] END ..........svc__C=1, svc__gamma=0.1, svc__kernel=rbf; total time=  10.4s\n",
      "[CV] END ..........svc__C=1, svc__gamma=0.1, svc__kernel=rbf; total time=  10.6s\n",
      "[CV] END ..........svc__C=1, svc__gamma=0.1, svc__kernel=rbf; total time=  10.9s\n",
      "[CV] END ..........svc__C=1, svc__gamma=0.1, svc__kernel=rbf; total time=  10.7s\n",
      "[CV] END ..........svc__C=1, svc__gamma=0.1, svc__kernel=rbf; total time=  11.0s\n",
      "[CV] END ..........svc__C=1, svc__gamma=0.1, svc__kernel=rbf; total time=  10.4s\n",
      "[CV] END ..........svc__C=1, svc__gamma=0.1, svc__kernel=rbf; total time=  10.5s\n",
      "[CV] END ......svc__C=1, svc__gamma=0.01, svc__kernel=linear; total time=  14.5s\n",
      "[CV] END ......svc__C=1, svc__gamma=0.01, svc__kernel=linear; total time=  13.9s\n",
      "[CV] END ......svc__C=1, svc__gamma=0.01, svc__kernel=linear; total time=  15.6s\n",
      "[CV] END ......svc__C=1, svc__gamma=0.01, svc__kernel=linear; total time=  13.7s\n",
      "[CV] END ......svc__C=1, svc__gamma=0.01, svc__kernel=linear; total time=  14.5s\n",
      "[CV] END ......svc__C=1, svc__gamma=0.01, svc__kernel=linear; total time=  13.9s\n",
      "[CV] END ......svc__C=1, svc__gamma=0.01, svc__kernel=linear; total time=  15.6s\n",
      "[CV] END ......svc__C=1, svc__gamma=0.01, svc__kernel=linear; total time=  14.2s\n",
      "[CV] END ......svc__C=1, svc__gamma=0.01, svc__kernel=linear; total time=  21.4s\n",
      "[CV] END ......svc__C=1, svc__gamma=0.01, svc__kernel=linear; total time=  13.1s\n",
      "[CV] END .........svc__C=1, svc__gamma=0.01, svc__kernel=rbf; total time=  11.1s\n",
      "[CV] END .........svc__C=1, svc__gamma=0.01, svc__kernel=rbf; total time=  11.0s\n",
      "[CV] END .........svc__C=1, svc__gamma=0.01, svc__kernel=rbf; total time=  11.0s\n",
      "[CV] END .........svc__C=1, svc__gamma=0.01, svc__kernel=rbf; total time=  11.1s\n",
      "[CV] END .........svc__C=1, svc__gamma=0.01, svc__kernel=rbf; total time=  15.5s\n",
      "[CV] END .........svc__C=1, svc__gamma=0.01, svc__kernel=rbf; total time=  13.1s\n",
      "[CV] END .........svc__C=1, svc__gamma=0.01, svc__kernel=rbf; total time=  12.0s\n",
      "[CV] END .........svc__C=1, svc__gamma=0.01, svc__kernel=rbf; total time=  13.2s\n",
      "[CV] END .........svc__C=1, svc__gamma=0.01, svc__kernel=rbf; total time=  11.2s\n",
      "[CV] END .........svc__C=1, svc__gamma=0.01, svc__kernel=rbf; total time=  10.7s\n",
      "[CV] END .....svc__C=1, svc__gamma=0.001, svc__kernel=linear; total time=  14.2s\n",
      "[CV] END .....svc__C=1, svc__gamma=0.001, svc__kernel=linear; total time=  14.0s\n",
      "[CV] END .....svc__C=1, svc__gamma=0.001, svc__kernel=linear; total time=  13.1s\n",
      "[CV] END .....svc__C=1, svc__gamma=0.001, svc__kernel=linear; total time=  13.7s\n",
      "[CV] END .....svc__C=1, svc__gamma=0.001, svc__kernel=linear; total time=  14.4s\n",
      "[CV] END .....svc__C=1, svc__gamma=0.001, svc__kernel=linear; total time=  13.5s\n",
      "[CV] END .....svc__C=1, svc__gamma=0.001, svc__kernel=linear; total time=  20.6s\n",
      "[CV] END .....svc__C=1, svc__gamma=0.001, svc__kernel=linear; total time=  18.6s\n",
      "[CV] END .....svc__C=1, svc__gamma=0.001, svc__kernel=linear; total time=  14.7s\n",
      "[CV] END .....svc__C=1, svc__gamma=0.001, svc__kernel=linear; total time=  13.3s\n",
      "[CV] END ........svc__C=1, svc__gamma=0.001, svc__kernel=rbf; total time=  11.1s\n",
      "[CV] END ........svc__C=1, svc__gamma=0.001, svc__kernel=rbf; total time=  11.5s\n",
      "[CV] END ........svc__C=1, svc__gamma=0.001, svc__kernel=rbf; total time=  11.3s\n",
      "[CV] END ........svc__C=1, svc__gamma=0.001, svc__kernel=rbf; total time=  14.1s\n",
      "[CV] END ........svc__C=1, svc__gamma=0.001, svc__kernel=rbf; total time=  11.7s\n",
      "[CV] END ........svc__C=1, svc__gamma=0.001, svc__kernel=rbf; total time=  11.4s\n",
      "[CV] END ........svc__C=1, svc__gamma=0.001, svc__kernel=rbf; total time=  11.3s\n",
      "[CV] END ........svc__C=1, svc__gamma=0.001, svc__kernel=rbf; total time=  11.5s\n",
      "[CV] END ........svc__C=1, svc__gamma=0.001, svc__kernel=rbf; total time=  11.7s\n",
      "[CV] END ........svc__C=1, svc__gamma=0.001, svc__kernel=rbf; total time=  10.9s\n",
      "[CV] END ........svc__C=10, svc__gamma=1, svc__kernel=linear; total time=  56.0s\n",
      "[CV] END ........svc__C=10, svc__gamma=1, svc__kernel=linear; total time=  53.3s\n",
      "[CV] END ........svc__C=10, svc__gamma=1, svc__kernel=linear; total time=  45.8s\n",
      "[CV] END ........svc__C=10, svc__gamma=1, svc__kernel=linear; total time=  50.1s\n",
      "[CV] END ........svc__C=10, svc__gamma=1, svc__kernel=linear; total time=  55.7s\n",
      "[CV] END ........svc__C=10, svc__gamma=1, svc__kernel=linear; total time=  54.8s\n",
      "[CV] END ........svc__C=10, svc__gamma=1, svc__kernel=linear; total time= 1.1min\n",
      "[CV] END ........svc__C=10, svc__gamma=1, svc__kernel=linear; total time=  59.1s\n",
      "[CV] END ........svc__C=10, svc__gamma=1, svc__kernel=linear; total time= 1.0min\n",
      "[CV] END ........svc__C=10, svc__gamma=1, svc__kernel=linear; total time=  45.6s\n",
      "[CV] END ...........svc__C=10, svc__gamma=1, svc__kernel=rbf; total time=  13.4s\n",
      "[CV] END ...........svc__C=10, svc__gamma=1, svc__kernel=rbf; total time=  13.6s\n",
      "[CV] END ...........svc__C=10, svc__gamma=1, svc__kernel=rbf; total time=  13.0s\n",
      "[CV] END ...........svc__C=10, svc__gamma=1, svc__kernel=rbf; total time=  14.6s\n",
      "[CV] END ...........svc__C=10, svc__gamma=1, svc__kernel=rbf; total time=  21.4s\n",
      "[CV] END ...........svc__C=10, svc__gamma=1, svc__kernel=rbf; total time=  17.5s\n",
      "[CV] END ...........svc__C=10, svc__gamma=1, svc__kernel=rbf; total time=  14.5s\n",
      "[CV] END ...........svc__C=10, svc__gamma=1, svc__kernel=rbf; total time=  14.4s\n",
      "[CV] END ...........svc__C=10, svc__gamma=1, svc__kernel=rbf; total time=  14.7s\n",
      "[CV] END ...........svc__C=10, svc__gamma=1, svc__kernel=rbf; total time=  14.7s\n",
      "[CV] END ......svc__C=10, svc__gamma=0.1, svc__kernel=linear; total time=  57.5s\n",
      "[CV] END ......svc__C=10, svc__gamma=0.1, svc__kernel=linear; total time= 1.1min\n",
      "[CV] END ......svc__C=10, svc__gamma=0.1, svc__kernel=linear; total time=  47.4s\n"
     ]
    }
   ],
   "source": [
    "# define hyperparameter search space\n",
    "C= [0.1,1, 10]\n",
    "gamma = [1,0.1,0.01,0.001]\n",
    "kernel = ['linear','rbf']\n",
    "\n",
    "# create dictionary from search space\n",
    "grid = dict(\n",
    "    svc__C=C,\n",
    "    svc__gamma=gamma,\n",
    "    svc__kernel=kernel,\n",
    ")\n",
    "\n",
    "# create 10-fold cross validation generator\n",
    "cv = KFold(n_splits=10, shuffle = True , random_state= 23)\n",
    "\n",
    "# create imbalanced learn pipeline\n",
    "imba_pipeline = make_pipeline(NearMiss(version=1), svm.SVC(C = 1 ,kernel = 'rbf', gamma = 'scale', probability= True))\n",
    "#cross_val_score(imba_pipeline, X_train, y_train, scoring='roc_auc', cv=cv)\n",
    "                              \n",
    "\n",
    "# create random searcher with 10-fold cv and start tuning process\n",
    "model_grid = GridSearchCV(estimator=imba_pipeline, param_grid=grid, n_jobs=1, cv=cv, verbose=2, scoring='roc_auc')\n",
    "grid_res = model_grid.fit(train_features, train_targets)\n",
    "\n",
    "# summarise grid search info\n",
    "bestScore = grid_res.best_score_\n",
    "bestParams = grid_res.best_params_\n",
    "print(\"[INFO] best score is {:.2f} using {}\".format(bestScore,\n",
    "    bestParams))"
   ]
  },
  {
   "cell_type": "code",
   "execution_count": 4,
   "id": "27eb7738",
   "metadata": {},
   "outputs": [
    {
     "data": {
      "text/plain": [
       "((32950, 19), (7506, 19))"
      ]
     },
     "execution_count": 4,
     "metadata": {},
     "output_type": "execute_result"
    }
   ],
   "source": [
    "# underfit training data using nearmiss 1\n",
    "nm = NearMiss(version = 1)\n",
    "x_res, y_res = nm.fit_resample(train_features, train_targets)\n",
    "train_features.shape,x_res.shape"
   ]
  },
  {
   "cell_type": "code",
   "execution_count": 5,
   "id": "cfd305a5",
   "metadata": {
    "executionInfo": {
     "elapsed": 204,
     "status": "ok",
     "timestamp": 1649765288729,
     "user": {
      "displayName": "Skrt skrt",
      "userId": "02708380880722235013"
     },
     "user_tz": -120
    },
    "id": "cfd305a5"
   },
   "outputs": [],
   "source": [
    "#Now we set our c, kernel and gamma to the optimal value found in the last grid search\n",
    "c = 1\n",
    "gamma = 0.001\n",
    "kernel = 'rbf'"
   ]
  },
  {
   "cell_type": "code",
   "execution_count": 6,
   "id": "fe0843d3",
   "metadata": {
    "colab": {
     "base_uri": "https://localhost:8080/",
     "height": 317
    },
    "executionInfo": {
     "elapsed": 756295,
     "status": "ok",
     "timestamp": 1649766316092,
     "user": {
      "displayName": "Skrt skrt",
      "userId": "02708380880722235013"
     },
     "user_tz": -120
    },
    "id": "fe0843d3",
    "outputId": "869ee3c2-f27e-49f2-a748-970d829c1654"
   },
   "outputs": [
    {
     "name": "stdout",
     "output_type": "stream",
     "text": [
      "C: 0.100, train: 0.798, test: 0.705\n",
      "C: 1.000, train: 0.798, test: 0.704\n",
      "C: 10.000, train: 0.815, test: 0.647\n"
     ]
    },
    {
     "data": {
      "image/png": "[encoded data removed]",
      "text/plain": [
       "<Figure size 432x288 with 1 Axes>"
      ]
     },
     "metadata": {
      "needs_background": "light"
     },
     "output_type": "display_data"
    }
   ],
   "source": [
    "#Check for overfitting with C\n",
    "\n",
    "# define lists to collect scores\n",
    "train_scores, test_scores = list(), list()\n",
    "# define the C to evaluate\n",
    "values = [0.1,1, 10]\n",
    "# evaluate the svm for C\n",
    "for i in values:\n",
    "    # configure the model\n",
    "    model = svm.SVC(C= i ,kernel = kernel, gamma = gamma, probability=True, random_state=23 ).fit(\n",
    "        x_res, y_res)\n",
    "    # evaluate on the train dataset\n",
    "    schatting = model.predict(x_res)\n",
    "    train_acc = roc_auc_score(y_res, schatting)\n",
    "    train_scores.append(train_acc)\n",
    "    # evaluate on the test dataset\n",
    "    test_schatting = model.predict(test_features)\n",
    "    test_acc = roc_auc_score(test_targets, test_schatting)\n",
    "    test_scores.append(test_acc)\n",
    "    # summarize progress\n",
    "    print('C: %.3f, train: %.3f, test: %.3f' % (i, train_acc, test_acc))\n",
    "# plot of train and test scores vs tree depth\n",
    "pyplot.plot(values, train_scores, '-o', label='Train')\n",
    "pyplot.plot(values, test_scores, '-o', label='Test')\n",
    "pyplot.legend()\n",
    "pyplot.show()\n"
   ]
  },
  {
   "cell_type": "code",
   "execution_count": 7,
   "id": "1dbd8bc2",
   "metadata": {
    "colab": {
     "base_uri": "https://localhost:8080/",
     "height": 334
    },
    "executionInfo": {
     "elapsed": 1106506,
     "status": "ok",
     "timestamp": 1649767422577,
     "user": {
      "displayName": "Skrt skrt",
      "userId": "02708380880722235013"
     },
     "user_tz": -120
    },
    "id": "1dbd8bc2",
    "outputId": "aa2ab33f-92ab-4261-a6ee-ea41c0285e3a"
   },
   "outputs": [
    {
     "name": "stdout",
     "output_type": "stream",
     "text": [
      "C: 1.000, train: 0.853, test: 0.609\n",
      "C: 0.100, train: 0.843, test: 0.636\n",
      "C: 0.010, train: 0.818, test: 0.641\n",
      "C: 0.001, train: 0.798, test: 0.704\n"
     ]
    },
    {
     "data": {
      "image/png": "[encoded data removed]",
      "text/plain": [
       "<Figure size 432x288 with 1 Axes>"
      ]
     },
     "metadata": {
      "needs_background": "light"
     },
     "output_type": "display_data"
    }
   ],
   "source": [
    "# define lists to collect scores\n",
    "train_scores, test_scores = list(), list()\n",
    "\n",
    "values = [1,0.1,0.01,0.001]\n",
    "# evaluate a gamma\n",
    "for i in values:\n",
    "    # configure the model\n",
    "    model = svm.SVC(C= c ,kernel = kernel, gamma = i, probability=True, random_state=23 ).fit(\n",
    "        x_res, y_res)\n",
    "    # evaluate on the train dataset\n",
    "    schatting = model.predict(x_res)\n",
    "    train_acc = roc_auc_score(y_res, schatting)\n",
    "    train_scores.append(train_acc)\n",
    "    # evaluate on the test dataset\n",
    "    test_schatting = model.predict(test_features)\n",
    "    test_acc = roc_auc_score(test_targets, test_schatting)\n",
    "    test_scores.append(test_acc)\n",
    "    # summarize progress\n",
    "    print('C: %.3f, train: %.3f, test: %.3f' % (i, train_acc, test_acc))\n",
    "# plot of train and test scores vs tree depth\n",
    "pyplot.plot(values, train_scores, '-o', label='Train')\n",
    "pyplot.plot(values, test_scores, '-o', label='Test')\n",
    "pyplot.legend()\n",
    "pyplot.show()"
   ]
  },
  {
   "cell_type": "code",
   "execution_count": 9,
   "id": "fdb33e7b",
   "metadata": {
    "colab": {
     "base_uri": "https://localhost:8080/",
     "height": 538
    },
    "executionInfo": {
     "elapsed": 5126,
     "status": "ok",
     "timestamp": 1649765140554,
     "user": {
      "displayName": "Skrt skrt",
      "userId": "02708380880722235013"
     },
     "user_tz": -120
    },
    "id": "fdb33e7b",
    "outputId": "e19a6925-a12d-490d-f83a-af9c2cd2a3a1"
   },
   "outputs": [
    {
     "name": "stdout",
     "output_type": "stream",
     "text": [
      "mean cross validation score: 0.877\n",
      "Confusion Matrix:\n",
      "[[5230 2121]\n",
      " [ 270  617]]\n",
      "Classification Report\n",
      "              precision    recall  f1-score   support\n",
      "\n",
      "           0       0.95      0.71      0.81      7351\n",
      "           1       0.23      0.70      0.34       887\n",
      "\n",
      "    accuracy                           0.71      8238\n",
      "   macro avg       0.59      0.70      0.58      8238\n",
      "weighted avg       0.87      0.71      0.76      8238\n",
      "\n"
     ]
    },
    {
     "data": {
      "image/png": "[encoded data removed]",
      "text/plain": [
       "<Figure size 432x288 with 1 Axes>"
      ]
     },
     "metadata": {
      "needs_background": "light"
     },
     "output_type": "display_data"
    },
    {
     "name": "stdout",
     "output_type": "stream",
     "text": [
      "AUC Score: 0.75\n"
     ]
    }
   ],
   "source": [
    "#SVM and predicting with ROC curve and classification reports\n",
    "\n",
    "ensemble = svm.SVC(C = c ,kernel = kernel, gamma = gamma, random_state = 23 ,probability= True)\n",
    "    \n",
    "k = 10\n",
    "kf = KFold(n_splits=k, shuffle = True, random_state=23)\n",
    "\n",
    "dt_scores = cross_val_score(ensemble, x_res, y_res, scoring ='roc_auc' ,cv = kf)\n",
    "print(\"mean cross validation score: {}\".format(np.round(np.mean(dt_scores),3)))\n",
    "\n",
    "ensemble.fit(x_res, y_res)\n",
    "predictions = ensemble.predict(test_features)   \n",
    "print(\"Confusion Matrix:\")\n",
    "print(confusion_matrix(test_targets, predictions))\n",
    "\n",
    "print(\"Classification Report\")\n",
    "print(classification_report(test_targets, predictions))\n",
    "    \n",
    "#Beginning the plotting of ROC-curve\n",
    "pred_prob = ensemble.predict_proba(test_features)\n",
    "fpr, tpr, thresh = roc_curve(test_targets, pred_prob[:,1], pos_label=1)\n",
    "    \n",
    "#Plot roc curves\n",
    "plt.plot(fpr, tpr, linestyle='--',color='orange', label='svm')\n",
    "\n",
    "# title\n",
    "plt.title('ROC curve')\n",
    "# x label\n",
    "plt.xlabel('False Positive Rate')\n",
    "# y label\n",
    "plt.ylabel('True Positive rate')\n",
    "\n",
    "plt.legend(loc='best')\n",
    "plt.savefig('ROC',dpi=300)\n",
    "plt.show();\n",
    "    \n",
    "#AUC Score\n",
    "auc_score = roc_auc_score(test_targets, pred_prob[:,1])\n",
    "print(\"AUC Score: \" + str(np.round(auc_score , 3)))"
   ]
  },
  {
   "cell_type": "code",
   "execution_count": null,
   "id": "6eaabdb8",
   "metadata": {},
   "outputs": [],
   "source": []
  }
 ],
 "metadata": {
  "colab": {
   "name": "SVM.ipynb",
   "provenance": []
  },
  "kernelspec": {
   "display_name": "Python 3 (ipykernel)",
   "language": "python",
   "name": "python3"
  },
  "language_info": {
   "codemirror_mode": {
    "name": "ipython",
    "version": 3
   },
   "file_extension": ".py",
   "mimetype": "text/x-python",
   "name": "python",
   "nbconvert_exporter": "python",
   "pygments_lexer": "ipython3",
   "version": "3.9.7"
  }
 },
 "nbformat": 4,
 "nbformat_minor": 5
}
