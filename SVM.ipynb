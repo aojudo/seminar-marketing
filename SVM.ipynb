{
 "cells": [
  {
   "cell_type": "code",
   "execution_count": 8,
   "id": "9b631811",
   "metadata": {},
   "outputs": [],
   "source": [
    "import numpy as np\n",
    "import pandas as pd\n",
    "from sklearn.metrics import zero_one_loss\n",
    "from sklearn.ensemble import GradientBoostingClassifier\n",
    "from sklearn.model_selection import train_test_split\n",
    "from sklearn.preprocessing import LabelEncoder\n",
    "from sklearn.metrics import log_loss, roc_curve, roc_auc_score\n",
    "from sklearn.metrics import classification_report, confusion_matrix\n",
    "import matplotlib.pyplot as plt\n",
    "from sklearn.linear_model import LogisticRegression\n",
    "from sklearn import svm\n",
    "from sklearn import datasets\n",
    "from sklearn import metrics\n",
    "from sklearn.model_selection import GridSearchCV\n",
    "from sklearn.svm import SVC \n",
    "from sklearn.model_selection import RandomizedSearchCV\n",
    "import tensorflow as tf\n",
    "from imblearn.under_sampling import NearMiss"
   ]
  },
  {
   "cell_type": "code",
   "execution_count": 9,
   "id": "5e2cd489",
   "metadata": {},
   "outputs": [],
   "source": [
    "#Reading the file and splitting our target column\n",
    "df = pd.read_csv (r'bank-additional-full.csv', sep = ';', engine= 'python')   \n",
    "\n",
    "#categories_filter = ['job','marital','education','default','housing','loan','contact','month','day_of_week','poutcome']\n",
    "\n",
    "#for x in categories_filter:\n",
    "#    df.drop(df.index[df[x] == 'unknown'], inplace=True)\n",
    "\n",
    "tussen = df[[\"y\"]]\n",
    "target = tussen.copy()\n",
    "df.drop(df.columns[len(df.columns)-1], axis=1, inplace=True)\n",
    "\n",
    "#Encoding all the catergorical variables and deleting them from the old dataframe\n",
    "categories = ['marital','education','default','housing','loan','contact','month','day_of_week','poutcome']\n",
    "df_encoded = pd.get_dummies(df['job'], prefix='job', drop_first=True)\n",
    "df_encoded.insert(0, 'ID', range(0, len(df_encoded)))\n",
    "del df['job']\n",
    "\n",
    "for x in categories:\n",
    "    df_encoded_tussen = pd.get_dummies(df[x], prefix=x, drop_first=True)\n",
    "    df_encoded_tussen.insert(0, 'ID', range(0, len(df_encoded_tussen)))\n",
    "    df_encoded = pd.merge(df_encoded, df_encoded_tussen, on = 'ID', how = 'outer')\n",
    "    del df[x]\n",
    "\n",
    "df.insert(0, 'ID', range(0, len(df)))\n",
    "features = pd.merge(df_encoded, df, on = 'ID', how = 'outer')\n",
    "y = pd.get_dummies(target, drop_first=True)\n",
    "del features['ID']"
   ]
  },
  {
   "cell_type": "code",
   "execution_count": 10,
   "id": "63ad5c3f",
   "metadata": {},
   "outputs": [],
   "source": [
    "undersample = NearMiss(version=1, n_neighbors_ver3=3)\n",
    "features, y = undersample.fit_resample(features, y)"
   ]
  },
  {
   "cell_type": "code",
   "execution_count": 11,
   "id": "46d1b3e7",
   "metadata": {
    "tags": []
   },
   "outputs": [
    {
     "name": "stdout",
     "output_type": "stream",
     "text": [
      "Accuracy:  0.839\n",
      "Confusion Matrix:\n",
      "[[672  90]\n",
      " [159 623]]\n",
      "Classification Report\n",
      "              precision    recall  f1-score   support\n",
      "\n",
      "           0       0.81      0.88      0.84       762\n",
      "           1       0.87      0.80      0.83       782\n",
      "\n",
      "    accuracy                           0.84      1544\n",
      "   macro avg       0.84      0.84      0.84      1544\n",
      "weighted avg       0.84      0.84      0.84      1544\n",
      "\n"
     ]
    },
    {
     "data": {
      "image/png": "[encoded data removed]",
      "text/plain": [
       "<Figure size 432x288 with 1 Axes>"
      ]
     },
     "metadata": {
      "needs_background": "light"
     },
     "output_type": "display_data"
    },
    {
     "name": "stdout",
     "output_type": "stream",
     "text": [
      "AUC Score: 0.894\n",
      "Log-Loss: 5.57\n"
     ]
    }
   ],
   "source": [
    "train_features, test_features, train_targets, test_targets = train_test_split(features, y.values.ravel(), test_size=0.2,\n",
    "                                                                                  random_state=23)\n",
    "gamma = pow(2,-7.8)\n",
    "c=3\n",
    "\n",
    "#SVM Classifier\n",
    "classifier = svm.SVC(C= c ,kernel = 'rbf', gamma = gamma, probability=True)\n",
    "classifier.fit(train_features, train_targets)\n",
    "\n",
    "predictions = classifier.predict(test_features)\n",
    "\n",
    "# Use score method to get accuracy of model\n",
    "accuracy = metrics.accuracy_score(test_targets, predictions)\n",
    "print(\"Accuracy: \", + np.round(accuracy , 3))\n",
    "\n",
    "print(\"Confusion Matrix:\")\n",
    "print(confusion_matrix(test_targets, predictions))\n",
    "\n",
    "print(\"Classification Report\")\n",
    "print(classification_report(test_targets, predictions))\n",
    "    \n",
    "#Beginning the plotting of ROC-curve\n",
    "pred_prob = classifier.predict_proba(test_features)\n",
    "fpr, tpr, thresh = roc_curve(test_targets, pred_prob[:,1], pos_label=1)\n",
    "    \n",
    "#Plot roc curves\n",
    "plt.plot(fpr, tpr, linestyle='--',color='orange', label='SVM')\n",
    "\n",
    "# title\n",
    "plt.title('ROC curve')\n",
    "# x label\n",
    "plt.xlabel('False Positive Rate')\n",
    "# y label\n",
    "plt.ylabel('True Positive rate')\n",
    "\n",
    "plt.legend(loc='best')\n",
    "plt.savefig('ROC',dpi=300)\n",
    "plt.show();\n",
    "    \n",
    "#AUC Score\n",
    "auc_score = roc_auc_score(test_targets, pred_prob[:,1])\n",
    "print(\"AUC Score: \" + str(np.round(auc_score , 3)))\n",
    "    \n",
    "#Log-loss function\n",
    "print(\"Log-Loss: \" + str(np.round(log_loss(test_targets, predictions),3)))"
   ]
  },
  {
   "cell_type": "code",
   "execution_count": null,
   "id": "79eb92b3",
   "metadata": {
    "tags": []
   },
   "outputs": [
    {
     "name": "stdout",
     "output_type": "stream",
     "text": [
      "Fitting 5 folds for each of 4 candidates, totalling 20 fits\n",
      "[CV] END .....C=3, gamma=0.004487102949207168, kernel=linear; total time= 1.2min\n",
      "[CV] END .....C=3, gamma=0.004487102949207168, kernel=linear; total time= 1.1min\n",
      "[CV] END .....C=3, gamma=0.004487102949207168, kernel=linear; total time= 1.2min\n",
      "[CV] END .....C=3, gamma=0.004487102949207168, kernel=linear; total time= 1.8min\n",
      "[CV] END .....C=3, gamma=0.004487102949207168, kernel=linear; total time= 1.4min\n",
      "[CV] END ........C=3, gamma=0.004487102949207168, kernel=rbf; total time= 1.7min\n",
      "[CV] END ........C=3, gamma=0.004487102949207168, kernel=rbf; total time= 1.3min\n",
      "[CV] END ........C=3, gamma=0.004487102949207168, kernel=rbf; total time= 1.4min\n",
      "[CV] END ........C=3, gamma=0.004487102949207168, kernel=rbf; total time= 1.4min\n",
      "[CV] END ........C=3, gamma=0.004487102949207168, kernel=rbf; total time= 1.3min\n"
     ]
    }
   ],
   "source": [
    "param_grid = {'C': [3], 'gamma': [pow(2,-7.8)],'kernel': ['linear','rbf', 'poly', 'sigmoid']}\n",
    "grid = GridSearchCV(SVC(),param_grid,refit=True,verbose=2)\n",
    "grid.fit(train_features,train_targets)\n",
    "print(grid.best_estimator_)\n",
    "\n",
    "grid_predictions = grid.predict(test_features)\n",
    "print(confusion_matrix(test_targets,grid_predictions))\n",
    "print(classification_report(test_targets,grid_predictions))\n",
    "\n"
   ]
  },
  {
   "cell_type": "code",
   "execution_count": null,
   "id": "e70e012f",
   "metadata": {},
   "outputs": [],
   "source": []
  }
 ],
 "metadata": {
  "kernelspec": {
   "display_name": "Python 3 (ipykernel)",
   "language": "python",
   "name": "python3"
  },
  "language_info": {
   "codemirror_mode": {
    "name": "ipython",
    "version": 3
   },
   "file_extension": ".py",
   "mimetype": "text/x-python",
   "name": "python",
   "nbconvert_exporter": "python",
   "pygments_lexer": "ipython3",
   "version": "3.9.7"
  }
 },
 "nbformat": 4,
 "nbformat_minor": 5
}
