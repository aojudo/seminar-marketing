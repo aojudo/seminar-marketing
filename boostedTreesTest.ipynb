{
 "cells": [
  {
   "cell_type": "code",
   "execution_count": 12,
   "id": "44a51c94",
   "metadata": {},
   "outputs": [],
   "source": [
    "import numpy as np\n",
    "import pandas as pd\n",
    "from sklearn.metrics import zero_one_loss\n",
    "from sklearn.ensemble import GradientBoostingClassifier\n",
    "from sklearn.model_selection import train_test_split\n",
    "from sklearn.preprocessing import LabelEncoder\n",
    "from sklearn.metrics import log_loss, roc_curve, roc_auc_score\n",
    "from sklearn.metrics import classification_report, confusion_matrix\n",
    "import matplotlib.pyplot as plt\n",
    "from sklearn.model_selection import KFold\n",
    "from sklearn.model_selection import cross_val_score\n",
    "from sklearn.metrics import r2_score\n",
    "from xgboost import XGBClassifier"
   ]
  },
  {
   "cell_type": "code",
   "execution_count": 13,
   "id": "42f05d96",
   "metadata": {},
   "outputs": [],
   "source": [
    "#Reading the file and splitting our target column\n",
    "df = pd.read_csv (r'bank-additional.csv', sep = ';', engine= 'python')   \n",
    "\n",
    "tussen = df[[\"y\"]]\n",
    "target = tussen.copy()\n",
    "df.drop(df.columns[len(df.columns)-1], axis=1, inplace=True)"
   ]
  },
  {
   "cell_type": "code",
   "execution_count": 14,
   "id": "cac8ff49",
   "metadata": {},
   "outputs": [],
   "source": [
    "#Encoding all the catergorical variables and deleting them from the old dataframe\n",
    "categories = ['marital','education','default','housing','loan','contact','month','day_of_week','poutcome']\n",
    "df_encoded = pd.get_dummies(df['job'], prefix='job', drop_first=False)\n",
    "df_encoded.insert(0, 'ID', range(0, len(df_encoded)))\n",
    "del df['job']\n",
    "\n",
    "for x in categories:\n",
    "    df_encoded_tussen = pd.get_dummies(df[x], prefix=x, drop_first=True)\n",
    "    df_encoded_tussen.insert(0, 'ID', range(0, len(df_encoded_tussen)))\n",
    "    df_encoded = pd.merge(df_encoded, df_encoded_tussen, on = 'ID', how = 'outer')\n",
    "    del df[x]\n",
    "\n",
    "df.insert(0, 'ID', range(0, len(df)))\n",
    "features = pd.merge(df_encoded, df, on = 'ID', how = 'outer')\n",
    "y = pd.get_dummies(target, drop_first=True)\n",
    "del features['ID']"
   ]
  },
  {
   "cell_type": "code",
   "execution_count": 19,
   "id": "d7e24264",
   "metadata": {},
   "outputs": [],
   "source": [
    "#Boosting the tree and predicting with ROC curve and classification reports\n",
    "def gradient_boosted_tree(features, targets):\n",
    "    train_features, test_features, train_targets, test_targets = train_test_split(features, y.values.ravel(), test_size=0.2,\n",
    "                                                                                  random_state=23)\n",
    "    ensemble = GradientBoostingClassifier(max_depth=1, n_estimators=1000 ,random_state=23).fit(\n",
    "        train_features, train_targets)\n",
    "    predictions = ensemble.predict(test_features)\n",
    "    \n",
    "    k = 10\n",
    "    kf = KFold(n_splits=k, shuffle = True, random_state = 23)\n",
    "\n",
    "    \n",
    "    dt_scores = cross_val_score(ensemble, train_features, train_targets, scoring ='accuracy' ,cv = kf)\n",
    "    print(\"mean cross validation score: {}\".format(np.round(np.mean(dt_scores),3)))\n",
    "    print(\"score without cv: {}\".format(np.round(ensemble.score(train_features, train_targets),3)))\n",
    "    \n",
    "    #print(r2_score(test_targets, predictions))\n",
    "    #print(ensemble.score(test_features, test_targets))\n",
    "    \n",
    "    print(\"Confusion Matrix:\")\n",
    "    print(confusion_matrix(test_targets, predictions))\n",
    "\n",
    "    print(\"Classification Report\")\n",
    "    print(classification_report(test_targets, predictions))\n",
    "    \n",
    "    #Beginning the plotting of ROC-curve\n",
    "    pred_prob = ensemble.predict_proba(test_features)\n",
    "    fpr, tpr, thresh = roc_curve(test_targets, pred_prob[:,1], pos_label=1)\n",
    "    \n",
    "    #Plot roc curves\n",
    "    plt.plot(fpr, tpr, linestyle='--',color='orange', label='Boosted Trees')\n",
    "\n",
    "    # title\n",
    "    plt.title('ROC curve')\n",
    "    # x label\n",
    "    plt.xlabel('False Positive Rate')\n",
    "    # y label\n",
    "    plt.ylabel('True Positive rate')\n",
    "\n",
    "    plt.legend(loc='best')\n",
    "    plt.savefig('ROC',dpi=300)\n",
    "    plt.show();\n",
    "    \n",
    "    #AUC Score\n",
    "    auc_score = roc_auc_score(test_targets, pred_prob[:,1])\n",
    "    print(\"AUC Score: \" + str(np.round(auc_score , 3)))\n",
    "    \n",
    "    #Log-loss function\n",
    "    print(\"Log-Loss: \" + str(np.round(log_loss(test_targets, predictions),3)))"
   ]
  },
  {
   "cell_type": "code",
   "execution_count": 20,
   "id": "d5215482",
   "metadata": {},
   "outputs": [
    {
     "name": "stdout",
     "output_type": "stream",
     "text": [
      "Confusion Matrix:\n",
      "[[702  13]\n",
      " [ 61  48]]\n",
      "Classification Report\n",
      "              precision    recall  f1-score   support\n",
      "\n",
      "           0       0.92      0.98      0.95       715\n",
      "           1       0.79      0.44      0.56       109\n",
      "\n",
      "    accuracy                           0.91       824\n",
      "   macro avg       0.85      0.71      0.76       824\n",
      "weighted avg       0.90      0.91      0.90       824\n",
      "\n"
     ]
    },
    {
     "data": {
      "image/png": "[encoded data removed]",
      "text/plain": [
       "<Figure size 432x288 with 1 Axes>"
      ]
     },
     "metadata": {
      "needs_background": "light"
     },
     "output_type": "display_data"
    },
    {
     "name": "stdout",
     "output_type": "stream",
     "text": [
      "AUC Score: 0.948\n",
      "Log-Loss: 3.102\n"
     ]
    }
   ],
   "source": [
    "gradient_boosted_tree(features, y.values.ravel())"
   ]
  }
 ],
 "metadata": {
  "kernelspec": {
   "display_name": "Python 3 (ipykernel)",
   "language": "python",
   "name": "python3"
  },
  "language_info": {
   "codemirror_mode": {
    "name": "ipython",
    "version": 3
   },
   "file_extension": ".py",
   "mimetype": "text/x-python",
   "name": "python",
   "nbconvert_exporter": "python",
   "pygments_lexer": "ipython3",
   "version": "3.9.7"
  }
 },
 "nbformat": 4,
 "nbformat_minor": 5
}
