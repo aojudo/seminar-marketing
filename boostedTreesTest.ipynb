{
 "cells": [
  {
   "cell_type": "code",
   "execution_count": 86,
   "id": "44a51c94",
   "metadata": {},
   "outputs": [],
   "source": [
    "import numpy as np\n",
    "import pandas as pd\n",
    "from sklearn.metrics import zero_one_loss\n",
    "from sklearn.ensemble import GradientBoostingClassifier\n",
    "from sklearn.model_selection import train_test_split\n",
    "from sklearn.preprocessing import LabelEncoder\n",
    "from sklearn.metrics import log_loss, roc_curve, roc_auc_score\n",
    "from sklearn.metrics import classification_report, confusion_matrix\n",
    "import matplotlib.pyplot as plt\n",
    "from sklearn.model_selection import KFold\n",
    "from sklearn.model_selection import cross_val_score\n",
    "from sklearn.metrics import r2_score\n",
    "from xgboost import XGBClassifier\n",
    "from matplotlib import pyplot\n",
    "from sklearn.metrics import accuracy_score\n",
    "from imblearn.under_sampling import NearMiss\n",
    "from collections import Counter\n",
    "from sklearn.model_selection import GridSearchCV"
   ]
  },
  {
   "cell_type": "code",
   "execution_count": 87,
   "id": "42f05d96",
   "metadata": {},
   "outputs": [],
   "source": [
    "#Reading the file and splitting our target column\n",
    "df = pd.read_csv (r'bank-additional-full.csv', sep = ';', engine= 'python')   \n",
    "\n",
    "#categories_filter = ['job','marital','education','default','housing','loan','contact','month','day_of_week','poutcome']\n",
    "\n",
    "#for x in categories_filter:\n",
    "#    df.drop(df.index[df[x] == 'unknown'], inplace=True)\n",
    "\n",
    "tussen = df[[\"y\"]]\n",
    "target = tussen.copy()\n",
    "df.drop(df.columns[len(df.columns)-1], axis=1, inplace=True)"
   ]
  },
  {
   "cell_type": "code",
   "execution_count": 88,
   "id": "cac8ff49",
   "metadata": {},
   "outputs": [],
   "source": [
    "#Encoding all the catergorical variables and deleting them from the old dataframe\n",
    "categories = ['marital','education','default','housing','loan','contact','month','day_of_week','poutcome']\n",
    "df_encoded = pd.get_dummies(df['job'], prefix='job', drop_first=True)\n",
    "df_encoded.insert(0, 'ID', range(0, len(df_encoded)))\n",
    "del df['job']\n",
    "\n",
    "for x in categories:\n",
    "    df_encoded_tussen = pd.get_dummies(df[x], prefix=x, drop_first=True)\n",
    "    df_encoded_tussen.insert(0, 'ID', range(0, len(df_encoded_tussen)))\n",
    "    df_encoded = pd.merge(df_encoded, df_encoded_tussen, on = 'ID', how = 'outer')\n",
    "    del df[x]\n",
    "\n",
    "df.insert(0, 'ID', range(0, len(df)))\n",
    "features = pd.merge(df_encoded, df, on = 'ID', how = 'outer')\n",
    "y = pd.get_dummies(target, drop_first=True)\n",
    "del features['ID']"
   ]
  },
  {
   "cell_type": "code",
   "execution_count": 89,
   "id": "28bef3cf",
   "metadata": {},
   "outputs": [],
   "source": [
    "undersample = NearMiss(version=1, n_neighbors_ver3=3)\n",
    "features, y = undersample.fit_resample(features, y)"
   ]
  },
  {
   "cell_type": "code",
   "execution_count": 90,
   "id": "d7e24264",
   "metadata": {},
   "outputs": [],
   "source": [
    "#Boosting the tree and predicting with ROC curve and classification reports\n",
    "def gradient_boosted_tree(features, targets):\n",
    "    train_features, test_features, train_targets, test_targets = train_test_split(features, y.values.ravel(), test_size=0.2,\n",
    "                                                                                  random_state=23)\n",
    "    ensemble = GradientBoostingClassifier(max_depth=1, n_estimators=3243 ,random_state=23)\n",
    "    \n",
    "    k = 10\n",
    "    kf = KFold(n_splits=k, shuffle = True)\n",
    "\n",
    "    \n",
    "    dt_scores = cross_val_score(ensemble, train_features, train_targets, scoring ='roc_auc' ,cv = kf)\n",
    "    dt_scores1 = cross_val_score(ensemble, train_features, train_targets, scoring ='accuracy' ,cv = kf)\n",
    "    print(\"mean cross validation score: {}\".format(np.round(np.mean(dt_scores),3)))\n",
    "    print(\"mean accuracy: {}\".format(np.round(np.mean(dt_scores1),3)))\n",
    "\n",
    "    ensemble.fit(train_features, train_targets)\n",
    "    predictions = ensemble.predict(test_features)\n",
    "    \n",
    "    print(\"Confusion Matrix:\")\n",
    "    print(confusion_matrix(test_targets, predictions))\n",
    "\n",
    "    print(\"Classification Report\")\n",
    "    print(classification_report(test_targets, predictions))\n",
    "    \n",
    "    #Beginning the plotting of ROC-curve\n",
    "    pred_prob = ensemble.predict_proba(test_features)\n",
    "    fpr, tpr, thresh = roc_curve(test_targets, pred_prob[:,1], pos_label=1)\n",
    "    \n",
    "    #Plot roc curves\n",
    "    plt.plot(fpr, tpr, linestyle='--',color='orange', label='Boosted Trees')\n",
    "\n",
    "    # title\n",
    "    plt.title('ROC curve')\n",
    "    # x label\n",
    "    plt.xlabel('False Positive Rate')\n",
    "    # y label\n",
    "    plt.ylabel('True Positive rate')\n",
    "\n",
    "    plt.legend(loc='best')\n",
    "    plt.savefig('ROC',dpi=300)\n",
    "    plt.show();\n",
    "    \n",
    "    #AUC Score\n",
    "    auc_score = roc_auc_score(test_targets, pred_prob[:,1])\n",
    "    print(\"AUC Score: \" + str(np.round(auc_score , 3)))\n",
    "    \n",
    "    #Log-loss function\n",
    "    print(\"Log-Loss: \" + str(np.round(log_loss(test_targets, predictions),3)))"
   ]
  },
  {
   "cell_type": "code",
   "execution_count": 91,
   "id": "d5215482",
   "metadata": {},
   "outputs": [
    {
     "name": "stdout",
     "output_type": "stream",
     "text": [
      "mean cross validation score: 0.927\n",
      "mean accuracy: 0.84\n",
      "Confusion Matrix:\n",
      "[[815 120]\n",
      " [153 768]]\n",
      "Classification Report\n",
      "              precision    recall  f1-score   support\n",
      "\n",
      "           0       0.84      0.87      0.86       935\n",
      "           1       0.86      0.83      0.85       921\n",
      "\n",
      "    accuracy                           0.85      1856\n",
      "   macro avg       0.85      0.85      0.85      1856\n",
      "weighted avg       0.85      0.85      0.85      1856\n",
      "\n"
     ]
    },
    {
     "data": {
      "image/png": "[encoded data removed]",
      "text/plain": [
       "<Figure size 432x288 with 1 Axes>"
      ]
     },
     "metadata": {
      "needs_background": "light"
     },
     "output_type": "display_data"
    },
    {
     "name": "stdout",
     "output_type": "stream",
     "text": [
      "AUC Score: 0.936\n",
      "Log-Loss: 5.08\n"
     ]
    }
   ],
   "source": [
    "gradient_boosted_tree(features, y.values.ravel())"
   ]
  },
  {
   "cell_type": "code",
   "execution_count": 50,
   "id": "96b5a7ce",
   "metadata": {},
   "outputs": [
    {
     "name": "stdout",
     "output_type": "stream",
     "text": [
      "Fitting 5 folds for each of 10 candidates, totalling 50 fits\n",
      "[CV] END ..................................n_estimators=3240; total time=  11.1s\n",
      "[CV] END ..................................n_estimators=3240; total time=  12.8s\n",
      "[CV] END ..................................n_estimators=3240; total time=  13.8s\n",
      "[CV] END ..................................n_estimators=3240; total time=  13.9s\n",
      "[CV] END ..................................n_estimators=3240; total time=  12.5s\n",
      "[CV] END ..................................n_estimators=3241; total time=  12.0s\n",
      "[CV] END ..................................n_estimators=3241; total time=  11.6s\n",
      "[CV] END ..................................n_estimators=3241; total time=  11.4s\n",
      "[CV] END ..................................n_estimators=3241; total time=  12.8s\n",
      "[CV] END ..................................n_estimators=3241; total time=  11.8s\n",
      "[CV] END ..................................n_estimators=3242; total time=  11.3s\n",
      "[CV] END ..................................n_estimators=3242; total time=  11.4s\n",
      "[CV] END ..................................n_estimators=3242; total time=  11.4s\n",
      "[CV] END ..................................n_estimators=3242; total time=  11.3s\n",
      "[CV] END ..................................n_estimators=3242; total time=  11.4s\n",
      "[CV] END ..................................n_estimators=3243; total time=  11.7s\n",
      "[CV] END ..................................n_estimators=3243; total time=  11.4s\n",
      "[CV] END ..................................n_estimators=3243; total time=  11.3s\n",
      "[CV] END ..................................n_estimators=3243; total time=  11.4s\n",
      "[CV] END ..................................n_estimators=3243; total time=  11.3s\n",
      "[CV] END ..................................n_estimators=3244; total time=  11.4s\n",
      "[CV] END ..................................n_estimators=3244; total time=  11.3s\n",
      "[CV] END ..................................n_estimators=3244; total time=  11.4s\n",
      "[CV] END ..................................n_estimators=3244; total time=  11.3s\n",
      "[CV] END ..................................n_estimators=3244; total time=  11.3s\n",
      "[CV] END ..................................n_estimators=3245; total time=  11.5s\n",
      "[CV] END ..................................n_estimators=3245; total time=  11.4s\n",
      "[CV] END ..................................n_estimators=3245; total time=  11.4s\n",
      "[CV] END ..................................n_estimators=3245; total time=  11.4s\n",
      "[CV] END ..................................n_estimators=3245; total time=  11.3s\n",
      "[CV] END ..................................n_estimators=3246; total time=  11.2s\n",
      "[CV] END ..................................n_estimators=3246; total time=  11.3s\n",
      "[CV] END ..................................n_estimators=3246; total time=  11.3s\n",
      "[CV] END ..................................n_estimators=3246; total time=  11.3s\n",
      "[CV] END ..................................n_estimators=3246; total time=  11.4s\n",
      "[CV] END ..................................n_estimators=3247; total time=  11.3s\n",
      "[CV] END ..................................n_estimators=3247; total time=  11.9s\n",
      "[CV] END ..................................n_estimators=3247; total time=  11.3s\n",
      "[CV] END ..................................n_estimators=3247; total time=  11.2s\n",
      "[CV] END ..................................n_estimators=3247; total time=  11.4s\n",
      "[CV] END ..................................n_estimators=3248; total time=  11.4s\n",
      "[CV] END ..................................n_estimators=3248; total time=  11.3s\n",
      "[CV] END ..................................n_estimators=3248; total time=  11.3s\n",
      "[CV] END ..................................n_estimators=3248; total time=  11.2s\n",
      "[CV] END ..................................n_estimators=3248; total time=  11.4s\n",
      "[CV] END ..................................n_estimators=3249; total time=  11.4s\n",
      "[CV] END ..................................n_estimators=3249; total time=  11.4s\n",
      "[CV] END ..................................n_estimators=3249; total time=  11.7s\n",
      "[CV] END ..................................n_estimators=3249; total time=  11.3s\n",
      "[CV] END ..................................n_estimators=3249; total time=  11.4s\n",
      "GradientBoostingClassifier(max_depth=1, n_estimators=3243, random_state=23)\n",
      "[[815 120]\n",
      " [153 768]]\n",
      "              precision    recall  f1-score   support\n",
      "\n",
      "           0       0.84      0.87      0.86       935\n",
      "           1       0.86      0.83      0.85       921\n",
      "\n",
      "    accuracy                           0.85      1856\n",
      "   macro avg       0.85      0.85      0.85      1856\n",
      "weighted avg       0.85      0.85      0.85      1856\n",
      "\n"
     ]
    }
   ],
   "source": [
    "train_features, test_features, train_targets, test_targets = train_test_split(features, y.values.ravel(), test_size=0.2,\n",
    "                                                                                  random_state=23)\n",
    "ensemble = GradientBoostingClassifier(max_depth=1, n_estimators=1000 ,random_state=23).fit(\n",
    "        train_features, train_targets)\n",
    "param_grid = {'n_estimators': range(3240,3250,1)}\n",
    "grid = GridSearchCV(ensemble,param_grid,refit=True,verbose=2)\n",
    "grid.fit(train_features,train_targets)\n",
    "print(grid.best_estimator_)\n",
    "\n",
    "grid_predictions = grid.predict(test_features)\n",
    "print(confusion_matrix(test_targets,grid_predictions))\n",
    "print(classification_report(test_targets,grid_predictions))"
   ]
  },
  {
   "cell_type": "code",
   "execution_count": null,
   "id": "8afeef87",
   "metadata": {},
   "outputs": [],
   "source": []
  },
  {
   "cell_type": "code",
   "execution_count": 32,
   "id": "d3f30183",
   "metadata": {},
   "outputs": [
    {
     "name": "stdout",
     "output_type": "stream",
     "text": [
      ">1, train: 0.931, test: 0.910\n",
      ">2, train: 0.976, test: 0.898\n",
      ">3, train: 0.998, test: 0.890\n",
      ">4, train: 1.000, test: 0.896\n",
      ">5, train: 1.000, test: 0.894\n",
      ">6, train: 1.000, test: 0.890\n",
      ">7, train: 1.000, test: 0.890\n",
      ">8, train: 1.000, test: 0.899\n",
      ">9, train: 1.000, test: 0.887\n",
      ">10, train: 1.000, test: 0.896\n"
     ]
    },
    {
     "data": {
      "image/png": "[encoded data removed]",
      "text/plain": [
       "<Figure size 432x288 with 1 Axes>"
      ]
     },
     "metadata": {
      "needs_background": "light"
     },
     "output_type": "display_data"
    }
   ],
   "source": [
    "train_features, test_features, train_targets, test_targets = train_test_split(features, y.values.ravel(), test_size=0.2,\n",
    "                                                                                  random_state=23)\n",
    "# define lists to collect scores\n",
    "train_scores, test_scores = list(), list()\n",
    "# define the tree depths to evaluate\n",
    "values = [i for i in range(1, 11)]\n",
    "# evaluate a decision tree for each depth\n",
    "for i in values:\n",
    "\t# configure the model\n",
    "\tmodel = GradientBoostingClassifier(max_depth=i, n_estimators=1000, random_state=23).fit(\n",
    "        train_features, train_targets)\n",
    "\t# evaluate on the train dataset\n",
    "\tschatting = model.predict(train_features)\n",
    "\ttrain_acc = accuracy_score(train_targets, schatting)\n",
    "\ttrain_scores.append(train_acc)\n",
    "\t# evaluate on the test dataset\n",
    "\ttest_schatting = model.predict(test_features)\n",
    "\ttest_acc = accuracy_score(test_targets, test_schatting)\n",
    "\ttest_scores.append(test_acc)\n",
    "\t# summarize progress\n",
    "\tprint('>%d, train: %.3f, test: %.3f' % (i, train_acc, test_acc))\n",
    "# plot of train and test scores vs tree depth\n",
    "pyplot.plot(values, train_scores, '-o', label='Train')\n",
    "pyplot.plot(values, test_scores, '-o', label='Test')\n",
    "pyplot.legend()\n",
    "pyplot.show()\n"
   ]
  },
  {
   "cell_type": "code",
   "execution_count": null,
   "id": "e2b4f1e4",
   "metadata": {},
   "outputs": [],
   "source": []
  }
 ],
 "metadata": {
  "kernelspec": {
   "display_name": "Python 3 (ipykernel)",
   "language": "python",
   "name": "python3"
  },
  "language_info": {
   "codemirror_mode": {
    "name": "ipython",
    "version": 3
   },
   "file_extension": ".py",
   "mimetype": "text/x-python",
   "name": "python",
   "nbconvert_exporter": "python",
   "pygments_lexer": "ipython3",
   "version": "3.9.7"
  }
 },
 "nbformat": 4,
 "nbformat_minor": 5
}
